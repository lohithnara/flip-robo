{
 "cells": [
  {
   "cell_type": "markdown",
   "metadata": {},
   "source": [
    "# Question No-1"
   ]
  },
  {
   "cell_type": "code",
   "execution_count": 1,
   "metadata": {},
   "outputs": [],
   "source": [
    "# Importing Pandas and selenium\n",
    "import pandas as pd\n",
    "import selenium"
   ]
  },
  {
   "cell_type": "code",
   "execution_count": 2,
   "metadata": {},
   "outputs": [],
   "source": [
    "# Importing Web Driver from selenium.\n",
    "from selenium import webdriver"
   ]
  },
  {
   "cell_type": "code",
   "execution_count": 3,
   "metadata": {},
   "outputs": [],
   "source": [
    "# Opening Driver.\n",
    "driver = webdriver.Chrome(r\"C:\\Users\\HOMA\\Downloads\\chromedriver_win32\\chromedriver.exe\")"
   ]
  },
  {
   "cell_type": "code",
   "execution_count": 4,
   "metadata": {},
   "outputs": [],
   "source": [
    "# Url of the website.\n",
    "url = 'https://www.amazon.in/'"
   ]
  },
  {
   "cell_type": "code",
   "execution_count": 5,
   "metadata": {},
   "outputs": [],
   "source": [
    "# Opening URL.\n",
    "driver.get(url)"
   ]
  },
  {
   "cell_type": "code",
   "execution_count": 6,
   "metadata": {},
   "outputs": [],
   "source": [
    "# Locating the search bar.\n",
    "search_code3 = driver.find_element_by_xpath(\"//input[@class='nav-input nav-progressive-attribute']\")"
   ]
  },
  {
   "cell_type": "code",
   "execution_count": 7,
   "metadata": {},
   "outputs": [],
   "source": [
    "# Sending the keys to search bar\n",
    "search_code3.send_keys('guitar')"
   ]
  },
  {
   "cell_type": "code",
   "execution_count": 8,
   "metadata": {},
   "outputs": [],
   "source": [
    "# Locating search button.\n",
    "search_button = driver.find_element_by_xpath(\"//div[@class='nav-search-submit nav-sprite']\")"
   ]
  },
  {
   "cell_type": "code",
   "execution_count": 9,
   "metadata": {},
   "outputs": [],
   "source": [
    "# Clicking the search button.\n",
    "search_button.click()"
   ]
  },
  {
   "cell_type": "markdown",
   "metadata": {},
   "source": [
    "# Question No-2"
   ]
  },
  {
   "cell_type": "code",
   "execution_count": 10,
   "metadata": {},
   "outputs": [],
   "source": [
    "# Creating Empty Cells.\n",
    "Brand_and_product_name = []\n",
    "rating = []\n",
    "No_of_ratings = []\n",
    "price = []\n",
    "Expected_delivary = []\n",
    "Product_url = []"
   ]
  },
  {
   "cell_type": "code",
   "execution_count": 11,
   "metadata": {},
   "outputs": [],
   "source": [
    "# Brand and product_name.\n",
    "for i in range(0,3):\n",
    "    brand_product_name = driver.find_elements_by_xpath(\"//span[@class='a-size-base-plus a-color-base a-text-normal']\")\n",
    "    for i in brand_product_name:\n",
    "        Brand_and_product_name.append(i.text)\n",
    "        \n",
    "        driver.find_element_by_xpath(\"//li[@class='a-last']\")"
   ]
  },
  {
   "cell_type": "code",
   "execution_count": 12,
   "metadata": {},
   "outputs": [
    {
     "data": {
      "text/plain": [
       "['Medellin MED-BLU-C Linden Wood Acoustic Guitar',\n",
       " 'JUAREZ 38 Inch Acoustic Guitar with Dual Action Truss Rod, Bag, Picks, Allen Key, Extra String Set, TBLS Blue Sunburst',\n",
       " 'JUAREZ 38 Inch Acoustic Guitar with Dual Action Truss Rod, Bag, Picks, Allen Key, Extra String Set, 3TS Sunburst',\n",
       " 'JUAREZ Belleza 39 Inch Acoustic Guitar Kit, Linden Top, Rosewood Fretboard & Bridge, Truss Rod, Chrome Die Cast Machine Tuners, Brown Sunburst',\n",
       " 'Juârez Acoustic Guitar, 38 Inch Cutaway, 038C with Bag, Strings, Pick and Strap, Black',\n",
       " 'Intern INT-38C Acoustic Guitar Kit, With Bag, Strings, Pick And Strap, Black',\n",
       " 'Juarez JRZ38C Acoustic Guitar, 38 Inch Cutaway with Bag (TBS Transparent Blue Sunburst)',\n",
       " 'AmazonBasics Guitar Picks, Mixed Colors, Celluloid, 10-Pieces',\n",
       " 'AmazonBasics Adjustable Guitar Strap For Electric/Acoustic Guitar/Bass - Includes 3 Pick Holders - Cotton Strap, Brown',\n",
       " 'AmazonBasics Adjustable Guitar Strap for Electric/Acoustic Guitar/Bass - Includes 2 Picks - Soft Strap with PU Leather Ends, Black']"
      ]
     },
     "execution_count": 12,
     "metadata": {},
     "output_type": "execute_result"
    }
   ],
   "source": [
    "Brand_and_product_name[:10]"
   ]
  },
  {
   "cell_type": "code",
   "execution_count": 13,
   "metadata": {},
   "outputs": [
    {
     "name": "stdout",
     "output_type": "stream",
     "text": [
      "219\n"
     ]
    }
   ],
   "source": [
    "# Length of Brand and product_name.\n",
    "print(len(Brand_and_product_name))"
   ]
  },
  {
   "cell_type": "code",
   "execution_count": 14,
   "metadata": {},
   "outputs": [],
   "source": [
    "for i in range(0,3):\n",
    "    no_of_ratings = driver.find_elements_by_xpath(\"//span[@class='a-size-base']\") # No Of Ratings.\n",
    "    for i in no_of_ratings:\n",
    "        No_of_ratings.append(i.text)\n",
    "        \n",
    "    Price = driver.find_elements_by_xpath(\"//span[@class='a-price-whole']\") # Price \n",
    "    for i in Price:\n",
    "        price.append(i.text)\n",
    "        \n",
    "    expected_delivery = driver.find_elements_by_xpath(\"//span[@class='a-text-bold']\") # Expected Delivery.\n",
    "    for i in expected_delivery:\n",
    "        Expected_delivary.append(i.text)\n",
    "        \n",
    "        driver.find_element_by_xpath(\"//li[@class='a-last']\")        "
   ]
  },
  {
   "cell_type": "code",
   "execution_count": 15,
   "metadata": {},
   "outputs": [
    {
     "data": {
      "text/plain": [
       "['248', '14', '20', '7,201', '4,152', '2,495', '395', '158', '436', '']"
      ]
     },
     "execution_count": 15,
     "metadata": {},
     "output_type": "execute_result"
    }
   ],
   "source": [
    "No_of_ratings[:10]"
   ]
  },
  {
   "cell_type": "code",
   "execution_count": 16,
   "metadata": {},
   "outputs": [
    {
     "data": {
      "text/plain": [
       "['2,399',\n",
       " '3,179',\n",
       " '3,179',\n",
       " '4,877',\n",
       " '2,499',\n",
       " '2,490',\n",
       " '2,499',\n",
       " '299',\n",
       " '449',\n",
       " '399']"
      ]
     },
     "execution_count": 16,
     "metadata": {},
     "output_type": "execute_result"
    }
   ],
   "source": [
    "price[:10]"
   ]
  },
  {
   "cell_type": "code",
   "execution_count": 17,
   "metadata": {},
   "outputs": [
    {
     "data": {
      "text/plain": [
       "['Thursday, February 11',\n",
       " 'Thursday, February 11',\n",
       " 'Thursday, February 11',\n",
       " 'Wednesday, February 10',\n",
       " 'Thursday, February 11',\n",
       " 'Monday, February 8',\n",
       " 'Thursday, February 11',\n",
       " 'Thursday, February 11',\n",
       " 'Thursday, February 11',\n",
       " 'Monday, February 8']"
      ]
     },
     "execution_count": 17,
     "metadata": {},
     "output_type": "execute_result"
    }
   ],
   "source": [
    "Expected_delivary[:10]"
   ]
  },
  {
   "cell_type": "code",
   "execution_count": 18,
   "metadata": {},
   "outputs": [],
   "source": [
    "# Creating remaining empty cells.\n",
    "Availability = []\n",
    "Return_or_exchange = []\n",
    "Other_details = []"
   ]
  },
  {
   "cell_type": "code",
   "execution_count": 19,
   "metadata": {},
   "outputs": [],
   "source": [
    "# Importing NoSuchElementException from selenium.\n",
    "from selenium.common.exceptions import NoSuchElementException"
   ]
  },
  {
   "cell_type": "code",
   "execution_count": 20,
   "metadata": {},
   "outputs": [],
   "source": [
    "import time\n",
    "n=1\n",
    "while n<100:\n",
    "        n+=1\n",
    "        time.sleep(2)\n",
    "for i in driver.find_elements_by_xpath(\"//a[@class='a-link-normal a-text-normal']\"): # Finding URL's.\n",
    "    Product_url.append(i.get_attribute(\"href\"))\n",
    "    \n",
    "for url in Product_url:\n",
    "    driver.get(url)\n",
    "    \n",
    "    try:\n",
    "        return_or_exchange = driver.find_element_by_xpath(\"//a[@class='a-size-small a-link-normal a-text-normal']\").text\n",
    "        Return_or_exchange.append(return_or_exchange)\n",
    "    except NoSuchElementException as e:\n",
    "        Return_or_exchange.append(\"---\")\n",
    "        \n",
    "    try:\n",
    "        availability = driver.find_element_by_xpath(\"//span[@class='a-size-medium a-color-success']\").text\n",
    "        Availability.append(availability)\n",
    "    except NoSuchElementException as e:\n",
    "        Availability.append(\"---\")"
   ]
  },
  {
   "cell_type": "code",
   "execution_count": 21,
   "metadata": {},
   "outputs": [
    {
     "data": {
      "text/plain": [
       "['In stock.', 'In stock.']"
      ]
     },
     "execution_count": 21,
     "metadata": {},
     "output_type": "execute_result"
    }
   ],
   "source": [
    "Availability[:2]"
   ]
  },
  {
   "cell_type": "code",
   "execution_count": 22,
   "metadata": {},
   "outputs": [
    {
     "data": {
      "text/plain": [
       "['Pay on Delivery', 'Pay on Delivery']"
      ]
     },
     "execution_count": 22,
     "metadata": {},
     "output_type": "execute_result"
    }
   ],
   "source": [
    "Return_or_exchange[:2]"
   ]
  },
  {
   "cell_type": "code",
   "execution_count": 23,
   "metadata": {},
   "outputs": [
    {
     "name": "stdout",
     "output_type": "stream",
     "text": [
      "74\n"
     ]
    }
   ],
   "source": [
    "print(len(Availability))"
   ]
  },
  {
   "cell_type": "code",
   "execution_count": 24,
   "metadata": {},
   "outputs": [
    {
     "name": "stdout",
     "output_type": "stream",
     "text": [
      "74\n"
     ]
    }
   ],
   "source": [
    "print(len(Return_or_exchange))"
   ]
  },
  {
   "cell_type": "code",
   "execution_count": 25,
   "metadata": {},
   "outputs": [
    {
     "data": {
      "text/plain": [
       "['In stock.',\n",
       " 'In stock.',\n",
       " 'In stock.',\n",
       " 'In stock.',\n",
       " 'In stock.',\n",
       " 'In stock.',\n",
       " 'In stock.',\n",
       " 'In stock.',\n",
       " 'In stock.',\n",
       " 'In stock.',\n",
       " 'In stock.',\n",
       " 'Deal is 5% Claimed',\n",
       " 'Only 1 left in stock.',\n",
       " 'In stock.',\n",
       " 'In stock.',\n",
       " 'Deal is 0% Claimed',\n",
       " 'In stock.',\n",
       " 'In stock.',\n",
       " 'In stock.',\n",
       " 'In stock.',\n",
       " 'In stock.',\n",
       " 'In stock.',\n",
       " 'In stock.',\n",
       " 'In stock.']"
      ]
     },
     "execution_count": 25,
     "metadata": {},
     "output_type": "execute_result"
    }
   ],
   "source": [
    "Availability[50:]"
   ]
  },
  {
   "cell_type": "code",
   "execution_count": 26,
   "metadata": {},
   "outputs": [
    {
     "data": {
      "text/plain": [
       "['Pay on Delivery',\n",
       " 'Pay on Delivery',\n",
       " '7 Days Replacement',\n",
       " 'Pay on Delivery',\n",
       " '10 Days Replacement',\n",
       " 'Pay on Delivery',\n",
       " '10 Days Replacement',\n",
       " 'Pay on Delivery',\n",
       " 'Pay on Delivery',\n",
       " 'Pay on Delivery',\n",
       " 'Pay on Delivery',\n",
       " 'Pay on Delivery',\n",
       " '7 Days Replacement',\n",
       " 'Pay on Delivery',\n",
       " 'Pay on Delivery',\n",
       " '10 Days Replacement',\n",
       " 'Pay on Delivery',\n",
       " 'Pay on Delivery',\n",
       " 'Pay on Delivery',\n",
       " 'Pay on Delivery',\n",
       " 'Pay on Delivery',\n",
       " 'Pay on Delivery',\n",
       " 'Pay on Delivery',\n",
       " 'Pay on Delivery']"
      ]
     },
     "execution_count": 26,
     "metadata": {},
     "output_type": "execute_result"
    }
   ],
   "source": [
    "Return_or_exchange[50:]"
   ]
  },
  {
   "cell_type": "code",
   "execution_count": 27,
   "metadata": {},
   "outputs": [],
   "source": [
    "Rating = []"
   ]
  },
  {
   "cell_type": "code",
   "execution_count": 30,
   "metadata": {},
   "outputs": [],
   "source": [
    "# Creating DataFrame.\n",
    "Amazon_Product = pd.DataFrame({})\n",
    "Amazon_Product['Brand'] = Brand_and_product_name[:74]\n",
    "Amazon_Product['No_Of_Ratings'] = No_of_ratings[:74]\n",
    "Amazon_Product['Price'] = price[:74]\n",
    "Amazon_Product['Expected_Delivery'] = Expected_delivary[:74]\n",
    "Amazon_Product['Availability'] = Availability[:74]\n",
    "Amazon_Product['Return_or_Exchange'] = Return_or_exchange[:74]"
   ]
  },
  {
   "cell_type": "code",
   "execution_count": 31,
   "metadata": {},
   "outputs": [
    {
     "data": {
      "text/html": [
       "<div>\n",
       "<style scoped>\n",
       "    .dataframe tbody tr th:only-of-type {\n",
       "        vertical-align: middle;\n",
       "    }\n",
       "\n",
       "    .dataframe tbody tr th {\n",
       "        vertical-align: top;\n",
       "    }\n",
       "\n",
       "    .dataframe thead th {\n",
       "        text-align: right;\n",
       "    }\n",
       "</style>\n",
       "<table border=\"1\" class=\"dataframe\">\n",
       "  <thead>\n",
       "    <tr style=\"text-align: right;\">\n",
       "      <th></th>\n",
       "      <th>Brand</th>\n",
       "      <th>No_Of_Ratings</th>\n",
       "      <th>Price</th>\n",
       "      <th>Expected_Delivery</th>\n",
       "      <th>Availability</th>\n",
       "      <th>Return_or_Exchange</th>\n",
       "    </tr>\n",
       "  </thead>\n",
       "  <tbody>\n",
       "    <tr>\n",
       "      <td>0</td>\n",
       "      <td>Medellin MED-BLU-C Linden Wood Acoustic Guitar</td>\n",
       "      <td>248</td>\n",
       "      <td>2,399</td>\n",
       "      <td>Thursday, February 11</td>\n",
       "      <td>In stock.</td>\n",
       "      <td>Pay on Delivery</td>\n",
       "    </tr>\n",
       "    <tr>\n",
       "      <td>1</td>\n",
       "      <td>JUAREZ 38 Inch Acoustic Guitar with Dual Actio...</td>\n",
       "      <td>14</td>\n",
       "      <td>3,179</td>\n",
       "      <td>Thursday, February 11</td>\n",
       "      <td>In stock.</td>\n",
       "      <td>Pay on Delivery</td>\n",
       "    </tr>\n",
       "    <tr>\n",
       "      <td>2</td>\n",
       "      <td>JUAREZ 38 Inch Acoustic Guitar with Dual Actio...</td>\n",
       "      <td>20</td>\n",
       "      <td>3,179</td>\n",
       "      <td>Thursday, February 11</td>\n",
       "      <td>In stock.</td>\n",
       "      <td>Pay on Delivery</td>\n",
       "    </tr>\n",
       "    <tr>\n",
       "      <td>3</td>\n",
       "      <td>JUAREZ Belleza 39 Inch Acoustic Guitar Kit, Li...</td>\n",
       "      <td>7,201</td>\n",
       "      <td>4,877</td>\n",
       "      <td>Wednesday, February 10</td>\n",
       "      <td>In stock.</td>\n",
       "      <td>Pay on Delivery</td>\n",
       "    </tr>\n",
       "    <tr>\n",
       "      <td>4</td>\n",
       "      <td>Juârez Acoustic Guitar, 38 Inch Cutaway, 038C ...</td>\n",
       "      <td>4,152</td>\n",
       "      <td>2,499</td>\n",
       "      <td>Thursday, February 11</td>\n",
       "      <td>In stock.</td>\n",
       "      <td>Pay on Delivery</td>\n",
       "    </tr>\n",
       "    <tr>\n",
       "      <td>...</td>\n",
       "      <td>...</td>\n",
       "      <td>...</td>\n",
       "      <td>...</td>\n",
       "      <td>...</td>\n",
       "      <td>...</td>\n",
       "      <td>...</td>\n",
       "    </tr>\n",
       "    <tr>\n",
       "      <td>69</td>\n",
       "      <td>JUAREZ Arpéggio 41 Inch Semi-Acoustic Guitar K...</td>\n",
       "      <td>7,201</td>\n",
       "      <td>4,009</td>\n",
       "      <td>Thursday, February 11</td>\n",
       "      <td>In stock.</td>\n",
       "      <td>Pay on Delivery</td>\n",
       "    </tr>\n",
       "    <tr>\n",
       "      <td>70</td>\n",
       "      <td>JUAREZ Fiésta 41 Inch Acoustic Guitar Cutaway ...</td>\n",
       "      <td>4,152</td>\n",
       "      <td>6,579</td>\n",
       "      <td>Thursday, February 11</td>\n",
       "      <td>In stock.</td>\n",
       "      <td>Pay on Delivery</td>\n",
       "    </tr>\n",
       "    <tr>\n",
       "      <td>71</td>\n",
       "      <td>JUAREZ Arpéggio 41 Inch Semi-Acoustic Guitar K...</td>\n",
       "      <td></td>\n",
       "      <td>6,509</td>\n",
       "      <td>Thursday, February 11</td>\n",
       "      <td>In stock.</td>\n",
       "      <td>Pay on Delivery</td>\n",
       "    </tr>\n",
       "    <tr>\n",
       "      <td>72</td>\n",
       "      <td>JUAREZ Arpeggio 39 Inch Semi-Acoustic Guitar K...</td>\n",
       "      <td></td>\n",
       "      <td>6,799</td>\n",
       "      <td>Monday, February 8</td>\n",
       "      <td>In stock.</td>\n",
       "      <td>Pay on Delivery</td>\n",
       "    </tr>\n",
       "    <tr>\n",
       "      <td>73</td>\n",
       "      <td>Medellin MED-BLU-C Linden Wood Acoustic Guitar</td>\n",
       "      <td></td>\n",
       "      <td>2,399</td>\n",
       "      <td>Thursday, February 11</td>\n",
       "      <td>In stock.</td>\n",
       "      <td>Pay on Delivery</td>\n",
       "    </tr>\n",
       "  </tbody>\n",
       "</table>\n",
       "<p>74 rows × 6 columns</p>\n",
       "</div>"
      ],
      "text/plain": [
       "                                                Brand No_Of_Ratings  Price  \\\n",
       "0      Medellin MED-BLU-C Linden Wood Acoustic Guitar           248  2,399   \n",
       "1   JUAREZ 38 Inch Acoustic Guitar with Dual Actio...            14  3,179   \n",
       "2   JUAREZ 38 Inch Acoustic Guitar with Dual Actio...            20  3,179   \n",
       "3   JUAREZ Belleza 39 Inch Acoustic Guitar Kit, Li...         7,201  4,877   \n",
       "4   Juârez Acoustic Guitar, 38 Inch Cutaway, 038C ...         4,152  2,499   \n",
       "..                                                ...           ...    ...   \n",
       "69  JUAREZ Arpéggio 41 Inch Semi-Acoustic Guitar K...         7,201  4,009   \n",
       "70  JUAREZ Fiésta 41 Inch Acoustic Guitar Cutaway ...         4,152  6,579   \n",
       "71  JUAREZ Arpéggio 41 Inch Semi-Acoustic Guitar K...                6,509   \n",
       "72  JUAREZ Arpeggio 39 Inch Semi-Acoustic Guitar K...                6,799   \n",
       "73     Medellin MED-BLU-C Linden Wood Acoustic Guitar                2,399   \n",
       "\n",
       "         Expected_Delivery Availability Return_or_Exchange  \n",
       "0    Thursday, February 11    In stock.    Pay on Delivery  \n",
       "1    Thursday, February 11    In stock.    Pay on Delivery  \n",
       "2    Thursday, February 11    In stock.    Pay on Delivery  \n",
       "3   Wednesday, February 10    In stock.    Pay on Delivery  \n",
       "4    Thursday, February 11    In stock.    Pay on Delivery  \n",
       "..                     ...          ...                ...  \n",
       "69   Thursday, February 11    In stock.    Pay on Delivery  \n",
       "70   Thursday, February 11    In stock.    Pay on Delivery  \n",
       "71   Thursday, February 11    In stock.    Pay on Delivery  \n",
       "72      Monday, February 8    In stock.    Pay on Delivery  \n",
       "73   Thursday, February 11    In stock.    Pay on Delivery  \n",
       "\n",
       "[74 rows x 6 columns]"
      ]
     },
     "execution_count": 31,
     "metadata": {},
     "output_type": "execute_result"
    }
   ],
   "source": [
    "# Final DataFrame.\n",
    "Amazon_Product"
   ]
  },
  {
   "cell_type": "markdown",
   "metadata": {},
   "source": [
    "# Question No-3"
   ]
  },
  {
   "cell_type": "code",
   "execution_count": 24,
   "metadata": {},
   "outputs": [],
   "source": [
    "# Opening Driver.\n",
    "driver = webdriver.Chrome(r\"C:\\Users\\HOMA\\Downloads\\chromedriver_win32\\chromedriver.exe\")"
   ]
  },
  {
   "cell_type": "code",
   "execution_count": 25,
   "metadata": {},
   "outputs": [],
   "source": [
    "# Url of the website.\n",
    "url = \"https://images.google.com/?gws_rd=ssl\""
   ]
  },
  {
   "cell_type": "code",
   "execution_count": 26,
   "metadata": {},
   "outputs": [],
   "source": [
    "# Getting or opening url.\n",
    "driver.get(url)"
   ]
  },
  {
   "cell_type": "code",
   "execution_count": 27,
   "metadata": {},
   "outputs": [],
   "source": [
    "# Locating search code and sending keys of 'Fruits'\n",
    "search_code = driver.find_element_by_xpath(\"//input[@class='gLFyf gsfi']\")\n",
    "search_code.send_keys('Fruits')"
   ]
  },
  {
   "cell_type": "code",
   "execution_count": 28,
   "metadata": {},
   "outputs": [],
   "source": [
    "# Locating search button and clicking the search button.\n",
    "search_button = driver.find_element_by_xpath(\"//span[@class='z1asCe MZy1Rb']\")\n",
    "search_button.click()"
   ]
  },
  {
   "cell_type": "code",
   "execution_count": 29,
   "metadata": {},
   "outputs": [],
   "source": [
    "# Finding elements for fruits.\n",
    "images = driver.find_elements_by_xpath(\"//img[@class='rg_i Q4LuWd']\")"
   ]
  },
  {
   "cell_type": "code",
   "execution_count": 30,
   "metadata": {},
   "outputs": [],
   "source": [
    "# Empty cell. \n",
    "Images = []"
   ]
  },
  {
   "cell_type": "code",
   "execution_count": 31,
   "metadata": {},
   "outputs": [
    {
     "data": {
      "text/plain": [
       "[<selenium.webdriver.remote.webelement.WebElement (session=\"5e489aed79ead13c117c95d576a1d0fb\", element=\"f3f52de4-4643-4e3d-a40d-9a4919e6fa66\")>,\n",
       " <selenium.webdriver.remote.webelement.WebElement (session=\"5e489aed79ead13c117c95d576a1d0fb\", element=\"8ffc46ed-5cc9-4bb2-821b-8b3888e53640\")>,\n",
       " <selenium.webdriver.remote.webelement.WebElement (session=\"5e489aed79ead13c117c95d576a1d0fb\", element=\"7fafed9f-2140-4223-ba18-493491c34af0\")>,\n",
       " <selenium.webdriver.remote.webelement.WebElement (session=\"5e489aed79ead13c117c95d576a1d0fb\", element=\"59e9af28-5d37-4a68-a12c-adf640f7ac8e\")>,\n",
       " <selenium.webdriver.remote.webelement.WebElement (session=\"5e489aed79ead13c117c95d576a1d0fb\", element=\"f4fc7dcb-4114-45b1-8c08-bc1ac9d60ddf\")>]"
      ]
     },
     "execution_count": 31,
     "metadata": {},
     "output_type": "execute_result"
    }
   ],
   "source": [
    "images[:5]"
   ]
  },
  {
   "cell_type": "code",
   "execution_count": 32,
   "metadata": {},
   "outputs": [],
   "source": [
    "# Appending to Image empty cell in 'src'.\n",
    "for i in images:\n",
    "    Images.append(i.get_attribute('src'))"
   ]
  },
  {
   "cell_type": "code",
   "execution_count": 33,
   "metadata": {},
   "outputs": [
    {
     "name": "stdout",
     "output_type": "stream",
     "text": [
      "200\n"
     ]
    }
   ],
   "source": [
    "print(len(images))"
   ]
  },
  {
   "cell_type": "code",
   "execution_count": 34,
   "metadata": {},
   "outputs": [
    {
     "data": {
      "text/plain": [
       "['data:image/jpeg;base64,/9j/4AAQSkZJRgABAQAAAQABAAD/2wCEAAkGBxMTEhUTExMWFhUXGCAbGBcYGBsaHhsdHR4aIB8XGyAaHSggGh4lHx0XIjEhJSktLy4vGiAzODMtNygtLisBCgoKDg0OGxAQGy0lHyYyLS4tMy0wLS4tLy8tNS0vLS01LS0vLS0yLS0wLS8vLS4tLS01LzUtLi0tLS0tLy0tLf/AABEIAK8BIAMBIgACEQEDEQH/xAAcAAACAwEBAQEAAAAAAAAAAAAFBgMEBwIBAAj/xABDEAACAQEGBAQDBgQFAgUFAAABAhEDAAQFEiExBkFRYRMicYEykaEHQlKxwfAUI9HhM2JygvEVQxZTssLSJDRjkqL/xAAaAQADAQEBAQAAAAAAAAAAAAADBAUCAQYA/8QAMREAAQQABAMHBAIDAQEAAAAAAQACAxEEEiExQVHwBRMiYXGRoYGxwdHh8RQyQiNT/9oADAMBAAIRAxEAPwAZecLvFNVYMpYBnhlcsxMk5IIMQdAZkhu9mDhDAad5Tx6rmvVqB6ioSVHmJZggOolmEsdiRYNxHxTRrrSZKYZz5WUTmdwBtH4llSTtkA1Goq0mvFyHhvTZkZRTpVMwpyQsCNTt5tJ6nQm0gjg4opcL8l5iFyWjeqdKrSy0KjsqrmqZFAKy8M22hBBEEaxyDEwuTUGoIAjlytMsqshqAPCwNFB1AJ6ja0F24Vq3hal6vTyxX7vmC+UKzafG8CZHPrM2WLpd7uLw1OtUqGj8Wdm5qCcrQsnWF8p66kWG7KTdWK918CW/VQYO1EITVoir58qEKIjRjJicwJIjT6WscVVaeelVuhKs/lqAfCHyz3lWE6a7ODMEWbb1fLm92amlMitqUR4JbWTlMEMY1y7nlMWUrrhQqqCrhauYrTBqkeIVAI8sxEz205W21xBsjday0KC07C8PF2pU6AGiqDUPNnIGZzO/MDoALFaGqkAg9OnP5W4oO1QipJCOM3LQzBQ91MqY5i1gwFIiZEe/UDb+utskEuJKyNNF4QGXKRKHQr269jzmyYuINdnq0W1Ksw05ifKR6qVPvZtZtYnnz1+Xa2Zcc4uqYk1IxHhU5Ycny7H1XIPay88HftqtQuOJrROd74gD0QoEECORgRHudhv87ImJXEFGeNII945z6jXuLSU8V8NNFzxqF3jvB3FuMTxEZCHrM5IKtAXw4A0yN8ULouok8osKESF2Z3osxQ5zZSndmKVhBjkbN1JUIzFhmGo159NdIFkWpflNRuQnT0s28NYBWrLmY5KfIkSx9ByHc/Kz2LpjA55pU8MSXZW6rnEr/nKyZyzz62L8NVC1J8kszViuUEDXLTAGoMz5j2FrLcH0QNS5PUt/8YFi3AeBpRvQCsxUtnhoMMBGmnSLS/8AIhkbkZvpVjTdUjG9rS47AE6b7Jpqr4NPwFJLaeIxPyQHoNP2TaBKWk87eoSxLNuxk+9pwJ0+R5i0HEz94/TQDb06380EeAVx4qAUoHv/AMW4ajA16a2Oi4jIc2jASO4HQc+Wx6WBVzv176fnrbU2Gmhyl4q9VmKUPJpQY3TNe7PA/m0FzKRuyDdT35j9zjt2rNUvlIAF8xC5QCZEgzE8omTtqeVttweqpqgE7yCI01BsK4K4QW75qjKPFbQc8qz5UH0J7wOQtXwuMEcWZwtx8I8/P6Aj25rE9gd3sND17fKo4jwS9S7mnTZELGWDS09s24gxGmkW44bZrqTQq0aa5T5iJCmQIyzM6dSB6bW0YUYFkXGqCVL9SBOVipAaJnLGhH+7cEbWM57wwNdvvz1QYnAk8leq01BN4psaYj4Nwx5RMRy/53I4VjAqoH5EbjX+9kjjTB8QormpsKyHQlQVZQf8pY6dwdOgsc4TuV6S7lXpKvlgBahE6f6Rl9QTFuZACHOOp4D9IrnNc3mmd63e1Srf1XUmy073ugp8ZAFH3lMgfqB6/Oy/imPwrEGdNDv72DE2XPTRqiCJtXeiN8T8U0FESSx0gD8+lstqogqtVYFgwIKzG+m41sy4LhX8UGq5WcruoG/MwesTbniu5XULTrXY+R9ChgMrDcEctvrb0eHw7Wg2dTukp3WAOHBc8F1kW8ACn4oq5Q6nKAoVidAYC+WCNfu6HoUx7D7tT8tMgmpUy558qIPMaZJOreXSZ7dbKVW6PRhiCoYaHqDpp1tcu+FN4K1F8xeWQ52cq1P/AMxSMoBipJO08o1FiYKOYnTr4S40bQC0qtw7QeklRIIiZeDlAAHkiCNpUgyJBO1ljhK4U6rl6jEozlVSZdgpNNQW+IwozRtB2i0mH3W9X+7iubwyRl00pqF7NqSRAMjL8W2lhNzWrd73lpM1M1wfMVDuNQCUJCsytoATHXWDZWqNk/Th59eS1pY0RfjHh+ld2WoIUO+UKdvgfVuU5ioWeY5zAv3zBLs9zzIuiISrEEF5zFVH+VXMTPIj0p4/whefDzPVeq5PKoGWOrAqNOs2iwfBDfaTNVaqiADKM5Cg5RFMKNSIgzMyTvPl0AbrryX1a7INhgS7Xw+Pd0RNiByOaPKdCNmBkxKzpNrfHl5p1a5p0GLeKoCeUEHog+8pQ7jTSCfxEct2r3w+JUomckNUQT4oj4yACM4AjMN9Okmfhg3eleR42ZcpBFRnzBBMZWGXTbUyOU7WMa4anTr9oIF6cEWXiC/UnaitMq2XKg8MlXUGBvAyQd/LGYknWbWsN4YFGnVq3sDLkcxmZlCn7imBM6DMdTsN7Asbv4asGeSwqDIJzBoYQyETKsJiIWNOWpHFuIr/AEgZzAEkUzKsjkMNMrkjKdAAQAJ6mbCH/wA3LVVuh+DYbd63iZ2FMUm+J6uVFDHynzGQ0DeTtItWxG4Ldr4irVC0gFcMAWU/BJMbZgQCSfci3F6w2s1GvWbyPmBSCFRtSP5ebcCZjpsYtYwM0gRWrXj+XQpnICfM7LADoHTz5QVVSUjMpPKxYo9Sb091kuDRVInw7jTYdFC8VDVo1GLCMqvTZzqyqX8ytqSpIM6jUwdFoYpd3jLXp/DszhG25q5DA+otknD97evUvN5NAt5GZq3iFCmm5YESxGkjzd7Vbjd61alUCU2ZGMMbv4cN/rqVX8YkyNG9YsyYr33WMy0biLjK5XVCTWSvU+7SpMGJP+ZgSFX69LZRcLvVv978Sp5nqvLRsNhHpEAelq9TCyDlW4XgkHY5zPX4Ka/PWz39mNw8N2LqUYcnADRynvHKw5csDLCKwZivuJ+C6lFA13mAIKn6ldR8jbPrxQfZyRHK36VqOMh0BHsf1tnHFWGUyC2VR3A/tvFljiWxuA5+6NG3MkHhTB1vFcBgCqeZhyPQHtv8rbDQwwNl0mNhH17GyTwRdlQ1iNywHsBP6m2hXG8wBaJ2piC+erIA/O6qxMMcAyjU7/hWa2HhV828e1hWFOKd6psdBmg++n9LEb/f5WTuP31myniF5ss3IJAYtgj4WJ8jXNdx0TleAQ7AwPMeQt1TqRuT7GP362H4LjKXxDr/APUU186fjA2df1H9p78X52WxUDopL4HUdc+tkpkOrHbjQop/1lhOnmAOvQnYDoNrL97rgkxpOv8AUevzt3eHMtB0n8o/pbu5YXnOZ/g315+vQW1JiZJa71xNbIkcccIzbKfBrmWOciANrNFKjAtxcaIABiByH69vS0l5rAAk8rWcFgxBH30252HJTJ5zK/RVcQrhV78rJtCgamIU/wD8aEn1c/0AsaxK+gK1RzCKCfYfraPgW5sVe8OIeqc0dByX2ECwWvM01Djp19PwiNHdsJKP36jKERatht4zAqfiX8uRtfvh8pssXW8xfUT8aOT/ALTTj/1GzWJdklBCDGMzSmCvSBBEWx77SuHv4dhXpj+UzAOo+6TsR0B29Y622dlsvcXYcK93qUjs6kehjRh3Bg+1mQ7u3By+Y47LKsJx00AwQCG1jkCOehsMxW+GqVkjTn1nXlYIQy7EleUT3ldJMrBn529pOSYJglo2MA6flINqzQAtukLgrl+vLVAqFyQvwzsLdYRxE6CrSyB15ySJGkgsCCqmJnUdRqLBr7VqRCoR1LQD6CbepWh2pEQGAAOnMSJn1FuytD20RaWca2Txw5j1ahTJSkagCzlLSKQBHm8q6TvM+wGlqL4u9S9ePW8RAYWafmBgzlVgYVRvGvpIkGeGuKaNO7rTqEQkqtNVIYjnm36TGsazvACYjiaVLyrGnFDRURh4SoQ2sj4cxAYdtd7IFniOnPrktE7aplxTiS8Cky07tkTVCKjKWHIqNYnsGB6TYZw1fa1NclOmz1VYALUOUIQNIUSzEAhZM6dCbOt/4lo0wAziq+XyUqa+JDAQCIEtEHXselk7g3Ev51RCqrVOaajkqQSxbNlYZgdY20yCwneQ006+iJXjFuWkfxlXMf5jRroDHU6R7WhxK50rwpp3qmKy7AkDOvo28+u+lrCVFYsCQCFlZI1I+6D11J25He1c1JHMfQ/XUWzncNbWaBWb8TYH/AVkajTzo8lHLOQRoGQjN5WG3Ma/IdxLjtK9JTpBaiVQMkQMp10UQSwid9de2z5x5QWph1bLINFlqoZ1k+VgDpEqSPe2O0L8pOVaRaoYAh8oAEyZWCu+smIHvZyFgd49yhuNaJquFG8VGp0Hrs+eSKRHlBA1YjYFYUEDSWI3RrWMNqrhtWpWroa9eoGRBICSDDyZYsAQByI9ToOpX3+GY3im4eoyhKXMLKwsCBCwxbLqf8MnVmi/dLxdQt0pXhQ7Cm1eo5PmOeXCEyCxeWME6kL+KzDW0NEAkk6o7g91vmI3QUTWpUabZmIFIjxIfqH+EEgbchJNqOKcFVbugQXsQzqpQ5kQu2iyRm19RoPlbjAccvV4v6miy0DUptTRQodaVNcphVkCZA16n0Anxrhe/vXqIa5rt4auSGiMzMVYIYAMo23U23quBB+IuHr9TUGreWKbQaoI9PMyz6ZbWOHcXu1JV8N9twWgtMa+Yg+wHtYFff4ihVK1cquDGZ8wB0kS0kDQ7H626r31gAa1yoAH/uKmXMP8r04WfXXsdrCmh7xtH4Ro3lq0GhxFOpLEHlMb2BY/jiEGNT0Jn6fOy7dMQciM2adyd7FME4ba8HOxyp1jU9h/W0l0McHjkOgT0WZ5pqq8P4q1OqxbRXj2I/rP5W0C74oIFornwvQUf4Yb/V5vz0Fvb7cKQEBcv+nT8tLSsVPBO+wCrmFaA3u36+i9veKjLZevl+zTFqi3VnqsobMAYG/vPcfpZrw/hwwC5gdJ9NLMswzIqWZ+0IcP4WhZvfcbajVU0nK1VM5lOq9vfp033s+cMce170YqXIVnBAz0mKE92EZRy1Jtdv8AwzTrLrDgfi80emsjSNjzsa4cr0wPBSilNl+6sKkD7yjfeNO+/OzGLxDRBTY7Pnt/KinE97MXuP02RehcQ0OyBSdcuYtB9Tv8vnvYtRoARPqB36nr+/aK7rHPMev9Byt5XvSpqTadh+6hPevq/gdeSxI5z9FcrVgBJMCwG8XguTyW0V8vuaWYwo11MAdzZfBqX5vCpSt3++2xqduy9ufOBoRz4x+Jdpo0de/ILccQYLK7VTf6wRP/ALamZJ5VGHMdVHLrv0toV1ohFCjYC1XCcNSigVRAFrlaoALVsDh+6b3r9OXXM8UCaTOco2VTEKsA2TMDfxcUePhoUgp/1ucx/wD5yWK8TYqtKmznUD7o3YnRUHcmB72g+zzDWp0Wq1DNSqxdz1JMmOw2HYWXL+9kvzr8n40+qK0ZGFNzCw/EFBBtbaoLLXG+K+Ddargw2Uhf9R0H1I+VnC5r9Agxg2s+4cviNTYHUBiY0mA0zry0GvrYzSCkEZBAJ+Jd41009R7Wp8H4WqXZCyj8WsmehPznUGPezFc6almYgxprqurEkx13SxHDxGlSDtNUDveHCIajTZY0KLqOWqnl7n+q5iHDdOC4DbfAsCdAFgNBVttJAIG876RVug3gGRyH11/Sf6g7xdQyscoBXcQJb8Q00nbeRpbQc5pXCGvFFZxcBTW9IKwZqTrAUIVboF0Jb11nkRa/xNSolc9JadOFANFX1eCCGbYCI1K62i4nuwdCxbzLuRzHr1HXWIbfnTuNO6+BmLsKsHKqIDr5hLMwAKkR3GtmwLAcFPezLbEzcCUbvUpfzP5jqZyAkZhl/wC4Tq2sEa7rpYbxVQSneFCxsSACWRQZ8gjcasxmR5TPcNc7y9MOFqMgfcU9B3idp/W3yKjTJIBaSRJb1JLkE9iIt0ReKysnVoFLcL9QDKZAJM7+h0tFTu4klRr+cc+/79x3/jm6D/Eo10PMDKw9AZB67iwHF/tQVCFul2YuTCtWIgE8wq7+5FkRBmNgrneCkU+0Ssy3QXdADVvDjQaRSTVmboCYHvbMl4fRZDqzFhHx+GAeXaNtzFnXAaueur3ipnZmmo7c94Xso2A5a2vcQmiQWpkLnYKBGgGWG77kN/tE/dt1s7gPCdPlJukt1hZX/wBNZXoKdERxm6yWGZjppoAO2UWtXa9Z3F5YQDeKaAGDsaZjpAWdPTpYjxPQFOIaZHofQj+tq+A3JbzUut2DAATWqRAMmMqgf6RT1/zNZ5kxyZ38F0G04Yfj1zul+qvkFMLQVdFJiozKzgAdAVED8Lc7dcPcZ0EvN6qVmceOVKMiM3kQsABAlfiB1HM6a2I49wZSVQcoDyHzDnqDDdRy/KLS0cKurX661aC5Zo1XKCNSrUlKnlpLA+lhRYhsljUEcCtHRdYNfbviF5vCkLUpvSSJXQlSwbQ+bZl6bWQ+I+F61xqTdqjBXPlSTqfwA7OY2VtTt5jNnz7Q8Fos90cDw3e8BGqUwFbKynmO8WD8Q8P1rqjF6z1aA1Yk+IMvPPSYmR1Kn/bZgOK6ClPAsKN5M1QEad6cIx6hgkD6T3trmEXAKoUCALKWF0FDpVRlq0nGlUMWII+6SdW0nVvMMsGZBs33S9ARrbzHa8jzMGu25K5g4yICW7k/ZHTcFAB/WO/t/aypxAwCsV2AJ97GnxCQVnewHHVlGUcwfysm6WN72hjaATGEY9rrchHD11ii1QnKYJDaad4Ign52t0Kt6xBclJYVTBbaDqCT7cu/YRNg6ZroQpMldhv+97WPs9xujdkqpXqBTnkEyZ0HlGmvPb+1vQ4Zoc4l3NQHklxJUVe61rnVWhUq5xU123A0kwRHIcpAOu0ScSfyIrJupG3Q8vkbccT4ql4v6CiC/hrBYbEzIg9N99DHa1L7RMRIonbNoAO5I0tnExNc8MHFfNNOBTIvE6FRk1Ma9rBMQ4mpqdSXfki6n36WR8Bule9OKecgHeNP721LAeEbvd4JAL9Tv7WjT4WKF2Vxs8v5/SohzWi6QzDcKvF8Iav5KUyKY/8Ad1/elny4XFKahVEAWi8dE5gWhqYoORtvDvgZ4n0SNgNh1zKDIXv0GyJ1K4FhV+vkA62GYhjCopZmCr1P5DqbKd6xOpemyICEn3bu39Ldnxj59G6N58FqLD1urjqb7eFUf4aGQe+xf5SB0BPWz1SCogRdhpYVgmHiinc72t1q9pz8XkFN9B15rbxmNDZSVasWyvjvF/4i8Jd1MpTMvHN+nsJ+Z6W0mncnrKYfw1/GIJjqs6D1M+htBceF7hQBKUBUcfeqEuSTz80/QWrdkRSOaZH6DgsOe1hrcoFUrrTp5R0C6dtTH9e/yluN9zA0yOQJ0ncSfSzJUwy7VgVeiq6fEnlI7yIsv3zBf4Qmopz0mIg8wYACt6xvzJGnWqWGs24W2zNd4diitGRpMx17yf37e4/GqQHmWAZiJA9u3MfK0NK/grGkgbc9BBGh/c97D3xJDmDaQQCemYqQdB8MHU/6jyFvswIpbDSDaSeM3UMXjeR7GfiHORz769As3SnoPoOwsd40c+ZSAGUmVgzOYncmMu+g2166Lt2vEfvaz0A8CVmPjTjhfD1OrdXql1DgEgFgDp67/nYBhuFVK1Xw6cHprH587dUa+dMiOwJ+Icj+xZnwHBqCUmarLMIggjSfvEcoFiPlDBaw1hcVUxG9oZkiyyXT+Ipt93Os+5ibaXQ+zq7hCa14rVGH/lqqDXpnzE+unpYTi32XKylrveCCdqdcAgz0dAMvutkYg1tgndLNBrVUqlNlbn7crQ394WS0EAcz/e0DYw1Im73tTSroMpLbOORJ2BOmux3HS1G81WqQqgkmIAEz6RZRkLwfHp9iljHRRng67U71WqPXhgmUKGEgTPnI5xGnv2trGH4Pd0piKaqSdSABPfTn3tk3DvDF+pP4oVUUjVXJJYb/AHQYI5Gfzs93LiAx4b6MNCJ+o9bL4iYNlNU4Vty6/KOwUFX4jxZqZKkhlghSf3ysuYLRvbVrreKXlp0/EzFh8S1HJOUbnZSNgetu8WdKt7oU6hEFmbLPxZVJj3PLnBs+3y+UwBlUAAakmSTbMcz4Y83/AEed+YWqBKVftAxeaVNgPMlVXyzqCivMdRtB7wYsUuHEt2v65UcBmGtN9HnmIPxDlKyLJ3GONKbxTorADTnjaCCAo6+bU+llrgzhurfN4SkoBeq2y9PU7R/wDVgkLoe8l06K2IszsrUTqXI3a8utMMrowFSkCfOsjJXUD4xBg/hY8hJs43OpVIE03HfKf6WLXK7UbuoSgM7AAeNUl3aOQz6jnv7AWv073W1HiNtrrER+XtaJj8ZHK7Ubcd/19yr+Da+BhBo3rrp19fZLta9FDrmB5cte8i0F4xMFYO9mRqrMCHIqKRqr+YH56/KLJPFuGtd1/iKKlqRMMpaTSJ2k7lDsG9jYOFZHM7KN1QbPGP8AcV8q5w/iopuabGM0kDtz+VjdbBLtULNOpUgSdjy7b6x1sK4PweKZq1NatUa/5V/CLTvwpXep/LqlFnXUx7CzbcWwSmMHbjzUfFYFj3l7DXkevhWLul3uKs2YE9THQbc5mfp0sg8TX+penDLOh8qdZ5+v9baBW4LRf8R2qMOu37/tapcMOpmuiBAADO3T9ixWYxolqiXLEeCjbE6QuugrPCPC/hIGdjmPxEGI227TY9XwqgCFIEn+hP5A2IY3V8O7trBj26a/Pb56aWGDhSoUFdazVKhhlBAkA66Hrmyk+nPYvf42bU7qQXF2pKqYlcqtNSabExyOvsOdkqrxi4JRU840JfYH0B1+dtBwq/NVzUmUAouw12jToIHSd4nSWQeJMGc3xTRpZ8w8wlV9/MQOtkXYSFjjnA58gmoJXXkK4uN3rXl8zlm7nl2A2HtbQMHwtKSjQTYdh1xvFNBFFZ6ZxYRiuOXxDDUPCG2YnOPmvlFo0pfiXZIyAB5j7J87UCnS835VBkgAd/zss4dxIt8vf8NQ8yqM1WpygEDIvUkkAnYCYk7Z9jmM1q000cufvOTAXsoGk97MH2M3Q0rzVzxLKkR2Lz+a2bZ2SyKF0kh8WlD1IF/S7QHPINN91sN6ACeGpg6E/wBLDgTDDYwf7H5j6G1rEEhySRrqOv017WrnXTNB5MVBg+hOvytcc0B2QCgNB6DZKt2tRqxWFJBLCTBn2/fS18UBUpvTbZgdLDEoMyoS8sVhyZBLd9JHIQeljFxpQRtp3t2DV+2i+k0CyI3plLKWOcaNlB0KyI12AIBnt2i3yXlS+ViPOFOsZRIWBy0nKd9p66UMaqk3ytkzE+NUK5JLZg3LLqNR0O09rdthF6LZjQqZYH3dPKqgQN983yFs01u5T+ewgvEZZ6bHKfETyuDuykhUqT1HlRp/Gh1JJsOq8JVqN28eodDHlG+vrvzPKxS7V6y3gB6TDKSqeIGUVAdDSbTVSJCmJHuMprivFxUpKqyEABAO+mjDTcqdD6g7MJYMjwWhm3FLiNr325ZxRvABmYPQg2NJjLeGUpwWO86D5H4vSzFg/DAvFB6xQZV57anl/c9bUV4azZii/DvE/sWOZAeCfb2YaJDgtmSiSp0nbT3Gn52rNXXNGpM7Ryjc/U/La09SoVEjTuNPf9Pewlbt/MMk77mdRyn2jW0d7qAA3UUIR9pOF03oU726BmoOqzGhRzEEc8rZSJnc26wXBrvQqeKEAZwJbtuQOnKfQW6+0S+qKNG5yC9aqhKgzlpqZzH1MR1g2M4aAIBCsp3U6j3sLGF3gbZF3fxwQXEZldxTE0CDVY7c7ZrxQKlaoAiFMxChoKgTznlbQcNwKkrsyBiCdAzs8dhmOg+ve1fiVEIKZQCfhykiCQR113O/rZZspbJ3jzfAfwtVay68YTUo06tRi71MqwAwNRQzKGcgGVEeWDB8/bSxcsFxO8Bh4xySQGPlJWd/Ks694tol6wKlToqV1qx5m6CNu/e0vDmN0xmVaihh8S6Ejp32s4cXbspA53QNbfT11XVmd94JrUkBqEMEnKUJzAHUggjaSTIPUej/AHG4eBSpXZRCooLnbM7AEsfSQB79bWeIsUooM1RwAWEz3ItLev8AEeTrmPykx9IiyONxcr48pOl+/X5VXs9gBLl0lEkE5SV2JA27/vrYnesMyrmRy+ZJ5b+UaeszB2g2q4beRT08SOZhc09oA52ZrrWpwPukDURB80QI1t92fg4p2uz/ANemvEcx6LWKnexwofz15JZvCQAAIPPsf3+9daJyah1DqQVdTsytoVPtYrf3V3JBhTqNN55mZ/pYdXpgDQn9bSj/AOchDTsdE3CbbR4qnw+crVKTGTSqFZ6gbH3EGzNRqADv9LJV3xFRfr5qD/MG3VVUN9bMlLEUjexp2uimJHl8hdxEbn07mB/KlvlXck2WMHvIF7APMGJ+f79LXMWxRQDBssJhl+rstS60XJBlahhV+bEZh6WZ7Pic52Z3ytugy4Z2bS088Wg5BUjOF1ykEqesgyJ2g9dOdrdTj66mmwUnPk0WNC0agc4XrFoHL5ES9UshO8kETGwYafrBPU2p1sIupCmJy5ue8nnI1gR8rX24zICDovMEVoVzwrUzLUqZFTNvoJ6DX0AHPY89gGK38/xiBeW8dJ0+di17xRKVPJT6mBOp7n6TYVguGmpWDtqSZNkMTO14JPJN4SM5s52Wh4ahKA9bfXy6hgQQCCNQddLE6IAUQLRVItMn7OYxgyu1XRKS60gXfgugLwQAFVtVUbSNwOgjWPWx4YDToOKlMQwHLmN/0+lpscpjJI0I1BHKLI+E8WVnvC0nEgFl0mdDGukDY87aidJNE4EWW7m+CYPB16clp17QOBVB8uUfv62FOXkaAKfnE9d9dOmk6c7c3fEatJz/ACWek24QTknnHMdhYsRSqHMrgafCdCPUHUe9rkM7cQ3Ow+Lj+x+kqQWaHZU7tR1Kmf3/AE0sRy5Fj7zaD+vpYTi/EdyuoL1K6ExIRSGYx0A1NpMDvz3hfGdcmYDKm5VeUnqdz00GsSfpniAV/wBE0Pz8LNFwvgosL4fo3cN4a+ZjLufiYnUkn15bC13xlGjQLXTSJ2sp8Z0KvhZqYJZNQBuY3HqbS3sMbg7nxO3utA5tCUYPhuAAA0mI9P8Aj8rZ/wAU4KjvUWi5qU181ZApY0z+Km+xYR5qZMkTz294TvtSsSoYgEeczG/3ARr65Y6SObxRumRQoaFGyqoVR7CxGzGB9DfjyRQ7u3XukOnii0LqLqmpbzMw1Dg7FDzG3L6zavgmPi7liRmDDbnrNuOIrktGs9MkBCDUonp+Ol6EyR0OX8RkJUOm0kWsseSA4L0UTopIj56lP+LcWii5W8XeoSsjNRIKmOeVyCvzNl3F/tMkRdrtlaID1jMf7F0PubW+IcQF3fxLyAwqE7k6f5iVGkaWV8WoU94GuullI5ti5u/4XiszkHwLEXq33PXcs7EsXbeYj2jTQW1TB75rG4/e1sSvpKuCh8wPljr07+ltI4aul+qoG/h2TTdyF+QJzfS3O0IMxbKFyjaejemAhHAHca+mhsr49ehTdKk5yrSQTE8iB00JsPx2+Xu6w1RVCTEhhueRss4xjmdZPLrZaHC5yDWm26ICU24t9otI08tJHLnSCAAPUz+U+1lK70cyM9TV6hLk6ToYj0+I6GRltXw0BQGIEsO+k89dDqY762smqSVHMcoPpp+I8ue89bWIcKyK8u61qVVq4cPikkfOJ21iP2ekW0jAcS/iKAdmmrSypV7wIWrvsQAp0+IbjW2b1KwQAzMbaHyCDpB/2xJ+6PW1TDcdqUKi1KLAETpowIMShHMHXT/m32Lwv+RHl48E3hZTE6/dbLQYSDOx0IgR6aWu0Kzw/m1YyWnWR0+lk3CONbo8eMKl3fnCmon+2DmX0I97FafElzWf/rKcax5Xze65ZFvMPwWJjdQB+isGSKQaI2zyI6bWoYtia3ai1Z9WGlJSfiqaRI5qvxH0Fg9bjGj8N3pNWb8bzTpjXp8Z+lrVXhypeaP8ZXq5nBgKVhEWdkAOg9vebM4PsuQvD5NK90VrBQLtGk1fP0Wd3VKwc1VJzEyxP3iTOvWTNiF44kq0x56fqQ311FjjXCfb9xHravh+Di8XyjdyJVnGb/SPM3zUEe9rMjY3nxttUJIRFC4xuogE8x7FNnCGDZqSXq+KMzjNRoHXTk9TTnuFOnWTsx1Xd5zMf9MwB6Da0l6JZ2JGkwI2AG30t4xgb7fTsbeTxuLL3FjNGjTTj1w/dlQTI95Dnmz9vRU692nXt+lqNOmigh6asG5bMPQjUH987GqlNlAYggHrz1OkH87Vaqg7wP30sBkkkDtdD5/paa4OFO1CRb3w413vC1EZqlCqYVmJZkbfw2J19Dz/ADfcAw4LB5m3dK6eLSq0Y3XMp6Muqn5xangOOpVQFWG2o6HpZ/EzmRjJqsbH1CG4EtLW8Psm0vapea1qhvo62HX7ElUFmYADckxYM2PdKMrQlo8Ob1UXEdSFUkZlWSwmNYOpjkP6Wg4O4YSmDeKqhXeTqNQCSco79T7WAYfj632+U6FIygJZ2/EBEAf5ZIk8/Q66LiDCVQSMvytRwOEfREw0FEjnewPlpZHp5rUzg0Brd15XvZBhIVeUc+9qN9ql2ykKYGsqDJPtP/Fu6zZYLaLzadB3J2y9/TvFW9fy6jEmSdVHIDaSeckHTtvao9zsvIfCXa0WgHF32fUrxSetd0FOvEkLotTqD3PJuu8jZwwtQqKB0tBh+bODqe/UdPTtbta6+I6A6o0H3AI+hFkccbayQf8ANj3r9LQui1FqTxraG+0A024p1bShxbrJhJFkdsglpBtDblg1OkPKotbFMc9rSPVtSvF4gd7cDY2nQWu+I7rM/tUnNQCLLZnG4Gnk3JMbxZbumB3srmAUiNg8n6gD62ufaTiJN6XKZWkMh7M2p+mUeoixbh69Z6fX99ve1ONpZE1UICctWi/GF4oqjq6q2n3gDHfXmOtstpV3vDimpiTGuwn97f8ANmTEcAv19+FfDpkyWqEqT6KAWjnqBOlrtx4Q/gAL1VbxEpwSiKZ1IE6nWNz2Fk4iyJmptx2CkZbNJx4P4BoXZRUYZ6sau247L+EenvNmi+3tKaaRpZWq8WhkVgwysAVA1mdosGxKjiF4ErSKJy8Rgk+3xD3Fle/e8kNGvEnr4RTGANUL45xdaiNnCsg1C7S2wAO41Pym2bU7oKghqpnoRp9LaLd8Eo0itTEWkl8qooJpqTzPM89TZyXgS7VBLUwZ2jYekWpYV3dR03XzC5Tau1k2E5VULV+HYOOo9p1H6WN4Fw618q1PDOSghmpVOwESRruSJ0PwjXWBLbiHBopIUpmELZirDMCR66xsYmPaRa1jbJcblTuSIM1Rc1QjyxJnaIMkEQdIEehhiC+xsevn+0bDxGRwYAh7X7DbmVF2ui3lx8VWodT1C5lOvOAANdLdXjjgZnSpc7uyA5QIjWSNTDA6TyFl2nhwqahgeo2I03yyQRvqNBsY2tYv2HDVh5mMGBI6A6jbWfrbBcwmiB7ftXW4KIaD7lMCYBc75RZrmq0ax18FogkR8PMDfUdDppbNL7citYpUQowkEHcMLMVJDSqipIUqQRyhhERzAGnysS+0Wia91u+IhQtQnJVjQEgkBh6kfJo5W2x2V2mx6/j2risPZ3VZtW39Rxrz0QfDhlAyxpy+v79PSzbc8ZbwTRytDHcsSACDoBE/M8u1kfCr+pAJIg/Sxr/rZXIqAeYxv7/0sTNku1XxMkBiDzWUUeqTm2FqtMzJaPb/AIFhHBEf9RbqtGpl9fKPyJstYjxdeD5NhsSRt6xbvCca/hrzRr8kPnP4lbRzHoZA7Cy7wbtJAl0UrM1kg+i1GgB1i0mcBhOuuwAP7+dvrwoDSIyNqhGxB5jraKsJGmlvFOBhkyu4Hr6KSKdrzRG/YhSKFRJkaEciO52nt172C0/SPpaXLuOU/nbwnl9bHxmNfinBzgPotRRiMUFcwgjPM/CpP0si8M8DPV/n1XekraqqHKxB1BY8vTf0tolxukKQ33x5v9P4ff8AIWJhbei7KwjhAA7S7Pv/AEEpLiMrjl6pAV4Yohcuar6+NUn/ANVlbib7MqVdTkrVVbcZ2NRZ9G83yNtIK2hqWpjCsjOZgopfv3u0JtY3wfgNa44hSSsoAYlA6mVbnoesqNDrbVb8QHaFkzz7i31/ui1BDdQQehBkMO4MG0yMH6eIBqs79D6b2HlcXOvc18X86rbnAgFDL4qunh1vgbUhZB0MgzrGosKdGdpEiBETrpoPpY810YhiRrFuhcCCDyjU2A6OR2lLoeAqmFhpBLGBrqeQ3tmF443Wli15Jb+S7BCfwlQBPzzA+g6WZ+PeLgiPd7prUOjuNk/v0A2O/Q5GcEUjVmnr+9bGEEZjMchsHr4TUOExEnjY330W63PGVcAgggiQQbW/+oDrb87rWvN0Pkqsq8iNR7qZE2tNxxfRp4i//otkR2RIP9HAhBke1jsrwQeS3x8RHWybxJxlE07uQzbGpuq9cv4jtrsJ5wRbKr7xJe6wh67ZfwrCj3ygZh2M24S/1o/xD7qv/wAbOwdnFuryCsCWMHYo/Xog0qhbUnmeZJ3mZJnX2n0J4BeHpoYXXTWRp3336aWTRXcsPEYmfhJ+o6TY1c8TCDUTp1j52bkadk5AWvObZby9OB09LJ/EuN+EjcxsAfvE7KP3oAbfcQ8ZU6a6GZ0AG5PQf1sH4cuxvlYVa2oGy8lHQdzzPP5Aece0HxuHhHypoHJMH2d4JUym81gAz/AI+Ecz2mzneQqqSxtRvuN0qKRIAUb7AWT73iF7voi6pFM/9+pKoR1QfFU9R5e9id4DowWeJ4Dr3XCOaEcX4grv4YAMnRSJnuen7Fn7gmk9G6pTYzzHaeVkKjwO9JxVq3jxGmT5In6mxvhvi1ndqVWmaTIxUDUggc5IH5bR1seJ4j/0N1v9fJZFHQJvxisMpsn/AGkXYfxSuWBDUlhNZAUn2AJ77kzGli+JYosETYfjlL+NuiVaS561DyVFEk5NwQOfI+7WJDMHucBxr4/tUsD/AOcgcdtR7pcwit5WBMmdCDrJnSd5Pb/hvxavd2oJ4bLIywgUApvmJKwDJnkRJ0EGTndSo1NiACp5gjUTy9f6x6SpiJBO0HSeWh29pH1swWnWuKrSRh7gbOiv4mIc5W1JkmZ5RIAgAxpNr978+DVEqEgG8qqkmYBNKYPYk2C3W5tVq5aSks0eUeaDz1/D/m07m1r7SL+qJdsPozFN5rNkKrmXWTIEyxzSOne3GgmgPL9/hAxr2tYG8Vnt0purOJMqxUgDSQYkD1FmfCKetPPMgFtAfvaj00Cj52AYbUL3io4HxOWj/UxMfU/KzRdKjPVdo0Wfzj9fpYuJJJyqPMSMKDZ1J09ENx3ETRr1IXQkMGIHMA/mSLBr5iBquMoyoY8oObXp3EzA9LEMddql4ckeVVA16BY6bEz87GOFsKUUxVI1PMjYbfX+gtwzMhiDiNdE1gu/xBEd0OJ9PumLgziOpQpLRvFNqlEfCR8dPsJ3X/Ly5dLO93vFGtBo1kYGPKTlcdirQRzslXK7BuWliHhLEFRHoLeexckUzvE3XmND16qtNgowfASD7j2TTeaGTWrUp016s6gfnNlvF+ObjddAWvNWNFUZU9Szbj0n0sqcQYRlDPRVVeNIGh7GyBRuleq2bKSTuTpZ7s/s/COHecufVfCm4yOSKmizfIafk/K/S/DF5apQSrUMvVAdo2GYA5R2AgWOLZI+zi+lrpTR9HprkYf6dJ9xB97OgbS1jDkAUFLmaQ7VSMbV3YWG41i4oIzEEgCdLDeFMXe9IarLlUnywZkevM/vlbr8QLpfNhOXMmCqLIv2g1alIU69JilRGy5h+FhqOhEhTB00s9PZE49rBglOdS2Y+g/uRYWIcGtsouHbb6SxX+03EEAULSYnQEo0/RwLcf8Ai2+3kEVawUfhpjJ23ksPYi1HiPDslOm4182vykfralcm86gHc+x7ethxT97GCr+AwUIJe4DyRKpc3gsFMD6+lhdZSD9baDWxCrSu3g1VDwJBHxDod9dt7J+FVKT1oqxlaR6d9f172I1odVFVGSktJI0G1a2gl7UMpBA72XqV1AZkO4P05WaMZZAxyagGAesc+21ljEahWtm55RP1s3EK0ULtcNdT+KN4FgtJmzVi2TU+Ubxy7etuqt1TMWp0zknRSZMdJ62gwjHDT1EG16rjCvIMEHKScomV5A8pO8b7W1mIKkiNpFodj9KkvihPgiRPIkbfMiy3dLuX5mzFiddCSogliM3QAbfWPlaQ4SgpGovlIE9iBuPWOfWxC+lkQlx8gjmO8EXujNYxXpDepS8wUDqu4sR4Uq13ULd6flP/AHG8q+s7t/tBs/XIZXzzBHTcjoe1hjRQxA0gYo1qYqoPwkzKjtIn3tBxB7yKyLrrr8odZTormH8LISHvDGu41AYeRT1CbH1aT0izQKYUa7Cwu9Y7RpLAYEx+5st37iN64IoKXjnMKD0nX6A2TD2sGmp+B+FyidSrvFGNIitBA01Y8rZrcb29erFEEnlygTuSdvewfiinfKlUCvAQsAAhOUa85AJPcj0to/AGD06VExlU6sxO7RoB3/5saRogh7wkOc7lsuAi9Ev4kbxTIDgsWMDIc2vIf32s1cI4ZVoN4xc+IRBAJygfhjZv9R7xFq3Fm0D4jCrHVtBt6/Q2brrQgAdBaXPjHtiaW6E8vKlYgI7vxITjmC3W8sWZv4eq3xEj+Wzb5vU9jz1FqFThCiiZql+ooQdxBXLz3Ya2cHuoIgifa2b8d32kjGjSpqH++4ABE8hp0+9rvp2dweOmmcI3Ns8/6WhiMjdHEAeh+/8AKIXziW53FXW5k1azaeI8wo3gQJjnpvAk9EOhdLxearVFL1GfVpGnLXQ+WNh0GlucNuspVJb/AA1znnJLABfeTr26SQbwXHa9Gh4iOB5iAuUdjmXvOYSdgOegNtrQzcqQ6eWd2Vosn6nr2VC40kpEqvmA1cLAJ5gBiQSo331000t7eb+lIjRgGlspAmCTAaG28s9x62XLzidWnVLb5/N015x0G2liS0KtanOTIB5gpfQk7kLACsfrzt85lHM86FOPh7xoYyy5u4rjzBrbyP8ACJ1L2tZJapJJ5JEdtWkaetmC7AqqqFISIUnTNG5j5dN+ds+wolK6ZtPMAwIj5ztytpCViwSNhP1/4W0/HtEdNG26s9nvdO3OSQQaP39dUwcPUVnUA/s/v2PS3GIqBUIjb6fsRpy2tXuQI1BI5/uLeVDlMzNo7ntLQ2tbRch70uteYmqqAJBnuP384sH4UuqfxFRCumhHuJtJitUsfXS1TAfE8RqiczseY2EewFmWtqN1aArszD3YHFaamHimAyLHpYld7xIsLwG9O6wdMu0iCduWu21vr54lOSozD8O3yNmMPiWwCtcvvS8/JGXOLTuida6q/wAQB7G3V0ulOkuWmoUbnv69eXyFl8cSqNHV09Vn8ptQvXH12VjTzEtExlIMe4A+tqcc8TvE1CdBKNCmfEb2FB1siXtvFqFiOw9BarivEwqcwB0nX3sB/wDEAzdrI4pz5tGjRNwRCMWd004hWppSHiKGQmGB6bE+2/tb5eHruF8TPkp9dD/yels84t4lLrkXRm0Guw62v8HYjWWmU1enSpltdSoWNtDMSCByjTpbkGBkjizfCO17nksafVHsTuNUIGzZx9yRrlmJaNAdzp2sr3mmZkgA/wDNtNwzFrtURT4iwBBEjT16WTeM611FSabrHQDn2HOzGEkdeUhPYec5cj704pVagSdNeQHXoLHeG+Cmv1Z7w7+HdkAAqGPOEABYTspIJk9bCMFpm+XundqQYI052MSVG4gSFB0B1JIPSQXzGsWEmhTMUKXkKfCGI+Itp1nKdYyg2bmkLdB118fXRZzf8p2VnDXr8c/QazDDMFoA5aH8SwIkldNectpE6SBaq74PUIWpczR/z04IWJ10g8uQ52oYdcHfNlMrrBIM+h5SB/a3N6wVkYPpJOoB5wSfUaWVDhf9/e7+U4MBABlJN+v42+FQxX7PFZWr4dWNemvx0iCKic9iBOnKJ6E2EPc65p5ADBAzbqSI1AHrI362LYRiVWjWVqbhWVtgTBE/C/IrHL9bOXFC0StO9UINKuSCOjiZ9JhgRyI72bbI8b69dfzwnT4MQuobHqjwRy7NsN/Qx9LLGP4bUvt/YUmYLd0FPy7kjVj7Ex7WucVcQm6q1K7p4t6A1OgWlOzHMRnaNo/vZL4H4uFM+HULCpJh9TmkyZjnPzso9rhH4dedVYUR77Oip8WYReKeoquyjdTGo7ER8rMX2YY7SSkElQyTowkEMSZ+v072g4kxZHUz0jbbvYgtwoJTNOmhXIBJMQ2YTIjXrJNlDKe4AcNQbBGnW6HR3UPGF4pMr5YkjQLzP717RNh1xxW9Xe7kuokfMmAxQDlIM6xGnW0VxuVECpeaxK0kdVZgMzRvkQEaFm8MFjpEjmYj4o4hWonwwBIUevfqTztuOFuUMrNqisAGpR/AaVW83halUQlPzATImNPU20KjE2U+D3HgIR94A/MD9LM1J7ebx0hMtVQboFalYAKGyK5hGv7/AHpYBjeFUrwhWooPQxqO4O49rXy8Whd7cfjHvojQhLxx0s+vXCtGhLEM6jWC2nLTygTYBea73h1o0k1OiqNAB+QA/S2iY8wKEdf3+lhuE4ctGlmCg1K65ix+6k+VF6TEn1i1fC4olmeTUjZU4omsjtgAJ0QW4cL3dSrVVF4Yeqop020l/ptZup04WFp01X8IppHpqCbc3RB0mNDazTqgDsdp6yB+ostNipZTuuuDQdAhWJ8O3S8D+ZR8Opyq0YU9vLsfpYVUuj3V1SoQyt/h1BswG+/wsOamzVTvAZRA9LVL1SStTaiw8rRB5qw+Fx3B0PUW7FinHwS7fZagcYnEgb7qnRvINoL1WA52S6mMVaJIYKcpjc6RobXnvlZhuAD0s7/gFpBvRNsdGXeFWL/e5OVdWPTl29bPfBmC5aeZtSYP9hZW4aweWDN17W0q6gKoA2FiODB4eCR7RmIGVu6sLTC6C3zMDvaGtVtBUrwLLZmB9DZRwwnVUsZooc22gtinGtULeEI5ZgY9RH7721nGr7kBPY/r+tsdxNvErkn7v5nU/pZ3s0XKXcE26Jxiy8SQq9FXc6swHIWNJgQCZz9SZ72rUfKy2bkrzTOgIIAIjlI1HQ2pSPNitE0MMyNhNWUBxHguKQrxAJAzDUgkSJ1tBw7fP4WqPEAYagqdnVhBU9iD+tm661aRJp5SFoAFTuHzTDECNdJg9delljja7L8dORGsNExuPh05kW3ZDgwlCw8zKLmt9eGitYpg11q5WFWS3IboOjHmT1Fl2/4OlMEK+Yg6wP1tbwjEf5cd7R3uoTrbbWuBq03L3BZnDbJ4o99jFMfxtXSWFElB1Mif/bb281pcsyrnJMnKV8xMkwCBO9gHCeJNc71TvA+FTDjqp+ID03HpZ+40wlKbLeUOZK5LIu2UkZiNdYnUCOo00sKdhzfP2HXqgdnytZIQeI0+lmvn4VnAak5C8eGSJymTlBOu0nsBrvFiePigAjUSC8nNGaIInXchtR1mGkaGEbDb8QwymSREnkOgjYCJjta7esWzhYnzeaOknedNd/b6JhpbYoa/Cfdhy6UPv6DZBr3Q8zBJj73mB0md+k8rNK1VGC1WcEBawIJkzrT2HLcgjrNlQXQsyCZLNABj4to12152ZvtDvhu10utxzZn+Ood4jYA8/MfktmGgkgJftJ4awN4k37dV9V//2Q==',\n",
       " 'data:image/jpeg;base64,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']"
      ]
     },
     "execution_count": 34,
     "metadata": {},
     "output_type": "execute_result"
    }
   ],
   "source": [
    "Images[:2]"
   ]
  },
  {
   "cell_type": "code",
   "execution_count": 36,
   "metadata": {},
   "outputs": [],
   "source": [
    "# Locating search code and sending the keys as 'cars'\n",
    "search_code = driver.find_element_by_xpath(\"//input[@class='JSAgYe']\")\n",
    "search_code.send_keys('cars')\n",
    "search_code.clear()"
   ]
  },
  {
   "cell_type": "code",
   "execution_count": 37,
   "metadata": {},
   "outputs": [],
   "source": [
    "search_code.send_keys('cars')"
   ]
  },
  {
   "cell_type": "code",
   "execution_count": 40,
   "metadata": {},
   "outputs": [],
   "source": [
    "# Locating search button and clicking the search button.\n",
    "search_button = driver.find_element_by_xpath(\"//button[@class='KXJfe']\")\n",
    "search_button.click()"
   ]
  },
  {
   "cell_type": "code",
   "execution_count": 41,
   "metadata": {},
   "outputs": [],
   "source": [
    "# Creating empty set and finding the elements for cars.\n",
    "Cars = []\n",
    "cars = driver.find_elements_by_xpath(\"//img[@class='rg_i Q4LuWd']\")"
   ]
  },
  {
   "cell_type": "code",
   "execution_count": 42,
   "metadata": {},
   "outputs": [],
   "source": [
    "# Appending the 'src' to Cars.\n",
    "for i in cars:\n",
    "    Cars.append(i.get_attribute('src'))"
   ]
  },
  {
   "cell_type": "code",
   "execution_count": 43,
   "metadata": {},
   "outputs": [
    {
     "data": {
      "text/plain": [
       "['data:image/jpeg;base64,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',\n",
       " 'data:image/jpeg;base64,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']"
      ]
     },
     "execution_count": 43,
     "metadata": {},
     "output_type": "execute_result"
    }
   ],
   "source": [
    "Cars[:2]"
   ]
  },
  {
   "cell_type": "code",
   "execution_count": 45,
   "metadata": {},
   "outputs": [],
   "source": [
    "# Locating search code and clearing the search bar.\n",
    "search_code = driver.find_element_by_xpath(\"//input[@class='JSAgYe']\")\n",
    "search_code.clear()"
   ]
  },
  {
   "cell_type": "code",
   "execution_count": 46,
   "metadata": {},
   "outputs": [],
   "source": [
    "# And, sending keys of 'Machine learning'.\n",
    "search_code.send_keys('machine learning')"
   ]
  },
  {
   "cell_type": "code",
   "execution_count": 47,
   "metadata": {},
   "outputs": [],
   "source": [
    "# Locating search button and clicking the search button.\n",
    "search_button = driver.find_element_by_xpath(\"//button[@class='KXJfe']\")\n",
    "search_button.click()"
   ]
  },
  {
   "cell_type": "code",
   "execution_count": 48,
   "metadata": {},
   "outputs": [],
   "source": [
    "# Finding the elements of machine learning.\n",
    "machine_learning = driver.find_elements_by_xpath(\"//img[@class='rg_i Q4LuWd']\")"
   ]
  },
  {
   "cell_type": "code",
   "execution_count": 50,
   "metadata": {},
   "outputs": [],
   "source": [
    "# Appending the 'src' to Machine learning.\n",
    "Machine_learning = []\n",
    "for i in machine_learning:\n",
    "    Machine_learning.append(i.get_attribute('src'))"
   ]
  },
  {
   "cell_type": "code",
   "execution_count": 51,
   "metadata": {},
   "outputs": [
    {
     "data": {
      "text/plain": [
       "['data:image/jpeg;base64,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',\n",
       " 'data:image/jpeg;base64,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']"
      ]
     },
     "execution_count": 51,
     "metadata": {},
     "output_type": "execute_result"
    }
   ],
   "source": [
    "Machine_learning[:2]"
   ]
  },
  {
   "cell_type": "code",
   "execution_count": 53,
   "metadata": {},
   "outputs": [],
   "source": [
    "# Creating DataFrame.\n",
    "import pandas as pd\n",
    "Images_Url = pd.DataFrame({})\n",
    "Images_Url['Fruits'] = Images[:100]\n",
    "Images_Url['Cars'] = Cars[:100]\n",
    "Images_Url['Machine_Learning'] = Machine_learning[:100]"
   ]
  },
  {
   "cell_type": "code",
   "execution_count": 54,
   "metadata": {},
   "outputs": [
    {
     "data": {
      "text/html": [
       "<div>\n",
       "<style scoped>\n",
       "    .dataframe tbody tr th:only-of-type {\n",
       "        vertical-align: middle;\n",
       "    }\n",
       "\n",
       "    .dataframe tbody tr th {\n",
       "        vertical-align: top;\n",
       "    }\n",
       "\n",
       "    .dataframe thead th {\n",
       "        text-align: right;\n",
       "    }\n",
       "</style>\n",
       "<table border=\"1\" class=\"dataframe\">\n",
       "  <thead>\n",
       "    <tr style=\"text-align: right;\">\n",
       "      <th></th>\n",
       "      <th>Fruits</th>\n",
       "      <th>Cars</th>\n",
       "      <th>Machine_Learning</th>\n",
       "    </tr>\n",
       "  </thead>\n",
       "  <tbody>\n",
       "    <tr>\n",
       "      <td>0</td>\n",
       "      <td>data:image/jpeg;base64,/9j/4AAQSkZJRgABAQAAAQA...</td>\n",
       "      <td>data:image/jpeg;base64,/9j/4AAQSkZJRgABAQAAAQA...</td>\n",
       "      <td>data:image/jpeg;base64,/9j/4AAQSkZJRgABAQAAAQA...</td>\n",
       "    </tr>\n",
       "    <tr>\n",
       "      <td>1</td>\n",
       "      <td>data:image/jpeg;base64,/9j/4AAQSkZJRgABAQAAAQA...</td>\n",
       "      <td>data:image/jpeg;base64,/9j/4AAQSkZJRgABAQAAAQA...</td>\n",
       "      <td>data:image/jpeg;base64,/9j/4AAQSkZJRgABAQAAAQA...</td>\n",
       "    </tr>\n",
       "    <tr>\n",
       "      <td>2</td>\n",
       "      <td>data:image/jpeg;base64,/9j/4AAQSkZJRgABAQAAAQA...</td>\n",
       "      <td>data:image/jpeg;base64,/9j/4AAQSkZJRgABAQAAAQA...</td>\n",
       "      <td>data:image/jpeg;base64,/9j/4AAQSkZJRgABAQAAAQA...</td>\n",
       "    </tr>\n",
       "    <tr>\n",
       "      <td>3</td>\n",
       "      <td>data:image/jpeg;base64,/9j/4AAQSkZJRgABAQAAAQA...</td>\n",
       "      <td>data:image/jpeg;base64,/9j/4AAQSkZJRgABAQAAAQA...</td>\n",
       "      <td>data:image/jpeg;base64,/9j/4AAQSkZJRgABAQAAAQA...</td>\n",
       "    </tr>\n",
       "    <tr>\n",
       "      <td>4</td>\n",
       "      <td>data:image/jpeg;base64,/9j/4AAQSkZJRgABAQAAAQA...</td>\n",
       "      <td>data:image/jpeg;base64,/9j/4AAQSkZJRgABAQAAAQA...</td>\n",
       "      <td>data:image/png;base64,iVBORw0KGgoAAAANSUhEUgAA...</td>\n",
       "    </tr>\n",
       "    <tr>\n",
       "      <td>...</td>\n",
       "      <td>...</td>\n",
       "      <td>...</td>\n",
       "      <td>...</td>\n",
       "    </tr>\n",
       "    <tr>\n",
       "      <td>95</td>\n",
       "      <td>https://encrypted-tbn0.gstatic.com/images?q=tb...</td>\n",
       "      <td>https://encrypted-tbn0.gstatic.com/images?q=tb...</td>\n",
       "      <td>https://encrypted-tbn0.gstatic.com/images?q=tb...</td>\n",
       "    </tr>\n",
       "    <tr>\n",
       "      <td>96</td>\n",
       "      <td>https://encrypted-tbn0.gstatic.com/images?q=tb...</td>\n",
       "      <td>https://encrypted-tbn0.gstatic.com/images?q=tb...</td>\n",
       "      <td>https://encrypted-tbn0.gstatic.com/images?q=tb...</td>\n",
       "    </tr>\n",
       "    <tr>\n",
       "      <td>97</td>\n",
       "      <td>https://encrypted-tbn0.gstatic.com/images?q=tb...</td>\n",
       "      <td>https://encrypted-tbn0.gstatic.com/images?q=tb...</td>\n",
       "      <td>https://encrypted-tbn0.gstatic.com/images?q=tb...</td>\n",
       "    </tr>\n",
       "    <tr>\n",
       "      <td>98</td>\n",
       "      <td>https://encrypted-tbn0.gstatic.com/images?q=tb...</td>\n",
       "      <td>https://encrypted-tbn0.gstatic.com/images?q=tb...</td>\n",
       "      <td>https://encrypted-tbn0.gstatic.com/images?q=tb...</td>\n",
       "    </tr>\n",
       "    <tr>\n",
       "      <td>99</td>\n",
       "      <td>https://encrypted-tbn0.gstatic.com/images?q=tb...</td>\n",
       "      <td>https://encrypted-tbn0.gstatic.com/images?q=tb...</td>\n",
       "      <td>https://encrypted-tbn0.gstatic.com/images?q=tb...</td>\n",
       "    </tr>\n",
       "  </tbody>\n",
       "</table>\n",
       "<p>100 rows × 3 columns</p>\n",
       "</div>"
      ],
      "text/plain": [
       "                                               Fruits  \\\n",
       "0   data:image/jpeg;base64,/9j/4AAQSkZJRgABAQAAAQA...   \n",
       "1   data:image/jpeg;base64,/9j/4AAQSkZJRgABAQAAAQA...   \n",
       "2   data:image/jpeg;base64,/9j/4AAQSkZJRgABAQAAAQA...   \n",
       "3   data:image/jpeg;base64,/9j/4AAQSkZJRgABAQAAAQA...   \n",
       "4   data:image/jpeg;base64,/9j/4AAQSkZJRgABAQAAAQA...   \n",
       "..                                                ...   \n",
       "95  https://encrypted-tbn0.gstatic.com/images?q=tb...   \n",
       "96  https://encrypted-tbn0.gstatic.com/images?q=tb...   \n",
       "97  https://encrypted-tbn0.gstatic.com/images?q=tb...   \n",
       "98  https://encrypted-tbn0.gstatic.com/images?q=tb...   \n",
       "99  https://encrypted-tbn0.gstatic.com/images?q=tb...   \n",
       "\n",
       "                                                 Cars  \\\n",
       "0   data:image/jpeg;base64,/9j/4AAQSkZJRgABAQAAAQA...   \n",
       "1   data:image/jpeg;base64,/9j/4AAQSkZJRgABAQAAAQA...   \n",
       "2   data:image/jpeg;base64,/9j/4AAQSkZJRgABAQAAAQA...   \n",
       "3   data:image/jpeg;base64,/9j/4AAQSkZJRgABAQAAAQA...   \n",
       "4   data:image/jpeg;base64,/9j/4AAQSkZJRgABAQAAAQA...   \n",
       "..                                                ...   \n",
       "95  https://encrypted-tbn0.gstatic.com/images?q=tb...   \n",
       "96  https://encrypted-tbn0.gstatic.com/images?q=tb...   \n",
       "97  https://encrypted-tbn0.gstatic.com/images?q=tb...   \n",
       "98  https://encrypted-tbn0.gstatic.com/images?q=tb...   \n",
       "99  https://encrypted-tbn0.gstatic.com/images?q=tb...   \n",
       "\n",
       "                                     Machine_Learning  \n",
       "0   data:image/jpeg;base64,/9j/4AAQSkZJRgABAQAAAQA...  \n",
       "1   data:image/jpeg;base64,/9j/4AAQSkZJRgABAQAAAQA...  \n",
       "2   data:image/jpeg;base64,/9j/4AAQSkZJRgABAQAAAQA...  \n",
       "3   data:image/jpeg;base64,/9j/4AAQSkZJRgABAQAAAQA...  \n",
       "4   data:image/png;base64,iVBORw0KGgoAAAANSUhEUgAA...  \n",
       "..                                                ...  \n",
       "95  https://encrypted-tbn0.gstatic.com/images?q=tb...  \n",
       "96  https://encrypted-tbn0.gstatic.com/images?q=tb...  \n",
       "97  https://encrypted-tbn0.gstatic.com/images?q=tb...  \n",
       "98  https://encrypted-tbn0.gstatic.com/images?q=tb...  \n",
       "99  https://encrypted-tbn0.gstatic.com/images?q=tb...  \n",
       "\n",
       "[100 rows x 3 columns]"
      ]
     },
     "execution_count": 54,
     "metadata": {},
     "output_type": "execute_result"
    }
   ],
   "source": [
    "# Final DataFrame.\n",
    "Images_Url"
   ]
  },
  {
   "cell_type": "markdown",
   "metadata": {},
   "source": [
    "# Question No-4"
   ]
  },
  {
   "cell_type": "code",
   "execution_count": 169,
   "metadata": {},
   "outputs": [],
   "source": [
    "# website URL and Getting URL.\n",
    "url=\"https://www.flipkart.com/\"\n",
    "driver.get(url)"
   ]
  },
  {
   "cell_type": "code",
   "execution_count": 176,
   "metadata": {},
   "outputs": [],
   "source": [
    "#locating the search bar\n",
    "search_bar=driver.find_element_by_class_name('_3704LK')\n",
    "search_bar.clear()\n",
    "search_bar.send_keys('redmi 9')"
   ]
  },
  {
   "cell_type": "code",
   "execution_count": 177,
   "metadata": {},
   "outputs": [],
   "source": [
    "# Loacting search button and clicking on search button code.\n",
    "search_button=driver.find_element_by_xpath(\"//button[@class='L0Z3Pu']\")\n",
    "search_button.click()"
   ]
  },
  {
   "cell_type": "code",
   "execution_count": 178,
   "metadata": {},
   "outputs": [],
   "source": [
    "# Creating empty sets.\n",
    "Brand_Name_Smartphone_Name_Color=[]\n",
    "Ram_Rom=[]\n",
    "Primary_Secondary_Camera=[]\n",
    "Display_Size=[]\n",
    "Processor_Processor_Cores=[]\n",
    "Battery_Capacity=[]\n",
    "Price=[]\n",
    "Product_Url=[]"
   ]
  },
  {
   "cell_type": "code",
   "execution_count": 189,
   "metadata": {},
   "outputs": [
    {
     "data": {
      "text/plain": [
       "['Redmi 9 (Sporty Orange, 128 GB)', 'Redmi 9 (CarbonBlack, 128 GB)']"
      ]
     },
     "execution_count": 189,
     "metadata": {},
     "output_type": "execute_result"
    }
   ],
   "source": [
    "# Finding the elements for Brand and smartphone name.\n",
    "phone=driver.find_elements_by_xpath(\"//div[@class='_4rR01T']\")\n",
    "for i in phone:\n",
    "    if i.text is None :\n",
    "        Brand_Name_Smartphone_Name_Color.append(\"--\") \n",
    "    else:\n",
    "        Brand_Name_Smartphone_Name_Color.append(i.text)\n",
    "Brand_Name_Smartphone_Name_Color[:2]"
   ]
  },
  {
   "cell_type": "code",
   "execution_count": 188,
   "metadata": {},
   "outputs": [
    {
     "data": {
      "text/plain": [
       "['4 GB RAM | 128 GB ROM', '4 GB RAM | 128 GB ROM']"
      ]
     },
     "execution_count": 188,
     "metadata": {},
     "output_type": "execute_result"
    }
   ],
   "source": [
    "# Finding the elements for Ram_Rom.\n",
    "ram_rom=driver.find_elements_by_xpath(\"//ul[@class='_1xgFaf']/li[1]\")\n",
    "for i in ram_rom:\n",
    "    if i.text is None :\n",
    "        Ram_Rom.append(\"--\") \n",
    "    else:\n",
    "        Ram_Rom.append(i.text)\n",
    "Ram_Rom[:2]"
   ]
  },
  {
   "cell_type": "code",
   "execution_count": 187,
   "metadata": {},
   "outputs": [
    {
     "data": {
      "text/plain": [
       "['13MP Rear Camera', '13MP Rear Camera']"
      ]
     },
     "execution_count": 187,
     "metadata": {},
     "output_type": "execute_result"
    }
   ],
   "source": [
    "# Finding the elements for Camera.\n",
    "cam=driver.find_elements_by_xpath(\"//ul[@class='_1xgFaf']/li[3]\")\n",
    "for i in cam:\n",
    "    if i.text is None :\n",
    "        Primary_Secondary_Camera.append(\"--\") \n",
    "    else:\n",
    "        Primary_Secondary_Camera.append(i.text)\n",
    "\n",
    "Primary_Secondary_Camera[:2]"
   ]
  },
  {
   "cell_type": "code",
   "execution_count": 186,
   "metadata": {},
   "outputs": [
    {
     "data": {
      "text/plain": [
       "['16.59 cm (6.53 inch) HD+ Display', '16.59 cm (6.53 inch) Display']"
      ]
     },
     "execution_count": 186,
     "metadata": {},
     "output_type": "execute_result"
    }
   ],
   "source": [
    "# Finding elements for display size.\n",
    "dis=driver.find_elements_by_xpath(\"//ul[@class='_1xgFaf']/li[2]\")\n",
    "for i in dis:\n",
    "    if i.text is None :\n",
    "        Display_Size.append(\"--\") \n",
    "    else:\n",
    "        Display_Size.append(i.text)\n",
    "\n",
    "Display_Size[:2]"
   ]
  },
  {
   "cell_type": "code",
   "execution_count": 185,
   "metadata": {},
   "outputs": [
    {
     "data": {
      "text/plain": [
       "['1 Year ManuFacturer Warrenty', '1 Year Manufacturer Warranty']"
      ]
     },
     "execution_count": 185,
     "metadata": {},
     "output_type": "execute_result"
    }
   ],
   "source": [
    "# Finding elements for processor.\n",
    "pro=driver.find_elements_by_xpath(\"//ul[@class='_1xgFaf']/li[5]\")\n",
    "for i in pro:\n",
    "    if i.text is None :\n",
    "        Processor_Processor_Cores.append(\"--\") \n",
    "    else:\n",
    "        Processor_Processor_Cores.append(i.text)\n",
    "\n",
    "Processor_Processor_Cores[:2]"
   ]
  },
  {
   "cell_type": "code",
   "execution_count": 184,
   "metadata": {},
   "outputs": [
    {
     "data": {
      "text/plain": [
       "['5000 mAh Battery', '5000 mAh Battery']"
      ]
     },
     "execution_count": 184,
     "metadata": {},
     "output_type": "execute_result"
    }
   ],
   "source": [
    "# Finding elements for Battery.\n",
    "battery=driver.find_elements_by_xpath(\"//ul[@class='_1xgFaf']/li[4]\")\n",
    "for i in battery:\n",
    "    if i.text is None :\n",
    "        Battery_Capacity.append(\"--\") \n",
    "    else:\n",
    "        Battery_Capacity.append(i.text)\n",
    "\n",
    "Battery_Capacity[:2]"
   ]
  },
  {
   "cell_type": "code",
   "execution_count": 190,
   "metadata": {},
   "outputs": [
    {
     "data": {
      "text/plain": [
       "['₹10,304', '₹10,587']"
      ]
     },
     "execution_count": 190,
     "metadata": {},
     "output_type": "execute_result"
    }
   ],
   "source": [
    "# Finding elements for price.\n",
    "price=driver.find_elements_by_xpath(\"//div[@class='_30jeq3 _1_WHN1']\")\n",
    "for i in price:\n",
    "    if i.text is None :\n",
    "        Price.append(\"--\") \n",
    "    else:\n",
    "        Price.append(i.text)\n",
    "\n",
    "Price[:2]"
   ]
  },
  {
   "cell_type": "code",
   "execution_count": 191,
   "metadata": {},
   "outputs": [
    {
     "data": {
      "text/plain": [
       "['https://www.flipkart.com/redmi-9-sporty-orange-128-gb/p/itmab450ea12f428?pid=MOBFVFN2JZ4UDPGF&lid=LSTMOBFVFN2JZ4UDPGFLFLQA7&marketplace=FLIPKART&srno=s_1_1&otracker=search&otracker1=search&fm=SEARCH&iid=77dfe5fb-196a-4c90-ac5c-4ac18e652011.MOBFVFN2JZ4UDPGF.SEARCH&ppt=sp&ppn=sp&ssid=43trjkwoww0000001612721428813&qH=adda90713dd7793f',\n",
       " 'https://www.flipkart.com/redmi-9-carbonblack-128-gb/p/itm5b0fa0fcbf29d?pid=MOBFVGJYZ22CM5ZG&lid=LSTMOBFVGJYZ22CM5ZGDNEZZ7&marketplace=FLIPKART&srno=s_1_2&otracker=search&otracker1=search&fm=SEARCH&iid=77dfe5fb-196a-4c90-ac5c-4ac18e652011.MOBFVGJYZ22CM5ZG.SEARCH&ppt=sp&ppn=sp&ssid=43trjkwoww0000001612721428813&qH=adda90713dd7793f']"
      ]
     },
     "execution_count": 191,
     "metadata": {},
     "output_type": "execute_result"
    }
   ],
   "source": [
    "url=driver.find_elements_by_xpath(\"//a[@class='_1fQZEK']\")\n",
    "for i in url:\n",
    "    Product_Url.append(i.get_attribute('href'))\n",
    "Product_Url[:2]"
   ]
  },
  {
   "cell_type": "code",
   "execution_count": 196,
   "metadata": {},
   "outputs": [
    {
     "name": "stdout",
     "output_type": "stream",
     "text": [
      "24 48\n"
     ]
    }
   ],
   "source": [
    "print(len(Battery_Capacity),len(Ram_Rom))"
   ]
  },
  {
   "cell_type": "code",
   "execution_count": 197,
   "metadata": {},
   "outputs": [],
   "source": [
    "#creating DataFrame.\n",
    "import pandas as pd\n",
    "Mobile_Phones=pd.DataFrame({})\n",
    "Mobile_Phones['Brand_Name_Smartphone_Name_Color']=Brand_Name_Smartphone_Name_Color[:24]\n",
    "Mobile_Phones['Ram_Rom']=Ram_Rom[:24]\n",
    "Mobile_Phones['Primary_Secondary_Camera']=Primary_Secondary_Camera[:24]\n",
    "Mobile_Phones['Display_Size']=Display_Size[:24]\n",
    "Mobile_Phones['Processor_Processor_Cores']=Processor_Processor_Cores[:24]\n",
    "Mobile_Phones['Battery_Capacity']=Battery_Capacity[:24]\n",
    "Mobile_Phones['Price']=Price[:24]\n",
    "Mobile_Phones['Product_Url']=Product_Url[:24]"
   ]
  },
  {
   "cell_type": "code",
   "execution_count": 198,
   "metadata": {},
   "outputs": [
    {
     "data": {
      "text/html": [
       "<div>\n",
       "<style scoped>\n",
       "    .dataframe tbody tr th:only-of-type {\n",
       "        vertical-align: middle;\n",
       "    }\n",
       "\n",
       "    .dataframe tbody tr th {\n",
       "        vertical-align: top;\n",
       "    }\n",
       "\n",
       "    .dataframe thead th {\n",
       "        text-align: right;\n",
       "    }\n",
       "</style>\n",
       "<table border=\"1\" class=\"dataframe\">\n",
       "  <thead>\n",
       "    <tr style=\"text-align: right;\">\n",
       "      <th></th>\n",
       "      <th>Brand_Name_Smartphone_Name_Color</th>\n",
       "      <th>Ram_Rom</th>\n",
       "      <th>Primary_Secondary_Camera</th>\n",
       "      <th>Display_Size</th>\n",
       "      <th>Processor_Processor_Cores</th>\n",
       "      <th>Battery_Capacity</th>\n",
       "      <th>Price</th>\n",
       "      <th>Product_Url</th>\n",
       "    </tr>\n",
       "  </thead>\n",
       "  <tbody>\n",
       "    <tr>\n",
       "      <td>0</td>\n",
       "      <td>Redmi 9 (Sporty Orange, 128 GB)</td>\n",
       "      <td>4 GB RAM | 128 GB ROM</td>\n",
       "      <td>13MP Rear Camera</td>\n",
       "      <td>16.59 cm (6.53 inch) HD+ Display</td>\n",
       "      <td>1 Year ManuFacturer Warrenty</td>\n",
       "      <td>5000 mAh Battery</td>\n",
       "      <td>₹10,304</td>\n",
       "      <td>https://www.flipkart.com/redmi-9-sporty-orange...</td>\n",
       "    </tr>\n",
       "    <tr>\n",
       "      <td>1</td>\n",
       "      <td>Redmi 9 (CarbonBlack, 128 GB)</td>\n",
       "      <td>4 GB RAM | 128 GB ROM</td>\n",
       "      <td>13MP Rear Camera</td>\n",
       "      <td>16.59 cm (6.53 inch) Display</td>\n",
       "      <td>1 Year Manufacturer Warranty</td>\n",
       "      <td>5000 mAh Battery</td>\n",
       "      <td>₹10,587</td>\n",
       "      <td>https://www.flipkart.com/redmi-9-carbonblack-1...</td>\n",
       "    </tr>\n",
       "    <tr>\n",
       "      <td>2</td>\n",
       "      <td>Redmi 9 (Sporty Orange, 64 GB)</td>\n",
       "      <td>4 GB RAM | 64 GB ROM</td>\n",
       "      <td>13MP + 8MP | 8MP Front Camera</td>\n",
       "      <td>16.59 cm (6.53 inch) HD+ Display</td>\n",
       "      <td>MediaTek Helio G35 Processor</td>\n",
       "      <td>5000 mAh Battery</td>\n",
       "      <td>₹9,333</td>\n",
       "      <td>https://www.flipkart.com/redmi-9-sporty-orange...</td>\n",
       "    </tr>\n",
       "    <tr>\n",
       "      <td>3</td>\n",
       "      <td>Redmi 9 (Sky Blue, 128 GB)</td>\n",
       "      <td>4 GB RAM | 128 GB ROM</td>\n",
       "      <td>13MP + 8MP | 8MP Front Camera</td>\n",
       "      <td>16.59 cm (6.53 inch) HD+ Display</td>\n",
       "      <td>MediaTek Helio G35 Processor</td>\n",
       "      <td>5000 mAh Battery</td>\n",
       "      <td>₹10,215</td>\n",
       "      <td>https://www.flipkart.com/redmi-9-sky-blue-128-...</td>\n",
       "    </tr>\n",
       "    <tr>\n",
       "      <td>4</td>\n",
       "      <td>Redmi 9 (Sky Blue, 64 GB)</td>\n",
       "      <td>4 GB RAM | 64 GB ROM</td>\n",
       "      <td>13MP + 2MP | 5MP Front Camera</td>\n",
       "      <td>16.59 cm (6.53 inch) HD+ Display</td>\n",
       "      <td>MediaTek Helio G35 Processor</td>\n",
       "      <td>5000 mAh Battery</td>\n",
       "      <td>₹9,277</td>\n",
       "      <td>https://www.flipkart.com/redmi-9-sky-blue-64-g...</td>\n",
       "    </tr>\n",
       "    <tr>\n",
       "      <td>5</td>\n",
       "      <td>Redmi 9 (Carbon Black, 64 GB)</td>\n",
       "      <td>4 GB RAM | 64 GB ROM</td>\n",
       "      <td>13MP + 2MP | 5MP Front Camera</td>\n",
       "      <td>16.59 cm (6.53 inch) HD+ Display</td>\n",
       "      <td>MediaTek Helio G35 Processor</td>\n",
       "      <td>5000 mAh Battery</td>\n",
       "      <td>₹9,331</td>\n",
       "      <td>https://www.flipkart.com/redmi-9-carbon-black-...</td>\n",
       "    </tr>\n",
       "    <tr>\n",
       "      <td>6</td>\n",
       "      <td>Redmi 9i (Nature Green, 64 GB)</td>\n",
       "      <td>4 GB RAM | 64 GB ROM | Expandable Upto 512 GB</td>\n",
       "      <td>13MP Rear Camera | 5MP Front Camera</td>\n",
       "      <td>16.59 cm (6.53 inch) HD+ Display</td>\n",
       "      <td>MediaTek Helio G25 Processor</td>\n",
       "      <td>5000 mAh Lithium Polymer Battery</td>\n",
       "      <td>₹8,299</td>\n",
       "      <td>https://www.flipkart.com/redmi-9i-nature-green...</td>\n",
       "    </tr>\n",
       "    <tr>\n",
       "      <td>7</td>\n",
       "      <td>Redmi 9 Prime (Mint Green, 64 GB)</td>\n",
       "      <td>4 GB RAM | 64 GB ROM | Expandable Upto 512 GB</td>\n",
       "      <td>13MP Rear Camera | 8MP Front Camera</td>\n",
       "      <td>16.59 cm (6.53 inch) Full HD+ Display</td>\n",
       "      <td>MediaTek Helio G80 Processor</td>\n",
       "      <td>5020 mAh Battery</td>\n",
       "      <td>₹9,499</td>\n",
       "      <td>https://www.flipkart.com/redmi-9-prime-mint-gr...</td>\n",
       "    </tr>\n",
       "    <tr>\n",
       "      <td>8</td>\n",
       "      <td>Redmi 9i (Sea Blue, 64 GB)</td>\n",
       "      <td>4 GB RAM | 64 GB ROM | Expandable Upto 512 GB</td>\n",
       "      <td>13MP Rear Camera | 5MP Front Camera</td>\n",
       "      <td>16.59 cm (6.53 inch) HD+ Display</td>\n",
       "      <td>MediaTek Helio G25 Processor</td>\n",
       "      <td>5000 mAh Lithium Polymer Battery</td>\n",
       "      <td>₹8,299</td>\n",
       "      <td>https://www.flipkart.com/redmi-9i-sea-blue-64-...</td>\n",
       "    </tr>\n",
       "    <tr>\n",
       "      <td>9</td>\n",
       "      <td>Redmi 9i (Midnight Black, 64 GB)</td>\n",
       "      <td>4 GB RAM | 64 GB ROM | Expandable Upto 512 GB</td>\n",
       "      <td>13MP Rear Camera | 5MP Front Camera</td>\n",
       "      <td>16.59 cm (6.53 inch) HD+ Display</td>\n",
       "      <td>MediaTek Helio G25 Processor</td>\n",
       "      <td>5000 mAh Lithium Polymer Battery</td>\n",
       "      <td>₹8,299</td>\n",
       "      <td>https://www.flipkart.com/redmi-9i-midnight-bla...</td>\n",
       "    </tr>\n",
       "    <tr>\n",
       "      <td>10</td>\n",
       "      <td>Redmi 9 Prime (Sunrise Flare, 64 GB)</td>\n",
       "      <td>4 GB RAM | 64 GB ROM | Expandable Upto 512 GB</td>\n",
       "      <td>13MP Rear Camera | 8MP Front Camera</td>\n",
       "      <td>16.59 cm (6.53 inch) Full HD+ Display</td>\n",
       "      <td>MediaTek Helio G80 Processor</td>\n",
       "      <td>5020 mAh Battery</td>\n",
       "      <td>₹9,499</td>\n",
       "      <td>https://www.flipkart.com/redmi-9-prime-sunrise...</td>\n",
       "    </tr>\n",
       "    <tr>\n",
       "      <td>11</td>\n",
       "      <td>Redmi Note 9 pro max (Aurora Blue, 64 GB)</td>\n",
       "      <td>6 GB RAM | 64 GB ROM | Expandable Upto 512 GB</td>\n",
       "      <td>64MP + 8MP + 5MP + 2MP | 32MP Front Camera</td>\n",
       "      <td>16.94 cm (6.67 inch) Full HD+ Display</td>\n",
       "      <td>Qualcomm Snapdragon 720G Processor</td>\n",
       "      <td>5020 mAh Lithium Polymer Battery</td>\n",
       "      <td>₹14,999</td>\n",
       "      <td>https://www.flipkart.com/redmi-note-9-pro-max-...</td>\n",
       "    </tr>\n",
       "    <tr>\n",
       "      <td>12</td>\n",
       "      <td>Redmi 9 Prime (Space Blue, 64 GB)</td>\n",
       "      <td>4 GB RAM | 64 GB ROM | Expandable Upto 512 GB</td>\n",
       "      <td>13MP Rear Camera | 8MP Front Camera</td>\n",
       "      <td>16.59 cm (6.53 inch) Full HD+ Display</td>\n",
       "      <td>MediaTek Helio G80 Processor</td>\n",
       "      <td>5020 mAh Battery</td>\n",
       "      <td>₹9,499</td>\n",
       "      <td>https://www.flipkart.com/redmi-9-prime-space-b...</td>\n",
       "    </tr>\n",
       "    <tr>\n",
       "      <td>13</td>\n",
       "      <td>Redmi 9 Prime (Matte Black, 64 GB)</td>\n",
       "      <td>4 GB RAM | 64 GB ROM | Expandable Upto 512 GB</td>\n",
       "      <td>13MP Rear Camera | 8MP Front Camera</td>\n",
       "      <td>16.59 cm (6.53 inch) Full HD+ Display</td>\n",
       "      <td>MediaTek Helio G80 Processor</td>\n",
       "      <td>5020 mAh Battery</td>\n",
       "      <td>₹9,499</td>\n",
       "      <td>https://www.flipkart.com/redmi-9-prime-matte-b...</td>\n",
       "    </tr>\n",
       "    <tr>\n",
       "      <td>14</td>\n",
       "      <td>Redmi 9 Prime (Mint Green, 128 GB)</td>\n",
       "      <td>4 GB RAM | 128 GB ROM | Expandable Upto 512 GB</td>\n",
       "      <td>13MP Rear Camera | 8MP Front Camera</td>\n",
       "      <td>16.59 cm (6.53 inch) Full HD+ Display</td>\n",
       "      <td>MediaTek Helio G80 Processor</td>\n",
       "      <td>5020 mAh Battery</td>\n",
       "      <td>₹10,999</td>\n",
       "      <td>https://www.flipkart.com/redmi-9-prime-mint-gr...</td>\n",
       "    </tr>\n",
       "    <tr>\n",
       "      <td>15</td>\n",
       "      <td>Redmi Note 9 Pro Max (Interstellar Black, 64 GB)</td>\n",
       "      <td>6 GB RAM | 64 GB ROM | Expandable Upto 512 GB</td>\n",
       "      <td>64MP + 8MP + 5MP + 2MP | 32MP Front Camera</td>\n",
       "      <td>16.94 cm (6.67 inch) Full HD+ Display</td>\n",
       "      <td>Qualcomm Snapdragon 720G Processor</td>\n",
       "      <td>5020 mAh Lithium Polymer Battery</td>\n",
       "      <td>₹14,999</td>\n",
       "      <td>https://www.flipkart.com/redmi-note-9-pro-max-...</td>\n",
       "    </tr>\n",
       "    <tr>\n",
       "      <td>16</td>\n",
       "      <td>Redmi 9 Prime (Space Blue, 128 GB)</td>\n",
       "      <td>4 GB RAM | 128 GB ROM | Expandable Upto 512 GB</td>\n",
       "      <td>13MP Rear Camera | 8MP Front Camera</td>\n",
       "      <td>16.59 cm (6.53 inch) Full HD+ Display</td>\n",
       "      <td>MediaTek Helio G80 Processor</td>\n",
       "      <td>5020 mAh Battery</td>\n",
       "      <td>₹11,835</td>\n",
       "      <td>https://www.flipkart.com/redmi-9-prime-space-b...</td>\n",
       "    </tr>\n",
       "    <tr>\n",
       "      <td>17</td>\n",
       "      <td>Redmi 9 Prime (Sunrise Flare, 128 GB)</td>\n",
       "      <td>4 GB RAM | 128 GB ROM | Expandable Upto 512 GB</td>\n",
       "      <td>13MP Rear Camera | 8MP Front Camera</td>\n",
       "      <td>16.59 cm (6.53 inch) Full HD+ Display</td>\n",
       "      <td>MediaTek Helio G80 Processor</td>\n",
       "      <td>5020 mAh Battery</td>\n",
       "      <td>₹10,999</td>\n",
       "      <td>https://www.flipkart.com/redmi-9-prime-sunrise...</td>\n",
       "    </tr>\n",
       "    <tr>\n",
       "      <td>18</td>\n",
       "      <td>Redmi Note 9 Pro Max (Champagne Gold, 64 GB)</td>\n",
       "      <td>6 GB RAM | 64 GB ROM | Expandable Upto 512 GB</td>\n",
       "      <td>64MP + 8MP + 5MP + 2MP | 32MP Front Camera</td>\n",
       "      <td>16.94 cm (6.67 inch) Full HD+ Display</td>\n",
       "      <td>Qualcomm Snapdragon 720G Processor</td>\n",
       "      <td>5020 mAh Lithium Polymer Battery</td>\n",
       "      <td>₹14,999</td>\n",
       "      <td>https://www.flipkart.com/redmi-note-9-pro-max-...</td>\n",
       "    </tr>\n",
       "    <tr>\n",
       "      <td>19</td>\n",
       "      <td>Redmi 9 Power (Blazing Blue, 64 GB)</td>\n",
       "      <td>4 GB RAM | 64 GB ROM</td>\n",
       "      <td>48MP Rear Camera | 8MP Front Camera</td>\n",
       "      <td>16.59 cm (6.53 inch) Full HD+ Display</td>\n",
       "      <td>Qualcomm Snapdragon 662 Processor</td>\n",
       "      <td>6000 mAh Battery</td>\n",
       "      <td>₹11,149</td>\n",
       "      <td>https://www.flipkart.com/redmi-9-power-blazing...</td>\n",
       "    </tr>\n",
       "    <tr>\n",
       "      <td>20</td>\n",
       "      <td>Redmi 9i (Sea Blue, 128 GB)</td>\n",
       "      <td>4 GB RAM | 128 GB ROM | Expandable Upto 512 GB</td>\n",
       "      <td>13MP Rear Camera | 5MP Front Camera</td>\n",
       "      <td>16.59 cm (6.53 inch) HD+ Display</td>\n",
       "      <td>MediaTek Helio G25 Processor</td>\n",
       "      <td>5000 mAh Lithium Polymer Battery</td>\n",
       "      <td>₹9,299</td>\n",
       "      <td>https://www.flipkart.com/redmi-9i-sea-blue-128...</td>\n",
       "    </tr>\n",
       "    <tr>\n",
       "      <td>21</td>\n",
       "      <td>Redmi 9 Prime (Matte Black, 128 GB)</td>\n",
       "      <td>4 GB RAM | 128 GB ROM | Expandable Upto 512 GB</td>\n",
       "      <td>13MP Rear Camera | 8MP Front Camera</td>\n",
       "      <td>16.59 cm (6.53 inch) Full HD+ Display</td>\n",
       "      <td>MediaTek Helio G80 Processor</td>\n",
       "      <td>5020 mAh Battery</td>\n",
       "      <td>₹10,999</td>\n",
       "      <td>https://www.flipkart.com/redmi-9-prime-matte-b...</td>\n",
       "    </tr>\n",
       "    <tr>\n",
       "      <td>22</td>\n",
       "      <td>Redmi Note 9 Pro (Aurora Blue, 128 GB)</td>\n",
       "      <td>6 GB RAM | 128 GB ROM | Expandable Upto 512 GB</td>\n",
       "      <td>48MP + 8MP + 5MP + 2MP | 16MP Front Camera</td>\n",
       "      <td>16.94 cm (6.67 inch) Full HD+ Display</td>\n",
       "      <td>Qualcomm® Snapdragon™ 720G Processor</td>\n",
       "      <td>5020 mAh Battery</td>\n",
       "      <td>₹17,977</td>\n",
       "      <td>https://www.flipkart.com/redmi-note-9-pro-auro...</td>\n",
       "    </tr>\n",
       "    <tr>\n",
       "      <td>23</td>\n",
       "      <td>Redmi Note 9 Pro Max (Glacier White, 64 GB)</td>\n",
       "      <td>6 GB RAM | 64 GB ROM | Expandable Upto 512 GB</td>\n",
       "      <td>64MP + 8MP + 5MP + 2MP | 32MP Front Camera</td>\n",
       "      <td>16.94 cm (6.67 inch) Full HD+ Display</td>\n",
       "      <td>Qualcomm Snapdragon 720G Processor</td>\n",
       "      <td>5020 mAh Lithium Polymer Battery</td>\n",
       "      <td>₹14,999</td>\n",
       "      <td>https://www.flipkart.com/redmi-note-9-pro-max-...</td>\n",
       "    </tr>\n",
       "  </tbody>\n",
       "</table>\n",
       "</div>"
      ],
      "text/plain": [
       "                    Brand_Name_Smartphone_Name_Color  \\\n",
       "0                    Redmi 9 (Sporty Orange, 128 GB)   \n",
       "1                      Redmi 9 (CarbonBlack, 128 GB)   \n",
       "2                     Redmi 9 (Sporty Orange, 64 GB)   \n",
       "3                         Redmi 9 (Sky Blue, 128 GB)   \n",
       "4                          Redmi 9 (Sky Blue, 64 GB)   \n",
       "5                      Redmi 9 (Carbon Black, 64 GB)   \n",
       "6                     Redmi 9i (Nature Green, 64 GB)   \n",
       "7                  Redmi 9 Prime (Mint Green, 64 GB)   \n",
       "8                         Redmi 9i (Sea Blue, 64 GB)   \n",
       "9                   Redmi 9i (Midnight Black, 64 GB)   \n",
       "10              Redmi 9 Prime (Sunrise Flare, 64 GB)   \n",
       "11         Redmi Note 9 pro max (Aurora Blue, 64 GB)   \n",
       "12                 Redmi 9 Prime (Space Blue, 64 GB)   \n",
       "13                Redmi 9 Prime (Matte Black, 64 GB)   \n",
       "14                Redmi 9 Prime (Mint Green, 128 GB)   \n",
       "15  Redmi Note 9 Pro Max (Interstellar Black, 64 GB)   \n",
       "16                Redmi 9 Prime (Space Blue, 128 GB)   \n",
       "17             Redmi 9 Prime (Sunrise Flare, 128 GB)   \n",
       "18      Redmi Note 9 Pro Max (Champagne Gold, 64 GB)   \n",
       "19               Redmi 9 Power (Blazing Blue, 64 GB)   \n",
       "20                       Redmi 9i (Sea Blue, 128 GB)   \n",
       "21               Redmi 9 Prime (Matte Black, 128 GB)   \n",
       "22            Redmi Note 9 Pro (Aurora Blue, 128 GB)   \n",
       "23       Redmi Note 9 Pro Max (Glacier White, 64 GB)   \n",
       "\n",
       "                                           Ram_Rom  \\\n",
       "0                            4 GB RAM | 128 GB ROM   \n",
       "1                            4 GB RAM | 128 GB ROM   \n",
       "2                             4 GB RAM | 64 GB ROM   \n",
       "3                            4 GB RAM | 128 GB ROM   \n",
       "4                             4 GB RAM | 64 GB ROM   \n",
       "5                             4 GB RAM | 64 GB ROM   \n",
       "6    4 GB RAM | 64 GB ROM | Expandable Upto 512 GB   \n",
       "7    4 GB RAM | 64 GB ROM | Expandable Upto 512 GB   \n",
       "8    4 GB RAM | 64 GB ROM | Expandable Upto 512 GB   \n",
       "9    4 GB RAM | 64 GB ROM | Expandable Upto 512 GB   \n",
       "10   4 GB RAM | 64 GB ROM | Expandable Upto 512 GB   \n",
       "11   6 GB RAM | 64 GB ROM | Expandable Upto 512 GB   \n",
       "12   4 GB RAM | 64 GB ROM | Expandable Upto 512 GB   \n",
       "13   4 GB RAM | 64 GB ROM | Expandable Upto 512 GB   \n",
       "14  4 GB RAM | 128 GB ROM | Expandable Upto 512 GB   \n",
       "15   6 GB RAM | 64 GB ROM | Expandable Upto 512 GB   \n",
       "16  4 GB RAM | 128 GB ROM | Expandable Upto 512 GB   \n",
       "17  4 GB RAM | 128 GB ROM | Expandable Upto 512 GB   \n",
       "18   6 GB RAM | 64 GB ROM | Expandable Upto 512 GB   \n",
       "19                            4 GB RAM | 64 GB ROM   \n",
       "20  4 GB RAM | 128 GB ROM | Expandable Upto 512 GB   \n",
       "21  4 GB RAM | 128 GB ROM | Expandable Upto 512 GB   \n",
       "22  6 GB RAM | 128 GB ROM | Expandable Upto 512 GB   \n",
       "23   6 GB RAM | 64 GB ROM | Expandable Upto 512 GB   \n",
       "\n",
       "                      Primary_Secondary_Camera  \\\n",
       "0                             13MP Rear Camera   \n",
       "1                             13MP Rear Camera   \n",
       "2                13MP + 8MP | 8MP Front Camera   \n",
       "3                13MP + 8MP | 8MP Front Camera   \n",
       "4                13MP + 2MP | 5MP Front Camera   \n",
       "5                13MP + 2MP | 5MP Front Camera   \n",
       "6          13MP Rear Camera | 5MP Front Camera   \n",
       "7          13MP Rear Camera | 8MP Front Camera   \n",
       "8          13MP Rear Camera | 5MP Front Camera   \n",
       "9          13MP Rear Camera | 5MP Front Camera   \n",
       "10         13MP Rear Camera | 8MP Front Camera   \n",
       "11  64MP + 8MP + 5MP + 2MP | 32MP Front Camera   \n",
       "12         13MP Rear Camera | 8MP Front Camera   \n",
       "13         13MP Rear Camera | 8MP Front Camera   \n",
       "14         13MP Rear Camera | 8MP Front Camera   \n",
       "15  64MP + 8MP + 5MP + 2MP | 32MP Front Camera   \n",
       "16         13MP Rear Camera | 8MP Front Camera   \n",
       "17         13MP Rear Camera | 8MP Front Camera   \n",
       "18  64MP + 8MP + 5MP + 2MP | 32MP Front Camera   \n",
       "19         48MP Rear Camera | 8MP Front Camera   \n",
       "20         13MP Rear Camera | 5MP Front Camera   \n",
       "21         13MP Rear Camera | 8MP Front Camera   \n",
       "22  48MP + 8MP + 5MP + 2MP | 16MP Front Camera   \n",
       "23  64MP + 8MP + 5MP + 2MP | 32MP Front Camera   \n",
       "\n",
       "                             Display_Size  \\\n",
       "0        16.59 cm (6.53 inch) HD+ Display   \n",
       "1            16.59 cm (6.53 inch) Display   \n",
       "2        16.59 cm (6.53 inch) HD+ Display   \n",
       "3        16.59 cm (6.53 inch) HD+ Display   \n",
       "4        16.59 cm (6.53 inch) HD+ Display   \n",
       "5        16.59 cm (6.53 inch) HD+ Display   \n",
       "6        16.59 cm (6.53 inch) HD+ Display   \n",
       "7   16.59 cm (6.53 inch) Full HD+ Display   \n",
       "8        16.59 cm (6.53 inch) HD+ Display   \n",
       "9        16.59 cm (6.53 inch) HD+ Display   \n",
       "10  16.59 cm (6.53 inch) Full HD+ Display   \n",
       "11  16.94 cm (6.67 inch) Full HD+ Display   \n",
       "12  16.59 cm (6.53 inch) Full HD+ Display   \n",
       "13  16.59 cm (6.53 inch) Full HD+ Display   \n",
       "14  16.59 cm (6.53 inch) Full HD+ Display   \n",
       "15  16.94 cm (6.67 inch) Full HD+ Display   \n",
       "16  16.59 cm (6.53 inch) Full HD+ Display   \n",
       "17  16.59 cm (6.53 inch) Full HD+ Display   \n",
       "18  16.94 cm (6.67 inch) Full HD+ Display   \n",
       "19  16.59 cm (6.53 inch) Full HD+ Display   \n",
       "20       16.59 cm (6.53 inch) HD+ Display   \n",
       "21  16.59 cm (6.53 inch) Full HD+ Display   \n",
       "22  16.94 cm (6.67 inch) Full HD+ Display   \n",
       "23  16.94 cm (6.67 inch) Full HD+ Display   \n",
       "\n",
       "               Processor_Processor_Cores                  Battery_Capacity  \\\n",
       "0           1 Year ManuFacturer Warrenty                  5000 mAh Battery   \n",
       "1           1 Year Manufacturer Warranty                  5000 mAh Battery   \n",
       "2           MediaTek Helio G35 Processor                  5000 mAh Battery   \n",
       "3           MediaTek Helio G35 Processor                  5000 mAh Battery   \n",
       "4           MediaTek Helio G35 Processor                  5000 mAh Battery   \n",
       "5           MediaTek Helio G35 Processor                  5000 mAh Battery   \n",
       "6           MediaTek Helio G25 Processor  5000 mAh Lithium Polymer Battery   \n",
       "7           MediaTek Helio G80 Processor                  5020 mAh Battery   \n",
       "8           MediaTek Helio G25 Processor  5000 mAh Lithium Polymer Battery   \n",
       "9           MediaTek Helio G25 Processor  5000 mAh Lithium Polymer Battery   \n",
       "10          MediaTek Helio G80 Processor                  5020 mAh Battery   \n",
       "11    Qualcomm Snapdragon 720G Processor  5020 mAh Lithium Polymer Battery   \n",
       "12          MediaTek Helio G80 Processor                  5020 mAh Battery   \n",
       "13          MediaTek Helio G80 Processor                  5020 mAh Battery   \n",
       "14          MediaTek Helio G80 Processor                  5020 mAh Battery   \n",
       "15    Qualcomm Snapdragon 720G Processor  5020 mAh Lithium Polymer Battery   \n",
       "16          MediaTek Helio G80 Processor                  5020 mAh Battery   \n",
       "17          MediaTek Helio G80 Processor                  5020 mAh Battery   \n",
       "18    Qualcomm Snapdragon 720G Processor  5020 mAh Lithium Polymer Battery   \n",
       "19     Qualcomm Snapdragon 662 Processor                  6000 mAh Battery   \n",
       "20          MediaTek Helio G25 Processor  5000 mAh Lithium Polymer Battery   \n",
       "21          MediaTek Helio G80 Processor                  5020 mAh Battery   \n",
       "22  Qualcomm® Snapdragon™ 720G Processor                  5020 mAh Battery   \n",
       "23    Qualcomm Snapdragon 720G Processor  5020 mAh Lithium Polymer Battery   \n",
       "\n",
       "      Price                                        Product_Url  \n",
       "0   ₹10,304  https://www.flipkart.com/redmi-9-sporty-orange...  \n",
       "1   ₹10,587  https://www.flipkart.com/redmi-9-carbonblack-1...  \n",
       "2    ₹9,333  https://www.flipkart.com/redmi-9-sporty-orange...  \n",
       "3   ₹10,215  https://www.flipkart.com/redmi-9-sky-blue-128-...  \n",
       "4    ₹9,277  https://www.flipkart.com/redmi-9-sky-blue-64-g...  \n",
       "5    ₹9,331  https://www.flipkart.com/redmi-9-carbon-black-...  \n",
       "6    ₹8,299  https://www.flipkart.com/redmi-9i-nature-green...  \n",
       "7    ₹9,499  https://www.flipkart.com/redmi-9-prime-mint-gr...  \n",
       "8    ₹8,299  https://www.flipkart.com/redmi-9i-sea-blue-64-...  \n",
       "9    ₹8,299  https://www.flipkart.com/redmi-9i-midnight-bla...  \n",
       "10   ₹9,499  https://www.flipkart.com/redmi-9-prime-sunrise...  \n",
       "11  ₹14,999  https://www.flipkart.com/redmi-note-9-pro-max-...  \n",
       "12   ₹9,499  https://www.flipkart.com/redmi-9-prime-space-b...  \n",
       "13   ₹9,499  https://www.flipkart.com/redmi-9-prime-matte-b...  \n",
       "14  ₹10,999  https://www.flipkart.com/redmi-9-prime-mint-gr...  \n",
       "15  ₹14,999  https://www.flipkart.com/redmi-note-9-pro-max-...  \n",
       "16  ₹11,835  https://www.flipkart.com/redmi-9-prime-space-b...  \n",
       "17  ₹10,999  https://www.flipkart.com/redmi-9-prime-sunrise...  \n",
       "18  ₹14,999  https://www.flipkart.com/redmi-note-9-pro-max-...  \n",
       "19  ₹11,149  https://www.flipkart.com/redmi-9-power-blazing...  \n",
       "20   ₹9,299  https://www.flipkart.com/redmi-9i-sea-blue-128...  \n",
       "21  ₹10,999  https://www.flipkart.com/redmi-9-prime-matte-b...  \n",
       "22  ₹17,977  https://www.flipkart.com/redmi-note-9-pro-auro...  \n",
       "23  ₹14,999  https://www.flipkart.com/redmi-note-9-pro-max-...  "
      ]
     },
     "execution_count": 198,
     "metadata": {},
     "output_type": "execute_result"
    }
   ],
   "source": [
    "Mobile_Phones"
   ]
  },
  {
   "cell_type": "markdown",
   "metadata": {},
   "source": [
    "Question-5:"
   ]
  },
  {
   "cell_type": "code",
   "execution_count": 80,
   "metadata": {},
   "outputs": [],
   "source": [
    "# Opening Driver.\n",
    "driver = webdriver.Chrome(r\"C:\\Users\\HOMA\\Downloads\\chromedriver_win32\\chromedriver.exe\")\n",
    "driver.get(\"https://www.google.co.in/maps\") # Getting Url through Driver."
   ]
  },
  {
   "cell_type": "code",
   "execution_count": 81,
   "metadata": {},
   "outputs": [
    {
     "name": "stdout",
     "output_type": "stream",
     "text": [
      "Enter City Name : Tirupati\n"
     ]
    }
   ],
   "source": [
    "city_name = input('Enter City Name : ')                                         # Enter inuput city_name to be searched\n",
    "search_code = driver.find_element_by_id(\"searchboxinput\")                       # locating search bar\n",
    "search_code.clear()"
   ]
  },
  {
   "cell_type": "code",
   "execution_count": 82,
   "metadata": {},
   "outputs": [],
   "source": [
    "search_code.send_keys(city_name) # Sending keys of city_name."
   ]
  },
  {
   "cell_type": "code",
   "execution_count": 83,
   "metadata": {},
   "outputs": [],
   "source": [
    "search_button = driver.find_element_by_id(\"searchbox-searchbutton\")               # locating search button\n",
    "search_button.click() # Clicking the search_button."
   ]
  },
  {
   "cell_type": "code",
   "execution_count": 84,
   "metadata": {},
   "outputs": [
    {
     "name": "stdout",
     "output_type": "stream",
     "text": [
      "URL Extracted:  https://www.google.co.in/maps/place/Tirupati,+Andhra+Pradesh/@13.6276132,79.2847128,11z/data=!3m1!4b1!4m5!3m4!1s0x3a4d4b0f88620427:0xcf4152d1daca0cac!8m2!3d13.6287557!4d79.4191795\n",
      "Latitude = 13.6276132, Longitude = 79.2847128\n"
     ]
    }
   ],
   "source": [
    "# importing regex\n",
    "import re\n",
    "try:\n",
    "    url_string = driver.current_url\n",
    "    print(\"URL Extracted: \", url_string)\n",
    "    lat_lng = re.findall(r'@(.*)data',url_string)\n",
    "    if len(lat_lng):\n",
    "        lat_lng_list = lat_lng[0].split(\",\")\n",
    "        if len(lat_lng_list)>=2:\n",
    "            lat = lat_lng_list[0]\n",
    "            lng = lat_lng_list[1]\n",
    "        print(\"Latitude = {}, Longitude = {}\".format(lat, lng))\n",
    "\n",
    "except Exception as e:\n",
    "        print(\"Error: \", str(e))"
   ]
  },
  {
   "cell_type": "markdown",
   "metadata": {},
   "source": [
    "# Question No-6"
   ]
  },
  {
   "cell_type": "code",
   "execution_count": 112,
   "metadata": {},
   "outputs": [],
   "source": [
    "# Opening Driver and getting URL.\n",
    "driver = webdriver.Chrome(r\"C:\\Users\\HOMA\\Downloads\\chromedriver_win32\\chromedriver.exe\")\n",
    "driver.get('https://trak.in/')"
   ]
  },
  {
   "cell_type": "code",
   "execution_count": 113,
   "metadata": {},
   "outputs": [],
   "source": [
    "# Clicking the button\n",
    "funding_button = driver.find_element_by_xpath(\"//li[@id='menu-item-51510']/a\").get_attribute('href')\n",
    "driver.get(funding_button)"
   ]
  },
  {
   "cell_type": "code",
   "execution_count": 116,
   "metadata": {},
   "outputs": [],
   "source": [
    "fund_dict['Date'] = []\n",
    "fund_dict['Startup_name'] = []\n",
    "fund_dict['Industry_vertical'] = []\n",
    "fund_dict['Sub_vertical'] = []\n",
    "fund_dict['Location'] = []\n",
    "fund_dict['Investor'] = []\n",
    "fund_dict['Investment_type'] = []\n",
    "fund_dict['Amount_in_USD'] = []"
   ]
  },
  {
   "cell_type": "code",
   "execution_count": 122,
   "metadata": {},
   "outputs": [],
   "source": [
    "# Date\n",
    "for i in range(48,51):\n",
    "    driver.find_element_by_xpath('//div[@id=\"tablepress-{}_wrapper\"]/div/label/select/option[4]'.format(i)).click()\n",
    "\n",
    "    date = driver.find_elements_by_xpath('//table[@id=\"tablepress-{}\"]/tbody/tr/td[2]'.format(i))\n",
    "    for i in date:\n",
    "        fund_dict['Date'].append(i.text)"
   ]
  },
  {
   "cell_type": "code",
   "execution_count": 123,
   "metadata": {},
   "outputs": [
    {
     "data": {
      "text/plain": [
       "['15/07/2020', '16/07/2020']"
      ]
     },
     "execution_count": 123,
     "metadata": {},
     "output_type": "execute_result"
    }
   ],
   "source": [
    "fund_dict['Date'][:2]"
   ]
  },
  {
   "cell_type": "code",
   "execution_count": 125,
   "metadata": {},
   "outputs": [],
   "source": [
    "# Startup Name\n",
    "for i in range(48,51):\n",
    "    driver.find_element_by_xpath('//div[@id=\"tablepress-{}_wrapper\"]/div/label/select/option[4]'.format(i)).click()\n",
    "    \n",
    "    startup_name = driver.find_elements_by_xpath('//table[@id=\"tablepress-{}\"]/tbody/tr/td[3]'.format(i))\n",
    "    for i in startup_name:\n",
    "        fund_dict['Startup_name'].append(i.text)"
   ]
  },
  {
   "cell_type": "code",
   "execution_count": 126,
   "metadata": {},
   "outputs": [
    {
     "data": {
      "text/plain": [
       "['Flipkart', 'Vedantu']"
      ]
     },
     "execution_count": 126,
     "metadata": {},
     "output_type": "execute_result"
    }
   ],
   "source": [
    "fund_dict['Startup_name'][:2]"
   ]
  },
  {
   "cell_type": "code",
   "execution_count": 127,
   "metadata": {},
   "outputs": [],
   "source": [
    "# Industry Vertical\n",
    "for i in range(48,51):\n",
    "    driver.find_element_by_xpath('//div[@id=\"tablepress-{}_wrapper\"]/div/label/select/option[4]'.format(i)).click()\n",
    "    \n",
    "    industry_vertical = driver.find_elements_by_xpath('//table[@id=\"tablepress-{}\"]/tbody/tr/td[4]'.format(i))    for i in industry_vertical:\n",
    "        fund_dict['Industry_vertical'].append(i.text)"
   ]
  },
  {
   "cell_type": "code",
   "execution_count": 128,
   "metadata": {},
   "outputs": [
    {
     "data": {
      "text/plain": [
       "['E-commerce', 'EduTech']"
      ]
     },
     "execution_count": 128,
     "metadata": {},
     "output_type": "execute_result"
    }
   ],
   "source": [
    "fund_dict['Industry_vertical'][:2]"
   ]
  },
  {
   "cell_type": "code",
   "execution_count": 129,
   "metadata": {},
   "outputs": [],
   "source": [
    "# Sub Vertical\n",
    "for i in range(48,51):\n",
    "    driver.find_element_by_xpath('//div[@id=\"tablepress-{}_wrapper\"]/div/label/select/option[4]'.format(i)).click()\n",
    "    \n",
    "    sub_vertical = driver.find_elements_by_xpath('//table[@id=\"tablepress-{}\"]/tbody/tr/td[5]'.format(i))\n",
    "    for i in sub_vertical:\n",
    "        fund_dict['Sub_vertical'].append(i.text)"
   ]
  },
  {
   "cell_type": "code",
   "execution_count": 130,
   "metadata": {},
   "outputs": [
    {
     "data": {
      "text/plain": [
       "['E-commerce', 'Online Tutoring']"
      ]
     },
     "execution_count": 130,
     "metadata": {},
     "output_type": "execute_result"
    }
   ],
   "source": [
    "fund_dict['Sub_vertical'][:2]"
   ]
  },
  {
   "cell_type": "code",
   "execution_count": 131,
   "metadata": {},
   "outputs": [],
   "source": [
    "# Location.\n",
    "for i in range(48,51):\n",
    "    driver.find_element_by_xpath('//div[@id=\"tablepress-{}_wrapper\"]/div/label/select/option[4]'.format(i)).click()   \n",
    "    \n",
    "    location = driver.find_elements_by_xpath('//table[@id=\"tablepress-{}\"]/tbody/tr/td[6]'.format(i))\n",
    "    for i in location:\n",
    "        fund_dict['Location'].append(i.text)"
   ]
  },
  {
   "cell_type": "code",
   "execution_count": 132,
   "metadata": {},
   "outputs": [
    {
     "data": {
      "text/plain": [
       "['Bangalore', 'Bangalore']"
      ]
     },
     "execution_count": 132,
     "metadata": {},
     "output_type": "execute_result"
    }
   ],
   "source": [
    "fund_dict['Location'][:2]"
   ]
  },
  {
   "cell_type": "code",
   "execution_count": 133,
   "metadata": {},
   "outputs": [],
   "source": [
    "# Investor\n",
    "for i in range(48,51):\n",
    "    driver.find_element_by_xpath('//div[@id=\"tablepress-{}_wrapper\"]/div/label/select/option[4]'.format(i)).click() \n",
    "    \n",
    "    investor = driver.find_elements_by_xpath('//table[@id=\"tablepress-{}\"]/tbody/tr/td[7]'.format(i))\n",
    "    for i in investor:\n",
    "        fund_dict['Investor'].append(i.text)"
   ]
  },
  {
   "cell_type": "code",
   "execution_count": 134,
   "metadata": {},
   "outputs": [
    {
     "data": {
      "text/plain": [
       "['Walmart Inc', 'Coatue Management']"
      ]
     },
     "execution_count": 134,
     "metadata": {},
     "output_type": "execute_result"
    }
   ],
   "source": [
    "fund_dict['Investor'][:2]"
   ]
  },
  {
   "cell_type": "code",
   "execution_count": 135,
   "metadata": {},
   "outputs": [],
   "source": [
    "# Investment Type\n",
    "for i in range(48,51):\n",
    "    driver.find_element_by_xpath('//div[@id=\"tablepress-{}_wrapper\"]/div/label/select/option[4]'.format(i)).click() \n",
    "    \n",
    "    investment_type = driver.find_elements_by_xpath('//table[@id=\"tablepress-{}\"]/tbody/tr/td[8]'.format(i))\n",
    "    for i in investment_type:\n",
    "        fund_dict['Investment_type'].append(i.text)"
   ]
  },
  {
   "cell_type": "code",
   "execution_count": 136,
   "metadata": {},
   "outputs": [
    {
     "data": {
      "text/plain": [
       "['M&A', 'Series D']"
      ]
     },
     "execution_count": 136,
     "metadata": {},
     "output_type": "execute_result"
    }
   ],
   "source": [
    "fund_dict['Investment_type'][:2]"
   ]
  },
  {
   "cell_type": "code",
   "execution_count": 137,
   "metadata": {},
   "outputs": [],
   "source": [
    "# Amount in U.S Dollars.\n",
    "for i in range(48,51):\n",
    "    driver.find_element_by_xpath('//div[@id=\"tablepress-{}_wrapper\"]/div/label/select/option[4]'.format(i)).click() \n",
    "\n",
    "\n",
    "    amount = driver.find_elements_by_xpath('//table[@id=\"tablepress-{}\"]/tbody/tr/td[9]'.format(i))\n",
    "    for i in amount:\n",
    "        fund_dict['Amount_in_USD'].append(i.text)"
   ]
  },
  {
   "cell_type": "code",
   "execution_count": 138,
   "metadata": {},
   "outputs": [
    {
     "data": {
      "text/plain": [
       "['1,200,000,000', '100,000,000']"
      ]
     },
     "execution_count": 138,
     "metadata": {},
     "output_type": "execute_result"
    }
   ],
   "source": [
    "fund_dict['Amount_in_USD'][:2]"
   ]
  },
  {
   "cell_type": "code",
   "execution_count": 145,
   "metadata": {},
   "outputs": [
    {
     "name": "stdout",
     "output_type": "stream",
     "text": [
      "33 33 33 66 33 33 33 33\n"
     ]
    }
   ],
   "source": [
    "# Length of the all titles.\n",
    "print(len(fund_dict['Location']),len(fund_dict['Investor']),len(fund_dict['Industry_vertical']),len(fund_dict['Date']),len(fund_dict['Sub_vertical']),len(fund_dict['Investment_type']),len(fund_dict['Amount_in_USD']),len(fund_dict['Startup_name']))"
   ]
  },
  {
   "cell_type": "code",
   "execution_count": 146,
   "metadata": {},
   "outputs": [],
   "source": [
    "# Creating DataFrame.\n",
    "import pandas as pd\n",
    "Funds_DataFrame = pd.DataFrame({})\n",
    "Funds_DataFrame['Date'] = fund_dict['Date'][:33]\n",
    "Funds_DataFrame['Startup_Name'] = fund_dict['Startup_name']\n",
    "Funds_DataFrame['Location'] = fund_dict['Location']\n",
    "Funds_DataFrame['Investor'] = fund_dict['Investor']\n",
    "Funds_DataFrame['Industry_Vertical'] = fund_dict['Industry_vertical']\n",
    "Funds_DataFrame['Sub_Vertical'] = fund_dict['Sub_vertical']\n",
    "Funds_DataFrame['Investment_Type'] = fund_dict['Investment_type']\n",
    "Funds_DataFrame['Amount_In_USD'] = fund_dict['Amount_in_USD']"
   ]
  },
  {
   "cell_type": "code",
   "execution_count": 147,
   "metadata": {},
   "outputs": [
    {
     "data": {
      "text/html": [
       "<div>\n",
       "<style scoped>\n",
       "    .dataframe tbody tr th:only-of-type {\n",
       "        vertical-align: middle;\n",
       "    }\n",
       "\n",
       "    .dataframe tbody tr th {\n",
       "        vertical-align: top;\n",
       "    }\n",
       "\n",
       "    .dataframe thead th {\n",
       "        text-align: right;\n",
       "    }\n",
       "</style>\n",
       "<table border=\"1\" class=\"dataframe\">\n",
       "  <thead>\n",
       "    <tr style=\"text-align: right;\">\n",
       "      <th></th>\n",
       "      <th>Date</th>\n",
       "      <th>Startup_Name</th>\n",
       "      <th>Location</th>\n",
       "      <th>Investor</th>\n",
       "      <th>Industry_Vertical</th>\n",
       "      <th>Sub_Vertical</th>\n",
       "      <th>Investment_Type</th>\n",
       "      <th>Amount_In_USD</th>\n",
       "    </tr>\n",
       "  </thead>\n",
       "  <tbody>\n",
       "    <tr>\n",
       "      <td>0</td>\n",
       "      <td>15/07/2020</td>\n",
       "      <td>Flipkart</td>\n",
       "      <td>Bangalore</td>\n",
       "      <td>Walmart Inc</td>\n",
       "      <td>E-commerce</td>\n",
       "      <td>E-commerce</td>\n",
       "      <td>M&amp;A</td>\n",
       "      <td>1,200,000,000</td>\n",
       "    </tr>\n",
       "    <tr>\n",
       "      <td>1</td>\n",
       "      <td>16/07/2020</td>\n",
       "      <td>Vedantu</td>\n",
       "      <td>Bangalore</td>\n",
       "      <td>Coatue Management</td>\n",
       "      <td>EduTech</td>\n",
       "      <td>Online Tutoring</td>\n",
       "      <td>Series D</td>\n",
       "      <td>100,000,000</td>\n",
       "    </tr>\n",
       "    <tr>\n",
       "      <td>2</td>\n",
       "      <td>16/07/2020</td>\n",
       "      <td>Crio</td>\n",
       "      <td>Bangalore</td>\n",
       "      <td>021 Capital</td>\n",
       "      <td>EduTech</td>\n",
       "      <td>Learning Platform for Developers</td>\n",
       "      <td>pre-Series A</td>\n",
       "      <td>934,160</td>\n",
       "    </tr>\n",
       "    <tr>\n",
       "      <td>3</td>\n",
       "      <td>14/07/2020</td>\n",
       "      <td>goDutch</td>\n",
       "      <td>Mumbai</td>\n",
       "      <td>Matrix India,Y Combinator, Global Founders Cap...</td>\n",
       "      <td>FinTech</td>\n",
       "      <td>Group Payments</td>\n",
       "      <td>Seed</td>\n",
       "      <td>1,700,000</td>\n",
       "    </tr>\n",
       "    <tr>\n",
       "      <td>4</td>\n",
       "      <td>13/07/2020</td>\n",
       "      <td>Mystifly</td>\n",
       "      <td>Singapore and Bangalore</td>\n",
       "      <td>Recruit Co. Ltd.</td>\n",
       "      <td>Airfare Marketplace</td>\n",
       "      <td>Ticketing, Airline Retailing, and Post-Ticketi...</td>\n",
       "      <td>pre-Series B</td>\n",
       "      <td>3,300,000</td>\n",
       "    </tr>\n",
       "    <tr>\n",
       "      <td>5</td>\n",
       "      <td>09/07/2020</td>\n",
       "      <td>JetSynthesys</td>\n",
       "      <td>Pune</td>\n",
       "      <td>Adar Poonawalla and Kris Gopalakrishnan.</td>\n",
       "      <td>Gaming and Entertainment</td>\n",
       "      <td>Gaming and Entertainment</td>\n",
       "      <td>Venture-Series Unknown</td>\n",
       "      <td>400,000</td>\n",
       "    </tr>\n",
       "    <tr>\n",
       "      <td>6</td>\n",
       "      <td>10/07/2020</td>\n",
       "      <td>gigIndia</td>\n",
       "      <td>Pune</td>\n",
       "      <td>Incubate Fund India and Beyond Next Ventures</td>\n",
       "      <td>Marketplace</td>\n",
       "      <td>Crowd Sourcing, Freelance</td>\n",
       "      <td>pre-Series A</td>\n",
       "      <td>974,200</td>\n",
       "    </tr>\n",
       "    <tr>\n",
       "      <td>7</td>\n",
       "      <td>15/07/2020</td>\n",
       "      <td>PumPumPum</td>\n",
       "      <td>Gurgaon</td>\n",
       "      <td>Early Adapters Syndicate</td>\n",
       "      <td>Automotive Rental</td>\n",
       "      <td>Used Car-leasing platform</td>\n",
       "      <td>Seed</td>\n",
       "      <td>292,800</td>\n",
       "    </tr>\n",
       "    <tr>\n",
       "      <td>8</td>\n",
       "      <td>14/07/2020</td>\n",
       "      <td>FLYX</td>\n",
       "      <td>New York and Delhi</td>\n",
       "      <td>Raj Mishra, founder of AIT Global Inc</td>\n",
       "      <td>OTT Player</td>\n",
       "      <td>Streaming Social Network</td>\n",
       "      <td>pre-Seed</td>\n",
       "      <td>200,000</td>\n",
       "    </tr>\n",
       "    <tr>\n",
       "      <td>9</td>\n",
       "      <td>13/07/2020</td>\n",
       "      <td>Open Appliances Pvt. Ltd.</td>\n",
       "      <td>Bangalore</td>\n",
       "      <td>Unicorn India Ventures</td>\n",
       "      <td>Information Technology</td>\n",
       "      <td>Internet-of-Things Security Solutions</td>\n",
       "      <td>Venture-Series Unknown</td>\n",
       "      <td>500,000</td>\n",
       "    </tr>\n",
       "    <tr>\n",
       "      <td>10</td>\n",
       "      <td>15/08/2020</td>\n",
       "      <td>Practo</td>\n",
       "      <td>Bangalore</td>\n",
       "      <td>A1A Company</td>\n",
       "      <td>HealthTech</td>\n",
       "      <td>Health care and Wellness</td>\n",
       "      <td>Series F</td>\n",
       "      <td>32,000,000</td>\n",
       "    </tr>\n",
       "    <tr>\n",
       "      <td>11</td>\n",
       "      <td>13/08/2020</td>\n",
       "      <td>Medlife</td>\n",
       "      <td>Bangalore</td>\n",
       "      <td>Prasid Uno Family Trust and SC Credit Fund</td>\n",
       "      <td>E-commerce</td>\n",
       "      <td>Online Pharmacy</td>\n",
       "      <td></td>\n",
       "      <td>23,000,000</td>\n",
       "    </tr>\n",
       "    <tr>\n",
       "      <td>12</td>\n",
       "      <td>13/08/2020</td>\n",
       "      <td>HungerBox</td>\n",
       "      <td>Bangalore</td>\n",
       "      <td>One97, Sabre Partners Trust, Pratithi Investme...</td>\n",
       "      <td>FoodTech</td>\n",
       "      <td>Online Food Delivery Service</td>\n",
       "      <td>Series D1</td>\n",
       "      <td>1,560,000</td>\n",
       "    </tr>\n",
       "    <tr>\n",
       "      <td>13</td>\n",
       "      <td>04/08/2020</td>\n",
       "      <td>Dunzo</td>\n",
       "      <td>Bangalore</td>\n",
       "      <td>Existing Backers</td>\n",
       "      <td>Hyper-local Logistics</td>\n",
       "      <td>Online Delivery Services</td>\n",
       "      <td>In Progress</td>\n",
       "      <td>30,000,000</td>\n",
       "    </tr>\n",
       "    <tr>\n",
       "      <td>14</td>\n",
       "      <td>11/08/2020</td>\n",
       "      <td>Terra.do</td>\n",
       "      <td>Stanford, California,</td>\n",
       "      <td>Stanford Angels and Entrepreneurs (India), BEE...</td>\n",
       "      <td>EduTech</td>\n",
       "      <td>Online Climate School, E-learning</td>\n",
       "      <td>Seed</td>\n",
       "      <td>1,400,000</td>\n",
       "    </tr>\n",
       "    <tr>\n",
       "      <td>15</td>\n",
       "      <td>12/08/2020</td>\n",
       "      <td>Classplus</td>\n",
       "      <td>Noida</td>\n",
       "      <td>Falcon Edge</td>\n",
       "      <td>EduTech</td>\n",
       "      <td>E-learning, Online Tutoring</td>\n",
       "      <td>In Progress</td>\n",
       "      <td>upto 15,000,000</td>\n",
       "    </tr>\n",
       "    <tr>\n",
       "      <td>16</td>\n",
       "      <td>14/08/2020</td>\n",
       "      <td>Niyo</td>\n",
       "      <td>Bangalore</td>\n",
       "      <td>Niyo Solutions Inc.</td>\n",
       "      <td>FinTech</td>\n",
       "      <td>Financial Services</td>\n",
       "      <td></td>\n",
       "      <td>6,000,000</td>\n",
       "    </tr>\n",
       "    <tr>\n",
       "      <td>17</td>\n",
       "      <td>10/08/2020</td>\n",
       "      <td>ZestMoney</td>\n",
       "      <td>Bangalore</td>\n",
       "      <td>Primrose Hills Ventures</td>\n",
       "      <td>FinTech</td>\n",
       "      <td>Financial Services</td>\n",
       "      <td></td>\n",
       "      <td>10,670,000</td>\n",
       "    </tr>\n",
       "    <tr>\n",
       "      <td>18</td>\n",
       "      <td>07/08/2020</td>\n",
       "      <td>FreshToHome</td>\n",
       "      <td>Bangalore</td>\n",
       "      <td>Ascent Capital</td>\n",
       "      <td>E-commerce</td>\n",
       "      <td>Food Delivery</td>\n",
       "      <td>Venture</td>\n",
       "      <td>16,200,000</td>\n",
       "    </tr>\n",
       "    <tr>\n",
       "      <td>19</td>\n",
       "      <td>13/08/2020</td>\n",
       "      <td>Eduvanz</td>\n",
       "      <td>Mumbai</td>\n",
       "      <td>Sequoia India, Unitus</td>\n",
       "      <td>FinTech</td>\n",
       "      <td>Financial Services</td>\n",
       "      <td>Series A</td>\n",
       "      <td>5,000,000</td>\n",
       "    </tr>\n",
       "    <tr>\n",
       "      <td>20</td>\n",
       "      <td>03/08/2020</td>\n",
       "      <td>CrowdPouch</td>\n",
       "      <td>Bangalore</td>\n",
       "      <td>Elina Investments Pvt. Ltd</td>\n",
       "      <td>FinTech</td>\n",
       "      <td>Financial Services</td>\n",
       "      <td>Angel</td>\n",
       "      <td>NA</td>\n",
       "    </tr>\n",
       "    <tr>\n",
       "      <td>21</td>\n",
       "      <td>04/08/2020</td>\n",
       "      <td>DrinkPrime</td>\n",
       "      <td>Bangalore</td>\n",
       "      <td>Sequoia Surge, ON Mauritius</td>\n",
       "      <td>Water Purification</td>\n",
       "      <td>Water Purification</td>\n",
       "      <td>Pre-Series A</td>\n",
       "      <td>2,880,000</td>\n",
       "    </tr>\n",
       "    <tr>\n",
       "      <td>22</td>\n",
       "      <td>08/09/2020</td>\n",
       "      <td>Byju’s</td>\n",
       "      <td>Bangalore</td>\n",
       "      <td>Silver Lake, Tiger Global, General Atlantic an...</td>\n",
       "      <td>EduTech</td>\n",
       "      <td>Online Tutoring</td>\n",
       "      <td>Private Equity</td>\n",
       "      <td>500,000,000</td>\n",
       "    </tr>\n",
       "    <tr>\n",
       "      <td>23</td>\n",
       "      <td>12/09/2020</td>\n",
       "      <td>mCaffeine</td>\n",
       "      <td>Mumbai</td>\n",
       "      <td>Amicus Capital Private Equity I LLP, Amicus Ca...</td>\n",
       "      <td>Personal Care</td>\n",
       "      <td>Skincare &amp; Haircare</td>\n",
       "      <td>Series B</td>\n",
       "      <td>3,000,000</td>\n",
       "    </tr>\n",
       "    <tr>\n",
       "      <td>24</td>\n",
       "      <td>09/09/2020</td>\n",
       "      <td>Qshala</td>\n",
       "      <td>Bangalore</td>\n",
       "      <td>Rainmatter Capital</td>\n",
       "      <td>EduTech</td>\n",
       "      <td>Online Curiosity Platform for Kids</td>\n",
       "      <td>Angel</td>\n",
       "      <td>370,000</td>\n",
       "    </tr>\n",
       "    <tr>\n",
       "      <td>25</td>\n",
       "      <td>02/09/2020</td>\n",
       "      <td>Winzo</td>\n",
       "      <td>New Delhi</td>\n",
       "      <td>Kalaari Capital Partners, IndigoEdge Managemen...</td>\n",
       "      <td>Online Gaming</td>\n",
       "      <td>Online Gaming</td>\n",
       "      <td>Series B</td>\n",
       "      <td>15,500,000</td>\n",
       "    </tr>\n",
       "    <tr>\n",
       "      <td>26</td>\n",
       "      <td>09/09/2020</td>\n",
       "      <td>Hippo Video</td>\n",
       "      <td>Newark, Delaware, United States of Amercia</td>\n",
       "      <td>Alpha Wave Incubation, Exfinity Venture Partne...</td>\n",
       "      <td>Video Customer Experience(CX) Platform</td>\n",
       "      <td>Video Customer Experience(CX) Platform</td>\n",
       "      <td>Series A</td>\n",
       "      <td>4,500,000</td>\n",
       "    </tr>\n",
       "    <tr>\n",
       "      <td>27</td>\n",
       "      <td>07/09/2020</td>\n",
       "      <td>Melorra</td>\n",
       "      <td>Bangalore</td>\n",
       "      <td>Shadow Holdings, Lightbox.</td>\n",
       "      <td>E-commerce</td>\n",
       "      <td>Online Jewelry Store</td>\n",
       "      <td>Debt Financing</td>\n",
       "      <td>upto 8,900,000</td>\n",
       "    </tr>\n",
       "    <tr>\n",
       "      <td>28</td>\n",
       "      <td>07/09/2020</td>\n",
       "      <td>1mg</td>\n",
       "      <td>Gurgaon</td>\n",
       "      <td>Gaja Capital, Tata Capital, Partners Group</td>\n",
       "      <td>E-commerce</td>\n",
       "      <td>Online Pharmacy</td>\n",
       "      <td>In Progress</td>\n",
       "      <td>100,000,000</td>\n",
       "    </tr>\n",
       "    <tr>\n",
       "      <td>29</td>\n",
       "      <td>31/08/2020</td>\n",
       "      <td>mfine</td>\n",
       "      <td>Bangalore</td>\n",
       "      <td>Caretech Pte Inc</td>\n",
       "      <td>HealthTech</td>\n",
       "      <td>On-Demand Healthcare Services</td>\n",
       "      <td>Series B</td>\n",
       "      <td>5,400,000</td>\n",
       "    </tr>\n",
       "    <tr>\n",
       "      <td>30</td>\n",
       "      <td>31/08/2020</td>\n",
       "      <td>Apna</td>\n",
       "      <td>Bangalore</td>\n",
       "      <td>Lightspeed India and Sequoia Capital India</td>\n",
       "      <td>Human Resources</td>\n",
       "      <td>Recruitment Platform</td>\n",
       "      <td>Series A</td>\n",
       "      <td>8,000,000</td>\n",
       "    </tr>\n",
       "    <tr>\n",
       "      <td>31</td>\n",
       "      <td>03/09/2020</td>\n",
       "      <td>Railofy</td>\n",
       "      <td>Mumbai</td>\n",
       "      <td>Chiratae Ventures</td>\n",
       "      <td>Transportation</td>\n",
       "      <td>WL &amp; RAC protection platform</td>\n",
       "      <td>Seed</td>\n",
       "      <td>950,000</td>\n",
       "    </tr>\n",
       "    <tr>\n",
       "      <td>32</td>\n",
       "      <td>08/09/2020</td>\n",
       "      <td>Cell Propulsion</td>\n",
       "      <td>Bangalore</td>\n",
       "      <td>growX Ventures and Micelio</td>\n",
       "      <td>Automobile</td>\n",
       "      <td>Electric Mobility Solutions</td>\n",
       "      <td>pre-Series A</td>\n",
       "      <td>NA</td>\n",
       "    </tr>\n",
       "  </tbody>\n",
       "</table>\n",
       "</div>"
      ],
      "text/plain": [
       "          Date               Startup_Name  \\\n",
       "0   15/07/2020                   Flipkart   \n",
       "1   16/07/2020                    Vedantu   \n",
       "2   16/07/2020                       Crio   \n",
       "3   14/07/2020                    goDutch   \n",
       "4   13/07/2020                   Mystifly   \n",
       "5   09/07/2020               JetSynthesys   \n",
       "6   10/07/2020                   gigIndia   \n",
       "7   15/07/2020                  PumPumPum   \n",
       "8   14/07/2020                       FLYX   \n",
       "9   13/07/2020  Open Appliances Pvt. Ltd.   \n",
       "10  15/08/2020                     Practo   \n",
       "11  13/08/2020                    Medlife   \n",
       "12  13/08/2020                  HungerBox   \n",
       "13  04/08/2020                      Dunzo   \n",
       "14  11/08/2020                   Terra.do   \n",
       "15  12/08/2020                  Classplus   \n",
       "16  14/08/2020                       Niyo   \n",
       "17  10/08/2020                  ZestMoney   \n",
       "18  07/08/2020                FreshToHome   \n",
       "19  13/08/2020                    Eduvanz   \n",
       "20  03/08/2020                 CrowdPouch   \n",
       "21  04/08/2020                 DrinkPrime   \n",
       "22  08/09/2020                     Byju’s   \n",
       "23  12/09/2020                  mCaffeine   \n",
       "24  09/09/2020                     Qshala   \n",
       "25  02/09/2020                      Winzo   \n",
       "26  09/09/2020                Hippo Video   \n",
       "27  07/09/2020                    Melorra   \n",
       "28  07/09/2020                        1mg   \n",
       "29  31/08/2020                      mfine   \n",
       "30  31/08/2020                       Apna   \n",
       "31  03/09/2020                    Railofy   \n",
       "32  08/09/2020            Cell Propulsion   \n",
       "\n",
       "                                      Location  \\\n",
       "0                                    Bangalore   \n",
       "1                                    Bangalore   \n",
       "2                                    Bangalore   \n",
       "3                                       Mumbai   \n",
       "4                      Singapore and Bangalore   \n",
       "5                                         Pune   \n",
       "6                                         Pune   \n",
       "7                                      Gurgaon   \n",
       "8                           New York and Delhi   \n",
       "9                                    Bangalore   \n",
       "10                                   Bangalore   \n",
       "11                                   Bangalore   \n",
       "12                                   Bangalore   \n",
       "13                                   Bangalore   \n",
       "14                       Stanford, California,   \n",
       "15                                       Noida   \n",
       "16                                   Bangalore   \n",
       "17                                   Bangalore   \n",
       "18                                   Bangalore   \n",
       "19                                      Mumbai   \n",
       "20                                   Bangalore   \n",
       "21                                   Bangalore   \n",
       "22                                   Bangalore   \n",
       "23                                      Mumbai   \n",
       "24                                   Bangalore   \n",
       "25                                   New Delhi   \n",
       "26  Newark, Delaware, United States of Amercia   \n",
       "27                                   Bangalore   \n",
       "28                                     Gurgaon   \n",
       "29                                   Bangalore   \n",
       "30                                   Bangalore   \n",
       "31                                      Mumbai   \n",
       "32                                   Bangalore   \n",
       "\n",
       "                                             Investor  \\\n",
       "0                                         Walmart Inc   \n",
       "1                                   Coatue Management   \n",
       "2                                         021 Capital   \n",
       "3   Matrix India,Y Combinator, Global Founders Cap...   \n",
       "4                                    Recruit Co. Ltd.   \n",
       "5            Adar Poonawalla and Kris Gopalakrishnan.   \n",
       "6        Incubate Fund India and Beyond Next Ventures   \n",
       "7                            Early Adapters Syndicate   \n",
       "8               Raj Mishra, founder of AIT Global Inc   \n",
       "9                              Unicorn India Ventures   \n",
       "10                                        A1A Company   \n",
       "11         Prasid Uno Family Trust and SC Credit Fund   \n",
       "12  One97, Sabre Partners Trust, Pratithi Investme...   \n",
       "13                                   Existing Backers   \n",
       "14  Stanford Angels and Entrepreneurs (India), BEE...   \n",
       "15                                        Falcon Edge   \n",
       "16                                Niyo Solutions Inc.   \n",
       "17                            Primrose Hills Ventures   \n",
       "18                                     Ascent Capital   \n",
       "19                              Sequoia India, Unitus   \n",
       "20                         Elina Investments Pvt. Ltd   \n",
       "21                        Sequoia Surge, ON Mauritius   \n",
       "22  Silver Lake, Tiger Global, General Atlantic an...   \n",
       "23  Amicus Capital Private Equity I LLP, Amicus Ca...   \n",
       "24                                 Rainmatter Capital   \n",
       "25  Kalaari Capital Partners, IndigoEdge Managemen...   \n",
       "26  Alpha Wave Incubation, Exfinity Venture Partne...   \n",
       "27                         Shadow Holdings, Lightbox.   \n",
       "28         Gaja Capital, Tata Capital, Partners Group   \n",
       "29                                   Caretech Pte Inc   \n",
       "30         Lightspeed India and Sequoia Capital India   \n",
       "31                                  Chiratae Ventures   \n",
       "32                         growX Ventures and Micelio   \n",
       "\n",
       "                         Industry_Vertical  \\\n",
       "0                               E-commerce   \n",
       "1                                  EduTech   \n",
       "2                                  EduTech   \n",
       "3                                  FinTech   \n",
       "4                      Airfare Marketplace   \n",
       "5                 Gaming and Entertainment   \n",
       "6                              Marketplace   \n",
       "7                        Automotive Rental   \n",
       "8                               OTT Player   \n",
       "9                   Information Technology   \n",
       "10                              HealthTech   \n",
       "11                              E-commerce   \n",
       "12                                FoodTech   \n",
       "13                   Hyper-local Logistics   \n",
       "14                                 EduTech   \n",
       "15                                 EduTech   \n",
       "16                                 FinTech   \n",
       "17                                 FinTech   \n",
       "18                              E-commerce   \n",
       "19                                 FinTech   \n",
       "20                                 FinTech   \n",
       "21                      Water Purification   \n",
       "22                                 EduTech   \n",
       "23                           Personal Care   \n",
       "24                                 EduTech   \n",
       "25                           Online Gaming   \n",
       "26  Video Customer Experience(CX) Platform   \n",
       "27                              E-commerce   \n",
       "28                              E-commerce   \n",
       "29                              HealthTech   \n",
       "30                         Human Resources   \n",
       "31                          Transportation   \n",
       "32                              Automobile   \n",
       "\n",
       "                                         Sub_Vertical         Investment_Type  \\\n",
       "0                                          E-commerce                     M&A   \n",
       "1                                     Online Tutoring                Series D   \n",
       "2                    Learning Platform for Developers            pre-Series A   \n",
       "3                                      Group Payments                    Seed   \n",
       "4   Ticketing, Airline Retailing, and Post-Ticketi...            pre-Series B   \n",
       "5                            Gaming and Entertainment  Venture-Series Unknown   \n",
       "6                           Crowd Sourcing, Freelance            pre-Series A   \n",
       "7                           Used Car-leasing platform                    Seed   \n",
       "8                            Streaming Social Network                pre-Seed   \n",
       "9               Internet-of-Things Security Solutions  Venture-Series Unknown   \n",
       "10                           Health care and Wellness                Series F   \n",
       "11                                    Online Pharmacy                           \n",
       "12                       Online Food Delivery Service               Series D1   \n",
       "13                           Online Delivery Services             In Progress   \n",
       "14                  Online Climate School, E-learning                    Seed   \n",
       "15                        E-learning, Online Tutoring             In Progress   \n",
       "16                                 Financial Services                           \n",
       "17                                 Financial Services                           \n",
       "18                                      Food Delivery                 Venture   \n",
       "19                                 Financial Services                Series A   \n",
       "20                                 Financial Services                   Angel   \n",
       "21                                 Water Purification            Pre-Series A   \n",
       "22                                    Online Tutoring          Private Equity   \n",
       "23                                Skincare & Haircare                Series B   \n",
       "24                 Online Curiosity Platform for Kids                   Angel   \n",
       "25                                      Online Gaming                Series B   \n",
       "26             Video Customer Experience(CX) Platform                Series A   \n",
       "27                               Online Jewelry Store          Debt Financing   \n",
       "28                                    Online Pharmacy             In Progress   \n",
       "29                      On-Demand Healthcare Services                Series B   \n",
       "30                               Recruitment Platform                Series A   \n",
       "31                       WL & RAC protection platform                    Seed   \n",
       "32                        Electric Mobility Solutions            pre-Series A   \n",
       "\n",
       "      Amount_In_USD  \n",
       "0     1,200,000,000  \n",
       "1       100,000,000  \n",
       "2           934,160  \n",
       "3         1,700,000  \n",
       "4         3,300,000  \n",
       "5           400,000  \n",
       "6           974,200  \n",
       "7           292,800  \n",
       "8           200,000  \n",
       "9           500,000  \n",
       "10       32,000,000  \n",
       "11       23,000,000  \n",
       "12        1,560,000  \n",
       "13       30,000,000  \n",
       "14        1,400,000  \n",
       "15  upto 15,000,000  \n",
       "16        6,000,000  \n",
       "17       10,670,000  \n",
       "18       16,200,000  \n",
       "19        5,000,000  \n",
       "20               NA  \n",
       "21        2,880,000  \n",
       "22      500,000,000  \n",
       "23        3,000,000  \n",
       "24          370,000  \n",
       "25       15,500,000  \n",
       "26        4,500,000  \n",
       "27   upto 8,900,000  \n",
       "28      100,000,000  \n",
       "29        5,400,000  \n",
       "30        8,000,000  \n",
       "31          950,000  \n",
       "32               NA  "
      ]
     },
     "execution_count": 147,
     "metadata": {},
     "output_type": "execute_result"
    }
   ],
   "source": [
    "# Final DataFrame.\n",
    "Funds_DataFrame"
   ]
  },
  {
   "cell_type": "code",
   "execution_count": null,
   "metadata": {},
   "outputs": [],
   "source": []
  }
 ],
 "metadata": {
  "kernelspec": {
   "display_name": "Python 3",
   "language": "python",
   "name": "python3"
  },
  "language_info": {
   "codemirror_mode": {
    "name": "ipython",
    "version": 3
   },
   "file_extension": ".py",
   "mimetype": "text/x-python",
   "name": "python",
   "nbconvert_exporter": "python",
   "pygments_lexer": "ipython3",
   "version": "3.7.6"
  }
 },
 "nbformat": 4,
 "nbformat_minor": 2
}
