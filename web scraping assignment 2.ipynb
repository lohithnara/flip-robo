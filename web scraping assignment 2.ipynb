{
 "cells": [
  {
   "cell_type": "markdown",
   "metadata": {},
   "source": [
    "# Question No:1"
   ]
  },
  {
   "cell_type": "code",
   "execution_count": 1,
   "metadata": {},
   "outputs": [],
   "source": [
    "# Importing essential libraries.\n",
    "import selenium\n",
    "from selenium import webdriver"
   ]
  },
  {
   "cell_type": "code",
   "execution_count": 2,
   "metadata": {},
   "outputs": [],
   "source": [
    "# Configure the webdriver.\n",
    "driver = webdriver.Chrome('/Users/nlohith/Desktop/chromedriver')"
   ]
  },
  {
   "cell_type": "code",
   "execution_count": 3,
   "metadata": {},
   "outputs": [],
   "source": [
    "# Get the URL link.\n",
    "driver.get('https://www.naukri.com')"
   ]
  },
  {
   "cell_type": "code",
   "execution_count": 4,
   "metadata": {},
   "outputs": [],
   "source": [
    "# Creating empty lists for scraping data.\n",
    "job_title=[]\n",
    "job_location=[]\n",
    "company_name=[]\n",
    "experience_required=[]"
   ]
  },
  {
   "cell_type": "code",
   "execution_count": 38,
   "metadata": {},
   "outputs": [],
   "source": [
    "# Scraping the job-titles.\n",
    "Job_Title=driver.find_elements_by_xpath(\"//a[@class='title fw500 ellipsis']\")"
   ]
  },
  {
   "cell_type": "code",
   "execution_count": 39,
   "metadata": {},
   "outputs": [
    {
     "data": {
      "text/plain": [
       "[<selenium.webdriver.remote.webelement.WebElement (session=\"7aa33c19046c5d09de7d9b551cf1abb1\", element=\"dbf9e35b-46be-4c5a-8a1f-d8434e8180c5\")>,\n",
       " <selenium.webdriver.remote.webelement.WebElement (session=\"7aa33c19046c5d09de7d9b551cf1abb1\", element=\"6c814719-2ea5-46cd-84ce-4720edc2f5ec\")>,\n",
       " <selenium.webdriver.remote.webelement.WebElement (session=\"7aa33c19046c5d09de7d9b551cf1abb1\", element=\"2ba27079-d219-41ce-8eeb-f1e1a73f8d14\")>,\n",
       " <selenium.webdriver.remote.webelement.WebElement (session=\"7aa33c19046c5d09de7d9b551cf1abb1\", element=\"17ea4503-a24c-47cb-bfd2-9dfd918db2cd\")>,\n",
       " <selenium.webdriver.remote.webelement.WebElement (session=\"7aa33c19046c5d09de7d9b551cf1abb1\", element=\"28c2c44c-260b-46a0-9f81-512339a294cb\")>]"
      ]
     },
     "execution_count": 39,
     "metadata": {},
     "output_type": "execute_result"
    }
   ],
   "source": [
    "Job_Title[:5]"
   ]
  },
  {
   "cell_type": "code",
   "execution_count": 40,
   "metadata": {},
   "outputs": [],
   "source": [
    "for i in Job_Title:\n",
    "    title=i.text\n",
    "    job_title.append(title)"
   ]
  },
  {
   "cell_type": "code",
   "execution_count": 41,
   "metadata": {},
   "outputs": [
    {
     "data": {
      "text/plain": [
       "['Data Scientist/Data Analyst-immediate',\n",
       " 'Immediate openings For MIS executive /Data analyst For Bangalore',\n",
       " 'Data Analyst',\n",
       " 'Data Analyst',\n",
       " 'Data Analyst',\n",
       " 'Data Analyst',\n",
       " 'Procurement Data Analyst ( 0.6 To 3 Yrs, Bangalore)',\n",
       " 'ID&A - Data Analyst - Informatica MDM',\n",
       " 'Data Analyst',\n",
       " 'Data Analyst']"
      ]
     },
     "execution_count": 41,
     "metadata": {},
     "output_type": "execute_result"
    }
   ],
   "source": [
    "# First ten job_titles.\n",
    "job_title[:10]"
   ]
  },
  {
   "cell_type": "code",
   "execution_count": 42,
   "metadata": {},
   "outputs": [],
   "source": [
    "# Scraping the job-location.\n",
    "Job_Location=driver.find_elements_by_xpath(\"//li[@class='fleft grey-text br2 placeHolderLi location']/span[1]\")"
   ]
  },
  {
   "cell_type": "code",
   "execution_count": 43,
   "metadata": {},
   "outputs": [
    {
     "data": {
      "text/plain": [
       "[<selenium.webdriver.remote.webelement.WebElement (session=\"7aa33c19046c5d09de7d9b551cf1abb1\", element=\"c4286ac4-a80f-413b-887e-c518cf79dfc1\")>,\n",
       " <selenium.webdriver.remote.webelement.WebElement (session=\"7aa33c19046c5d09de7d9b551cf1abb1\", element=\"3385b15d-e6ca-4db0-910a-79db29b0611c\")>,\n",
       " <selenium.webdriver.remote.webelement.WebElement (session=\"7aa33c19046c5d09de7d9b551cf1abb1\", element=\"0ce04fbd-103f-4264-911a-1c03a8af8443\")>,\n",
       " <selenium.webdriver.remote.webelement.WebElement (session=\"7aa33c19046c5d09de7d9b551cf1abb1\", element=\"ced0a6df-5d0f-4144-9973-062e019de101\")>,\n",
       " <selenium.webdriver.remote.webelement.WebElement (session=\"7aa33c19046c5d09de7d9b551cf1abb1\", element=\"548001a1-e239-48a6-bfd3-bf7b72f7de8c\")>]"
      ]
     },
     "execution_count": 43,
     "metadata": {},
     "output_type": "execute_result"
    }
   ],
   "source": [
    "Job_Location[:5]"
   ]
  },
  {
   "cell_type": "code",
   "execution_count": 44,
   "metadata": {},
   "outputs": [],
   "source": [
    "for i in Job_Location:\n",
    "    location=i.text\n",
    "    job_location.append(location)"
   ]
  },
  {
   "cell_type": "code",
   "execution_count": 45,
   "metadata": {},
   "outputs": [
    {
     "data": {
      "text/plain": [
       "['Chennai, Pune, Bengaluru, Hyderabad',\n",
       " 'Bengaluru',\n",
       " 'Bengaluru',\n",
       " 'Mumbai, Bengaluru, Hyderabad',\n",
       " 'Bengaluru',\n",
       " 'Bengaluru',\n",
       " 'Bengaluru(Koramangala)',\n",
       " 'Bengaluru',\n",
       " 'Bengaluru',\n",
       " 'Bengaluru, Kolkata']"
      ]
     },
     "execution_count": 45,
     "metadata": {},
     "output_type": "execute_result"
    }
   ],
   "source": [
    "# First ten job_locations.\n",
    "job_location[:10]"
   ]
  },
  {
   "cell_type": "code",
   "execution_count": 46,
   "metadata": {},
   "outputs": [],
   "source": [
    "# Scraping the company_name.\n",
    "Company_Name=driver.find_elements_by_xpath(\"//div[@class='mt-7 companyInfo subheading lh16']/a\")"
   ]
  },
  {
   "cell_type": "code",
   "execution_count": 47,
   "metadata": {},
   "outputs": [
    {
     "data": {
      "text/plain": [
       "[<selenium.webdriver.remote.webelement.WebElement (session=\"7aa33c19046c5d09de7d9b551cf1abb1\", element=\"71b9b4e1-721b-4871-a07e-cc90657210eb\")>,\n",
       " <selenium.webdriver.remote.webelement.WebElement (session=\"7aa33c19046c5d09de7d9b551cf1abb1\", element=\"8db6acf6-eef8-431f-8145-d190518f03af\")>,\n",
       " <selenium.webdriver.remote.webelement.WebElement (session=\"7aa33c19046c5d09de7d9b551cf1abb1\", element=\"89f4b742-a743-4080-9aac-e362542c7235\")>,\n",
       " <selenium.webdriver.remote.webelement.WebElement (session=\"7aa33c19046c5d09de7d9b551cf1abb1\", element=\"f7ca307c-fa8d-4a8a-9827-af3adc5ed7e3\")>,\n",
       " <selenium.webdriver.remote.webelement.WebElement (session=\"7aa33c19046c5d09de7d9b551cf1abb1\", element=\"c6ac29b2-a735-4070-a70e-10f321f30d82\")>]"
      ]
     },
     "execution_count": 47,
     "metadata": {},
     "output_type": "execute_result"
    }
   ],
   "source": [
    "Company_Name[:5]"
   ]
  },
  {
   "cell_type": "code",
   "execution_count": 48,
   "metadata": {},
   "outputs": [],
   "source": [
    "for i in Company_Name:\n",
    "    comname=i.text\n",
    "    company_name.append(comname)"
   ]
  },
  {
   "cell_type": "code",
   "execution_count": 49,
   "metadata": {},
   "outputs": [
    {
     "data": {
      "text/plain": [
       "['CAIA-Center For Artificial Intelligence & Advanced Analytics',\n",
       " 'RANDSTAD INDIA PVT LTD',\n",
       " '(924 Reviews)',\n",
       " 'Applied Materials',\n",
       " '(81 Reviews)',\n",
       " 'Cognizant Technology Solutions India Pvt Ltd',\n",
       " '(13488 Reviews)',\n",
       " 'St. John’s Research Institute',\n",
       " '(17 Reviews)',\n",
       " 'Siemens Limited']"
      ]
     },
     "execution_count": 49,
     "metadata": {},
     "output_type": "execute_result"
    }
   ],
   "source": [
    "# First ten companies.\n",
    "company_name[:10]"
   ]
  },
  {
   "cell_type": "code",
   "execution_count": 50,
   "metadata": {},
   "outputs": [],
   "source": [
    "# Scraping the experience_required.\n",
    "Experience_Required=driver.find_elements_by_xpath(\"//li[@class='fleft grey-text br2 placeHolderLi experience']/span[1]\")"
   ]
  },
  {
   "cell_type": "code",
   "execution_count": 51,
   "metadata": {},
   "outputs": [
    {
     "data": {
      "text/plain": [
       "[<selenium.webdriver.remote.webelement.WebElement (session=\"7aa33c19046c5d09de7d9b551cf1abb1\", element=\"da1cc226-7d1a-49e0-87ed-3d5082306e5f\")>,\n",
       " <selenium.webdriver.remote.webelement.WebElement (session=\"7aa33c19046c5d09de7d9b551cf1abb1\", element=\"064cc0ab-9093-4896-9ee8-02531fb31880\")>,\n",
       " <selenium.webdriver.remote.webelement.WebElement (session=\"7aa33c19046c5d09de7d9b551cf1abb1\", element=\"d8f5b2c5-494a-475c-b5b9-063dd3721663\")>,\n",
       " <selenium.webdriver.remote.webelement.WebElement (session=\"7aa33c19046c5d09de7d9b551cf1abb1\", element=\"0360aff4-cd3f-4230-9c3e-0c2ea0277caf\")>,\n",
       " <selenium.webdriver.remote.webelement.WebElement (session=\"7aa33c19046c5d09de7d9b551cf1abb1\", element=\"87108e17-9af2-4c1b-9983-3dea08091f9b\")>]"
      ]
     },
     "execution_count": 51,
     "metadata": {},
     "output_type": "execute_result"
    }
   ],
   "source": [
    "Experience_Required[:5]"
   ]
  },
  {
   "cell_type": "code",
   "execution_count": 52,
   "metadata": {},
   "outputs": [],
   "source": [
    "for i in Experience_Required:\n",
    "    experience=i.text\n",
    "    experience_required.append(experience)"
   ]
  },
  {
   "cell_type": "code",
   "execution_count": 53,
   "metadata": {},
   "outputs": [
    {
     "data": {
      "text/plain": [
       "['0-3 Yrs',\n",
       " '3-8 Yrs',\n",
       " '6-11 Yrs',\n",
       " '2-3 Yrs',\n",
       " '0-4 Yrs',\n",
       " '0-3 Yrs',\n",
       " '0-3 Yrs',\n",
       " '6-9 Yrs',\n",
       " '2-7 Yrs',\n",
       " '3-4 Yrs']"
      ]
     },
     "execution_count": 53,
     "metadata": {},
     "output_type": "execute_result"
    }
   ],
   "source": [
    "# years of experince_required.\n",
    "experience_required[:10]"
   ]
  },
  {
   "cell_type": "code",
   "execution_count": 54,
   "metadata": {},
   "outputs": [
    {
     "data": {
      "text/html": [
       "<div>\n",
       "<style scoped>\n",
       "    .dataframe tbody tr th:only-of-type {\n",
       "        vertical-align: middle;\n",
       "    }\n",
       "\n",
       "    .dataframe tbody tr th {\n",
       "        vertical-align: top;\n",
       "    }\n",
       "\n",
       "    .dataframe thead th {\n",
       "        text-align: right;\n",
       "    }\n",
       "</style>\n",
       "<table border=\"1\" class=\"dataframe\">\n",
       "  <thead>\n",
       "    <tr style=\"text-align: right;\">\n",
       "      <th></th>\n",
       "      <th>job_title</th>\n",
       "      <th>job_location</th>\n",
       "      <th>company_name</th>\n",
       "      <th>experience_required</th>\n",
       "    </tr>\n",
       "  </thead>\n",
       "  <tbody>\n",
       "    <tr>\n",
       "      <th>0</th>\n",
       "      <td>Data Scientist/Data Analyst-immediate</td>\n",
       "      <td>Chennai, Pune, Bengaluru, Hyderabad</td>\n",
       "      <td>CAIA-Center For Artificial Intelligence &amp; Adva...</td>\n",
       "      <td>0-3 Yrs</td>\n",
       "    </tr>\n",
       "    <tr>\n",
       "      <th>1</th>\n",
       "      <td>Immediate openings For MIS executive /Data ana...</td>\n",
       "      <td>Bengaluru</td>\n",
       "      <td>RANDSTAD INDIA PVT LTD</td>\n",
       "      <td>3-8 Yrs</td>\n",
       "    </tr>\n",
       "    <tr>\n",
       "      <th>2</th>\n",
       "      <td>Data Analyst</td>\n",
       "      <td>Bengaluru</td>\n",
       "      <td>(924 Reviews)</td>\n",
       "      <td>6-11 Yrs</td>\n",
       "    </tr>\n",
       "    <tr>\n",
       "      <th>3</th>\n",
       "      <td>Data Analyst</td>\n",
       "      <td>Mumbai, Bengaluru, Hyderabad</td>\n",
       "      <td>Applied Materials</td>\n",
       "      <td>2-3 Yrs</td>\n",
       "    </tr>\n",
       "    <tr>\n",
       "      <th>4</th>\n",
       "      <td>Data Analyst</td>\n",
       "      <td>Bengaluru</td>\n",
       "      <td>(81 Reviews)</td>\n",
       "      <td>0-4 Yrs</td>\n",
       "    </tr>\n",
       "    <tr>\n",
       "      <th>5</th>\n",
       "      <td>Data Analyst</td>\n",
       "      <td>Bengaluru</td>\n",
       "      <td>Cognizant Technology Solutions India Pvt Ltd</td>\n",
       "      <td>0-3 Yrs</td>\n",
       "    </tr>\n",
       "    <tr>\n",
       "      <th>6</th>\n",
       "      <td>Procurement Data Analyst ( 0.6 To 3 Yrs, Banga...</td>\n",
       "      <td>Bengaluru(Koramangala)</td>\n",
       "      <td>(13488 Reviews)</td>\n",
       "      <td>0-3 Yrs</td>\n",
       "    </tr>\n",
       "    <tr>\n",
       "      <th>7</th>\n",
       "      <td>ID&amp;A - Data Analyst - Informatica MDM</td>\n",
       "      <td>Bengaluru</td>\n",
       "      <td>St. John’s Research Institute</td>\n",
       "      <td>6-9 Yrs</td>\n",
       "    </tr>\n",
       "    <tr>\n",
       "      <th>8</th>\n",
       "      <td>Data Analyst</td>\n",
       "      <td>Bengaluru</td>\n",
       "      <td>(17 Reviews)</td>\n",
       "      <td>2-7 Yrs</td>\n",
       "    </tr>\n",
       "    <tr>\n",
       "      <th>9</th>\n",
       "      <td>Data Analyst</td>\n",
       "      <td>Bengaluru, Kolkata</td>\n",
       "      <td>Siemens Limited</td>\n",
       "      <td>3-4 Yrs</td>\n",
       "    </tr>\n",
       "  </tbody>\n",
       "</table>\n",
       "</div>"
      ],
      "text/plain": [
       "                                           job_title  \\\n",
       "0              Data Scientist/Data Analyst-immediate   \n",
       "1  Immediate openings For MIS executive /Data ana...   \n",
       "2                                       Data Analyst   \n",
       "3                                       Data Analyst   \n",
       "4                                       Data Analyst   \n",
       "5                                       Data Analyst   \n",
       "6  Procurement Data Analyst ( 0.6 To 3 Yrs, Banga...   \n",
       "7              ID&A - Data Analyst - Informatica MDM   \n",
       "8                                       Data Analyst   \n",
       "9                                       Data Analyst   \n",
       "\n",
       "                          job_location  \\\n",
       "0  Chennai, Pune, Bengaluru, Hyderabad   \n",
       "1                            Bengaluru   \n",
       "2                            Bengaluru   \n",
       "3         Mumbai, Bengaluru, Hyderabad   \n",
       "4                            Bengaluru   \n",
       "5                            Bengaluru   \n",
       "6               Bengaluru(Koramangala)   \n",
       "7                            Bengaluru   \n",
       "8                            Bengaluru   \n",
       "9                   Bengaluru, Kolkata   \n",
       "\n",
       "                                        company_name experience_required  \n",
       "0  CAIA-Center For Artificial Intelligence & Adva...             0-3 Yrs  \n",
       "1                             RANDSTAD INDIA PVT LTD             3-8 Yrs  \n",
       "2                                      (924 Reviews)            6-11 Yrs  \n",
       "3                                  Applied Materials             2-3 Yrs  \n",
       "4                                       (81 Reviews)             0-4 Yrs  \n",
       "5       Cognizant Technology Solutions India Pvt Ltd             0-3 Yrs  \n",
       "6                                    (13488 Reviews)             0-3 Yrs  \n",
       "7                      St. John’s Research Institute             6-9 Yrs  \n",
       "8                                       (17 Reviews)             2-7 Yrs  \n",
       "9                                    Siemens Limited             3-4 Yrs  "
      ]
     },
     "execution_count": 54,
     "metadata": {},
     "output_type": "execute_result"
    }
   ],
   "source": [
    "# Creating a dataframe object to store the scrapped data.\n",
    "import pandas as pd\n",
    "df=pd.DataFrame({'job_title':job_title[0:10],'job_location':job_location[0:10],'company_name':company_name[0:10],'experience_required':experience_required[0:10]})\n",
    "df.head(10)"
   ]
  },
  {
   "cell_type": "markdown",
   "metadata": {},
   "source": [
    "# Question No:2"
   ]
  },
  {
   "cell_type": "code",
   "execution_count": 24,
   "metadata": {},
   "outputs": [],
   "source": [
    "# Importing essential libraries.\n",
    "import selenium\n",
    "from selenium import webdriver\n",
    "# Configure the webdriver.\n",
    "driver = webdriver.Chrome('/Users/nlohith/Desktop/chromedriver')"
   ]
  },
  {
   "cell_type": "code",
   "execution_count": 25,
   "metadata": {},
   "outputs": [],
   "source": [
    "# Get the URL link.\n",
    "driver.get('https://www.naukri.com')"
   ]
  },
  {
   "cell_type": "code",
   "execution_count": 26,
   "metadata": {},
   "outputs": [],
   "source": [
    "# Creating empty lists for scraping data.\n",
    "job_title=[]\n",
    "job_location=[]\n",
    "company_name=[]\n",
    "job_description=[]"
   ]
  },
  {
   "cell_type": "code",
   "execution_count": 27,
   "metadata": {},
   "outputs": [],
   "source": [
    "# Scraping the job-titles.\n",
    "Job_Title=driver.find_elements_by_xpath(\"//a[@class='title fw500 ellipsis']\")"
   ]
  },
  {
   "cell_type": "code",
   "execution_count": 28,
   "metadata": {},
   "outputs": [
    {
     "data": {
      "text/plain": [
       "[<selenium.webdriver.remote.webelement.WebElement (session=\"71370fe9960519a8069e66014eb62574\", element=\"2b5cdbbc-bbe9-497e-86ac-ce4e73853e7c\")>,\n",
       " <selenium.webdriver.remote.webelement.WebElement (session=\"71370fe9960519a8069e66014eb62574\", element=\"594edec2-17ce-4e97-824d-ffed4d1f3e24\")>,\n",
       " <selenium.webdriver.remote.webelement.WebElement (session=\"71370fe9960519a8069e66014eb62574\", element=\"ce9c0718-acd9-4ce9-a2d0-d2358f3c7ec6\")>,\n",
       " <selenium.webdriver.remote.webelement.WebElement (session=\"71370fe9960519a8069e66014eb62574\", element=\"42f18d12-8be3-40ad-9929-a24acebfa055\")>,\n",
       " <selenium.webdriver.remote.webelement.WebElement (session=\"71370fe9960519a8069e66014eb62574\", element=\"ac4c23d3-1b20-4a78-8aca-7ce53f99b388\")>]"
      ]
     },
     "execution_count": 28,
     "metadata": {},
     "output_type": "execute_result"
    }
   ],
   "source": [
    "Job_Title[:5]"
   ]
  },
  {
   "cell_type": "code",
   "execution_count": 29,
   "metadata": {},
   "outputs": [],
   "source": [
    "for i in Job_Title:\n",
    "    title=i.text\n",
    "    job_title.append(title)"
   ]
  },
  {
   "cell_type": "code",
   "execution_count": 30,
   "metadata": {},
   "outputs": [
    {
     "data": {
      "text/plain": [
       "['Data Scientist/Data Analyst-immediate',\n",
       " 'HCL hiring Data scientist with exp in machine learning &SQL-Bangalore!',\n",
       " 'Data Scientist - Machine Learning',\n",
       " 'Data Scientist - Machine Learning',\n",
       " 'Data Scientist - Machine Learning',\n",
       " 'Senior Data Scientist',\n",
       " 'Software Developer - Data Scientist / NLP / Machine Learning',\n",
       " 'Data Scientist - Machine Learning - Remote Working',\n",
       " 'Data Scientist',\n",
       " 'Data Scientist (Healthcare/Pharma Domain preferred)']"
      ]
     },
     "execution_count": 30,
     "metadata": {},
     "output_type": "execute_result"
    }
   ],
   "source": [
    "job_title[:10]"
   ]
  },
  {
   "cell_type": "code",
   "execution_count": 31,
   "metadata": {},
   "outputs": [],
   "source": [
    "# Scraping the job_location.\n",
    "Job_Location=driver.find_elements_by_xpath(\"//li[@class='fleft grey-text br2 placeHolderLi location']/span[1]\")"
   ]
  },
  {
   "cell_type": "code",
   "execution_count": 32,
   "metadata": {},
   "outputs": [
    {
     "data": {
      "text/plain": [
       "[<selenium.webdriver.remote.webelement.WebElement (session=\"71370fe9960519a8069e66014eb62574\", element=\"ce8433f6-900f-47a7-b4d8-ef938bf81555\")>,\n",
       " <selenium.webdriver.remote.webelement.WebElement (session=\"71370fe9960519a8069e66014eb62574\", element=\"177465e0-c96e-49f4-90e7-36f8d9753133\")>,\n",
       " <selenium.webdriver.remote.webelement.WebElement (session=\"71370fe9960519a8069e66014eb62574\", element=\"a9533cb5-b127-49ac-b590-ee57e9f9cad3\")>,\n",
       " <selenium.webdriver.remote.webelement.WebElement (session=\"71370fe9960519a8069e66014eb62574\", element=\"ace09151-1808-4a43-a808-1cd31e8e7c11\")>,\n",
       " <selenium.webdriver.remote.webelement.WebElement (session=\"71370fe9960519a8069e66014eb62574\", element=\"6b5069f5-078b-49be-9238-a2e52318008c\")>]"
      ]
     },
     "execution_count": 32,
     "metadata": {},
     "output_type": "execute_result"
    }
   ],
   "source": [
    "Job_Location[:5]"
   ]
  },
  {
   "cell_type": "code",
   "execution_count": 33,
   "metadata": {},
   "outputs": [],
   "source": [
    "for i in Job_Location:\n",
    "    location=i.text\n",
    "    job_location.append(location)"
   ]
  },
  {
   "cell_type": "code",
   "execution_count": 34,
   "metadata": {},
   "outputs": [
    {
     "data": {
      "text/plain": [
       "['Chennai, Pune, Bengaluru, Hyderabad',\n",
       " 'Bengaluru',\n",
       " 'Bengaluru',\n",
       " 'Bengaluru',\n",
       " 'Bengaluru',\n",
       " 'Bengaluru',\n",
       " 'Bengaluru / Bangalore',\n",
       " 'Delhi NCR, Bengaluru, Anywhere in India',\n",
       " 'Bengaluru',\n",
       " 'Bengaluru']"
      ]
     },
     "execution_count": 34,
     "metadata": {},
     "output_type": "execute_result"
    }
   ],
   "source": [
    "job_location[:10]"
   ]
  },
  {
   "cell_type": "code",
   "execution_count": 35,
   "metadata": {},
   "outputs": [],
   "source": [
    "# Scraping the company_name.\n",
    "Company_Name=driver.find_elements_by_xpath(\"//div[@class='mt-7 companyInfo subheading lh16']/a\")"
   ]
  },
  {
   "cell_type": "code",
   "execution_count": 36,
   "metadata": {},
   "outputs": [
    {
     "data": {
      "text/plain": [
       "[<selenium.webdriver.remote.webelement.WebElement (session=\"71370fe9960519a8069e66014eb62574\", element=\"06a7adf5-1956-4744-9638-330fb1998944\")>,\n",
       " <selenium.webdriver.remote.webelement.WebElement (session=\"71370fe9960519a8069e66014eb62574\", element=\"ce50443b-d52f-435c-a175-727f204407f8\")>,\n",
       " <selenium.webdriver.remote.webelement.WebElement (session=\"71370fe9960519a8069e66014eb62574\", element=\"248fb9eb-11a3-4369-a772-1ee61b5bf254\")>,\n",
       " <selenium.webdriver.remote.webelement.WebElement (session=\"71370fe9960519a8069e66014eb62574\", element=\"8f666cbe-3e92-4e2c-806f-d2e48fd58401\")>,\n",
       " <selenium.webdriver.remote.webelement.WebElement (session=\"71370fe9960519a8069e66014eb62574\", element=\"78bff02f-7232-4569-a527-def79df68d45\")>]"
      ]
     },
     "execution_count": 36,
     "metadata": {},
     "output_type": "execute_result"
    }
   ],
   "source": [
    "Company_Name[:5]"
   ]
  },
  {
   "cell_type": "code",
   "execution_count": 37,
   "metadata": {},
   "outputs": [],
   "source": [
    "for i in Company_Name:\n",
    "    comname=i.text\n",
    "    company_name.append(comname)"
   ]
  },
  {
   "cell_type": "code",
   "execution_count": 38,
   "metadata": {},
   "outputs": [
    {
     "data": {
      "text/plain": [
       "['CAIA-Center For Artificial Intelligence & Advanced Analytics',\n",
       " 'HCL Technologies Limited',\n",
       " '(9595 Reviews)',\n",
       " 'AugmatrixGo',\n",
       " 'BLUE YONDER INDIA PRIVATE LIMITED',\n",
       " '(119 Reviews)',\n",
       " 'BLUE YONDER INDIA PRIVATE LIMITED',\n",
       " '(119 Reviews)',\n",
       " 'Philips India Limited',\n",
       " '(492 Reviews)']"
      ]
     },
     "execution_count": 38,
     "metadata": {},
     "output_type": "execute_result"
    }
   ],
   "source": [
    "company_name[:10]"
   ]
  },
  {
   "cell_type": "code",
   "execution_count": 41,
   "metadata": {},
   "outputs": [],
   "source": [
    "# Scraping the Job_description.\n",
    "Job_description=driver.find_elements_by_xpath(\"//div[@class='job-description fs12 grey-text']\")"
   ]
  },
  {
   "cell_type": "code",
   "execution_count": 42,
   "metadata": {},
   "outputs": [
    {
     "data": {
      "text/plain": [
       "[<selenium.webdriver.remote.webelement.WebElement (session=\"71370fe9960519a8069e66014eb62574\", element=\"6d6ddfd4-cffd-4975-a823-d9b7dd69e3b6\")>,\n",
       " <selenium.webdriver.remote.webelement.WebElement (session=\"71370fe9960519a8069e66014eb62574\", element=\"32d76305-c0f8-4034-bf74-7c00c024864a\")>]"
      ]
     },
     "execution_count": 42,
     "metadata": {},
     "output_type": "execute_result"
    }
   ],
   "source": [
    "Job_description[:2]"
   ]
  },
  {
   "cell_type": "code",
   "execution_count": 43,
   "metadata": {},
   "outputs": [],
   "source": [
    "for i in Job_description:\n",
    "    desc=i.text\n",
    "    job_description.append(desc)"
   ]
  },
  {
   "cell_type": "code",
   "execution_count": 44,
   "metadata": {},
   "outputs": [
    {
     "data": {
      "text/html": [
       "<div>\n",
       "<style scoped>\n",
       "    .dataframe tbody tr th:only-of-type {\n",
       "        vertical-align: middle;\n",
       "    }\n",
       "\n",
       "    .dataframe tbody tr th {\n",
       "        vertical-align: top;\n",
       "    }\n",
       "\n",
       "    .dataframe thead th {\n",
       "        text-align: right;\n",
       "    }\n",
       "</style>\n",
       "<table border=\"1\" class=\"dataframe\">\n",
       "  <thead>\n",
       "    <tr style=\"text-align: right;\">\n",
       "      <th></th>\n",
       "      <th>job_title</th>\n",
       "      <th>job_location</th>\n",
       "      <th>company_name</th>\n",
       "      <th>job_description</th>\n",
       "    </tr>\n",
       "  </thead>\n",
       "  <tbody>\n",
       "    <tr>\n",
       "      <th>0</th>\n",
       "      <td>Data Scientist/Data Analyst-immediate</td>\n",
       "      <td>Chennai, Pune, Bengaluru, Hyderabad</td>\n",
       "      <td>CAIA-Center For Artificial Intelligence &amp; Adva...</td>\n",
       "      <td>In case you are trying to shift your career to...</td>\n",
       "    </tr>\n",
       "    <tr>\n",
       "      <th>1</th>\n",
       "      <td>HCL hiring Data scientist with exp in machine ...</td>\n",
       "      <td>Bengaluru</td>\n",
       "      <td>HCL Technologies Limited</td>\n",
       "      <td>Experience of end to end implementation of pre...</td>\n",
       "    </tr>\n",
       "    <tr>\n",
       "      <th>2</th>\n",
       "      <td>Data Scientist - Machine Learning</td>\n",
       "      <td>Bengaluru</td>\n",
       "      <td>(9595 Reviews)</td>\n",
       "      <td>BTech / MTech degree in from reputed institute...</td>\n",
       "    </tr>\n",
       "    <tr>\n",
       "      <th>3</th>\n",
       "      <td>Data Scientist - Machine Learning</td>\n",
       "      <td>Bengaluru</td>\n",
       "      <td>AugmatrixGo</td>\n",
       "      <td>Roles and ResponsibilitiesUnder guidance, or i...</td>\n",
       "    </tr>\n",
       "    <tr>\n",
       "      <th>4</th>\n",
       "      <td>Data Scientist - Machine Learning</td>\n",
       "      <td>Bengaluru</td>\n",
       "      <td>BLUE YONDER INDIA PRIVATE LIMITED</td>\n",
       "      <td>Experience working with some of the following ...</td>\n",
       "    </tr>\n",
       "    <tr>\n",
       "      <th>5</th>\n",
       "      <td>Senior Data Scientist</td>\n",
       "      <td>Bengaluru</td>\n",
       "      <td>(119 Reviews)</td>\n",
       "      <td>Hands on experience in the one or more databas...</td>\n",
       "    </tr>\n",
       "    <tr>\n",
       "      <th>6</th>\n",
       "      <td>Software Developer - Data Scientist / NLP / Ma...</td>\n",
       "      <td>Bengaluru / Bangalore</td>\n",
       "      <td>BLUE YONDER INDIA PRIVATE LIMITED</td>\n",
       "      <td>Roles and Responsibilities We are looking for ...</td>\n",
       "    </tr>\n",
       "    <tr>\n",
       "      <th>7</th>\n",
       "      <td>Data Scientist - Machine Learning - Remote Wor...</td>\n",
       "      <td>Delhi NCR, Bengaluru, Anywhere in India</td>\n",
       "      <td>(119 Reviews)</td>\n",
       "      <td>Direct experience in performing statistical an...</td>\n",
       "    </tr>\n",
       "    <tr>\n",
       "      <th>8</th>\n",
       "      <td>Data Scientist</td>\n",
       "      <td>Bengaluru</td>\n",
       "      <td>Philips India Limited</td>\n",
       "      <td>We are inviting applications for the role of D...</td>\n",
       "    </tr>\n",
       "    <tr>\n",
       "      <th>9</th>\n",
       "      <td>Data Scientist (Healthcare/Pharma Domain prefe...</td>\n",
       "      <td>Bengaluru</td>\n",
       "      <td>(492 Reviews)</td>\n",
       "      <td>Should have expertise on predictive modeling t...</td>\n",
       "    </tr>\n",
       "  </tbody>\n",
       "</table>\n",
       "</div>"
      ],
      "text/plain": [
       "                                           job_title  \\\n",
       "0              Data Scientist/Data Analyst-immediate   \n",
       "1  HCL hiring Data scientist with exp in machine ...   \n",
       "2                  Data Scientist - Machine Learning   \n",
       "3                  Data Scientist - Machine Learning   \n",
       "4                  Data Scientist - Machine Learning   \n",
       "5                              Senior Data Scientist   \n",
       "6  Software Developer - Data Scientist / NLP / Ma...   \n",
       "7  Data Scientist - Machine Learning - Remote Wor...   \n",
       "8                                     Data Scientist   \n",
       "9  Data Scientist (Healthcare/Pharma Domain prefe...   \n",
       "\n",
       "                              job_location  \\\n",
       "0      Chennai, Pune, Bengaluru, Hyderabad   \n",
       "1                                Bengaluru   \n",
       "2                                Bengaluru   \n",
       "3                                Bengaluru   \n",
       "4                                Bengaluru   \n",
       "5                                Bengaluru   \n",
       "6                    Bengaluru / Bangalore   \n",
       "7  Delhi NCR, Bengaluru, Anywhere in India   \n",
       "8                                Bengaluru   \n",
       "9                                Bengaluru   \n",
       "\n",
       "                                        company_name  \\\n",
       "0  CAIA-Center For Artificial Intelligence & Adva...   \n",
       "1                           HCL Technologies Limited   \n",
       "2                                     (9595 Reviews)   \n",
       "3                                        AugmatrixGo   \n",
       "4                  BLUE YONDER INDIA PRIVATE LIMITED   \n",
       "5                                      (119 Reviews)   \n",
       "6                  BLUE YONDER INDIA PRIVATE LIMITED   \n",
       "7                                      (119 Reviews)   \n",
       "8                              Philips India Limited   \n",
       "9                                      (492 Reviews)   \n",
       "\n",
       "                                     job_description  \n",
       "0  In case you are trying to shift your career to...  \n",
       "1  Experience of end to end implementation of pre...  \n",
       "2  BTech / MTech degree in from reputed institute...  \n",
       "3  Roles and ResponsibilitiesUnder guidance, or i...  \n",
       "4  Experience working with some of the following ...  \n",
       "5  Hands on experience in the one or more databas...  \n",
       "6  Roles and Responsibilities We are looking for ...  \n",
       "7  Direct experience in performing statistical an...  \n",
       "8  We are inviting applications for the role of D...  \n",
       "9  Should have expertise on predictive modeling t...  "
      ]
     },
     "execution_count": 44,
     "metadata": {},
     "output_type": "execute_result"
    }
   ],
   "source": [
    "# Creating a dataframe object to store the scrapped data.\n",
    "import pandas as pd\n",
    "df=pd.DataFrame({'job_title':job_title[0:10],'job_location':job_location[0:10],'company_name':company_name[0:10],'job_description':job_description[0:10]})\n",
    "df.head(10)"
   ]
  },
  {
   "cell_type": "code",
   "execution_count": null,
   "metadata": {},
   "outputs": [],
   "source": []
  },
  {
   "cell_type": "markdown",
   "metadata": {},
   "source": [
    "# Question No:3 "
   ]
  },
  {
   "cell_type": "code",
   "execution_count": 193,
   "metadata": {},
   "outputs": [],
   "source": [
    "# Configure the webdriver.\n",
    "driver = webdriver.Chrome('/Users/nlohith/Desktop/chromedriver')"
   ]
  },
  {
   "cell_type": "code",
   "execution_count": 194,
   "metadata": {},
   "outputs": [],
   "source": [
    "# Get the URL link.\n",
    "driver.get('https://www.naukri.com')"
   ]
  },
  {
   "cell_type": "code",
   "execution_count": 195,
   "metadata": {},
   "outputs": [],
   "source": [
    "# Creating empty lists for scraping data.\n",
    "job_title=[]\n",
    "job_location=[]\n",
    "company_name=[]\n",
    "experience_required=[]"
   ]
  },
  {
   "cell_type": "code",
   "execution_count": 196,
   "metadata": {},
   "outputs": [],
   "source": [
    "# Scraping the job_titles.\n",
    "Job_Title=driver.find_elements_by_xpath(\"//a[@class='title fw500 ellipsis']\")"
   ]
  },
  {
   "cell_type": "code",
   "execution_count": 197,
   "metadata": {},
   "outputs": [
    {
     "data": {
      "text/plain": [
       "[<selenium.webdriver.remote.webelement.WebElement (session=\"3210cd4177adcb4b0cf898de365934f8\", element=\"1c2c8df3-9695-4291-b3d5-067f7946701e\")>,\n",
       " <selenium.webdriver.remote.webelement.WebElement (session=\"3210cd4177adcb4b0cf898de365934f8\", element=\"53d41f8f-15e6-407a-9566-ccc84dbfa14e\")>,\n",
       " <selenium.webdriver.remote.webelement.WebElement (session=\"3210cd4177adcb4b0cf898de365934f8\", element=\"61618eb3-eca4-4804-8253-11b1d371229d\")>,\n",
       " <selenium.webdriver.remote.webelement.WebElement (session=\"3210cd4177adcb4b0cf898de365934f8\", element=\"7f14379d-75af-439c-9cd6-9d60cbba0697\")>,\n",
       " <selenium.webdriver.remote.webelement.WebElement (session=\"3210cd4177adcb4b0cf898de365934f8\", element=\"e36047da-edee-4a31-823e-7f751c118c2e\")>]"
      ]
     },
     "execution_count": 197,
     "metadata": {},
     "output_type": "execute_result"
    }
   ],
   "source": [
    "Job_Title[:5]"
   ]
  },
  {
   "cell_type": "code",
   "execution_count": 198,
   "metadata": {},
   "outputs": [],
   "source": [
    "for i in Job_Title:\n",
    "    title=i.text\n",
    "    job_title.append(title)"
   ]
  },
  {
   "cell_type": "code",
   "execution_count": 199,
   "metadata": {},
   "outputs": [
    {
     "data": {
      "text/plain": [
       "['Data Scientist - Python/Machine Learning',\n",
       " 'Tech Mahindra hiring For Data Scientist- Noida',\n",
       " 'Data Scientist - Commercial Planning and Analysis',\n",
       " 'Data Scientist - Machine Learning/ Artificial Intelligence - IT',\n",
       " 'GCP Skilled Analytics Resources (Data engineer / Data scientists)',\n",
       " 'Data Scientist',\n",
       " 'Data Scientist Machine Learning',\n",
       " 'Data Scientist',\n",
       " 'Business Analyst - Data Scientist',\n",
       " 'Analyst - Data Scientist']"
      ]
     },
     "execution_count": 199,
     "metadata": {},
     "output_type": "execute_result"
    }
   ],
   "source": [
    "job_title[:10]"
   ]
  },
  {
   "cell_type": "code",
   "execution_count": 200,
   "metadata": {},
   "outputs": [],
   "source": [
    "# Scraping the job_Location.\n",
    "Job_Location=driver.find_elements_by_xpath(\"//li[@class='fleft grey-text br2 placeHolderLi location']/span[1]\")"
   ]
  },
  {
   "cell_type": "code",
   "execution_count": 201,
   "metadata": {},
   "outputs": [
    {
     "data": {
      "text/plain": [
       "[<selenium.webdriver.remote.webelement.WebElement (session=\"3210cd4177adcb4b0cf898de365934f8\", element=\"051901b8-1f2c-49d9-982b-4a0410f20547\")>,\n",
       " <selenium.webdriver.remote.webelement.WebElement (session=\"3210cd4177adcb4b0cf898de365934f8\", element=\"486a8849-a01f-471d-8d15-6b74dbe6bb69\")>,\n",
       " <selenium.webdriver.remote.webelement.WebElement (session=\"3210cd4177adcb4b0cf898de365934f8\", element=\"e89c4313-83e7-42b5-aac7-ec733a78156b\")>,\n",
       " <selenium.webdriver.remote.webelement.WebElement (session=\"3210cd4177adcb4b0cf898de365934f8\", element=\"64533ab3-25ba-45e3-83e5-9d38418db9a0\")>,\n",
       " <selenium.webdriver.remote.webelement.WebElement (session=\"3210cd4177adcb4b0cf898de365934f8\", element=\"23cd197d-1ec6-4e2d-b37d-0e80bbc31ac8\")>]"
      ]
     },
     "execution_count": 201,
     "metadata": {},
     "output_type": "execute_result"
    }
   ],
   "source": [
    "Job_Location[:5]"
   ]
  },
  {
   "cell_type": "code",
   "execution_count": 202,
   "metadata": {},
   "outputs": [],
   "source": [
    "for i in Job_Location:\n",
    "    title=i.text\n",
    "    job_location.append(title)"
   ]
  },
  {
   "cell_type": "code",
   "execution_count": 203,
   "metadata": {},
   "outputs": [
    {
     "data": {
      "text/plain": [
       "['Noida',\n",
       " 'Noida',\n",
       " 'Delhi NCR, Gurgaon',\n",
       " 'Delhi/NCR Delhi NCR, Noida',\n",
       " 'Pune, Bengaluru, Gurgaon',\n",
       " 'Gurgaon Gurugram',\n",
       " 'Gurgaon',\n",
       " 'Delhi NCR',\n",
       " 'Gurgaon',\n",
       " 'Gurgaon']"
      ]
     },
     "execution_count": 203,
     "metadata": {},
     "output_type": "execute_result"
    }
   ],
   "source": [
    "job_location[:10]"
   ]
  },
  {
   "cell_type": "code",
   "execution_count": 204,
   "metadata": {},
   "outputs": [],
   "source": [
    "# Scraping the Company_Name.\n",
    "Company_Name=driver.find_elements_by_xpath(\"//div[@class='mt-7 companyInfo subheading lh16']/a\")"
   ]
  },
  {
   "cell_type": "code",
   "execution_count": 205,
   "metadata": {},
   "outputs": [
    {
     "data": {
      "text/plain": [
       "[<selenium.webdriver.remote.webelement.WebElement (session=\"3210cd4177adcb4b0cf898de365934f8\", element=\"9a7bbd89-e785-4136-b5c6-75cdbb2061eb\")>,\n",
       " <selenium.webdriver.remote.webelement.WebElement (session=\"3210cd4177adcb4b0cf898de365934f8\", element=\"6923f10b-0e98-48de-bfa7-80b0e3697ef9\")>,\n",
       " <selenium.webdriver.remote.webelement.WebElement (session=\"3210cd4177adcb4b0cf898de365934f8\", element=\"d6047b80-5f03-4824-86ba-54484e00dd57\")>,\n",
       " <selenium.webdriver.remote.webelement.WebElement (session=\"3210cd4177adcb4b0cf898de365934f8\", element=\"0b1f6939-d8fc-44c9-8730-aa68d2163993\")>,\n",
       " <selenium.webdriver.remote.webelement.WebElement (session=\"3210cd4177adcb4b0cf898de365934f8\", element=\"9b9c9509-c0ad-4401-aa79-ebad2c72ca4b\")>]"
      ]
     },
     "execution_count": 205,
     "metadata": {},
     "output_type": "execute_result"
    }
   ],
   "source": [
    "Company_Name[:5]"
   ]
  },
  {
   "cell_type": "code",
   "execution_count": 206,
   "metadata": {},
   "outputs": [],
   "source": [
    "for i in Company_Name:\n",
    "    comname=i.text\n",
    "    company_name.append(comname)"
   ]
  },
  {
   "cell_type": "code",
   "execution_count": 207,
   "metadata": {},
   "outputs": [
    {
     "data": {
      "text/plain": [
       "['Jubna',\n",
       " 'tech mahindra ltd',\n",
       " '(10318 Reviews)',\n",
       " 'Air Asia India Limited',\n",
       " '(59 Reviews)',\n",
       " 'Talent Acceleration Corridor',\n",
       " 'Aerial Telecom Solutions Pvt. Ltd.',\n",
       " '(193 Reviews)',\n",
       " 'IBM India Pvt. Limited',\n",
       " '(8742 Reviews)']"
      ]
     },
     "execution_count": 207,
     "metadata": {},
     "output_type": "execute_result"
    }
   ],
   "source": [
    "company_name[:10]"
   ]
  },
  {
   "cell_type": "code",
   "execution_count": 208,
   "metadata": {},
   "outputs": [],
   "source": [
    "# Scraping the Experience_Required.\n",
    "Experience_Required=driver.find_elements_by_xpath(\"//li[@class='fleft grey-text br2 placeHolderLi experience']/span[1]\")"
   ]
  },
  {
   "cell_type": "code",
   "execution_count": 209,
   "metadata": {},
   "outputs": [
    {
     "data": {
      "text/plain": [
       "[<selenium.webdriver.remote.webelement.WebElement (session=\"3210cd4177adcb4b0cf898de365934f8\", element=\"bfe375c4-2c41-4433-936b-46489c72ecc1\")>,\n",
       " <selenium.webdriver.remote.webelement.WebElement (session=\"3210cd4177adcb4b0cf898de365934f8\", element=\"08dea209-7379-40d5-87e6-27000fe4ff26\")>,\n",
       " <selenium.webdriver.remote.webelement.WebElement (session=\"3210cd4177adcb4b0cf898de365934f8\", element=\"fd15a744-bdec-43f1-b786-deea465dc747\")>,\n",
       " <selenium.webdriver.remote.webelement.WebElement (session=\"3210cd4177adcb4b0cf898de365934f8\", element=\"cb2ec658-43a3-48f6-ab4a-2733927837e6\")>,\n",
       " <selenium.webdriver.remote.webelement.WebElement (session=\"3210cd4177adcb4b0cf898de365934f8\", element=\"347677a9-c3f9-4b4e-89b9-b2c09184dc25\")>]"
      ]
     },
     "execution_count": 209,
     "metadata": {},
     "output_type": "execute_result"
    }
   ],
   "source": [
    "Experience_Required[:5]"
   ]
  },
  {
   "cell_type": "code",
   "execution_count": 210,
   "metadata": {},
   "outputs": [],
   "source": [
    "for i in Experience_Required:\n",
    "    experience=i.text\n",
    "    experience_required.append(experience)"
   ]
  },
  {
   "cell_type": "code",
   "execution_count": 211,
   "metadata": {},
   "outputs": [
    {
     "data": {
      "text/plain": [
       "['5-8 Yrs',\n",
       " '5-10 Yrs',\n",
       " '1-6 Yrs',\n",
       " '6-11 Yrs',\n",
       " '3-8 Yrs',\n",
       " '3-5 Yrs',\n",
       " '1-3 Yrs',\n",
       " '2-6 Yrs',\n",
       " '3-5 Yrs',\n",
       " '1-3 Yrs']"
      ]
     },
     "execution_count": 211,
     "metadata": {},
     "output_type": "execute_result"
    }
   ],
   "source": [
    "experience_required[:10]"
   ]
  },
  {
   "cell_type": "code",
   "execution_count": 214,
   "metadata": {},
   "outputs": [
    {
     "data": {
      "text/html": [
       "<div>\n",
       "<style scoped>\n",
       "    .dataframe tbody tr th:only-of-type {\n",
       "        vertical-align: middle;\n",
       "    }\n",
       "\n",
       "    .dataframe tbody tr th {\n",
       "        vertical-align: top;\n",
       "    }\n",
       "\n",
       "    .dataframe thead th {\n",
       "        text-align: right;\n",
       "    }\n",
       "</style>\n",
       "<table border=\"1\" class=\"dataframe\">\n",
       "  <thead>\n",
       "    <tr style=\"text-align: right;\">\n",
       "      <th></th>\n",
       "      <th>job_title</th>\n",
       "      <th>job_location</th>\n",
       "      <th>company_name</th>\n",
       "      <th>experience_required</th>\n",
       "    </tr>\n",
       "  </thead>\n",
       "  <tbody>\n",
       "    <tr>\n",
       "      <th>0</th>\n",
       "      <td>Data Scientist - Python/Machine Learning</td>\n",
       "      <td>Noida</td>\n",
       "      <td>Jubna</td>\n",
       "      <td>5-8 Yrs</td>\n",
       "    </tr>\n",
       "    <tr>\n",
       "      <th>1</th>\n",
       "      <td>Tech Mahindra hiring For Data Scientist- Noida</td>\n",
       "      <td>Noida</td>\n",
       "      <td>tech mahindra ltd</td>\n",
       "      <td>5-10 Yrs</td>\n",
       "    </tr>\n",
       "    <tr>\n",
       "      <th>2</th>\n",
       "      <td>Data Scientist - Commercial Planning and Analysis</td>\n",
       "      <td>Delhi NCR, Gurgaon</td>\n",
       "      <td>(10318 Reviews)</td>\n",
       "      <td>1-6 Yrs</td>\n",
       "    </tr>\n",
       "    <tr>\n",
       "      <th>3</th>\n",
       "      <td>Data Scientist - Machine Learning/ Artificial ...</td>\n",
       "      <td>Delhi/NCR Delhi NCR, Noida</td>\n",
       "      <td>Air Asia India Limited</td>\n",
       "      <td>6-11 Yrs</td>\n",
       "    </tr>\n",
       "    <tr>\n",
       "      <th>4</th>\n",
       "      <td>GCP Skilled Analytics Resources (Data engineer...</td>\n",
       "      <td>Pune, Bengaluru, Gurgaon</td>\n",
       "      <td>(59 Reviews)</td>\n",
       "      <td>3-8 Yrs</td>\n",
       "    </tr>\n",
       "    <tr>\n",
       "      <th>5</th>\n",
       "      <td>Data Scientist</td>\n",
       "      <td>Gurgaon Gurugram</td>\n",
       "      <td>Talent Acceleration Corridor</td>\n",
       "      <td>3-5 Yrs</td>\n",
       "    </tr>\n",
       "    <tr>\n",
       "      <th>6</th>\n",
       "      <td>Data Scientist Machine Learning</td>\n",
       "      <td>Gurgaon</td>\n",
       "      <td>Aerial Telecom Solutions Pvt. Ltd.</td>\n",
       "      <td>1-3 Yrs</td>\n",
       "    </tr>\n",
       "    <tr>\n",
       "      <th>7</th>\n",
       "      <td>Data Scientist</td>\n",
       "      <td>Delhi NCR</td>\n",
       "      <td>(193 Reviews)</td>\n",
       "      <td>2-6 Yrs</td>\n",
       "    </tr>\n",
       "    <tr>\n",
       "      <th>8</th>\n",
       "      <td>Business Analyst - Data Scientist</td>\n",
       "      <td>Gurgaon</td>\n",
       "      <td>IBM India Pvt. Limited</td>\n",
       "      <td>3-5 Yrs</td>\n",
       "    </tr>\n",
       "    <tr>\n",
       "      <th>9</th>\n",
       "      <td>Analyst - Data Scientist</td>\n",
       "      <td>Gurgaon</td>\n",
       "      <td>(8742 Reviews)</td>\n",
       "      <td>1-3 Yrs</td>\n",
       "    </tr>\n",
       "  </tbody>\n",
       "</table>\n",
       "</div>"
      ],
      "text/plain": [
       "                                           job_title  \\\n",
       "0           Data Scientist - Python/Machine Learning   \n",
       "1     Tech Mahindra hiring For Data Scientist- Noida   \n",
       "2  Data Scientist - Commercial Planning and Analysis   \n",
       "3  Data Scientist - Machine Learning/ Artificial ...   \n",
       "4  GCP Skilled Analytics Resources (Data engineer...   \n",
       "5                                     Data Scientist   \n",
       "6                    Data Scientist Machine Learning   \n",
       "7                                     Data Scientist   \n",
       "8                  Business Analyst - Data Scientist   \n",
       "9                           Analyst - Data Scientist   \n",
       "\n",
       "                 job_location                        company_name  \\\n",
       "0                       Noida                               Jubna   \n",
       "1                       Noida                   tech mahindra ltd   \n",
       "2          Delhi NCR, Gurgaon                     (10318 Reviews)   \n",
       "3  Delhi/NCR Delhi NCR, Noida              Air Asia India Limited   \n",
       "4    Pune, Bengaluru, Gurgaon                        (59 Reviews)   \n",
       "5            Gurgaon Gurugram        Talent Acceleration Corridor   \n",
       "6                     Gurgaon  Aerial Telecom Solutions Pvt. Ltd.   \n",
       "7                   Delhi NCR                       (193 Reviews)   \n",
       "8                     Gurgaon              IBM India Pvt. Limited   \n",
       "9                     Gurgaon                      (8742 Reviews)   \n",
       "\n",
       "  experience_required  \n",
       "0             5-8 Yrs  \n",
       "1            5-10 Yrs  \n",
       "2             1-6 Yrs  \n",
       "3            6-11 Yrs  \n",
       "4             3-8 Yrs  \n",
       "5             3-5 Yrs  \n",
       "6             1-3 Yrs  \n",
       "7             2-6 Yrs  \n",
       "8             3-5 Yrs  \n",
       "9             1-3 Yrs  "
      ]
     },
     "execution_count": 214,
     "metadata": {},
     "output_type": "execute_result"
    }
   ],
   "source": [
    "# Creating a dataframe object to store the scrapped data.\n",
    "import pandas as pd\n",
    "df=pd.DataFrame({'job_title':job_title[0:10],'job_location':job_location[0:10],'company_name':company_name[0:10],'experience_required':experience_required[0:10]})\n",
    "df"
   ]
  },
  {
   "cell_type": "markdown",
   "metadata": {},
   "source": [
    "# Question No:4"
   ]
  },
  {
   "cell_type": "code",
   "execution_count": 525,
   "metadata": {},
   "outputs": [],
   "source": [
    "# Configure the webdriver.\n",
    "driver = webdriver.Chrome('/Users/nlohith/Desktop/chromedriver')"
   ]
  },
  {
   "cell_type": "code",
   "execution_count": 526,
   "metadata": {},
   "outputs": [],
   "source": [
    "# Get the URL link.\n",
    "url = 'https://www.glassdoor.co.in/Job/noida-data-scientist-jobs-SRCH_IL.0,5_IC4477468_KO6,20.htm'"
   ]
  },
  {
   "cell_type": "code",
   "execution_count": 527,
   "metadata": {},
   "outputs": [],
   "source": [
    "driver.get(url)"
   ]
  },
  {
   "cell_type": "code",
   "execution_count": 528,
   "metadata": {},
   "outputs": [],
   "source": [
    "# Creating empty lists for scraping data.\n",
    "company_name=[]\n",
    "ratings=[]\n",
    "no_of_days_ago_posted=[]"
   ]
  },
  {
   "cell_type": "code",
   "execution_count": 529,
   "metadata": {},
   "outputs": [],
   "source": [
    "# Scraping the Company_Name.\n",
    "Company_Name=driver.find_elements_by_xpath(\"//div[@class='jobHeader d-flex justify-content-between align-items-start']\")"
   ]
  },
  {
   "cell_type": "code",
   "execution_count": 530,
   "metadata": {},
   "outputs": [
    {
     "data": {
      "text/plain": [
       "[<selenium.webdriver.remote.webelement.WebElement (session=\"dbdd726b4756411a1251b650c190349f\", element=\"c2d88df0-8d8a-4f91-ac71-9df2954614bc\")>,\n",
       " <selenium.webdriver.remote.webelement.WebElement (session=\"dbdd726b4756411a1251b650c190349f\", element=\"d9b01257-083a-4285-93f6-d35512a934f2\")>,\n",
       " <selenium.webdriver.remote.webelement.WebElement (session=\"dbdd726b4756411a1251b650c190349f\", element=\"0a00baa2-3856-45ac-a6b9-23a6bba07c09\")>,\n",
       " <selenium.webdriver.remote.webelement.WebElement (session=\"dbdd726b4756411a1251b650c190349f\", element=\"0f42c71c-110d-4c27-b6d1-f7632b658681\")>,\n",
       " <selenium.webdriver.remote.webelement.WebElement (session=\"dbdd726b4756411a1251b650c190349f\", element=\"c542c0b8-22f5-49cf-88ab-f81381e58d8a\")>]"
      ]
     },
     "execution_count": 530,
     "metadata": {},
     "output_type": "execute_result"
    }
   ],
   "source": [
    "Company_Name[:5]"
   ]
  },
  {
   "cell_type": "code",
   "execution_count": 531,
   "metadata": {},
   "outputs": [],
   "source": [
    "for i in Company_Name:\n",
    "    comname=i.text\n",
    "    company_name.append(comname)"
   ]
  },
  {
   "cell_type": "code",
   "execution_count": 532,
   "metadata": {},
   "outputs": [
    {
     "data": {
      "text/plain": [
       "['UnitedHealth Group',\n",
       " 'Genpact',\n",
       " 'Techlive',\n",
       " 'Builder.ai - What would you Build?',\n",
       " 'Sentieo',\n",
       " 'Brickred',\n",
       " 'XCEEDANCE',\n",
       " 'Mahajan Imaging',\n",
       " 'American Express Global Business Travel',\n",
       " 'Terra Economics & Analytics Lab (TEAL)']"
      ]
     },
     "execution_count": 532,
     "metadata": {},
     "output_type": "execute_result"
    }
   ],
   "source": [
    "company_name[:10]"
   ]
  },
  {
   "cell_type": "code",
   "execution_count": 542,
   "metadata": {},
   "outputs": [],
   "source": [
    "# Scraping the Ratings.\n",
    "Ratings=driver.find_elements_by_xpath(\"//span[@class='compactStars ']\")"
   ]
  },
  {
   "cell_type": "code",
   "execution_count": 543,
   "metadata": {},
   "outputs": [
    {
     "data": {
      "text/plain": [
       "[<selenium.webdriver.remote.webelement.WebElement (session=\"dbdd726b4756411a1251b650c190349f\", element=\"e095c337-95eb-4419-980f-b3c9be030084\")>,\n",
       " <selenium.webdriver.remote.webelement.WebElement (session=\"dbdd726b4756411a1251b650c190349f\", element=\"fe0d1a27-ce4b-4f5c-8b56-9d1ba66e80ef\")>,\n",
       " <selenium.webdriver.remote.webelement.WebElement (session=\"dbdd726b4756411a1251b650c190349f\", element=\"cf8a2193-1ebd-4294-b2f9-e9eec0830bf3\")>,\n",
       " <selenium.webdriver.remote.webelement.WebElement (session=\"dbdd726b4756411a1251b650c190349f\", element=\"6764c1ec-92f8-46c9-b2dd-6b259617eecf\")>,\n",
       " <selenium.webdriver.remote.webelement.WebElement (session=\"dbdd726b4756411a1251b650c190349f\", element=\"107f5683-09fb-4ea0-8e1b-aff0ab582afa\")>]"
      ]
     },
     "execution_count": 543,
     "metadata": {},
     "output_type": "execute_result"
    }
   ],
   "source": [
    "Ratings[:5]"
   ]
  },
  {
   "cell_type": "code",
   "execution_count": 547,
   "metadata": {},
   "outputs": [],
   "source": [
    "for i in Ratings:\n",
    "    rate_stars=i.text\n",
    "    ratings.append(rate_stars)"
   ]
  },
  {
   "cell_type": "code",
   "execution_count": 548,
   "metadata": {},
   "outputs": [
    {
     "data": {
      "text/plain": [
       "['3.5', '3.8', '3.6', '4.1', '5', '3.7', '4', '4.9', '3.4', '3.6']"
      ]
     },
     "execution_count": 548,
     "metadata": {},
     "output_type": "execute_result"
    }
   ],
   "source": [
    "ratings[:10]"
   ]
  },
  {
   "cell_type": "code",
   "execution_count": 546,
   "metadata": {},
   "outputs": [],
   "source": [
    "# Scraping the No_of_days_ago_posted.\n",
    "No_of_days_ago_posted=driver.find_elements_by_xpath(\"//div[@class='d-flex align-items-end pl-std css-mi55ob']\")"
   ]
  },
  {
   "cell_type": "code",
   "execution_count": 537,
   "metadata": {},
   "outputs": [
    {
     "data": {
      "text/plain": [
       "[<selenium.webdriver.remote.webelement.WebElement (session=\"dbdd726b4756411a1251b650c190349f\", element=\"db56692d-3135-4a2c-9ad9-4d52fdac6928\")>,\n",
       " <selenium.webdriver.remote.webelement.WebElement (session=\"dbdd726b4756411a1251b650c190349f\", element=\"fa12045d-e17f-4df7-b8ee-6d48ea21a0c0\")>,\n",
       " <selenium.webdriver.remote.webelement.WebElement (session=\"dbdd726b4756411a1251b650c190349f\", element=\"a47a70ff-248e-41c2-a712-9fa3c2350e57\")>,\n",
       " <selenium.webdriver.remote.webelement.WebElement (session=\"dbdd726b4756411a1251b650c190349f\", element=\"26bcf58d-6f4d-46c0-9d75-ec5bee64af58\")>,\n",
       " <selenium.webdriver.remote.webelement.WebElement (session=\"dbdd726b4756411a1251b650c190349f\", element=\"2a6797ef-5fbf-48fc-a7eb-1f25fc56093e\")>]"
      ]
     },
     "execution_count": 537,
     "metadata": {},
     "output_type": "execute_result"
    }
   ],
   "source": [
    "No_of_days_ago_posted[:5]"
   ]
  },
  {
   "cell_type": "code",
   "execution_count": 538,
   "metadata": {},
   "outputs": [],
   "source": [
    "for i in No_of_days_ago_posted:\n",
    "    posted=i.text\n",
    "    no_of_days_ago_posted.append(posted)"
   ]
  },
  {
   "cell_type": "code",
   "execution_count": 539,
   "metadata": {},
   "outputs": [
    {
     "data": {
      "text/plain": [
       "['2d', '10d', '16d', '25d', '17d', '24h', '17d', '9d', '16d', '11d']"
      ]
     },
     "execution_count": 539,
     "metadata": {},
     "output_type": "execute_result"
    }
   ],
   "source": [
    "no_of_days_ago_posted[:10]"
   ]
  },
  {
   "cell_type": "code",
   "execution_count": 549,
   "metadata": {},
   "outputs": [
    {
     "data": {
      "text/html": [
       "<div>\n",
       "<style scoped>\n",
       "    .dataframe tbody tr th:only-of-type {\n",
       "        vertical-align: middle;\n",
       "    }\n",
       "\n",
       "    .dataframe tbody tr th {\n",
       "        vertical-align: top;\n",
       "    }\n",
       "\n",
       "    .dataframe thead th {\n",
       "        text-align: right;\n",
       "    }\n",
       "</style>\n",
       "<table border=\"1\" class=\"dataframe\">\n",
       "  <thead>\n",
       "    <tr style=\"text-align: right;\">\n",
       "      <th></th>\n",
       "      <th>company_name</th>\n",
       "      <th>no_of_days_ago_posted</th>\n",
       "      <th>ratings</th>\n",
       "    </tr>\n",
       "  </thead>\n",
       "  <tbody>\n",
       "    <tr>\n",
       "      <th>0</th>\n",
       "      <td>UnitedHealth Group</td>\n",
       "      <td>2d</td>\n",
       "      <td>3.5</td>\n",
       "    </tr>\n",
       "    <tr>\n",
       "      <th>1</th>\n",
       "      <td>Genpact</td>\n",
       "      <td>10d</td>\n",
       "      <td>3.8</td>\n",
       "    </tr>\n",
       "    <tr>\n",
       "      <th>2</th>\n",
       "      <td>Techlive</td>\n",
       "      <td>16d</td>\n",
       "      <td>3.6</td>\n",
       "    </tr>\n",
       "    <tr>\n",
       "      <th>3</th>\n",
       "      <td>Builder.ai - What would you Build?</td>\n",
       "      <td>25d</td>\n",
       "      <td>4.1</td>\n",
       "    </tr>\n",
       "    <tr>\n",
       "      <th>4</th>\n",
       "      <td>Sentieo</td>\n",
       "      <td>17d</td>\n",
       "      <td>5</td>\n",
       "    </tr>\n",
       "    <tr>\n",
       "      <th>5</th>\n",
       "      <td>Brickred</td>\n",
       "      <td>24h</td>\n",
       "      <td>3.7</td>\n",
       "    </tr>\n",
       "    <tr>\n",
       "      <th>6</th>\n",
       "      <td>XCEEDANCE</td>\n",
       "      <td>17d</td>\n",
       "      <td>4</td>\n",
       "    </tr>\n",
       "    <tr>\n",
       "      <th>7</th>\n",
       "      <td>Mahajan Imaging</td>\n",
       "      <td>9d</td>\n",
       "      <td>4.9</td>\n",
       "    </tr>\n",
       "    <tr>\n",
       "      <th>8</th>\n",
       "      <td>American Express Global Business Travel</td>\n",
       "      <td>16d</td>\n",
       "      <td>3.4</td>\n",
       "    </tr>\n",
       "    <tr>\n",
       "      <th>9</th>\n",
       "      <td>Terra Economics &amp; Analytics Lab (TEAL)</td>\n",
       "      <td>11d</td>\n",
       "      <td>3.6</td>\n",
       "    </tr>\n",
       "  </tbody>\n",
       "</table>\n",
       "</div>"
      ],
      "text/plain": [
       "                              company_name no_of_days_ago_posted ratings\n",
       "0                       UnitedHealth Group                    2d     3.5\n",
       "1                                  Genpact                   10d     3.8\n",
       "2                                 Techlive                   16d     3.6\n",
       "3       Builder.ai - What would you Build?                   25d     4.1\n",
       "4                                  Sentieo                   17d       5\n",
       "5                                 Brickred                   24h     3.7\n",
       "6                                XCEEDANCE                   17d       4\n",
       "7                          Mahajan Imaging                    9d     4.9\n",
       "8  American Express Global Business Travel                   16d     3.4\n",
       "9   Terra Economics & Analytics Lab (TEAL)                   11d     3.6"
      ]
     },
     "execution_count": 549,
     "metadata": {},
     "output_type": "execute_result"
    }
   ],
   "source": [
    "# Creating a dataframe object to store the scrapped data.\n",
    "import pandas as pd\n",
    "df=pd.DataFrame({'company_name':company_name[0:10],'no_of_days_ago_posted':no_of_days_ago_posted[0:10],'ratings':ratings[0:10]})\n",
    "df"
   ]
  },
  {
   "cell_type": "markdown",
   "metadata": {},
   "source": [
    "# Question No:5"
   ]
  },
  {
   "cell_type": "code",
   "execution_count": 593,
   "metadata": {},
   "outputs": [],
   "source": [
    "# Configure the webdriver.\n",
    "driver = webdriver.Chrome('/Users/nlohith/Desktop/chromedriver')"
   ]
  },
  {
   "cell_type": "code",
   "execution_count": 594,
   "metadata": {},
   "outputs": [],
   "source": [
    "# Get the URL link.\n",
    "url = 'https://www.glassdoor.co.in/Salaries/new-delhi-data-scientist-salary-SRCH_IL.0,9_IM1083_KO10,24.htm?clickSource=searchBtn'"
   ]
  },
  {
   "cell_type": "code",
   "execution_count": 595,
   "metadata": {},
   "outputs": [],
   "source": [
    "driver.get(url)"
   ]
  },
  {
   "cell_type": "code",
   "execution_count": 596,
   "metadata": {},
   "outputs": [],
   "source": [
    "# Creating empty lists for scraping data.\n",
    "companies = []\n",
    "no_of_salaries = []\n",
    "min_max_sal = []\n",
    "avg_sal = []"
   ]
  },
  {
   "cell_type": "code",
   "execution_count": 597,
   "metadata": {},
   "outputs": [],
   "source": [
    "# Scraping the Companies.\n",
    "Companies=driver.find_elements_by_xpath(\"//p[@class='m-0']\")"
   ]
  },
  {
   "cell_type": "code",
   "execution_count": 598,
   "metadata": {},
   "outputs": [
    {
     "data": {
      "text/plain": [
       "[<selenium.webdriver.remote.webelement.WebElement (session=\"b1abbcc070bf065d03d7696737636e57\", element=\"957dad67-3ceb-4d7f-b7bf-57a6ce244fab\")>,\n",
       " <selenium.webdriver.remote.webelement.WebElement (session=\"b1abbcc070bf065d03d7696737636e57\", element=\"cce130b1-2c9c-4c15-987e-cda07315dff5\")>,\n",
       " <selenium.webdriver.remote.webelement.WebElement (session=\"b1abbcc070bf065d03d7696737636e57\", element=\"71411cb3-62be-4c05-bf84-5477aadac512\")>,\n",
       " <selenium.webdriver.remote.webelement.WebElement (session=\"b1abbcc070bf065d03d7696737636e57\", element=\"1141ccc9-dd87-4b4a-bb6a-4ebf5f97b900\")>,\n",
       " <selenium.webdriver.remote.webelement.WebElement (session=\"b1abbcc070bf065d03d7696737636e57\", element=\"75235646-1954-4f54-92be-44d3f9f0a8fe\")>]"
      ]
     },
     "execution_count": 598,
     "metadata": {},
     "output_type": "execute_result"
    }
   ],
   "source": [
    "Companies[:5]"
   ]
  },
  {
   "cell_type": "code",
   "execution_count": 599,
   "metadata": {},
   "outputs": [],
   "source": [
    "for i in Companies:\n",
    "    comname=i.text\n",
    "    companies.append(comname)"
   ]
  },
  {
   "cell_type": "code",
   "execution_count": 600,
   "metadata": {},
   "outputs": [
    {
     "data": {
      "text/plain": [
       "['Data Scientist',\n",
       " 'See 14 salaries from all locations',\n",
       " 'Data Scientist',\n",
       " 'See 22 salaries from all locations',\n",
       " 'Data Scientist',\n",
       " 'See 37 salaries from all locations',\n",
       " 'Data Scientist',\n",
       " 'See 83 salaries from all locations',\n",
       " 'Data Scientist',\n",
       " 'See 73 salaries from all locations']"
      ]
     },
     "execution_count": 600,
     "metadata": {},
     "output_type": "execute_result"
    }
   ],
   "source": [
    "companies[:10]"
   ]
  },
  {
   "cell_type": "code",
   "execution_count": 601,
   "metadata": {},
   "outputs": [],
   "source": [
    "# Scraping the No_of_salaries.\n",
    "No_of_salaries=driver.find_elements_by_xpath(\"//p[@class='css-1uyte9r css-1kuy7z7 m-0 ']\")"
   ]
  },
  {
   "cell_type": "code",
   "execution_count": 602,
   "metadata": {},
   "outputs": [
    {
     "data": {
      "text/plain": [
       "[<selenium.webdriver.remote.webelement.WebElement (session=\"b1abbcc070bf065d03d7696737636e57\", element=\"2af98b0b-2e3b-4b51-838b-84815901d3d7\")>,\n",
       " <selenium.webdriver.remote.webelement.WebElement (session=\"b1abbcc070bf065d03d7696737636e57\", element=\"674e47c8-1e70-40b7-8c62-c1c52384a7d8\")>,\n",
       " <selenium.webdriver.remote.webelement.WebElement (session=\"b1abbcc070bf065d03d7696737636e57\", element=\"ca8c36de-2c97-46e6-9276-82cb81b7b144\")>,\n",
       " <selenium.webdriver.remote.webelement.WebElement (session=\"b1abbcc070bf065d03d7696737636e57\", element=\"d0e915a3-986f-4522-80a0-f24cb99a807d\")>,\n",
       " <selenium.webdriver.remote.webelement.WebElement (session=\"b1abbcc070bf065d03d7696737636e57\", element=\"2c7bcdea-88e8-4d3f-bd62-1ce8b0f2df5b\")>]"
      ]
     },
     "execution_count": 602,
     "metadata": {},
     "output_type": "execute_result"
    }
   ],
   "source": [
    "No_of_salaries[:5]"
   ]
  },
  {
   "cell_type": "code",
   "execution_count": 603,
   "metadata": {},
   "outputs": [],
   "source": [
    "for i in No_of_salaries:\n",
    "    salaries=i.text\n",
    "    no_of_salaries.append(salaries)"
   ]
  },
  {
   "cell_type": "code",
   "execution_count": 604,
   "metadata": {},
   "outputs": [
    {
     "data": {
      "text/plain": [
       "['13 salaries',\n",
       " '11 salaries',\n",
       " '10 salaries',\n",
       " '9 salaries',\n",
       " '9 salaries',\n",
       " '8 salaries',\n",
       " '8 salaries',\n",
       " '7 salaries',\n",
       " '6 salaries',\n",
       " '5 salaries']"
      ]
     },
     "execution_count": 604,
     "metadata": {},
     "output_type": "execute_result"
    }
   ],
   "source": [
    "no_of_salaries[:10]"
   ]
  },
  {
   "cell_type": "code",
   "execution_count": 605,
   "metadata": {},
   "outputs": [],
   "source": [
    "# Scraping the Min_Max_sal.\n",
    "Min_Max_sal=driver.find_elements_by_xpath(\"//div[@class='common__RangeBarStyle__values common__flex__justifySpaceBetween common__flex__container ']\")"
   ]
  },
  {
   "cell_type": "code",
   "execution_count": 606,
   "metadata": {},
   "outputs": [
    {
     "data": {
      "text/plain": [
       "[<selenium.webdriver.remote.webelement.WebElement (session=\"b1abbcc070bf065d03d7696737636e57\", element=\"baddca7c-ba76-4682-9d97-0f4898be3f1c\")>,\n",
       " <selenium.webdriver.remote.webelement.WebElement (session=\"b1abbcc070bf065d03d7696737636e57\", element=\"0029581f-bda6-4884-921e-b279f6d0ce07\")>,\n",
       " <selenium.webdriver.remote.webelement.WebElement (session=\"b1abbcc070bf065d03d7696737636e57\", element=\"b3f485ef-7b6c-4290-b428-6c352c4fe064\")>,\n",
       " <selenium.webdriver.remote.webelement.WebElement (session=\"b1abbcc070bf065d03d7696737636e57\", element=\"f4b23495-7a02-45f4-ab41-4713efef1c54\")>,\n",
       " <selenium.webdriver.remote.webelement.WebElement (session=\"b1abbcc070bf065d03d7696737636e57\", element=\"e19e6951-bd7b-4775-a9ba-9ceba8a0e0e9\")>]"
      ]
     },
     "execution_count": 606,
     "metadata": {},
     "output_type": "execute_result"
    }
   ],
   "source": [
    "Min_Max_sal[:5]"
   ]
  },
  {
   "cell_type": "code",
   "execution_count": 607,
   "metadata": {},
   "outputs": [],
   "source": [
    "for i in Min_Max_sal:\n",
    "    salaries=i.text\n",
    "    min_max_sal.append(salaries)"
   ]
  },
  {
   "cell_type": "code",
   "execution_count": 608,
   "metadata": {},
   "outputs": [
    {
     "data": {
      "text/plain": [
       "['₹456K\\n₹11,789K',\n",
       " '₹420K\\n₹1,636K',\n",
       " '₹585K\\n₹2,200K',\n",
       " '₹336K\\n₹1,024K',\n",
       " '₹595K\\n₹2,769K',\n",
       " '₹727K\\n₹1,597K',\n",
       " '₹509K\\n₹1,168K',\n",
       " '₹629K\\n₹1,719K',\n",
       " '₹804K\\n₹1,281K',\n",
       " '₹205K\\n₹1,835K']"
      ]
     },
     "execution_count": 608,
     "metadata": {},
     "output_type": "execute_result"
    }
   ],
   "source": [
    "min_max_sal[:10]"
   ]
  },
  {
   "cell_type": "code",
   "execution_count": 609,
   "metadata": {},
   "outputs": [],
   "source": [
    "# Scraping the Avg_sal.\n",
    "Avg_sal=driver.find_elements_by_xpath(\"//div[@class='col-2 d-none d-md-flex flex-row justify-content-end']\")"
   ]
  },
  {
   "cell_type": "code",
   "execution_count": 610,
   "metadata": {},
   "outputs": [
    {
     "data": {
      "text/plain": [
       "[<selenium.webdriver.remote.webelement.WebElement (session=\"b1abbcc070bf065d03d7696737636e57\", element=\"b3520325-8f25-47e9-9e17-c0ebee3db9cb\")>,\n",
       " <selenium.webdriver.remote.webelement.WebElement (session=\"b1abbcc070bf065d03d7696737636e57\", element=\"ca7ed123-6bcd-44a9-90f2-4ac669fc4577\")>,\n",
       " <selenium.webdriver.remote.webelement.WebElement (session=\"b1abbcc070bf065d03d7696737636e57\", element=\"f628fed0-6c91-4f56-824a-193eba14c55f\")>,\n",
       " <selenium.webdriver.remote.webelement.WebElement (session=\"b1abbcc070bf065d03d7696737636e57\", element=\"c26e6256-02a0-433a-a20b-e6a7cf54bd71\")>,\n",
       " <selenium.webdriver.remote.webelement.WebElement (session=\"b1abbcc070bf065d03d7696737636e57\", element=\"7a91a1ef-32c3-44ab-bcf9-246379042117\")>]"
      ]
     },
     "execution_count": 610,
     "metadata": {},
     "output_type": "execute_result"
    }
   ],
   "source": [
    "Avg_sal[:5]"
   ]
  },
  {
   "cell_type": "code",
   "execution_count": 611,
   "metadata": {},
   "outputs": [],
   "source": [
    "for i in Avg_sal:\n",
    "    salaries=i.text\n",
    "    avg_sal.append(salaries)"
   ]
  },
  {
   "cell_type": "code",
   "execution_count": 612,
   "metadata": {},
   "outputs": [
    {
     "data": {
      "text/plain": [
       "['₹ 12,81,419\\n/yr',\n",
       " '₹ 7,52,052\\n/yr',\n",
       " '₹ 9,98,925\\n/yr',\n",
       " '₹ 6,02,000\\n/yr',\n",
       " '₹ 7,71,657\\n/yr',\n",
       " '₹ 12,22,902\\n/yr',\n",
       " '₹ 7,91,015\\n/yr',\n",
       " '₹ 12,15,138\\n/yr',\n",
       " '₹ 10,21,889\\n/yr',\n",
       " '₹ 10,00,000\\n/yr']"
      ]
     },
     "execution_count": 612,
     "metadata": {},
     "output_type": "execute_result"
    }
   ],
   "source": [
    "avg_sal[:10]"
   ]
  },
  {
   "cell_type": "code",
   "execution_count": 613,
   "metadata": {},
   "outputs": [
    {
     "data": {
      "text/html": [
       "<div>\n",
       "<style scoped>\n",
       "    .dataframe tbody tr th:only-of-type {\n",
       "        vertical-align: middle;\n",
       "    }\n",
       "\n",
       "    .dataframe tbody tr th {\n",
       "        vertical-align: top;\n",
       "    }\n",
       "\n",
       "    .dataframe thead th {\n",
       "        text-align: right;\n",
       "    }\n",
       "</style>\n",
       "<table border=\"1\" class=\"dataframe\">\n",
       "  <thead>\n",
       "    <tr style=\"text-align: right;\">\n",
       "      <th></th>\n",
       "      <th>companies</th>\n",
       "      <th>no_of_salaries</th>\n",
       "      <th>min_max_sal</th>\n",
       "      <th>avg_sal</th>\n",
       "    </tr>\n",
       "  </thead>\n",
       "  <tbody>\n",
       "    <tr>\n",
       "      <th>0</th>\n",
       "      <td>Data Scientist</td>\n",
       "      <td>13 salaries</td>\n",
       "      <td>₹456K\\n₹11,789K</td>\n",
       "      <td>₹ 12,81,419\\n/yr</td>\n",
       "    </tr>\n",
       "    <tr>\n",
       "      <th>1</th>\n",
       "      <td>See 14 salaries from all locations</td>\n",
       "      <td>11 salaries</td>\n",
       "      <td>₹420K\\n₹1,636K</td>\n",
       "      <td>₹ 7,52,052\\n/yr</td>\n",
       "    </tr>\n",
       "    <tr>\n",
       "      <th>2</th>\n",
       "      <td>Data Scientist</td>\n",
       "      <td>10 salaries</td>\n",
       "      <td>₹585K\\n₹2,200K</td>\n",
       "      <td>₹ 9,98,925\\n/yr</td>\n",
       "    </tr>\n",
       "    <tr>\n",
       "      <th>3</th>\n",
       "      <td>See 22 salaries from all locations</td>\n",
       "      <td>9 salaries</td>\n",
       "      <td>₹336K\\n₹1,024K</td>\n",
       "      <td>₹ 6,02,000\\n/yr</td>\n",
       "    </tr>\n",
       "    <tr>\n",
       "      <th>4</th>\n",
       "      <td>Data Scientist</td>\n",
       "      <td>9 salaries</td>\n",
       "      <td>₹595K\\n₹2,769K</td>\n",
       "      <td>₹ 7,71,657\\n/yr</td>\n",
       "    </tr>\n",
       "    <tr>\n",
       "      <th>5</th>\n",
       "      <td>See 37 salaries from all locations</td>\n",
       "      <td>8 salaries</td>\n",
       "      <td>₹727K\\n₹1,597K</td>\n",
       "      <td>₹ 12,22,902\\n/yr</td>\n",
       "    </tr>\n",
       "    <tr>\n",
       "      <th>6</th>\n",
       "      <td>Data Scientist</td>\n",
       "      <td>8 salaries</td>\n",
       "      <td>₹509K\\n₹1,168K</td>\n",
       "      <td>₹ 7,91,015\\n/yr</td>\n",
       "    </tr>\n",
       "    <tr>\n",
       "      <th>7</th>\n",
       "      <td>See 83 salaries from all locations</td>\n",
       "      <td>7 salaries</td>\n",
       "      <td>₹629K\\n₹1,719K</td>\n",
       "      <td>₹ 12,15,138\\n/yr</td>\n",
       "    </tr>\n",
       "    <tr>\n",
       "      <th>8</th>\n",
       "      <td>Data Scientist</td>\n",
       "      <td>6 salaries</td>\n",
       "      <td>₹804K\\n₹1,281K</td>\n",
       "      <td>₹ 10,21,889\\n/yr</td>\n",
       "    </tr>\n",
       "    <tr>\n",
       "      <th>9</th>\n",
       "      <td>See 73 salaries from all locations</td>\n",
       "      <td>5 salaries</td>\n",
       "      <td>₹205K\\n₹1,835K</td>\n",
       "      <td>₹ 10,00,000\\n/yr</td>\n",
       "    </tr>\n",
       "  </tbody>\n",
       "</table>\n",
       "</div>"
      ],
      "text/plain": [
       "                            companies no_of_salaries      min_max_sal  \\\n",
       "0                      Data Scientist    13 salaries  ₹456K\\n₹11,789K   \n",
       "1  See 14 salaries from all locations    11 salaries   ₹420K\\n₹1,636K   \n",
       "2                      Data Scientist    10 salaries   ₹585K\\n₹2,200K   \n",
       "3  See 22 salaries from all locations     9 salaries   ₹336K\\n₹1,024K   \n",
       "4                      Data Scientist     9 salaries   ₹595K\\n₹2,769K   \n",
       "5  See 37 salaries from all locations     8 salaries   ₹727K\\n₹1,597K   \n",
       "6                      Data Scientist     8 salaries   ₹509K\\n₹1,168K   \n",
       "7  See 83 salaries from all locations     7 salaries   ₹629K\\n₹1,719K   \n",
       "8                      Data Scientist     6 salaries   ₹804K\\n₹1,281K   \n",
       "9  See 73 salaries from all locations     5 salaries   ₹205K\\n₹1,835K   \n",
       "\n",
       "            avg_sal  \n",
       "0  ₹ 12,81,419\\n/yr  \n",
       "1   ₹ 7,52,052\\n/yr  \n",
       "2   ₹ 9,98,925\\n/yr  \n",
       "3   ₹ 6,02,000\\n/yr  \n",
       "4   ₹ 7,71,657\\n/yr  \n",
       "5  ₹ 12,22,902\\n/yr  \n",
       "6   ₹ 7,91,015\\n/yr  \n",
       "7  ₹ 12,15,138\\n/yr  \n",
       "8  ₹ 10,21,889\\n/yr  \n",
       "9  ₹ 10,00,000\\n/yr  "
      ]
     },
     "execution_count": 613,
     "metadata": {},
     "output_type": "execute_result"
    }
   ],
   "source": [
    "# Creating a dataframe object to store the scrapped data.\n",
    "import pandas as pd\n",
    "df=pd.DataFrame({'companies':companies[0:10],'no_of_salaries':no_of_salaries[0:10],'min_max_sal':min_max_sal[0:10],'avg_sal':avg_sal[0:10]})\n",
    "df"
   ]
  },
  {
   "cell_type": "markdown",
   "metadata": {},
   "source": [
    "# Question No:6"
   ]
  },
  {
   "cell_type": "code",
   "execution_count": 222,
   "metadata": {},
   "outputs": [],
   "source": [
    "# Importing essential libraries.\n",
    "import selenium\n",
    "from selenium import webdriver\n",
    "# Configure the webdriver.\n",
    "driver = webdriver.Chrome('/Users/nlohith/Desktop/chromedriver')"
   ]
  },
  {
   "cell_type": "code",
   "execution_count": 223,
   "metadata": {},
   "outputs": [],
   "source": [
    "# Get the URL link.\n",
    "url = 'https://www.flipkart.com/'"
   ]
  },
  {
   "cell_type": "code",
   "execution_count": 224,
   "metadata": {},
   "outputs": [],
   "source": [
    "driver.get(url)"
   ]
  },
  {
   "cell_type": "code",
   "execution_count": 225,
   "metadata": {},
   "outputs": [],
   "source": [
    "# Creating empty lists for scraping data.\n",
    "brand = []\n",
    "product_description = []\n",
    "price = []\n",
    "discount = []"
   ]
  },
  {
   "cell_type": "code",
   "execution_count": 234,
   "metadata": {},
   "outputs": [],
   "source": [
    "# Scraping the Brand.\n",
    "Brand = driver.find_elements_by_xpath(\"//div[@class='_2WkVRV']\")"
   ]
  },
  {
   "cell_type": "code",
   "execution_count": 235,
   "metadata": {},
   "outputs": [
    {
     "data": {
      "text/plain": [
       "[<selenium.webdriver.remote.webelement.WebElement (session=\"a039a6405b7aff74cb606e707b9d9a16\", element=\"f4d98987-ffd7-4b90-81ec-fc6eea5a1206\")>,\n",
       " <selenium.webdriver.remote.webelement.WebElement (session=\"a039a6405b7aff74cb606e707b9d9a16\", element=\"0ce46cf4-e9a4-402d-998e-5ce88d709bfb\")>,\n",
       " <selenium.webdriver.remote.webelement.WebElement (session=\"a039a6405b7aff74cb606e707b9d9a16\", element=\"35b4b30b-5f43-461f-9756-4257a7161cb7\")>,\n",
       " <selenium.webdriver.remote.webelement.WebElement (session=\"a039a6405b7aff74cb606e707b9d9a16\", element=\"806378a6-a83f-4313-97a6-971f14c8471d\")>,\n",
       " <selenium.webdriver.remote.webelement.WebElement (session=\"a039a6405b7aff74cb606e707b9d9a16\", element=\"489605ff-2ca2-4528-887c-9e6f83d6a90a\")>]"
      ]
     },
     "execution_count": 235,
     "metadata": {},
     "output_type": "execute_result"
    }
   ],
   "source": [
    "Brand[:5]"
   ]
  },
  {
   "cell_type": "code",
   "execution_count": 236,
   "metadata": {},
   "outputs": [],
   "source": [
    "for i in Brand:\n",
    "    com=i.text\n",
    "    brand.append(com)"
   ]
  },
  {
   "cell_type": "code",
   "execution_count": 237,
   "metadata": {},
   "outputs": [
    {
     "data": {
      "text/plain": [
       "['ROZZETTA CRAFT',\n",
       " 'ROZZETTA CRAFT',\n",
       " 'FDA COLLECTION',\n",
       " 'Riffko',\n",
       " 'shah collections',\n",
       " 'Phenomenal',\n",
       " 'Fastrack',\n",
       " 'povty',\n",
       " 'like future',\n",
       " 'shah collections']"
      ]
     },
     "execution_count": 237,
     "metadata": {},
     "output_type": "execute_result"
    }
   ],
   "source": [
    "brand[:10]"
   ]
  },
  {
   "cell_type": "code",
   "execution_count": 238,
   "metadata": {},
   "outputs": [],
   "source": [
    "# Scraping the Product_description.\n",
    "Product_description = driver.find_elements_by_xpath(\"//a[@class='IRpwTa']\")"
   ]
  },
  {
   "cell_type": "code",
   "execution_count": 239,
   "metadata": {},
   "outputs": [
    {
     "data": {
      "text/plain": [
       "[<selenium.webdriver.remote.webelement.WebElement (session=\"a039a6405b7aff74cb606e707b9d9a16\", element=\"f51f35ab-f034-4cc2-b860-536ba0ae1099\")>,\n",
       " <selenium.webdriver.remote.webelement.WebElement (session=\"a039a6405b7aff74cb606e707b9d9a16\", element=\"f8cb09b2-e37d-4984-abc7-b8d2746ba3c3\")>,\n",
       " <selenium.webdriver.remote.webelement.WebElement (session=\"a039a6405b7aff74cb606e707b9d9a16\", element=\"5039d7c5-f949-4fc1-9c39-7f99f635be78\")>,\n",
       " <selenium.webdriver.remote.webelement.WebElement (session=\"a039a6405b7aff74cb606e707b9d9a16\", element=\"3031be26-0cea-4ce2-91c4-9a1c1ced6c9f\")>,\n",
       " <selenium.webdriver.remote.webelement.WebElement (session=\"a039a6405b7aff74cb606e707b9d9a16\", element=\"b9191ce9-bb57-490c-9e3c-43d415ca5026\")>]"
      ]
     },
     "execution_count": 239,
     "metadata": {},
     "output_type": "execute_result"
    }
   ],
   "source": [
    "Product_description[:5]"
   ]
  },
  {
   "cell_type": "code",
   "execution_count": 240,
   "metadata": {},
   "outputs": [],
   "source": [
    "for i in Product_description:\n",
    "    desc=i.text\n",
    "    product_description.append(desc)"
   ]
  },
  {
   "cell_type": "code",
   "execution_count": 241,
   "metadata": {},
   "outputs": [
    {
     "data": {
      "text/plain": [
       "['Polarized, Gradient, UV Protection Round Sunglasses (Fr...',\n",
       " 'UV Protection, Mirrored Round Sunglasses (Free Size)',\n",
       " 'Gradient, Mirrored, UV Protection Round, Round, Round S...',\n",
       " 'UV Protection, Polarized, Mirrored Rectangular Sunglass...',\n",
       " 'UV Protection, Mirrored Retro Square Sunglasses (53)',\n",
       " 'Gradient, UV Protection Wayfarer Sunglasses (Free Size)',\n",
       " 'UV Protection Wayfarer Sunglasses (Free Size)',\n",
       " 'Mirrored Aviator Sunglasses (Free Size)',\n",
       " 'UV Protection Round Sunglasses (Free Size)',\n",
       " 'UV Protection, Gradient Rectangular Sunglasses (Free Si...']"
      ]
     },
     "execution_count": 241,
     "metadata": {},
     "output_type": "execute_result"
    }
   ],
   "source": [
    "product_description[:10]"
   ]
  },
  {
   "cell_type": "code",
   "execution_count": 242,
   "metadata": {},
   "outputs": [],
   "source": [
    "# Scraping the Price.\n",
    "Price = driver.find_elements_by_xpath(\"//div[@class='_30jeq3']\")"
   ]
  },
  {
   "cell_type": "code",
   "execution_count": 243,
   "metadata": {},
   "outputs": [
    {
     "data": {
      "text/plain": [
       "[<selenium.webdriver.remote.webelement.WebElement (session=\"a039a6405b7aff74cb606e707b9d9a16\", element=\"6fb98bf3-923c-4e49-b84c-74b24d1c625d\")>,\n",
       " <selenium.webdriver.remote.webelement.WebElement (session=\"a039a6405b7aff74cb606e707b9d9a16\", element=\"26b4defb-e8d4-47d1-a931-6b80b3fb9117\")>,\n",
       " <selenium.webdriver.remote.webelement.WebElement (session=\"a039a6405b7aff74cb606e707b9d9a16\", element=\"8a87bffb-12ce-4356-a243-c5a77a94d200\")>,\n",
       " <selenium.webdriver.remote.webelement.WebElement (session=\"a039a6405b7aff74cb606e707b9d9a16\", element=\"775a93b6-58cf-47df-a04a-21393fa0c640\")>,\n",
       " <selenium.webdriver.remote.webelement.WebElement (session=\"a039a6405b7aff74cb606e707b9d9a16\", element=\"fb27dc22-516b-42c1-bd6d-5dac02d052c7\")>]"
      ]
     },
     "execution_count": 243,
     "metadata": {},
     "output_type": "execute_result"
    }
   ],
   "source": [
    "Price[:5]"
   ]
  },
  {
   "cell_type": "code",
   "execution_count": 244,
   "metadata": {},
   "outputs": [],
   "source": [
    "for i in Price:\n",
    "    cost=i.text\n",
    "    price.append(cost)"
   ]
  },
  {
   "cell_type": "code",
   "execution_count": 245,
   "metadata": {},
   "outputs": [
    {
     "data": {
      "text/plain": [
       "['₹426',\n",
       " '₹404',\n",
       " '₹199',\n",
       " '₹170',\n",
       " '₹219',\n",
       " '₹399',\n",
       " '₹559',\n",
       " '₹244',\n",
       " '₹181',\n",
       " '₹331']"
      ]
     },
     "execution_count": 245,
     "metadata": {},
     "output_type": "execute_result"
    }
   ],
   "source": [
    "price[:10]"
   ]
  },
  {
   "cell_type": "code",
   "execution_count": 246,
   "metadata": {},
   "outputs": [],
   "source": [
    "# Scraping the Discount.\n",
    "Discount = driver.find_elements_by_xpath('//div[@class=\"_3Ay6Sb\"]')"
   ]
  },
  {
   "cell_type": "code",
   "execution_count": 247,
   "metadata": {},
   "outputs": [
    {
     "data": {
      "text/plain": [
       "[<selenium.webdriver.remote.webelement.WebElement (session=\"a039a6405b7aff74cb606e707b9d9a16\", element=\"bcca7bbe-e118-48fa-bc15-135d7943025e\")>,\n",
       " <selenium.webdriver.remote.webelement.WebElement (session=\"a039a6405b7aff74cb606e707b9d9a16\", element=\"72c0bd27-4d76-4dd8-9c56-55577193286f\")>,\n",
       " <selenium.webdriver.remote.webelement.WebElement (session=\"a039a6405b7aff74cb606e707b9d9a16\", element=\"e7b66df6-c224-46d8-b82b-a3e18397860b\")>,\n",
       " <selenium.webdriver.remote.webelement.WebElement (session=\"a039a6405b7aff74cb606e707b9d9a16\", element=\"4034d1f0-3d39-4c87-b0e8-6fdcaee4625a\")>,\n",
       " <selenium.webdriver.remote.webelement.WebElement (session=\"a039a6405b7aff74cb606e707b9d9a16\", element=\"1cfe20b8-1d7b-4451-bc06-3021ca08f80b\")>]"
      ]
     },
     "execution_count": 247,
     "metadata": {},
     "output_type": "execute_result"
    }
   ],
   "source": [
    "Discount[:5]"
   ]
  },
  {
   "cell_type": "code",
   "execution_count": 248,
   "metadata": {},
   "outputs": [],
   "source": [
    "for i in Discount:\n",
    "    offer=i.text\n",
    "    discount.append(offer)"
   ]
  },
  {
   "cell_type": "code",
   "execution_count": 249,
   "metadata": {},
   "outputs": [
    {
     "data": {
      "text/plain": [
       "['78% off',\n",
       " '84% off',\n",
       " '84% off',\n",
       " '85% off',\n",
       " '78% off',\n",
       " '80% off',\n",
       " '30% off',\n",
       " '75% off',\n",
       " '83% off',\n",
       " '80% off']"
      ]
     },
     "execution_count": 249,
     "metadata": {},
     "output_type": "execute_result"
    }
   ],
   "source": [
    "discount[:10]"
   ]
  },
  {
   "cell_type": "code",
   "execution_count": 250,
   "metadata": {},
   "outputs": [],
   "source": [
    "# Scraping the next_page.\n",
    "next_page=driver.find_elements_by_xpath(\"//a[@class='_1LKTO3']\")"
   ]
  },
  {
   "cell_type": "code",
   "execution_count": 251,
   "metadata": {},
   "outputs": [
    {
     "data": {
      "text/plain": [
       "[<selenium.webdriver.remote.webelement.WebElement (session=\"a039a6405b7aff74cb606e707b9d9a16\", element=\"fb20aa54-c7f8-4264-9acd-102e9a6ade68\")>]"
      ]
     },
     "execution_count": 251,
     "metadata": {},
     "output_type": "execute_result"
    }
   ],
   "source": [
    "next_page[:2]"
   ]
  },
  {
   "cell_type": "code",
   "execution_count": 252,
   "metadata": {},
   "outputs": [],
   "source": [
    "# Creating empty lists for scraping data.\n",
    "brand1=[]\n",
    "product_description1=[]\n",
    "price1=[]\n",
    "discount1=[]"
   ]
  },
  {
   "cell_type": "code",
   "execution_count": 253,
   "metadata": {},
   "outputs": [],
   "source": [
    "# Scraping the Brand1 from next page.\n",
    "Brand1=driver.find_elements_by_xpath(\"//div[@class='_2WkVRV']\")"
   ]
  },
  {
   "cell_type": "code",
   "execution_count": 254,
   "metadata": {},
   "outputs": [
    {
     "data": {
      "text/plain": [
       "[<selenium.webdriver.remote.webelement.WebElement (session=\"a039a6405b7aff74cb606e707b9d9a16\", element=\"f4d98987-ffd7-4b90-81ec-fc6eea5a1206\")>,\n",
       " <selenium.webdriver.remote.webelement.WebElement (session=\"a039a6405b7aff74cb606e707b9d9a16\", element=\"0ce46cf4-e9a4-402d-998e-5ce88d709bfb\")>,\n",
       " <selenium.webdriver.remote.webelement.WebElement (session=\"a039a6405b7aff74cb606e707b9d9a16\", element=\"35b4b30b-5f43-461f-9756-4257a7161cb7\")>,\n",
       " <selenium.webdriver.remote.webelement.WebElement (session=\"a039a6405b7aff74cb606e707b9d9a16\", element=\"806378a6-a83f-4313-97a6-971f14c8471d\")>,\n",
       " <selenium.webdriver.remote.webelement.WebElement (session=\"a039a6405b7aff74cb606e707b9d9a16\", element=\"489605ff-2ca2-4528-887c-9e6f83d6a90a\")>]"
      ]
     },
     "execution_count": 254,
     "metadata": {},
     "output_type": "execute_result"
    }
   ],
   "source": [
    "Brand1[:5]"
   ]
  },
  {
   "cell_type": "code",
   "execution_count": 255,
   "metadata": {},
   "outputs": [],
   "source": [
    "for i in Brand1:\n",
    "    com=i.text\n",
    "    brand1.append(com)"
   ]
  },
  {
   "cell_type": "code",
   "execution_count": 256,
   "metadata": {},
   "outputs": [
    {
     "data": {
      "text/plain": [
       "['ROZZETTA CRAFT',\n",
       " 'ROZZETTA CRAFT',\n",
       " 'FDA COLLECTION',\n",
       " 'Riffko',\n",
       " 'shah collections',\n",
       " 'Phenomenal',\n",
       " 'Fastrack',\n",
       " 'povty',\n",
       " 'like future',\n",
       " 'shah collections']"
      ]
     },
     "execution_count": 256,
     "metadata": {},
     "output_type": "execute_result"
    }
   ],
   "source": [
    "brand1[:10]"
   ]
  },
  {
   "cell_type": "code",
   "execution_count": 257,
   "metadata": {},
   "outputs": [],
   "source": [
    "# Scraping the Product_description1 from next page.\n",
    "Product_description1 = driver.find_elements_by_xpath(\"//a[@class='IRpwTa']\")"
   ]
  },
  {
   "cell_type": "code",
   "execution_count": 258,
   "metadata": {},
   "outputs": [
    {
     "data": {
      "text/plain": [
       "[<selenium.webdriver.remote.webelement.WebElement (session=\"a039a6405b7aff74cb606e707b9d9a16\", element=\"f51f35ab-f034-4cc2-b860-536ba0ae1099\")>,\n",
       " <selenium.webdriver.remote.webelement.WebElement (session=\"a039a6405b7aff74cb606e707b9d9a16\", element=\"f8cb09b2-e37d-4984-abc7-b8d2746ba3c3\")>,\n",
       " <selenium.webdriver.remote.webelement.WebElement (session=\"a039a6405b7aff74cb606e707b9d9a16\", element=\"5039d7c5-f949-4fc1-9c39-7f99f635be78\")>,\n",
       " <selenium.webdriver.remote.webelement.WebElement (session=\"a039a6405b7aff74cb606e707b9d9a16\", element=\"3031be26-0cea-4ce2-91c4-9a1c1ced6c9f\")>,\n",
       " <selenium.webdriver.remote.webelement.WebElement (session=\"a039a6405b7aff74cb606e707b9d9a16\", element=\"b9191ce9-bb57-490c-9e3c-43d415ca5026\")>]"
      ]
     },
     "execution_count": 258,
     "metadata": {},
     "output_type": "execute_result"
    }
   ],
   "source": [
    "Product_description1[:5]"
   ]
  },
  {
   "cell_type": "code",
   "execution_count": 259,
   "metadata": {},
   "outputs": [],
   "source": [
    "for i in Product_description1:\n",
    "    desc=i.text\n",
    "    product_description1.append(desc)"
   ]
  },
  {
   "cell_type": "code",
   "execution_count": 260,
   "metadata": {},
   "outputs": [
    {
     "data": {
      "text/plain": [
       "['Polarized, Gradient, UV Protection Round Sunglasses (Fr...',\n",
       " 'UV Protection, Mirrored Round Sunglasses (Free Size)',\n",
       " 'Gradient, Mirrored, UV Protection Round, Round, Round S...',\n",
       " 'UV Protection, Polarized, Mirrored Rectangular Sunglass...',\n",
       " 'UV Protection, Mirrored Retro Square Sunglasses (53)',\n",
       " 'Gradient, UV Protection Wayfarer Sunglasses (Free Size)',\n",
       " 'UV Protection Wayfarer Sunglasses (Free Size)',\n",
       " 'Mirrored Aviator Sunglasses (Free Size)',\n",
       " 'UV Protection Round Sunglasses (Free Size)',\n",
       " 'UV Protection, Gradient Rectangular Sunglasses (Free Si...']"
      ]
     },
     "execution_count": 260,
     "metadata": {},
     "output_type": "execute_result"
    }
   ],
   "source": [
    "product_description1[:10]"
   ]
  },
  {
   "cell_type": "code",
   "execution_count": 261,
   "metadata": {},
   "outputs": [],
   "source": [
    "# Scraping the Price1 from next page.\n",
    "Price1 = driver.find_elements_by_xpath(\"//div[@class='_30jeq3']\")"
   ]
  },
  {
   "cell_type": "code",
   "execution_count": 262,
   "metadata": {},
   "outputs": [
    {
     "data": {
      "text/plain": [
       "[<selenium.webdriver.remote.webelement.WebElement (session=\"a039a6405b7aff74cb606e707b9d9a16\", element=\"6fb98bf3-923c-4e49-b84c-74b24d1c625d\")>,\n",
       " <selenium.webdriver.remote.webelement.WebElement (session=\"a039a6405b7aff74cb606e707b9d9a16\", element=\"26b4defb-e8d4-47d1-a931-6b80b3fb9117\")>,\n",
       " <selenium.webdriver.remote.webelement.WebElement (session=\"a039a6405b7aff74cb606e707b9d9a16\", element=\"8a87bffb-12ce-4356-a243-c5a77a94d200\")>,\n",
       " <selenium.webdriver.remote.webelement.WebElement (session=\"a039a6405b7aff74cb606e707b9d9a16\", element=\"775a93b6-58cf-47df-a04a-21393fa0c640\")>,\n",
       " <selenium.webdriver.remote.webelement.WebElement (session=\"a039a6405b7aff74cb606e707b9d9a16\", element=\"fb27dc22-516b-42c1-bd6d-5dac02d052c7\")>]"
      ]
     },
     "execution_count": 262,
     "metadata": {},
     "output_type": "execute_result"
    }
   ],
   "source": [
    "Price1[:5]"
   ]
  },
  {
   "cell_type": "code",
   "execution_count": 263,
   "metadata": {},
   "outputs": [],
   "source": [
    "for i in Price1:\n",
    "    cost=i.text\n",
    "    price1.append(cost)"
   ]
  },
  {
   "cell_type": "code",
   "execution_count": 264,
   "metadata": {},
   "outputs": [
    {
     "data": {
      "text/plain": [
       "['₹426',\n",
       " '₹404',\n",
       " '₹199',\n",
       " '₹170',\n",
       " '₹219',\n",
       " '₹399',\n",
       " '₹559',\n",
       " '₹244',\n",
       " '₹181',\n",
       " '₹331']"
      ]
     },
     "execution_count": 264,
     "metadata": {},
     "output_type": "execute_result"
    }
   ],
   "source": [
    "price1[:10]"
   ]
  },
  {
   "cell_type": "code",
   "execution_count": 265,
   "metadata": {},
   "outputs": [],
   "source": [
    "# Scraping the Discount1 from next page.\n",
    "Discount1= driver.find_elements_by_xpath('//div[@class=\"_3Ay6Sb\"]')"
   ]
  },
  {
   "cell_type": "code",
   "execution_count": 266,
   "metadata": {},
   "outputs": [
    {
     "data": {
      "text/plain": [
       "[<selenium.webdriver.remote.webelement.WebElement (session=\"a039a6405b7aff74cb606e707b9d9a16\", element=\"bcca7bbe-e118-48fa-bc15-135d7943025e\")>,\n",
       " <selenium.webdriver.remote.webelement.WebElement (session=\"a039a6405b7aff74cb606e707b9d9a16\", element=\"72c0bd27-4d76-4dd8-9c56-55577193286f\")>,\n",
       " <selenium.webdriver.remote.webelement.WebElement (session=\"a039a6405b7aff74cb606e707b9d9a16\", element=\"e7b66df6-c224-46d8-b82b-a3e18397860b\")>,\n",
       " <selenium.webdriver.remote.webelement.WebElement (session=\"a039a6405b7aff74cb606e707b9d9a16\", element=\"4034d1f0-3d39-4c87-b0e8-6fdcaee4625a\")>,\n",
       " <selenium.webdriver.remote.webelement.WebElement (session=\"a039a6405b7aff74cb606e707b9d9a16\", element=\"1cfe20b8-1d7b-4451-bc06-3021ca08f80b\")>]"
      ]
     },
     "execution_count": 266,
     "metadata": {},
     "output_type": "execute_result"
    }
   ],
   "source": [
    "Discount1[:5]"
   ]
  },
  {
   "cell_type": "code",
   "execution_count": 267,
   "metadata": {},
   "outputs": [],
   "source": [
    "for i in Discount1:\n",
    "    offer=i.text\n",
    "    discount1.append(offer)"
   ]
  },
  {
   "cell_type": "code",
   "execution_count": 268,
   "metadata": {},
   "outputs": [
    {
     "data": {
      "text/plain": [
       "['78% off',\n",
       " '84% off',\n",
       " '84% off',\n",
       " '85% off',\n",
       " '78% off',\n",
       " '80% off',\n",
       " '30% off',\n",
       " '75% off',\n",
       " '83% off',\n",
       " '80% off']"
      ]
     },
     "execution_count": 268,
     "metadata": {},
     "output_type": "execute_result"
    }
   ],
   "source": [
    "discount1[:10]"
   ]
  },
  {
   "cell_type": "code",
   "execution_count": 271,
   "metadata": {},
   "outputs": [],
   "source": [
    "# once again scrap the next page.\n",
    "next_page1=driver.find_elements_by_xpath(\"//a[@class='_1LKTO3']\")"
   ]
  },
  {
   "cell_type": "code",
   "execution_count": 272,
   "metadata": {},
   "outputs": [
    {
     "data": {
      "text/plain": [
       "[<selenium.webdriver.remote.webelement.WebElement (session=\"a039a6405b7aff74cb606e707b9d9a16\", element=\"1258f253-339b-4bc0-ae02-e9bd1f60af09\")>,\n",
       " <selenium.webdriver.remote.webelement.WebElement (session=\"a039a6405b7aff74cb606e707b9d9a16\", element=\"fb20aa54-c7f8-4264-9acd-102e9a6ade68\")>]"
      ]
     },
     "execution_count": 272,
     "metadata": {},
     "output_type": "execute_result"
    }
   ],
   "source": [
    "next_page1[:3]"
   ]
  },
  {
   "cell_type": "code",
   "execution_count": 273,
   "metadata": {},
   "outputs": [],
   "source": [
    "# Creating empty lists for scraping data.\n",
    "brand2=[]\n",
    "product_description2=[]\n",
    "price2=[]\n",
    "discount2=[]"
   ]
  },
  {
   "cell_type": "code",
   "execution_count": 282,
   "metadata": {},
   "outputs": [],
   "source": [
    "# Scraping the Brand2 from next page.\n",
    "Brand2=driver.find_elements_by_xpath(\"//div[@class='_2WkVRV']\")"
   ]
  },
  {
   "cell_type": "code",
   "execution_count": 283,
   "metadata": {},
   "outputs": [
    {
     "data": {
      "text/plain": [
       "[<selenium.webdriver.remote.webelement.WebElement (session=\"a039a6405b7aff74cb606e707b9d9a16\", element=\"a6da338c-899d-4c0a-ab55-55256b87d9d3\")>,\n",
       " <selenium.webdriver.remote.webelement.WebElement (session=\"a039a6405b7aff74cb606e707b9d9a16\", element=\"63320dc6-69f6-4624-a1af-1448210557dc\")>,\n",
       " <selenium.webdriver.remote.webelement.WebElement (session=\"a039a6405b7aff74cb606e707b9d9a16\", element=\"f487a3d0-8d5f-473e-a771-cd0fdcc7513b\")>,\n",
       " <selenium.webdriver.remote.webelement.WebElement (session=\"a039a6405b7aff74cb606e707b9d9a16\", element=\"e14927ca-55af-468d-bbce-ce57b5635528\")>,\n",
       " <selenium.webdriver.remote.webelement.WebElement (session=\"a039a6405b7aff74cb606e707b9d9a16\", element=\"0e984a6d-fd26-41d8-9cab-e753d9ce9f6c\")>]"
      ]
     },
     "execution_count": 283,
     "metadata": {},
     "output_type": "execute_result"
    }
   ],
   "source": [
    "Brand2[:5]"
   ]
  },
  {
   "cell_type": "code",
   "execution_count": 284,
   "metadata": {},
   "outputs": [],
   "source": [
    "for i in Brand2:\n",
    "    com=i.text\n",
    "    brand2.append(com)"
   ]
  },
  {
   "cell_type": "code",
   "execution_count": 285,
   "metadata": {},
   "outputs": [
    {
     "data": {
      "text/plain": [
       "['ROZZETTA CRAFT',\n",
       " 'GLAND',\n",
       " 'Rich Club',\n",
       " 'Riffko',\n",
       " 'Fastrack',\n",
       " 'Fastrack',\n",
       " 'Aislin',\n",
       " 'like future',\n",
       " 'shadz',\n",
       " 'Royal Son']"
      ]
     },
     "execution_count": 285,
     "metadata": {},
     "output_type": "execute_result"
    }
   ],
   "source": [
    "brand2[:10]"
   ]
  },
  {
   "cell_type": "code",
   "execution_count": 287,
   "metadata": {},
   "outputs": [],
   "source": [
    "# Scraping the Product_description2 from next page.\n",
    "Product_description2 = driver.find_elements_by_xpath(\"//a[@class='IRpwTa']\")"
   ]
  },
  {
   "cell_type": "code",
   "execution_count": 288,
   "metadata": {},
   "outputs": [
    {
     "data": {
      "text/plain": [
       "[<selenium.webdriver.remote.webelement.WebElement (session=\"a039a6405b7aff74cb606e707b9d9a16\", element=\"eadf2e9d-bc48-4514-9ce5-efa2ef591fbc\")>,\n",
       " <selenium.webdriver.remote.webelement.WebElement (session=\"a039a6405b7aff74cb606e707b9d9a16\", element=\"c9ddb8a6-9c3b-4084-8125-48d3d9535495\")>,\n",
       " <selenium.webdriver.remote.webelement.WebElement (session=\"a039a6405b7aff74cb606e707b9d9a16\", element=\"701fe491-9b26-4915-8e35-4750f9434b4b\")>,\n",
       " <selenium.webdriver.remote.webelement.WebElement (session=\"a039a6405b7aff74cb606e707b9d9a16\", element=\"7af8240f-adcd-43ce-852e-a8c6d22720f3\")>,\n",
       " <selenium.webdriver.remote.webelement.WebElement (session=\"a039a6405b7aff74cb606e707b9d9a16\", element=\"190f9dc6-d52a-4ed3-abfa-82c8720d1cca\")>]"
      ]
     },
     "execution_count": 288,
     "metadata": {},
     "output_type": "execute_result"
    }
   ],
   "source": [
    "Product_description2[:5]"
   ]
  },
  {
   "cell_type": "code",
   "execution_count": 289,
   "metadata": {},
   "outputs": [],
   "source": [
    "for i in Product_description2:\n",
    "    desc=i.text\n",
    "    product_description2.append(desc)"
   ]
  },
  {
   "cell_type": "code",
   "execution_count": 290,
   "metadata": {},
   "outputs": [
    {
     "data": {
      "text/plain": [
       "['UV Protection, Mirrored Round Sunglasses (Free Size)',\n",
       " 'UV Protection Sports Sunglasses (55)',\n",
       " 'UV Protection, Mirrored, Gradient Round Sunglasses (51)',\n",
       " 'UV Protection Rectangular Sunglasses (59)',\n",
       " 'UV Protection Round Sunglasses (52)',\n",
       " 'UV Protection, Gradient Butterfly, Retro Square Sunglas...',\n",
       " 'Mirrored Round Sunglasses (Free Size)',\n",
       " 'UV Protection Wayfarer Sunglasses (55)',\n",
       " 'UV Protection Aviator Sunglasses (54)',\n",
       " 'UV Protection, Mirrored Retro Square Sunglasses (Free S...']"
      ]
     },
     "execution_count": 290,
     "metadata": {},
     "output_type": "execute_result"
    }
   ],
   "source": [
    "product_description2[:10]"
   ]
  },
  {
   "cell_type": "code",
   "execution_count": 292,
   "metadata": {},
   "outputs": [],
   "source": [
    "# Scraping the Price2 from next page.\n",
    "Price2 = driver.find_elements_by_xpath(\"//div[@class='_30jeq3']\")"
   ]
  },
  {
   "cell_type": "code",
   "execution_count": 293,
   "metadata": {},
   "outputs": [
    {
     "data": {
      "text/plain": [
       "[<selenium.webdriver.remote.webelement.WebElement (session=\"a039a6405b7aff74cb606e707b9d9a16\", element=\"e52bf9f8-cb52-4886-a118-e5ee8d129db0\")>,\n",
       " <selenium.webdriver.remote.webelement.WebElement (session=\"a039a6405b7aff74cb606e707b9d9a16\", element=\"f91429b5-a719-4f7d-a793-bb1b0321089f\")>,\n",
       " <selenium.webdriver.remote.webelement.WebElement (session=\"a039a6405b7aff74cb606e707b9d9a16\", element=\"3949b8e5-3145-4402-8160-45d3718e9987\")>,\n",
       " <selenium.webdriver.remote.webelement.WebElement (session=\"a039a6405b7aff74cb606e707b9d9a16\", element=\"9307af9c-eee5-4c71-9795-6dce4f2a3b61\")>,\n",
       " <selenium.webdriver.remote.webelement.WebElement (session=\"a039a6405b7aff74cb606e707b9d9a16\", element=\"1057af82-3971-4c5b-b43d-0eaf92f463c9\")>]"
      ]
     },
     "execution_count": 293,
     "metadata": {},
     "output_type": "execute_result"
    }
   ],
   "source": [
    "Price2[:5]"
   ]
  },
  {
   "cell_type": "code",
   "execution_count": 294,
   "metadata": {},
   "outputs": [],
   "source": [
    "for i in Price2:\n",
    "    cost=i.text\n",
    "    price2.append(cost)"
   ]
  },
  {
   "cell_type": "code",
   "execution_count": 295,
   "metadata": {},
   "outputs": [
    {
     "data": {
      "text/plain": [
       "['₹404',\n",
       " '₹242',\n",
       " '₹225',\n",
       " '₹170',\n",
       " '₹1,039',\n",
       " '₹1,067',\n",
       " '₹425',\n",
       " '₹179',\n",
       " '₹156',\n",
       " '₹224']"
      ]
     },
     "execution_count": 295,
     "metadata": {},
     "output_type": "execute_result"
    }
   ],
   "source": [
    "price2[:10]"
   ]
  },
  {
   "cell_type": "code",
   "execution_count": 297,
   "metadata": {},
   "outputs": [],
   "source": [
    "# Scraping the Discount2 from next page.\n",
    "Discount2= driver.find_elements_by_xpath('//div[@class=\"_3Ay6Sb\"]')"
   ]
  },
  {
   "cell_type": "code",
   "execution_count": 298,
   "metadata": {},
   "outputs": [
    {
     "data": {
      "text/plain": [
       "[<selenium.webdriver.remote.webelement.WebElement (session=\"a039a6405b7aff74cb606e707b9d9a16\", element=\"e3c41386-4528-4599-acc8-fd54ac7ada36\")>,\n",
       " <selenium.webdriver.remote.webelement.WebElement (session=\"a039a6405b7aff74cb606e707b9d9a16\", element=\"1ffe8e1d-b61e-4910-9b05-c04cfa7bc4a6\")>,\n",
       " <selenium.webdriver.remote.webelement.WebElement (session=\"a039a6405b7aff74cb606e707b9d9a16\", element=\"7707211b-e019-4cf5-b729-a38738966b29\")>,\n",
       " <selenium.webdriver.remote.webelement.WebElement (session=\"a039a6405b7aff74cb606e707b9d9a16\", element=\"52a1d45c-e5e0-4cac-9875-c81dd86af866\")>,\n",
       " <selenium.webdriver.remote.webelement.WebElement (session=\"a039a6405b7aff74cb606e707b9d9a16\", element=\"1c961cd3-9d41-41bc-9d28-f655675c2b6a\")>]"
      ]
     },
     "execution_count": 298,
     "metadata": {},
     "output_type": "execute_result"
    }
   ],
   "source": [
    "Discount2[:5]"
   ]
  },
  {
   "cell_type": "code",
   "execution_count": 299,
   "metadata": {},
   "outputs": [],
   "source": [
    "for i in Discount2:\n",
    "    offer=i.text\n",
    "    discount2.append(offer)"
   ]
  },
  {
   "cell_type": "code",
   "execution_count": 300,
   "metadata": {},
   "outputs": [
    {
     "data": {
      "text/plain": [
       "['84% off',\n",
       " '79% off',\n",
       " '71% off',\n",
       " '85% off',\n",
       " '20% off',\n",
       " '17% off',\n",
       " '72% off',\n",
       " '83% off',\n",
       " '87% off',\n",
       " '82% off']"
      ]
     },
     "execution_count": 300,
     "metadata": {},
     "output_type": "execute_result"
    }
   ],
   "source": [
    "discount2[:10]"
   ]
  },
  {
   "cell_type": "code",
   "execution_count": 301,
   "metadata": {},
   "outputs": [
    {
     "name": "stdout",
     "output_type": "stream",
     "text": [
      "['ROZZETTA CRAFT', 'ROZZETTA CRAFT', 'FDA COLLECTION', 'Riffko', 'shah collections', 'Phenomenal', 'Fastrack', 'povty', 'like future', 'shah collections', 'ROZZETTA CRAFT', 'Deixels', 'PIRASO', 'Royal Son', 'Fastrack', 'FDA COLLECTION', 'Fastrack', 'kingsunglasses', 'ROZZETTA CRAFT', 'Rozzetta Craft', 'funglasses', 'Royal Son', 'ETRG', 'Royal Son', 'Phenomenal', 'Fastrack', 'Creative Group', 'Trendy Glasses', 'peter india', 'Royal Son', 'Royal Son', 'ROZZETTA CRAFT', 'Fastrack', 'Flizz', 'EYELLUSION', 'ROZZETTA CRAFT', 'Fastrack', 'Fastrack', 'LOPO', 'ROZZETTA CRAFT', 'ROZZETTA CRAFT', 'ROZZETTA CRAFT', 'FDA COLLECTION', 'Riffko', 'shah collections', 'Phenomenal', 'Fastrack', 'povty', 'like future', 'shah collections', 'ROZZETTA CRAFT', 'Deixels', 'PIRASO', 'Royal Son', 'Fastrack', 'FDA COLLECTION', 'Fastrack', 'kingsunglasses', 'ROZZETTA CRAFT', 'Rozzetta Craft', 'funglasses', 'Royal Son', 'ETRG', 'Royal Son', 'Phenomenal', 'Fastrack', 'Creative Group', 'Trendy Glasses', 'peter india', 'Royal Son', 'Royal Son', 'ROZZETTA CRAFT', 'Fastrack', 'Flizz', 'EYELLUSION', 'ROZZETTA CRAFT', 'Fastrack', 'Fastrack', 'LOPO', 'ROZZETTA CRAFT', 'ROZZETTA CRAFT', 'GLAND', 'Rich Club', 'Riffko', 'Fastrack', 'Fastrack', 'Aislin', 'like future', 'shadz', 'Royal Son', 'PIRASO', 'Phenomenal', 'Gansta', 'Royal Son', 'Riffko', 'shah collections', 'Royal Son', 'Dannilo', 'Silver Kartz', 'Royal Son', 'Phenomenal', 'ALEYBEE', 'Fastrack', 'Royal Son', 'shah collections', 'ROYAL SON', 'The Blue Pink', 'SunTap', 'Fastrack', 'Royal Son', 'David Martin', 'shah collections', 'Fastrack', 'Flizz', 'Royal Son', 'I Flash', 'STYLISH GUYS', 'Royal Son', 'kingsunglasses', 'Aislin', 'ROZZETTA CRAFT', 'GLAND', 'Rich Club', 'Riffko', 'Fastrack', 'Fastrack', 'Aislin', 'like future', 'shadz', 'Royal Son', 'PIRASO', 'Phenomenal', 'Gansta', 'Royal Son', 'Riffko', 'shah collections', 'Royal Son', 'Dannilo', 'Silver Kartz', 'Royal Son', 'Phenomenal', 'ALEYBEE', 'Fastrack', 'Royal Son', 'shah collections', 'ROYAL SON', 'The Blue Pink', 'SunTap', 'Fastrack', 'Royal Son', 'David Martin', 'shah collections', 'Fastrack', 'Flizz', 'Royal Son', 'I Flash', 'STYLISH GUYS', 'Royal Son', 'kingsunglasses', 'Aislin'] ['₹426', '₹404', '₹199', '₹170', '₹219', '₹399', '₹559', '₹244', '₹181', '₹331', '₹404', '₹179', '₹349', '₹439', '₹913', '₹188', '₹703', '₹284', '₹449', '₹474', '₹161', '₹351', '₹188', '₹615', '₹399', '₹622', '₹245', '₹245', '₹165', '₹351', '₹224', '₹426', '₹606', '₹274', '₹299', '₹449', '₹643', '₹629', '₹143', '₹380', '₹426', '₹404', '₹199', '₹170', '₹219', '₹399', '₹559', '₹244', '₹181', '₹331', '₹404', '₹179', '₹349', '₹439', '₹913', '₹188', '₹703', '₹284', '₹449', '₹474', '₹161', '₹351', '₹188', '₹615', '₹399', '₹622', '₹245', '₹245', '₹165', '₹351', '₹224', '₹426', '₹606', '₹274', '₹299', '₹449', '₹643', '₹629', '₹143', '₹380', '₹404', '₹242', '₹225', '₹170', '₹1,039', '₹1,067', '₹425', '₹179', '₹156', '₹224', '₹250', '₹399', '₹269', '₹439', '₹179', '₹198', '₹351', '₹201', '₹233', '₹615', '₹399', '₹179', '₹675', '₹351', '₹214', '₹527', '₹107', '₹146', '₹750', '₹351', '₹294', '₹309', '₹718', '₹274', '₹351', '₹123', '₹798', '₹351', '₹160', '₹745'] ['Polarized, Gradient, UV Protection Round Sunglasses (Fr...', 'UV Protection, Mirrored Round Sunglasses (Free Size)', 'Gradient, Mirrored, UV Protection Round, Round, Round S...', 'UV Protection, Polarized, Mirrored Rectangular Sunglass...', 'UV Protection, Mirrored Retro Square Sunglasses (53)', 'Gradient, UV Protection Wayfarer Sunglasses (Free Size)', 'UV Protection Wayfarer Sunglasses (Free Size)', 'Mirrored Aviator Sunglasses (Free Size)', 'UV Protection Round Sunglasses (Free Size)', 'UV Protection, Gradient Rectangular Sunglasses (Free Si...', 'UV Protection Wayfarer Sunglasses (Free Size)', 'UV Protection Aviator Sunglasses (58)', 'UV Protection Rectangular Sunglasses (58)', 'UV Protection Aviator Sunglasses (58)', 'UV Protection Wayfarer Sunglasses (53)', 'Mirrored, UV Protection Wayfarer, Wayfarer, Wayfarer, W...', 'UV Protection Retro Square Sunglasses (Free Size)', 'Mirrored Aviator Sunglasses (55)', 'Gradient, UV Protection Aviator Sunglasses (99)', 'Polarized, UV Protection Round Sunglasses (49)', 'UV Protection Retro Square Sunglasses (Free Size)', 'Gradient, UV Protection Wayfarer Sunglasses (Free Size)', 'Gradient Spectacle Sunglasses (Free Size)', 'UV Protection Retro Square Sunglasses (Free Size)', 'UV Protection Spectacle Sunglasses (Free Size)', 'Mirrored Aviator Sunglasses (Free Size)', 'UV Protection Wayfarer Sunglasses (55)', 'UV Protection, Riding Glasses Rectangular Sunglasses (F...', 'Gradient, UV Protection Wayfarer Sunglasses (Free Size)', 'UV Protection, Polarized Rectangular Sunglasses (Free S...', 'Polarized, Night Vision, Riding Glasses, UV Protection ...', 'UV Protection Retro Square Sunglasses (Free Size)', 'UV Protection Shield Sunglasses (Free Size)', 'UV Protection Aviator Sunglasses (Free Size)', 'Polarized, Mirrored, UV Protection Retro Square, Over-s...', <selenium.webdriver.remote.webelement.WebElement (session=\"a039a6405b7aff74cb606e707b9d9a16\", element=\"f51f35ab-f034-4cc2-b860-536ba0ae1099\")>, <selenium.webdriver.remote.webelement.WebElement (session=\"a039a6405b7aff74cb606e707b9d9a16\", element=\"f8cb09b2-e37d-4984-abc7-b8d2746ba3c3\")>, <selenium.webdriver.remote.webelement.WebElement (session=\"a039a6405b7aff74cb606e707b9d9a16\", element=\"5039d7c5-f949-4fc1-9c39-7f99f635be78\")>, <selenium.webdriver.remote.webelement.WebElement (session=\"a039a6405b7aff74cb606e707b9d9a16\", element=\"3031be26-0cea-4ce2-91c4-9a1c1ced6c9f\")>, <selenium.webdriver.remote.webelement.WebElement (session=\"a039a6405b7aff74cb606e707b9d9a16\", element=\"b9191ce9-bb57-490c-9e3c-43d415ca5026\")>, <selenium.webdriver.remote.webelement.WebElement (session=\"a039a6405b7aff74cb606e707b9d9a16\", element=\"03067b99-e3ac-4608-9f79-9c033bda1636\")>, <selenium.webdriver.remote.webelement.WebElement (session=\"a039a6405b7aff74cb606e707b9d9a16\", element=\"36a84713-62e7-4a4e-bd67-8dc454a2b819\")>, <selenium.webdriver.remote.webelement.WebElement (session=\"a039a6405b7aff74cb606e707b9d9a16\", element=\"c0a4c2c6-e93b-4d89-ae5a-6dbdb60e3bde\")>, <selenium.webdriver.remote.webelement.WebElement (session=\"a039a6405b7aff74cb606e707b9d9a16\", element=\"8668b7c4-2289-49fe-8e1a-fb26d89d6627\")>, <selenium.webdriver.remote.webelement.WebElement (session=\"a039a6405b7aff74cb606e707b9d9a16\", element=\"40fc7f4b-d29c-4b50-95cf-a519be98e453\")>, <selenium.webdriver.remote.webelement.WebElement (session=\"a039a6405b7aff74cb606e707b9d9a16\", element=\"6387a230-75fd-4933-b4c5-3c837c636faf\")>, <selenium.webdriver.remote.webelement.WebElement (session=\"a039a6405b7aff74cb606e707b9d9a16\", element=\"3d14f57b-11fd-4fae-a37b-e84469feb138\")>, <selenium.webdriver.remote.webelement.WebElement (session=\"a039a6405b7aff74cb606e707b9d9a16\", element=\"7df79874-079a-4515-b61d-acce3a23373f\")>, <selenium.webdriver.remote.webelement.WebElement (session=\"a039a6405b7aff74cb606e707b9d9a16\", element=\"b65ca738-3fbb-4f09-b3df-e7c2232b91fd\")>, <selenium.webdriver.remote.webelement.WebElement (session=\"a039a6405b7aff74cb606e707b9d9a16\", element=\"cd4c4df1-3905-42ae-bf1a-54726a059b5c\")>, <selenium.webdriver.remote.webelement.WebElement (session=\"a039a6405b7aff74cb606e707b9d9a16\", element=\"5cacf5de-bb04-4f1a-afbf-79ae86d795ff\")>, <selenium.webdriver.remote.webelement.WebElement (session=\"a039a6405b7aff74cb606e707b9d9a16\", element=\"fe04fc8f-e02b-4482-84a4-0eb63ef60b88\")>, <selenium.webdriver.remote.webelement.WebElement (session=\"a039a6405b7aff74cb606e707b9d9a16\", element=\"253aaa7b-c0a3-4969-974e-f6f1f161b113\")>, <selenium.webdriver.remote.webelement.WebElement (session=\"a039a6405b7aff74cb606e707b9d9a16\", element=\"7dbbbcf6-78b8-4745-9dcc-428d882b180a\")>, <selenium.webdriver.remote.webelement.WebElement (session=\"a039a6405b7aff74cb606e707b9d9a16\", element=\"60342359-eabb-4698-9838-f30b660b5de9\")>, <selenium.webdriver.remote.webelement.WebElement (session=\"a039a6405b7aff74cb606e707b9d9a16\", element=\"5744e6c1-9ace-4877-8e9b-38d28a61e845\")>, <selenium.webdriver.remote.webelement.WebElement (session=\"a039a6405b7aff74cb606e707b9d9a16\", element=\"a331e62c-1052-4037-9a81-4a7bc4a2b128\")>, <selenium.webdriver.remote.webelement.WebElement (session=\"a039a6405b7aff74cb606e707b9d9a16\", element=\"c807c801-2b5c-40a5-a113-45891c7a74e1\")>, <selenium.webdriver.remote.webelement.WebElement (session=\"a039a6405b7aff74cb606e707b9d9a16\", element=\"fdd7fbca-c3e3-4678-b030-a3b3a6615df6\")>, <selenium.webdriver.remote.webelement.WebElement (session=\"a039a6405b7aff74cb606e707b9d9a16\", element=\"59e77be4-5e1d-4802-9446-215659c0adfc\")>, <selenium.webdriver.remote.webelement.WebElement (session=\"a039a6405b7aff74cb606e707b9d9a16\", element=\"de2d0ef0-e9ae-4f78-93ff-ebd6d1455f3b\")>, <selenium.webdriver.remote.webelement.WebElement (session=\"a039a6405b7aff74cb606e707b9d9a16\", element=\"7b1d6b72-5bbc-4345-8288-3008857b74c7\")>, <selenium.webdriver.remote.webelement.WebElement (session=\"a039a6405b7aff74cb606e707b9d9a16\", element=\"85e55c9a-c54b-4b87-a0b7-61fd70d69050\")>, <selenium.webdriver.remote.webelement.WebElement (session=\"a039a6405b7aff74cb606e707b9d9a16\", element=\"eb0507c9-ec30-412a-8774-b431ea9291f3\")>, <selenium.webdriver.remote.webelement.WebElement (session=\"a039a6405b7aff74cb606e707b9d9a16\", element=\"7fc886ce-c68c-4bc4-acdb-d0530f951add\")>, <selenium.webdriver.remote.webelement.WebElement (session=\"a039a6405b7aff74cb606e707b9d9a16\", element=\"71a8e1aa-38d8-47c4-8ca6-229a8a3ef212\")>, <selenium.webdriver.remote.webelement.WebElement (session=\"a039a6405b7aff74cb606e707b9d9a16\", element=\"80ae3acb-3299-4de7-95f9-1739d3bf51db\")>, <selenium.webdriver.remote.webelement.WebElement (session=\"a039a6405b7aff74cb606e707b9d9a16\", element=\"f1de5b68-704a-4f78-9af7-928fb3bcfb41\")>, <selenium.webdriver.remote.webelement.WebElement (session=\"a039a6405b7aff74cb606e707b9d9a16\", element=\"5600cfb7-f931-485b-a64d-04edf5997c55\")>, <selenium.webdriver.remote.webelement.WebElement (session=\"a039a6405b7aff74cb606e707b9d9a16\", element=\"c5ad863e-6b54-4fe4-a356-7d5070b97bb4\")>, <selenium.webdriver.remote.webelement.WebElement (session=\"a039a6405b7aff74cb606e707b9d9a16\", element=\"eadf2e9d-bc48-4514-9ce5-efa2ef591fbc\")>, <selenium.webdriver.remote.webelement.WebElement (session=\"a039a6405b7aff74cb606e707b9d9a16\", element=\"c9ddb8a6-9c3b-4084-8125-48d3d9535495\")>, <selenium.webdriver.remote.webelement.WebElement (session=\"a039a6405b7aff74cb606e707b9d9a16\", element=\"701fe491-9b26-4915-8e35-4750f9434b4b\")>, <selenium.webdriver.remote.webelement.WebElement (session=\"a039a6405b7aff74cb606e707b9d9a16\", element=\"7af8240f-adcd-43ce-852e-a8c6d22720f3\")>, <selenium.webdriver.remote.webelement.WebElement (session=\"a039a6405b7aff74cb606e707b9d9a16\", element=\"190f9dc6-d52a-4ed3-abfa-82c8720d1cca\")>, <selenium.webdriver.remote.webelement.WebElement (session=\"a039a6405b7aff74cb606e707b9d9a16\", element=\"6bd347cb-4b79-4e86-b67b-d5268c04a2a3\")>, <selenium.webdriver.remote.webelement.WebElement (session=\"a039a6405b7aff74cb606e707b9d9a16\", element=\"bed27923-0107-4eac-9c55-27fb59008fec\")>, <selenium.webdriver.remote.webelement.WebElement (session=\"a039a6405b7aff74cb606e707b9d9a16\", element=\"2fe20d03-42f5-4d0b-bcdd-eb66832768c9\")>, <selenium.webdriver.remote.webelement.WebElement (session=\"a039a6405b7aff74cb606e707b9d9a16\", element=\"4c5c2156-a36c-4468-bf05-f417029995e0\")>, <selenium.webdriver.remote.webelement.WebElement (session=\"a039a6405b7aff74cb606e707b9d9a16\", element=\"f969b9f2-7d0f-44a0-9424-c9cc3d53dbac\")>, <selenium.webdriver.remote.webelement.WebElement (session=\"a039a6405b7aff74cb606e707b9d9a16\", element=\"10aff605-84ac-452f-a049-ed1687f6c453\")>, <selenium.webdriver.remote.webelement.WebElement (session=\"a039a6405b7aff74cb606e707b9d9a16\", element=\"953ff828-3705-4c12-8c5a-dfbc9f96251a\")>, <selenium.webdriver.remote.webelement.WebElement (session=\"a039a6405b7aff74cb606e707b9d9a16\", element=\"64afe53b-2701-42c2-a0ce-ffe071ed2ac0\")>, <selenium.webdriver.remote.webelement.WebElement (session=\"a039a6405b7aff74cb606e707b9d9a16\", element=\"4016a5f2-e6fe-431b-84ec-c8ec584caab0\")>, <selenium.webdriver.remote.webelement.WebElement (session=\"a039a6405b7aff74cb606e707b9d9a16\", element=\"f33a2b3c-3566-4b00-a75f-126bdfbbf2b5\")>, <selenium.webdriver.remote.webelement.WebElement (session=\"a039a6405b7aff74cb606e707b9d9a16\", element=\"de7c6894-abb3-4c30-b974-90dd919ee5d5\")>, <selenium.webdriver.remote.webelement.WebElement (session=\"a039a6405b7aff74cb606e707b9d9a16\", element=\"99294f09-7c21-4d7d-8f6f-e3f64c51f170\")>, <selenium.webdriver.remote.webelement.WebElement (session=\"a039a6405b7aff74cb606e707b9d9a16\", element=\"4167274c-b36c-4fee-9e21-64f172cc6d5d\")>, <selenium.webdriver.remote.webelement.WebElement (session=\"a039a6405b7aff74cb606e707b9d9a16\", element=\"85bf0f89-ce57-4a8e-ba35-16eec291b9a4\")>, <selenium.webdriver.remote.webelement.WebElement (session=\"a039a6405b7aff74cb606e707b9d9a16\", element=\"5742cd5a-6920-4218-a9ba-3bbacf0118d3\")>, <selenium.webdriver.remote.webelement.WebElement (session=\"a039a6405b7aff74cb606e707b9d9a16\", element=\"2298a8b9-f41d-4329-a85e-7d94804b7ae1\")>, <selenium.webdriver.remote.webelement.WebElement (session=\"a039a6405b7aff74cb606e707b9d9a16\", element=\"0048a981-384e-46b6-bcc6-7d6e83abab00\")>, <selenium.webdriver.remote.webelement.WebElement (session=\"a039a6405b7aff74cb606e707b9d9a16\", element=\"d3b517d2-228e-422c-a994-e1a57324f8d8\")>, <selenium.webdriver.remote.webelement.WebElement (session=\"a039a6405b7aff74cb606e707b9d9a16\", element=\"50963b02-7c36-4b29-9167-85cd54eb6dbb\")>, <selenium.webdriver.remote.webelement.WebElement (session=\"a039a6405b7aff74cb606e707b9d9a16\", element=\"1849e279-8593-40fb-9205-d70af7eee28f\")>, <selenium.webdriver.remote.webelement.WebElement (session=\"a039a6405b7aff74cb606e707b9d9a16\", element=\"c070c93b-e734-4891-8762-8ba641ddb1f4\")>, <selenium.webdriver.remote.webelement.WebElement (session=\"a039a6405b7aff74cb606e707b9d9a16\", element=\"4a771fb7-99b0-4993-b8f5-72fd62bd2b94\")>, <selenium.webdriver.remote.webelement.WebElement (session=\"a039a6405b7aff74cb606e707b9d9a16\", element=\"ba4e4cb5-fa61-4574-b7eb-dcc6a81ab109\")>, <selenium.webdriver.remote.webelement.WebElement (session=\"a039a6405b7aff74cb606e707b9d9a16\", element=\"c8a7d12f-5f8e-49ae-ab8c-ffb77832ffcd\")>, <selenium.webdriver.remote.webelement.WebElement (session=\"a039a6405b7aff74cb606e707b9d9a16\", element=\"2e910395-1cd4-4b93-828f-a375ac15be30\")>] ['78% off', '84% off', '84% off', '85% off', '78% off', '80% off', '30% off', '75% off', '83% off', '80% off', '79% off', '90% off', '86% off', '70% off', '29% off', '87% off', '21% off', '81% off', '79% off', '76% off', '83% off', '76% off', '76% off', '69% off', '80% off', '22% off', '87% off', '81% off', '87% off', '76% off', '82% off', '80% off', '24% off', '81% off', '85% off', '80% off', '28% off', '30% off', '79% off', '85% off', '78% off', '84% off', '84% off', '85% off', '78% off', '80% off', '30% off', '75% off', '83% off', '80% off', '79% off', '90% off', '86% off', '70% off', '29% off', '87% off', '21% off', '81% off', '79% off', '76% off', '83% off', '76% off', '76% off', '69% off', '80% off', '22% off', '87% off', '81% off', '87% off', '76% off', '82% off', '80% off', '24% off', '81% off', '85% off', '80% off', '28% off', '30% off', '79% off', '85% off', '84% off', '79% off', '71% off', '85% off', '20% off', '17% off', '72% off', '83% off', '87% off', '82% off', '84% off', '80% off', '86% off', '70% off', '82% off', '84% off', '76% off', '79% off', '84% off', '69% off', '80% off', '88% off', '24% off', '76% off', '85% off', '73% off', '53% off', '88% off', '24% off', '76% off', '78% off', '81% off', '28% off', '81% off', '76% off', '87% off', '77% off', '76% off', '85% off', '79% off']\n"
     ]
    }
   ],
   "source": [
    " # Appending lists of all the pages and scrutinizing it appropriately.\n",
    "BRANDS=brand+brand1+brand2\n",
    "PRICES=price+price1+price2\n",
    "PRODUCT_DESCRIPTION=product_description+Product_description1+Product_description2\n",
    "DISCOUNTS=discount + discount1+discount2\n",
    "print(BRANDS,PRICES,PRODUCT_DESCRIPTION,DISCOUNTS)"
   ]
  },
  {
   "cell_type": "code",
   "execution_count": 302,
   "metadata": {},
   "outputs": [
    {
     "name": "stdout",
     "output_type": "stream",
     "text": [
      "160 120 120 100\n"
     ]
    }
   ],
   "source": [
    "# finding length of all variables.\n",
    "print(len(BRANDS),len(PRICES),len(DISCOUNTS),len(PRODUCT_DESCRIPTION))"
   ]
  },
  {
   "cell_type": "code",
   "execution_count": 303,
   "metadata": {},
   "outputs": [
    {
     "data": {
      "text/html": [
       "<div>\n",
       "<style scoped>\n",
       "    .dataframe tbody tr th:only-of-type {\n",
       "        vertical-align: middle;\n",
       "    }\n",
       "\n",
       "    .dataframe tbody tr th {\n",
       "        vertical-align: top;\n",
       "    }\n",
       "\n",
       "    .dataframe thead th {\n",
       "        text-align: right;\n",
       "    }\n",
       "</style>\n",
       "<table border=\"1\" class=\"dataframe\">\n",
       "  <thead>\n",
       "    <tr style=\"text-align: right;\">\n",
       "      <th></th>\n",
       "      <th>company</th>\n",
       "      <th>rates</th>\n",
       "      <th>description</th>\n",
       "      <th>offer</th>\n",
       "    </tr>\n",
       "  </thead>\n",
       "  <tbody>\n",
       "    <tr>\n",
       "      <th>0</th>\n",
       "      <td>ROZZETTA CRAFT</td>\n",
       "      <td>₹426</td>\n",
       "      <td>Polarized, Gradient, UV Protection Round Sungl...</td>\n",
       "      <td>78% off</td>\n",
       "    </tr>\n",
       "    <tr>\n",
       "      <th>1</th>\n",
       "      <td>ROZZETTA CRAFT</td>\n",
       "      <td>₹404</td>\n",
       "      <td>UV Protection, Mirrored Round Sunglasses (Free...</td>\n",
       "      <td>84% off</td>\n",
       "    </tr>\n",
       "    <tr>\n",
       "      <th>2</th>\n",
       "      <td>FDA COLLECTION</td>\n",
       "      <td>₹199</td>\n",
       "      <td>Gradient, Mirrored, UV Protection Round, Round...</td>\n",
       "      <td>84% off</td>\n",
       "    </tr>\n",
       "    <tr>\n",
       "      <th>3</th>\n",
       "      <td>Riffko</td>\n",
       "      <td>₹170</td>\n",
       "      <td>UV Protection, Polarized, Mirrored Rectangular...</td>\n",
       "      <td>85% off</td>\n",
       "    </tr>\n",
       "    <tr>\n",
       "      <th>4</th>\n",
       "      <td>shah collections</td>\n",
       "      <td>₹219</td>\n",
       "      <td>UV Protection, Mirrored Retro Square Sunglasse...</td>\n",
       "      <td>78% off</td>\n",
       "    </tr>\n",
       "    <tr>\n",
       "      <th>...</th>\n",
       "      <td>...</td>\n",
       "      <td>...</td>\n",
       "      <td>...</td>\n",
       "      <td>...</td>\n",
       "    </tr>\n",
       "    <tr>\n",
       "      <th>95</th>\n",
       "      <td>shah collections</td>\n",
       "      <td>₹198</td>\n",
       "      <td>&lt;selenium.webdriver.remote.webelement.WebEleme...</td>\n",
       "      <td>84% off</td>\n",
       "    </tr>\n",
       "    <tr>\n",
       "      <th>96</th>\n",
       "      <td>Royal Son</td>\n",
       "      <td>₹351</td>\n",
       "      <td>&lt;selenium.webdriver.remote.webelement.WebEleme...</td>\n",
       "      <td>76% off</td>\n",
       "    </tr>\n",
       "    <tr>\n",
       "      <th>97</th>\n",
       "      <td>Dannilo</td>\n",
       "      <td>₹201</td>\n",
       "      <td>&lt;selenium.webdriver.remote.webelement.WebEleme...</td>\n",
       "      <td>79% off</td>\n",
       "    </tr>\n",
       "    <tr>\n",
       "      <th>98</th>\n",
       "      <td>Silver Kartz</td>\n",
       "      <td>₹233</td>\n",
       "      <td>&lt;selenium.webdriver.remote.webelement.WebEleme...</td>\n",
       "      <td>84% off</td>\n",
       "    </tr>\n",
       "    <tr>\n",
       "      <th>99</th>\n",
       "      <td>Royal Son</td>\n",
       "      <td>₹615</td>\n",
       "      <td>&lt;selenium.webdriver.remote.webelement.WebEleme...</td>\n",
       "      <td>69% off</td>\n",
       "    </tr>\n",
       "  </tbody>\n",
       "</table>\n",
       "<p>100 rows × 4 columns</p>\n",
       "</div>"
      ],
      "text/plain": [
       "             company rates                                        description  \\\n",
       "0     ROZZETTA CRAFT  ₹426  Polarized, Gradient, UV Protection Round Sungl...   \n",
       "1     ROZZETTA CRAFT  ₹404  UV Protection, Mirrored Round Sunglasses (Free...   \n",
       "2     FDA COLLECTION  ₹199  Gradient, Mirrored, UV Protection Round, Round...   \n",
       "3             Riffko  ₹170  UV Protection, Polarized, Mirrored Rectangular...   \n",
       "4   shah collections  ₹219  UV Protection, Mirrored Retro Square Sunglasse...   \n",
       "..               ...   ...                                                ...   \n",
       "95  shah collections  ₹198  <selenium.webdriver.remote.webelement.WebEleme...   \n",
       "96         Royal Son  ₹351  <selenium.webdriver.remote.webelement.WebEleme...   \n",
       "97           Dannilo  ₹201  <selenium.webdriver.remote.webelement.WebEleme...   \n",
       "98      Silver Kartz  ₹233  <selenium.webdriver.remote.webelement.WebEleme...   \n",
       "99         Royal Son  ₹615  <selenium.webdriver.remote.webelement.WebEleme...   \n",
       "\n",
       "      offer  \n",
       "0   78% off  \n",
       "1   84% off  \n",
       "2   84% off  \n",
       "3   85% off  \n",
       "4   78% off  \n",
       "..      ...  \n",
       "95  84% off  \n",
       "96  76% off  \n",
       "97  79% off  \n",
       "98  84% off  \n",
       "99  69% off  \n",
       "\n",
       "[100 rows x 4 columns]"
      ]
     },
     "execution_count": 303,
     "metadata": {},
     "output_type": "execute_result"
    }
   ],
   "source": [
    "# Creating a dataframe to store the scrapped information.\n",
    "import pandas as pd\n",
    "sunglasses=pd.DataFrame({})\n",
    "sunglasses['company']=BRANDS[:100]\n",
    "sunglasses['rates']=PRICES[:100]\n",
    "sunglasses['description']=PRODUCT_DESCRIPTION[:100]\n",
    "sunglasses['offer']=DISCOUNTS[:100]\n",
    "sunglasses"
   ]
  },
  {
   "cell_type": "markdown",
   "metadata": {},
   "source": [
    "# Question No:7"
   ]
  },
  {
   "cell_type": "code",
   "execution_count": 55,
   "metadata": {},
   "outputs": [],
   "source": [
    "# Importing essential libraries.\n",
    "import selenium\n",
    "from selenium import webdriver\n",
    "# Configure the webdriver.\n",
    "driver = webdriver.Chrome('/Users/nlohith/Desktop/chromedriver')"
   ]
  },
  {
   "cell_type": "code",
   "execution_count": 56,
   "metadata": {},
   "outputs": [],
   "source": [
    "# Get the URL link.\n",
    "url = 'https://www.flipkart.com/apple-iphone-11-black-64-gb-includes-earpods-power-adapter/product-reviews/itm0f37c2240b217?pid=MOBFKCTSVZAXUHGR&lid=LSTMOBFKCTSVZAXUHGR3QP11A&marketplace=FLIPKART'"
   ]
  },
  {
   "cell_type": "code",
   "execution_count": 57,
   "metadata": {},
   "outputs": [],
   "source": [
    "driver.get(url) "
   ]
  },
  {
   "cell_type": "code",
   "execution_count": 58,
   "metadata": {},
   "outputs": [],
   "source": [
    "# Creating empty lists for scraping data.\n",
    "rating = []\n",
    "review_summary = []\n",
    "full_review = []"
   ]
  },
  {
   "cell_type": "code",
   "execution_count": 60,
   "metadata": {},
   "outputs": [],
   "source": [
    "for i in range(0,10):\n",
    "    # Scarping the Rating.\n",
    "    Rating=driver.find_elements_by_xpath('//div[@class=\"_3LWZlK _1BLPMq\"]')\n",
    "    for i in Rating:\n",
    "        \n",
    "        rating.append(i.text)\n",
    "    # Scraping the Review_summary.\n",
    "    Review_summary=driver.find_elements_by_xpath('//p[@class=\"_2-N8zT\"]')\n",
    "    for i in Review_summary:\n",
    "        review_summary.append(i.text)\n",
    "    # Full_review.\n",
    "    Full_review=driver.find_elements_by_xpath(\"//div[@class='t-ZTKy']\")\n",
    "    for i in Full_review:\n",
    "        full_review.append(i.text)\n",
    "    \n",
    "    driver.find_element_by_xpath(\"//a[@class='_1LKTO3']\")                                    "
   ]
  },
  {
   "cell_type": "code",
   "execution_count": 61,
   "metadata": {},
   "outputs": [
    {
     "data": {
      "text/plain": [
       "['5',\n",
       " '5',\n",
       " '5',\n",
       " '5',\n",
       " '5',\n",
       " '5',\n",
       " '5',\n",
       " '5',\n",
       " '4',\n",
       " '5',\n",
       " '5',\n",
       " '5',\n",
       " '5',\n",
       " '5',\n",
       " '5',\n",
       " '5',\n",
       " '5',\n",
       " '5',\n",
       " '4',\n",
       " '5',\n",
       " '5',\n",
       " '5',\n",
       " '5',\n",
       " '5',\n",
       " '5',\n",
       " '5',\n",
       " '5',\n",
       " '5',\n",
       " '4',\n",
       " '5',\n",
       " '5',\n",
       " '5',\n",
       " '5',\n",
       " '5',\n",
       " '5',\n",
       " '5',\n",
       " '5',\n",
       " '5',\n",
       " '4',\n",
       " '5',\n",
       " '5',\n",
       " '5',\n",
       " '5',\n",
       " '5',\n",
       " '5',\n",
       " '5',\n",
       " '5',\n",
       " '5',\n",
       " '4',\n",
       " '5',\n",
       " '5',\n",
       " '5',\n",
       " '5',\n",
       " '5',\n",
       " '5',\n",
       " '5',\n",
       " '5',\n",
       " '5',\n",
       " '4',\n",
       " '5',\n",
       " '5',\n",
       " '5',\n",
       " '5',\n",
       " '5',\n",
       " '5',\n",
       " '5',\n",
       " '5',\n",
       " '5',\n",
       " '4',\n",
       " '5',\n",
       " '5',\n",
       " '5',\n",
       " '5',\n",
       " '5',\n",
       " '5',\n",
       " '5',\n",
       " '5',\n",
       " '5',\n",
       " '4',\n",
       " '5',\n",
       " '5',\n",
       " '5',\n",
       " '5',\n",
       " '5',\n",
       " '5',\n",
       " '5',\n",
       " '5',\n",
       " '5',\n",
       " '4',\n",
       " '5',\n",
       " '5',\n",
       " '5',\n",
       " '5',\n",
       " '5',\n",
       " '5',\n",
       " '5',\n",
       " '5',\n",
       " '5',\n",
       " '4',\n",
       " '5']"
      ]
     },
     "execution_count": 61,
     "metadata": {},
     "output_type": "execute_result"
    }
   ],
   "source": [
    "rating[:100]"
   ]
  },
  {
   "cell_type": "code",
   "execution_count": 62,
   "metadata": {},
   "outputs": [
    {
     "data": {
      "text/plain": [
       "['Perfect product!',\n",
       " 'Great product',\n",
       " 'Highly recommended',\n",
       " 'Perfect product!',\n",
       " 'Perfect product!',\n",
       " 'Worth every penny',\n",
       " 'Worth every penny',\n",
       " 'Wonderful',\n",
       " 'Nice product',\n",
       " 'Perfect product!',\n",
       " 'Perfect product!',\n",
       " 'Great product',\n",
       " 'Highly recommended',\n",
       " 'Perfect product!',\n",
       " 'Perfect product!',\n",
       " 'Worth every penny',\n",
       " 'Worth every penny',\n",
       " 'Wonderful',\n",
       " 'Nice product',\n",
       " 'Perfect product!',\n",
       " 'Perfect product!',\n",
       " 'Great product',\n",
       " 'Highly recommended',\n",
       " 'Perfect product!',\n",
       " 'Perfect product!',\n",
       " 'Worth every penny',\n",
       " 'Worth every penny',\n",
       " 'Wonderful',\n",
       " 'Nice product',\n",
       " 'Perfect product!',\n",
       " 'Perfect product!',\n",
       " 'Great product',\n",
       " 'Highly recommended',\n",
       " 'Perfect product!',\n",
       " 'Perfect product!',\n",
       " 'Worth every penny',\n",
       " 'Worth every penny',\n",
       " 'Wonderful',\n",
       " 'Nice product',\n",
       " 'Perfect product!',\n",
       " 'Perfect product!',\n",
       " 'Great product',\n",
       " 'Highly recommended',\n",
       " 'Perfect product!',\n",
       " 'Perfect product!',\n",
       " 'Worth every penny',\n",
       " 'Worth every penny',\n",
       " 'Wonderful',\n",
       " 'Nice product',\n",
       " 'Perfect product!',\n",
       " 'Perfect product!',\n",
       " 'Great product',\n",
       " 'Highly recommended',\n",
       " 'Perfect product!',\n",
       " 'Perfect product!',\n",
       " 'Worth every penny',\n",
       " 'Worth every penny',\n",
       " 'Wonderful',\n",
       " 'Nice product',\n",
       " 'Perfect product!',\n",
       " 'Perfect product!',\n",
       " 'Great product',\n",
       " 'Highly recommended',\n",
       " 'Perfect product!',\n",
       " 'Perfect product!',\n",
       " 'Worth every penny',\n",
       " 'Worth every penny',\n",
       " 'Wonderful',\n",
       " 'Nice product',\n",
       " 'Perfect product!',\n",
       " 'Perfect product!',\n",
       " 'Great product',\n",
       " 'Highly recommended',\n",
       " 'Perfect product!',\n",
       " 'Perfect product!',\n",
       " 'Worth every penny',\n",
       " 'Worth every penny',\n",
       " 'Wonderful',\n",
       " 'Nice product',\n",
       " 'Perfect product!',\n",
       " 'Perfect product!',\n",
       " 'Great product',\n",
       " 'Highly recommended',\n",
       " 'Perfect product!',\n",
       " 'Perfect product!',\n",
       " 'Worth every penny',\n",
       " 'Worth every penny',\n",
       " 'Wonderful',\n",
       " 'Nice product',\n",
       " 'Perfect product!',\n",
       " 'Perfect product!',\n",
       " 'Great product',\n",
       " 'Highly recommended',\n",
       " 'Perfect product!',\n",
       " 'Perfect product!',\n",
       " 'Worth every penny',\n",
       " 'Worth every penny',\n",
       " 'Wonderful',\n",
       " 'Nice product',\n",
       " 'Perfect product!']"
      ]
     },
     "execution_count": 62,
     "metadata": {},
     "output_type": "execute_result"
    }
   ],
   "source": [
    "review_summary[:100]"
   ]
  },
  {
   "cell_type": "code",
   "execution_count": 63,
   "metadata": {},
   "outputs": [
    {
     "data": {
      "text/plain": [
       "['Amazing phone with great cameras and better battery which gives you the best performance. I just love the camera .',\n",
       " 'Amazing Powerful and Durable Gadget.\\n\\nI’m am very happy with the camera picture quality, Amazing face id unlocked in dark room, Strong battery with perfect screen size as you can carry easily in pocket. This is my third iPhone.\\n\\nI shifted from android Samsung Note series to iPhone because of the strong build quality and peace of mind for next 3-4 years.\\n\\nDon’t think to much just go for it and I suggest you to go for minimum 128gb variant or more 256gb.\\n\\nI’ve attached my puppy pics and no fi...\\nREAD MORE',\n",
       " 'iphone 11 is a very good phone to buy only if you can compromise for the display. The display on this is device is pretty good but you can get other options with better displays in this price segment.\\nIf you can survive with an HD+ LCD panel with thicker bezels and a notch up top then this is a very good phone for you.\\nCameras are awesome, battery backup excellent, great performance and a decent premium look. Good job Apple !',\n",
       " 'It’s a must buy who is looking for an upgrade from previous generation of iPhones. If you are using XR then still you can hold on for sometime and upgrade to 2020 model else this phone is a must buy . Camera quality is amazing and wide angle is something to count upon. Performance wise it’s amazing and feels premium while holding in hand. So a big YES for this device. Go for 128 GB variant as the 4K videos will occupy lots of space and the storage can get over very quickly. Try to buy it with...\\nREAD MORE',\n",
       " 'Value for money❤️❤️\\nIts awesome mobile phone in the world ...\\nDisplay was very good and bright ..\\nTrust me freinds you r never regret after Buying..\\nJust go for it....\\nI love this phone and i switch to iphone x to 11',\n",
       " 'Best budget Iphone till date ❤️ go for it guys without second thought. Let me explain you guys about Camera, Display, battery, and performance.\\n\\nCamera: at this price range there is no comparison of camera, you’ll love the picture quality as well as video quality. I am a Vlogger I wanted an iPhone with 4k video by front camera and I got this phone and I am more than happy 😃\\n\\nBattery: I use this phone roughly as I am active social media person and I have a youtube channel. so the battery ba...\\nREAD MORE',\n",
       " 'It’s been almost a month since I have been using this phone. I upgraded from an iPhone 8. The main issue with my 8 was battery and this phone is just awesome when it comes to battery. It lasts a day and a half for me with my regular use , internet connected always with 4g\\nCan’t move forward without saying this. Battery of this phone is a life saver when I am traveling or at work when I don’t get the option to charge\\nCamera is superb. Front cam selfies and back cam photos are just awesome.\\n...\\nREAD MORE',\n",
       " '*Review after 10 months of usage*\\nDoesn\\'t seem bulky with decent touch and camera. The \"standard maintained\" quality of IPhone. Go for it, if your budget is not more enough for pro models. It\\'s a value for money among the 11 series Stereo speakers are so good, you will love the stereo sound. Battery backup is not decent but still better than Iphone 7 and 8.Processor is fast, the phone doesn\\'t lag at all even with heavy games, waterproof, faster face id and with no fingerprint scanners. The ca...\\nREAD MORE',\n",
       " 'Awesome Phone. Slightly high price but worth. Better than iPhone XR.\\nCamera is superb and wide angle camera is very clear.\\n12MP selfie camera is also very good.\\nA13 Chip gives a very good and smooth performance.',\n",
       " \"Iphone is just awesome.. battery backup is very very nice.. continuously for 10 hours we can use it.camera is just awesome.. display is just fab.i love it alot..i had to wait 15 days for it as i pre ordered it..overalll it's worth the price..these all images are clicked by my iPhone..and i love it.\",\n",
       " 'Amazing phone with great cameras and better battery which gives you the best performance. I just love the camera .',\n",
       " 'Amazing Powerful and Durable Gadget.\\n\\nI’m am very happy with the camera picture quality, Amazing face id unlocked in dark room, Strong battery with perfect screen size as you can carry easily in pocket. This is my third iPhone.\\n\\nI shifted from android Samsung Note series to iPhone because of the strong build quality and peace of mind for next 3-4 years.\\n\\nDon’t think to much just go for it and I suggest you to go for minimum 128gb variant or more 256gb.\\n\\nI’ve attached my puppy pics and no fi...\\nREAD MORE',\n",
       " 'iphone 11 is a very good phone to buy only if you can compromise for the display. The display on this is device is pretty good but you can get other options with better displays in this price segment.\\nIf you can survive with an HD+ LCD panel with thicker bezels and a notch up top then this is a very good phone for you.\\nCameras are awesome, battery backup excellent, great performance and a decent premium look. Good job Apple !',\n",
       " 'It’s a must buy who is looking for an upgrade from previous generation of iPhones. If you are using XR then still you can hold on for sometime and upgrade to 2020 model else this phone is a must buy . Camera quality is amazing and wide angle is something to count upon. Performance wise it’s amazing and feels premium while holding in hand. So a big YES for this device. Go for 128 GB variant as the 4K videos will occupy lots of space and the storage can get over very quickly. Try to buy it with...\\nREAD MORE',\n",
       " 'Value for money❤️❤️\\nIts awesome mobile phone in the world ...\\nDisplay was very good and bright ..\\nTrust me freinds you r never regret after Buying..\\nJust go for it....\\nI love this phone and i switch to iphone x to 11',\n",
       " 'Best budget Iphone till date ❤️ go for it guys without second thought. Let me explain you guys about Camera, Display, battery, and performance.\\n\\nCamera: at this price range there is no comparison of camera, you’ll love the picture quality as well as video quality. I am a Vlogger I wanted an iPhone with 4k video by front camera and I got this phone and I am more than happy 😃\\n\\nBattery: I use this phone roughly as I am active social media person and I have a youtube channel. so the battery ba...\\nREAD MORE',\n",
       " 'It’s been almost a month since I have been using this phone. I upgraded from an iPhone 8. The main issue with my 8 was battery and this phone is just awesome when it comes to battery. It lasts a day and a half for me with my regular use , internet connected always with 4g\\nCan’t move forward without saying this. Battery of this phone is a life saver when I am traveling or at work when I don’t get the option to charge\\nCamera is superb. Front cam selfies and back cam photos are just awesome.\\n...\\nREAD MORE',\n",
       " '*Review after 10 months of usage*\\nDoesn\\'t seem bulky with decent touch and camera. The \"standard maintained\" quality of IPhone. Go for it, if your budget is not more enough for pro models. It\\'s a value for money among the 11 series Stereo speakers are so good, you will love the stereo sound. Battery backup is not decent but still better than Iphone 7 and 8.Processor is fast, the phone doesn\\'t lag at all even with heavy games, waterproof, faster face id and with no fingerprint scanners. The ca...\\nREAD MORE',\n",
       " 'Awesome Phone. Slightly high price but worth. Better than iPhone XR.\\nCamera is superb and wide angle camera is very clear.\\n12MP selfie camera is also very good.\\nA13 Chip gives a very good and smooth performance.',\n",
       " \"Iphone is just awesome.. battery backup is very very nice.. continuously for 10 hours we can use it.camera is just awesome.. display is just fab.i love it alot..i had to wait 15 days for it as i pre ordered it..overalll it's worth the price..these all images are clicked by my iPhone..and i love it.\",\n",
       " 'Amazing phone with great cameras and better battery which gives you the best performance. I just love the camera .',\n",
       " 'Amazing Powerful and Durable Gadget.\\n\\nI’m am very happy with the camera picture quality, Amazing face id unlocked in dark room, Strong battery with perfect screen size as you can carry easily in pocket. This is my third iPhone.\\n\\nI shifted from android Samsung Note series to iPhone because of the strong build quality and peace of mind for next 3-4 years.\\n\\nDon’t think to much just go for it and I suggest you to go for minimum 128gb variant or more 256gb.\\n\\nI’ve attached my puppy pics and no fi...\\nREAD MORE',\n",
       " 'iphone 11 is a very good phone to buy only if you can compromise for the display. The display on this is device is pretty good but you can get other options with better displays in this price segment.\\nIf you can survive with an HD+ LCD panel with thicker bezels and a notch up top then this is a very good phone for you.\\nCameras are awesome, battery backup excellent, great performance and a decent premium look. Good job Apple !',\n",
       " 'It’s a must buy who is looking for an upgrade from previous generation of iPhones. If you are using XR then still you can hold on for sometime and upgrade to 2020 model else this phone is a must buy . Camera quality is amazing and wide angle is something to count upon. Performance wise it’s amazing and feels premium while holding in hand. So a big YES for this device. Go for 128 GB variant as the 4K videos will occupy lots of space and the storage can get over very quickly. Try to buy it with...\\nREAD MORE',\n",
       " 'Value for money❤️❤️\\nIts awesome mobile phone in the world ...\\nDisplay was very good and bright ..\\nTrust me freinds you r never regret after Buying..\\nJust go for it....\\nI love this phone and i switch to iphone x to 11',\n",
       " 'Best budget Iphone till date ❤️ go for it guys without second thought. Let me explain you guys about Camera, Display, battery, and performance.\\n\\nCamera: at this price range there is no comparison of camera, you’ll love the picture quality as well as video quality. I am a Vlogger I wanted an iPhone with 4k video by front camera and I got this phone and I am more than happy 😃\\n\\nBattery: I use this phone roughly as I am active social media person and I have a youtube channel. so the battery ba...\\nREAD MORE',\n",
       " 'It’s been almost a month since I have been using this phone. I upgraded from an iPhone 8. The main issue with my 8 was battery and this phone is just awesome when it comes to battery. It lasts a day and a half for me with my regular use , internet connected always with 4g\\nCan’t move forward without saying this. Battery of this phone is a life saver when I am traveling or at work when I don’t get the option to charge\\nCamera is superb. Front cam selfies and back cam photos are just awesome.\\n...\\nREAD MORE',\n",
       " '*Review after 10 months of usage*\\nDoesn\\'t seem bulky with decent touch and camera. The \"standard maintained\" quality of IPhone. Go for it, if your budget is not more enough for pro models. It\\'s a value for money among the 11 series Stereo speakers are so good, you will love the stereo sound. Battery backup is not decent but still better than Iphone 7 and 8.Processor is fast, the phone doesn\\'t lag at all even with heavy games, waterproof, faster face id and with no fingerprint scanners. The ca...\\nREAD MORE',\n",
       " 'Awesome Phone. Slightly high price but worth. Better than iPhone XR.\\nCamera is superb and wide angle camera is very clear.\\n12MP selfie camera is also very good.\\nA13 Chip gives a very good and smooth performance.',\n",
       " \"Iphone is just awesome.. battery backup is very very nice.. continuously for 10 hours we can use it.camera is just awesome.. display is just fab.i love it alot..i had to wait 15 days for it as i pre ordered it..overalll it's worth the price..these all images are clicked by my iPhone..and i love it.\",\n",
       " 'Amazing phone with great cameras and better battery which gives you the best performance. I just love the camera .',\n",
       " 'Amazing Powerful and Durable Gadget.\\n\\nI’m am very happy with the camera picture quality, Amazing face id unlocked in dark room, Strong battery with perfect screen size as you can carry easily in pocket. This is my third iPhone.\\n\\nI shifted from android Samsung Note series to iPhone because of the strong build quality and peace of mind for next 3-4 years.\\n\\nDon’t think to much just go for it and I suggest you to go for minimum 128gb variant or more 256gb.\\n\\nI’ve attached my puppy pics and no fi...\\nREAD MORE',\n",
       " 'iphone 11 is a very good phone to buy only if you can compromise for the display. The display on this is device is pretty good but you can get other options with better displays in this price segment.\\nIf you can survive with an HD+ LCD panel with thicker bezels and a notch up top then this is a very good phone for you.\\nCameras are awesome, battery backup excellent, great performance and a decent premium look. Good job Apple !',\n",
       " 'It’s a must buy who is looking for an upgrade from previous generation of iPhones. If you are using XR then still you can hold on for sometime and upgrade to 2020 model else this phone is a must buy . Camera quality is amazing and wide angle is something to count upon. Performance wise it’s amazing and feels premium while holding in hand. So a big YES for this device. Go for 128 GB variant as the 4K videos will occupy lots of space and the storage can get over very quickly. Try to buy it with...\\nREAD MORE',\n",
       " 'Value for money❤️❤️\\nIts awesome mobile phone in the world ...\\nDisplay was very good and bright ..\\nTrust me freinds you r never regret after Buying..\\nJust go for it....\\nI love this phone and i switch to iphone x to 11',\n",
       " 'Best budget Iphone till date ❤️ go for it guys without second thought. Let me explain you guys about Camera, Display, battery, and performance.\\n\\nCamera: at this price range there is no comparison of camera, you’ll love the picture quality as well as video quality. I am a Vlogger I wanted an iPhone with 4k video by front camera and I got this phone and I am more than happy 😃\\n\\nBattery: I use this phone roughly as I am active social media person and I have a youtube channel. so the battery ba...\\nREAD MORE',\n",
       " 'It’s been almost a month since I have been using this phone. I upgraded from an iPhone 8. The main issue with my 8 was battery and this phone is just awesome when it comes to battery. It lasts a day and a half for me with my regular use , internet connected always with 4g\\nCan’t move forward without saying this. Battery of this phone is a life saver when I am traveling or at work when I don’t get the option to charge\\nCamera is superb. Front cam selfies and back cam photos are just awesome.\\n...\\nREAD MORE',\n",
       " '*Review after 10 months of usage*\\nDoesn\\'t seem bulky with decent touch and camera. The \"standard maintained\" quality of IPhone. Go for it, if your budget is not more enough for pro models. It\\'s a value for money among the 11 series Stereo speakers are so good, you will love the stereo sound. Battery backup is not decent but still better than Iphone 7 and 8.Processor is fast, the phone doesn\\'t lag at all even with heavy games, waterproof, faster face id and with no fingerprint scanners. The ca...\\nREAD MORE',\n",
       " 'Awesome Phone. Slightly high price but worth. Better than iPhone XR.\\nCamera is superb and wide angle camera is very clear.\\n12MP selfie camera is also very good.\\nA13 Chip gives a very good and smooth performance.',\n",
       " \"Iphone is just awesome.. battery backup is very very nice.. continuously for 10 hours we can use it.camera is just awesome.. display is just fab.i love it alot..i had to wait 15 days for it as i pre ordered it..overalll it's worth the price..these all images are clicked by my iPhone..and i love it.\",\n",
       " 'Amazing phone with great cameras and better battery which gives you the best performance. I just love the camera .',\n",
       " 'Amazing Powerful and Durable Gadget.\\n\\nI’m am very happy with the camera picture quality, Amazing face id unlocked in dark room, Strong battery with perfect screen size as you can carry easily in pocket. This is my third iPhone.\\n\\nI shifted from android Samsung Note series to iPhone because of the strong build quality and peace of mind for next 3-4 years.\\n\\nDon’t think to much just go for it and I suggest you to go for minimum 128gb variant or more 256gb.\\n\\nI’ve attached my puppy pics and no fi...\\nREAD MORE',\n",
       " 'iphone 11 is a very good phone to buy only if you can compromise for the display. The display on this is device is pretty good but you can get other options with better displays in this price segment.\\nIf you can survive with an HD+ LCD panel with thicker bezels and a notch up top then this is a very good phone for you.\\nCameras are awesome, battery backup excellent, great performance and a decent premium look. Good job Apple !',\n",
       " 'It’s a must buy who is looking for an upgrade from previous generation of iPhones. If you are using XR then still you can hold on for sometime and upgrade to 2020 model else this phone is a must buy . Camera quality is amazing and wide angle is something to count upon. Performance wise it’s amazing and feels premium while holding in hand. So a big YES for this device. Go for 128 GB variant as the 4K videos will occupy lots of space and the storage can get over very quickly. Try to buy it with...\\nREAD MORE',\n",
       " 'Value for money❤️❤️\\nIts awesome mobile phone in the world ...\\nDisplay was very good and bright ..\\nTrust me freinds you r never regret after Buying..\\nJust go for it....\\nI love this phone and i switch to iphone x to 11',\n",
       " 'Best budget Iphone till date ❤️ go for it guys without second thought. Let me explain you guys about Camera, Display, battery, and performance.\\n\\nCamera: at this price range there is no comparison of camera, you’ll love the picture quality as well as video quality. I am a Vlogger I wanted an iPhone with 4k video by front camera and I got this phone and I am more than happy 😃\\n\\nBattery: I use this phone roughly as I am active social media person and I have a youtube channel. so the battery ba...\\nREAD MORE',\n",
       " 'It’s been almost a month since I have been using this phone. I upgraded from an iPhone 8. The main issue with my 8 was battery and this phone is just awesome when it comes to battery. It lasts a day and a half for me with my regular use , internet connected always with 4g\\nCan’t move forward without saying this. Battery of this phone is a life saver when I am traveling or at work when I don’t get the option to charge\\nCamera is superb. Front cam selfies and back cam photos are just awesome.\\n...\\nREAD MORE',\n",
       " '*Review after 10 months of usage*\\nDoesn\\'t seem bulky with decent touch and camera. The \"standard maintained\" quality of IPhone. Go for it, if your budget is not more enough for pro models. It\\'s a value for money among the 11 series Stereo speakers are so good, you will love the stereo sound. Battery backup is not decent but still better than Iphone 7 and 8.Processor is fast, the phone doesn\\'t lag at all even with heavy games, waterproof, faster face id and with no fingerprint scanners. The ca...\\nREAD MORE',\n",
       " 'Awesome Phone. Slightly high price but worth. Better than iPhone XR.\\nCamera is superb and wide angle camera is very clear.\\n12MP selfie camera is also very good.\\nA13 Chip gives a very good and smooth performance.',\n",
       " \"Iphone is just awesome.. battery backup is very very nice.. continuously for 10 hours we can use it.camera is just awesome.. display is just fab.i love it alot..i had to wait 15 days for it as i pre ordered it..overalll it's worth the price..these all images are clicked by my iPhone..and i love it.\",\n",
       " 'Amazing phone with great cameras and better battery which gives you the best performance. I just love the camera .',\n",
       " 'Amazing Powerful and Durable Gadget.\\n\\nI’m am very happy with the camera picture quality, Amazing face id unlocked in dark room, Strong battery with perfect screen size as you can carry easily in pocket. This is my third iPhone.\\n\\nI shifted from android Samsung Note series to iPhone because of the strong build quality and peace of mind for next 3-4 years.\\n\\nDon’t think to much just go for it and I suggest you to go for minimum 128gb variant or more 256gb.\\n\\nI’ve attached my puppy pics and no fi...\\nREAD MORE',\n",
       " 'iphone 11 is a very good phone to buy only if you can compromise for the display. The display on this is device is pretty good but you can get other options with better displays in this price segment.\\nIf you can survive with an HD+ LCD panel with thicker bezels and a notch up top then this is a very good phone for you.\\nCameras are awesome, battery backup excellent, great performance and a decent premium look. Good job Apple !',\n",
       " 'It’s a must buy who is looking for an upgrade from previous generation of iPhones. If you are using XR then still you can hold on for sometime and upgrade to 2020 model else this phone is a must buy . Camera quality is amazing and wide angle is something to count upon. Performance wise it’s amazing and feels premium while holding in hand. So a big YES for this device. Go for 128 GB variant as the 4K videos will occupy lots of space and the storage can get over very quickly. Try to buy it with...\\nREAD MORE',\n",
       " 'Value for money❤️❤️\\nIts awesome mobile phone in the world ...\\nDisplay was very good and bright ..\\nTrust me freinds you r never regret after Buying..\\nJust go for it....\\nI love this phone and i switch to iphone x to 11',\n",
       " 'Best budget Iphone till date ❤️ go for it guys without second thought. Let me explain you guys about Camera, Display, battery, and performance.\\n\\nCamera: at this price range there is no comparison of camera, you’ll love the picture quality as well as video quality. I am a Vlogger I wanted an iPhone with 4k video by front camera and I got this phone and I am more than happy 😃\\n\\nBattery: I use this phone roughly as I am active social media person and I have a youtube channel. so the battery ba...\\nREAD MORE',\n",
       " 'It’s been almost a month since I have been using this phone. I upgraded from an iPhone 8. The main issue with my 8 was battery and this phone is just awesome when it comes to battery. It lasts a day and a half for me with my regular use , internet connected always with 4g\\nCan’t move forward without saying this. Battery of this phone is a life saver when I am traveling or at work when I don’t get the option to charge\\nCamera is superb. Front cam selfies and back cam photos are just awesome.\\n...\\nREAD MORE',\n",
       " '*Review after 10 months of usage*\\nDoesn\\'t seem bulky with decent touch and camera. The \"standard maintained\" quality of IPhone. Go for it, if your budget is not more enough for pro models. It\\'s a value for money among the 11 series Stereo speakers are so good, you will love the stereo sound. Battery backup is not decent but still better than Iphone 7 and 8.Processor is fast, the phone doesn\\'t lag at all even with heavy games, waterproof, faster face id and with no fingerprint scanners. The ca...\\nREAD MORE',\n",
       " 'Awesome Phone. Slightly high price but worth. Better than iPhone XR.\\nCamera is superb and wide angle camera is very clear.\\n12MP selfie camera is also very good.\\nA13 Chip gives a very good and smooth performance.',\n",
       " \"Iphone is just awesome.. battery backup is very very nice.. continuously for 10 hours we can use it.camera is just awesome.. display is just fab.i love it alot..i had to wait 15 days for it as i pre ordered it..overalll it's worth the price..these all images are clicked by my iPhone..and i love it.\",\n",
       " 'Amazing phone with great cameras and better battery which gives you the best performance. I just love the camera .',\n",
       " 'Amazing Powerful and Durable Gadget.\\n\\nI’m am very happy with the camera picture quality, Amazing face id unlocked in dark room, Strong battery with perfect screen size as you can carry easily in pocket. This is my third iPhone.\\n\\nI shifted from android Samsung Note series to iPhone because of the strong build quality and peace of mind for next 3-4 years.\\n\\nDon’t think to much just go for it and I suggest you to go for minimum 128gb variant or more 256gb.\\n\\nI’ve attached my puppy pics and no fi...\\nREAD MORE',\n",
       " 'iphone 11 is a very good phone to buy only if you can compromise for the display. The display on this is device is pretty good but you can get other options with better displays in this price segment.\\nIf you can survive with an HD+ LCD panel with thicker bezels and a notch up top then this is a very good phone for you.\\nCameras are awesome, battery backup excellent, great performance and a decent premium look. Good job Apple !',\n",
       " 'It’s a must buy who is looking for an upgrade from previous generation of iPhones. If you are using XR then still you can hold on for sometime and upgrade to 2020 model else this phone is a must buy . Camera quality is amazing and wide angle is something to count upon. Performance wise it’s amazing and feels premium while holding in hand. So a big YES for this device. Go for 128 GB variant as the 4K videos will occupy lots of space and the storage can get over very quickly. Try to buy it with...\\nREAD MORE',\n",
       " 'Value for money❤️❤️\\nIts awesome mobile phone in the world ...\\nDisplay was very good and bright ..\\nTrust me freinds you r never regret after Buying..\\nJust go for it....\\nI love this phone and i switch to iphone x to 11',\n",
       " 'Best budget Iphone till date ❤️ go for it guys without second thought. Let me explain you guys about Camera, Display, battery, and performance.\\n\\nCamera: at this price range there is no comparison of camera, you’ll love the picture quality as well as video quality. I am a Vlogger I wanted an iPhone with 4k video by front camera and I got this phone and I am more than happy 😃\\n\\nBattery: I use this phone roughly as I am active social media person and I have a youtube channel. so the battery ba...\\nREAD MORE',\n",
       " 'It’s been almost a month since I have been using this phone. I upgraded from an iPhone 8. The main issue with my 8 was battery and this phone is just awesome when it comes to battery. It lasts a day and a half for me with my regular use , internet connected always with 4g\\nCan’t move forward without saying this. Battery of this phone is a life saver when I am traveling or at work when I don’t get the option to charge\\nCamera is superb. Front cam selfies and back cam photos are just awesome.\\n...\\nREAD MORE',\n",
       " '*Review after 10 months of usage*\\nDoesn\\'t seem bulky with decent touch and camera. The \"standard maintained\" quality of IPhone. Go for it, if your budget is not more enough for pro models. It\\'s a value for money among the 11 series Stereo speakers are so good, you will love the stereo sound. Battery backup is not decent but still better than Iphone 7 and 8.Processor is fast, the phone doesn\\'t lag at all even with heavy games, waterproof, faster face id and with no fingerprint scanners. The ca...\\nREAD MORE',\n",
       " 'Awesome Phone. Slightly high price but worth. Better than iPhone XR.\\nCamera is superb and wide angle camera is very clear.\\n12MP selfie camera is also very good.\\nA13 Chip gives a very good and smooth performance.',\n",
       " \"Iphone is just awesome.. battery backup is very very nice.. continuously for 10 hours we can use it.camera is just awesome.. display is just fab.i love it alot..i had to wait 15 days for it as i pre ordered it..overalll it's worth the price..these all images are clicked by my iPhone..and i love it.\",\n",
       " 'Amazing phone with great cameras and better battery which gives you the best performance. I just love the camera .',\n",
       " 'Amazing Powerful and Durable Gadget.\\n\\nI’m am very happy with the camera picture quality, Amazing face id unlocked in dark room, Strong battery with perfect screen size as you can carry easily in pocket. This is my third iPhone.\\n\\nI shifted from android Samsung Note series to iPhone because of the strong build quality and peace of mind for next 3-4 years.\\n\\nDon’t think to much just go for it and I suggest you to go for minimum 128gb variant or more 256gb.\\n\\nI’ve attached my puppy pics and no fi...\\nREAD MORE',\n",
       " 'iphone 11 is a very good phone to buy only if you can compromise for the display. The display on this is device is pretty good but you can get other options with better displays in this price segment.\\nIf you can survive with an HD+ LCD panel with thicker bezels and a notch up top then this is a very good phone for you.\\nCameras are awesome, battery backup excellent, great performance and a decent premium look. Good job Apple !',\n",
       " 'It’s a must buy who is looking for an upgrade from previous generation of iPhones. If you are using XR then still you can hold on for sometime and upgrade to 2020 model else this phone is a must buy . Camera quality is amazing and wide angle is something to count upon. Performance wise it’s amazing and feels premium while holding in hand. So a big YES for this device. Go for 128 GB variant as the 4K videos will occupy lots of space and the storage can get over very quickly. Try to buy it with...\\nREAD MORE',\n",
       " 'Value for money❤️❤️\\nIts awesome mobile phone in the world ...\\nDisplay was very good and bright ..\\nTrust me freinds you r never regret after Buying..\\nJust go for it....\\nI love this phone and i switch to iphone x to 11',\n",
       " 'Best budget Iphone till date ❤️ go for it guys without second thought. Let me explain you guys about Camera, Display, battery, and performance.\\n\\nCamera: at this price range there is no comparison of camera, you’ll love the picture quality as well as video quality. I am a Vlogger I wanted an iPhone with 4k video by front camera and I got this phone and I am more than happy 😃\\n\\nBattery: I use this phone roughly as I am active social media person and I have a youtube channel. so the battery ba...\\nREAD MORE',\n",
       " 'It’s been almost a month since I have been using this phone. I upgraded from an iPhone 8. The main issue with my 8 was battery and this phone is just awesome when it comes to battery. It lasts a day and a half for me with my regular use , internet connected always with 4g\\nCan’t move forward without saying this. Battery of this phone is a life saver when I am traveling or at work when I don’t get the option to charge\\nCamera is superb. Front cam selfies and back cam photos are just awesome.\\n...\\nREAD MORE',\n",
       " '*Review after 10 months of usage*\\nDoesn\\'t seem bulky with decent touch and camera. The \"standard maintained\" quality of IPhone. Go for it, if your budget is not more enough for pro models. It\\'s a value for money among the 11 series Stereo speakers are so good, you will love the stereo sound. Battery backup is not decent but still better than Iphone 7 and 8.Processor is fast, the phone doesn\\'t lag at all even with heavy games, waterproof, faster face id and with no fingerprint scanners. The ca...\\nREAD MORE',\n",
       " 'Awesome Phone. Slightly high price but worth. Better than iPhone XR.\\nCamera is superb and wide angle camera is very clear.\\n12MP selfie camera is also very good.\\nA13 Chip gives a very good and smooth performance.',\n",
       " \"Iphone is just awesome.. battery backup is very very nice.. continuously for 10 hours we can use it.camera is just awesome.. display is just fab.i love it alot..i had to wait 15 days for it as i pre ordered it..overalll it's worth the price..these all images are clicked by my iPhone..and i love it.\",\n",
       " 'Amazing phone with great cameras and better battery which gives you the best performance. I just love the camera .',\n",
       " 'Amazing Powerful and Durable Gadget.\\n\\nI’m am very happy with the camera picture quality, Amazing face id unlocked in dark room, Strong battery with perfect screen size as you can carry easily in pocket. This is my third iPhone.\\n\\nI shifted from android Samsung Note series to iPhone because of the strong build quality and peace of mind for next 3-4 years.\\n\\nDon’t think to much just go for it and I suggest you to go for minimum 128gb variant or more 256gb.\\n\\nI’ve attached my puppy pics and no fi...\\nREAD MORE',\n",
       " 'iphone 11 is a very good phone to buy only if you can compromise for the display. The display on this is device is pretty good but you can get other options with better displays in this price segment.\\nIf you can survive with an HD+ LCD panel with thicker bezels and a notch up top then this is a very good phone for you.\\nCameras are awesome, battery backup excellent, great performance and a decent premium look. Good job Apple !',\n",
       " 'It’s a must buy who is looking for an upgrade from previous generation of iPhones. If you are using XR then still you can hold on for sometime and upgrade to 2020 model else this phone is a must buy . Camera quality is amazing and wide angle is something to count upon. Performance wise it’s amazing and feels premium while holding in hand. So a big YES for this device. Go for 128 GB variant as the 4K videos will occupy lots of space and the storage can get over very quickly. Try to buy it with...\\nREAD MORE',\n",
       " 'Value for money❤️❤️\\nIts awesome mobile phone in the world ...\\nDisplay was very good and bright ..\\nTrust me freinds you r never regret after Buying..\\nJust go for it....\\nI love this phone and i switch to iphone x to 11',\n",
       " 'Best budget Iphone till date ❤️ go for it guys without second thought. Let me explain you guys about Camera, Display, battery, and performance.\\n\\nCamera: at this price range there is no comparison of camera, you’ll love the picture quality as well as video quality. I am a Vlogger I wanted an iPhone with 4k video by front camera and I got this phone and I am more than happy 😃\\n\\nBattery: I use this phone roughly as I am active social media person and I have a youtube channel. so the battery ba...\\nREAD MORE',\n",
       " 'It’s been almost a month since I have been using this phone. I upgraded from an iPhone 8. The main issue with my 8 was battery and this phone is just awesome when it comes to battery. It lasts a day and a half for me with my regular use , internet connected always with 4g\\nCan’t move forward without saying this. Battery of this phone is a life saver when I am traveling or at work when I don’t get the option to charge\\nCamera is superb. Front cam selfies and back cam photos are just awesome.\\n...\\nREAD MORE',\n",
       " '*Review after 10 months of usage*\\nDoesn\\'t seem bulky with decent touch and camera. The \"standard maintained\" quality of IPhone. Go for it, if your budget is not more enough for pro models. It\\'s a value for money among the 11 series Stereo speakers are so good, you will love the stereo sound. Battery backup is not decent but still better than Iphone 7 and 8.Processor is fast, the phone doesn\\'t lag at all even with heavy games, waterproof, faster face id and with no fingerprint scanners. The ca...\\nREAD MORE',\n",
       " 'Awesome Phone. Slightly high price but worth. Better than iPhone XR.\\nCamera is superb and wide angle camera is very clear.\\n12MP selfie camera is also very good.\\nA13 Chip gives a very good and smooth performance.',\n",
       " \"Iphone is just awesome.. battery backup is very very nice.. continuously for 10 hours we can use it.camera is just awesome.. display is just fab.i love it alot..i had to wait 15 days for it as i pre ordered it..overalll it's worth the price..these all images are clicked by my iPhone..and i love it.\",\n",
       " 'Amazing phone with great cameras and better battery which gives you the best performance. I just love the camera .',\n",
       " 'Amazing Powerful and Durable Gadget.\\n\\nI’m am very happy with the camera picture quality, Amazing face id unlocked in dark room, Strong battery with perfect screen size as you can carry easily in pocket. This is my third iPhone.\\n\\nI shifted from android Samsung Note series to iPhone because of the strong build quality and peace of mind for next 3-4 years.\\n\\nDon’t think to much just go for it and I suggest you to go for minimum 128gb variant or more 256gb.\\n\\nI’ve attached my puppy pics and no fi...\\nREAD MORE',\n",
       " 'iphone 11 is a very good phone to buy only if you can compromise for the display. The display on this is device is pretty good but you can get other options with better displays in this price segment.\\nIf you can survive with an HD+ LCD panel with thicker bezels and a notch up top then this is a very good phone for you.\\nCameras are awesome, battery backup excellent, great performance and a decent premium look. Good job Apple !',\n",
       " 'It’s a must buy who is looking for an upgrade from previous generation of iPhones. If you are using XR then still you can hold on for sometime and upgrade to 2020 model else this phone is a must buy . Camera quality is amazing and wide angle is something to count upon. Performance wise it’s amazing and feels premium while holding in hand. So a big YES for this device. Go for 128 GB variant as the 4K videos will occupy lots of space and the storage can get over very quickly. Try to buy it with...\\nREAD MORE',\n",
       " 'Value for money❤️❤️\\nIts awesome mobile phone in the world ...\\nDisplay was very good and bright ..\\nTrust me freinds you r never regret after Buying..\\nJust go for it....\\nI love this phone and i switch to iphone x to 11',\n",
       " 'Best budget Iphone till date ❤️ go for it guys without second thought. Let me explain you guys about Camera, Display, battery, and performance.\\n\\nCamera: at this price range there is no comparison of camera, you’ll love the picture quality as well as video quality. I am a Vlogger I wanted an iPhone with 4k video by front camera and I got this phone and I am more than happy 😃\\n\\nBattery: I use this phone roughly as I am active social media person and I have a youtube channel. so the battery ba...\\nREAD MORE',\n",
       " 'It’s been almost a month since I have been using this phone. I upgraded from an iPhone 8. The main issue with my 8 was battery and this phone is just awesome when it comes to battery. It lasts a day and a half for me with my regular use , internet connected always with 4g\\nCan’t move forward without saying this. Battery of this phone is a life saver when I am traveling or at work when I don’t get the option to charge\\nCamera is superb. Front cam selfies and back cam photos are just awesome.\\n...\\nREAD MORE',\n",
       " '*Review after 10 months of usage*\\nDoesn\\'t seem bulky with decent touch and camera. The \"standard maintained\" quality of IPhone. Go for it, if your budget is not more enough for pro models. It\\'s a value for money among the 11 series Stereo speakers are so good, you will love the stereo sound. Battery backup is not decent but still better than Iphone 7 and 8.Processor is fast, the phone doesn\\'t lag at all even with heavy games, waterproof, faster face id and with no fingerprint scanners. The ca...\\nREAD MORE',\n",
       " 'Awesome Phone. Slightly high price but worth. Better than iPhone XR.\\nCamera is superb and wide angle camera is very clear.\\n12MP selfie camera is also very good.\\nA13 Chip gives a very good and smooth performance.',\n",
       " \"Iphone is just awesome.. battery backup is very very nice.. continuously for 10 hours we can use it.camera is just awesome.. display is just fab.i love it alot..i had to wait 15 days for it as i pre ordered it..overalll it's worth the price..these all images are clicked by my iPhone..and i love it.\"]"
      ]
     },
     "execution_count": 63,
     "metadata": {},
     "output_type": "execute_result"
    }
   ],
   "source": [
    "full_review[:100]"
   ]
  },
  {
   "cell_type": "code",
   "execution_count": 69,
   "metadata": {},
   "outputs": [
    {
     "name": "stdout",
     "output_type": "stream",
     "text": [
      "['5', '5', '5', '5', '5', '5', '5', '5', '4', '5', '5', '5', '5', '5', '5', '5', '5', '5', '4', '5', '5', '5', '5', '5', '5', '5', '5', '5', '4', '5', '5', '5', '5', '5', '5', '5', '5', '5', '4', '5', '5', '5', '5', '5', '5', '5', '5', '5', '4', '5', '5', '5', '5', '5', '5', '5', '5', '5', '4', '5', '5', '5', '5', '5', '5', '5', '5', '5', '4', '5', '5', '5', '5', '5', '5', '5', '5', '5', '4', '5', '5', '5', '5', '5', '5', '5', '5', '5', '4', '5', '5', '5', '5', '5', '5', '5', '5', '5', '4', '5'] ['Amazing phone with great cameras and better battery which gives you the best performance. I just love the camera .', 'Amazing Powerful and Durable Gadget.\\n\\nI’m am very happy with the camera picture quality, Amazing face id unlocked in dark room, Strong battery with perfect screen size as you can carry easily in pocket. This is my third iPhone.\\n\\nI shifted from android Samsung Note series to iPhone because of the strong build quality and peace of mind for next 3-4 years.\\n\\nDon’t think to much just go for it and I suggest you to go for minimum 128gb variant or more 256gb.\\n\\nI’ve attached my puppy pics and no fi...\\nREAD MORE', 'iphone 11 is a very good phone to buy only if you can compromise for the display. The display on this is device is pretty good but you can get other options with better displays in this price segment.\\nIf you can survive with an HD+ LCD panel with thicker bezels and a notch up top then this is a very good phone for you.\\nCameras are awesome, battery backup excellent, great performance and a decent premium look. Good job Apple !', 'It’s a must buy who is looking for an upgrade from previous generation of iPhones. If you are using XR then still you can hold on for sometime and upgrade to 2020 model else this phone is a must buy . Camera quality is amazing and wide angle is something to count upon. Performance wise it’s amazing and feels premium while holding in hand. So a big YES for this device. Go for 128 GB variant as the 4K videos will occupy lots of space and the storage can get over very quickly. Try to buy it with...\\nREAD MORE', 'Value for money❤️❤️\\nIts awesome mobile phone in the world ...\\nDisplay was very good and bright ..\\nTrust me freinds you r never regret after Buying..\\nJust go for it....\\nI love this phone and i switch to iphone x to 11', 'Best budget Iphone till date ❤️ go for it guys without second thought. Let me explain you guys about Camera, Display, battery, and performance.\\n\\nCamera: at this price range there is no comparison of camera, you’ll love the picture quality as well as video quality. I am a Vlogger I wanted an iPhone with 4k video by front camera and I got this phone and I am more than happy 😃\\n\\nBattery: I use this phone roughly as I am active social media person and I have a youtube channel. so the battery ba...\\nREAD MORE', 'It’s been almost a month since I have been using this phone. I upgraded from an iPhone 8. The main issue with my 8 was battery and this phone is just awesome when it comes to battery. It lasts a day and a half for me with my regular use , internet connected always with 4g\\nCan’t move forward without saying this. Battery of this phone is a life saver when I am traveling or at work when I don’t get the option to charge\\nCamera is superb. Front cam selfies and back cam photos are just awesome.\\n...\\nREAD MORE', '*Review after 10 months of usage*\\nDoesn\\'t seem bulky with decent touch and camera. The \"standard maintained\" quality of IPhone. Go for it, if your budget is not more enough for pro models. It\\'s a value for money among the 11 series Stereo speakers are so good, you will love the stereo sound. Battery backup is not decent but still better than Iphone 7 and 8.Processor is fast, the phone doesn\\'t lag at all even with heavy games, waterproof, faster face id and with no fingerprint scanners. The ca...\\nREAD MORE', 'Awesome Phone. Slightly high price but worth. Better than iPhone XR.\\nCamera is superb and wide angle camera is very clear.\\n12MP selfie camera is also very good.\\nA13 Chip gives a very good and smooth performance.', \"Iphone is just awesome.. battery backup is very very nice.. continuously for 10 hours we can use it.camera is just awesome.. display is just fab.i love it alot..i had to wait 15 days for it as i pre ordered it..overalll it's worth the price..these all images are clicked by my iPhone..and i love it.\", 'Amazing phone with great cameras and better battery which gives you the best performance. I just love the camera .', 'Amazing Powerful and Durable Gadget.\\n\\nI’m am very happy with the camera picture quality, Amazing face id unlocked in dark room, Strong battery with perfect screen size as you can carry easily in pocket. This is my third iPhone.\\n\\nI shifted from android Samsung Note series to iPhone because of the strong build quality and peace of mind for next 3-4 years.\\n\\nDon’t think to much just go for it and I suggest you to go for minimum 128gb variant or more 256gb.\\n\\nI’ve attached my puppy pics and no fi...\\nREAD MORE', 'iphone 11 is a very good phone to buy only if you can compromise for the display. The display on this is device is pretty good but you can get other options with better displays in this price segment.\\nIf you can survive with an HD+ LCD panel with thicker bezels and a notch up top then this is a very good phone for you.\\nCameras are awesome, battery backup excellent, great performance and a decent premium look. Good job Apple !', 'It’s a must buy who is looking for an upgrade from previous generation of iPhones. If you are using XR then still you can hold on for sometime and upgrade to 2020 model else this phone is a must buy . Camera quality is amazing and wide angle is something to count upon. Performance wise it’s amazing and feels premium while holding in hand. So a big YES for this device. Go for 128 GB variant as the 4K videos will occupy lots of space and the storage can get over very quickly. Try to buy it with...\\nREAD MORE', 'Value for money❤️❤️\\nIts awesome mobile phone in the world ...\\nDisplay was very good and bright ..\\nTrust me freinds you r never regret after Buying..\\nJust go for it....\\nI love this phone and i switch to iphone x to 11', 'Best budget Iphone till date ❤️ go for it guys without second thought. Let me explain you guys about Camera, Display, battery, and performance.\\n\\nCamera: at this price range there is no comparison of camera, you’ll love the picture quality as well as video quality. I am a Vlogger I wanted an iPhone with 4k video by front camera and I got this phone and I am more than happy 😃\\n\\nBattery: I use this phone roughly as I am active social media person and I have a youtube channel. so the battery ba...\\nREAD MORE', 'It’s been almost a month since I have been using this phone. I upgraded from an iPhone 8. The main issue with my 8 was battery and this phone is just awesome when it comes to battery. It lasts a day and a half for me with my regular use , internet connected always with 4g\\nCan’t move forward without saying this. Battery of this phone is a life saver when I am traveling or at work when I don’t get the option to charge\\nCamera is superb. Front cam selfies and back cam photos are just awesome.\\n...\\nREAD MORE', '*Review after 10 months of usage*\\nDoesn\\'t seem bulky with decent touch and camera. The \"standard maintained\" quality of IPhone. Go for it, if your budget is not more enough for pro models. It\\'s a value for money among the 11 series Stereo speakers are so good, you will love the stereo sound. Battery backup is not decent but still better than Iphone 7 and 8.Processor is fast, the phone doesn\\'t lag at all even with heavy games, waterproof, faster face id and with no fingerprint scanners. The ca...\\nREAD MORE', 'Awesome Phone. Slightly high price but worth. Better than iPhone XR.\\nCamera is superb and wide angle camera is very clear.\\n12MP selfie camera is also very good.\\nA13 Chip gives a very good and smooth performance.', \"Iphone is just awesome.. battery backup is very very nice.. continuously for 10 hours we can use it.camera is just awesome.. display is just fab.i love it alot..i had to wait 15 days for it as i pre ordered it..overalll it's worth the price..these all images are clicked by my iPhone..and i love it.\", 'Amazing phone with great cameras and better battery which gives you the best performance. I just love the camera .', 'Amazing Powerful and Durable Gadget.\\n\\nI’m am very happy with the camera picture quality, Amazing face id unlocked in dark room, Strong battery with perfect screen size as you can carry easily in pocket. This is my third iPhone.\\n\\nI shifted from android Samsung Note series to iPhone because of the strong build quality and peace of mind for next 3-4 years.\\n\\nDon’t think to much just go for it and I suggest you to go for minimum 128gb variant or more 256gb.\\n\\nI’ve attached my puppy pics and no fi...\\nREAD MORE', 'iphone 11 is a very good phone to buy only if you can compromise for the display. The display on this is device is pretty good but you can get other options with better displays in this price segment.\\nIf you can survive with an HD+ LCD panel with thicker bezels and a notch up top then this is a very good phone for you.\\nCameras are awesome, battery backup excellent, great performance and a decent premium look. Good job Apple !', 'It’s a must buy who is looking for an upgrade from previous generation of iPhones. If you are using XR then still you can hold on for sometime and upgrade to 2020 model else this phone is a must buy . Camera quality is amazing and wide angle is something to count upon. Performance wise it’s amazing and feels premium while holding in hand. So a big YES for this device. Go for 128 GB variant as the 4K videos will occupy lots of space and the storage can get over very quickly. Try to buy it with...\\nREAD MORE', 'Value for money❤️❤️\\nIts awesome mobile phone in the world ...\\nDisplay was very good and bright ..\\nTrust me freinds you r never regret after Buying..\\nJust go for it....\\nI love this phone and i switch to iphone x to 11', 'Best budget Iphone till date ❤️ go for it guys without second thought. Let me explain you guys about Camera, Display, battery, and performance.\\n\\nCamera: at this price range there is no comparison of camera, you’ll love the picture quality as well as video quality. I am a Vlogger I wanted an iPhone with 4k video by front camera and I got this phone and I am more than happy 😃\\n\\nBattery: I use this phone roughly as I am active social media person and I have a youtube channel. so the battery ba...\\nREAD MORE', 'It’s been almost a month since I have been using this phone. I upgraded from an iPhone 8. The main issue with my 8 was battery and this phone is just awesome when it comes to battery. It lasts a day and a half for me with my regular use , internet connected always with 4g\\nCan’t move forward without saying this. Battery of this phone is a life saver when I am traveling or at work when I don’t get the option to charge\\nCamera is superb. Front cam selfies and back cam photos are just awesome.\\n...\\nREAD MORE', '*Review after 10 months of usage*\\nDoesn\\'t seem bulky with decent touch and camera. The \"standard maintained\" quality of IPhone. Go for it, if your budget is not more enough for pro models. It\\'s a value for money among the 11 series Stereo speakers are so good, you will love the stereo sound. Battery backup is not decent but still better than Iphone 7 and 8.Processor is fast, the phone doesn\\'t lag at all even with heavy games, waterproof, faster face id and with no fingerprint scanners. The ca...\\nREAD MORE', 'Awesome Phone. Slightly high price but worth. Better than iPhone XR.\\nCamera is superb and wide angle camera is very clear.\\n12MP selfie camera is also very good.\\nA13 Chip gives a very good and smooth performance.', \"Iphone is just awesome.. battery backup is very very nice.. continuously for 10 hours we can use it.camera is just awesome.. display is just fab.i love it alot..i had to wait 15 days for it as i pre ordered it..overalll it's worth the price..these all images are clicked by my iPhone..and i love it.\", 'Amazing phone with great cameras and better battery which gives you the best performance. I just love the camera .', 'Amazing Powerful and Durable Gadget.\\n\\nI’m am very happy with the camera picture quality, Amazing face id unlocked in dark room, Strong battery with perfect screen size as you can carry easily in pocket. This is my third iPhone.\\n\\nI shifted from android Samsung Note series to iPhone because of the strong build quality and peace of mind for next 3-4 years.\\n\\nDon’t think to much just go for it and I suggest you to go for minimum 128gb variant or more 256gb.\\n\\nI’ve attached my puppy pics and no fi...\\nREAD MORE', 'iphone 11 is a very good phone to buy only if you can compromise for the display. The display on this is device is pretty good but you can get other options with better displays in this price segment.\\nIf you can survive with an HD+ LCD panel with thicker bezels and a notch up top then this is a very good phone for you.\\nCameras are awesome, battery backup excellent, great performance and a decent premium look. Good job Apple !', 'It’s a must buy who is looking for an upgrade from previous generation of iPhones. If you are using XR then still you can hold on for sometime and upgrade to 2020 model else this phone is a must buy . Camera quality is amazing and wide angle is something to count upon. Performance wise it’s amazing and feels premium while holding in hand. So a big YES for this device. Go for 128 GB variant as the 4K videos will occupy lots of space and the storage can get over very quickly. Try to buy it with...\\nREAD MORE', 'Value for money❤️❤️\\nIts awesome mobile phone in the world ...\\nDisplay was very good and bright ..\\nTrust me freinds you r never regret after Buying..\\nJust go for it....\\nI love this phone and i switch to iphone x to 11', 'Best budget Iphone till date ❤️ go for it guys without second thought. Let me explain you guys about Camera, Display, battery, and performance.\\n\\nCamera: at this price range there is no comparison of camera, you’ll love the picture quality as well as video quality. I am a Vlogger I wanted an iPhone with 4k video by front camera and I got this phone and I am more than happy 😃\\n\\nBattery: I use this phone roughly as I am active social media person and I have a youtube channel. so the battery ba...\\nREAD MORE', 'It’s been almost a month since I have been using this phone. I upgraded from an iPhone 8. The main issue with my 8 was battery and this phone is just awesome when it comes to battery. It lasts a day and a half for me with my regular use , internet connected always with 4g\\nCan’t move forward without saying this. Battery of this phone is a life saver when I am traveling or at work when I don’t get the option to charge\\nCamera is superb. Front cam selfies and back cam photos are just awesome.\\n...\\nREAD MORE', '*Review after 10 months of usage*\\nDoesn\\'t seem bulky with decent touch and camera. The \"standard maintained\" quality of IPhone. Go for it, if your budget is not more enough for pro models. It\\'s a value for money among the 11 series Stereo speakers are so good, you will love the stereo sound. Battery backup is not decent but still better than Iphone 7 and 8.Processor is fast, the phone doesn\\'t lag at all even with heavy games, waterproof, faster face id and with no fingerprint scanners. The ca...\\nREAD MORE', 'Awesome Phone. Slightly high price but worth. Better than iPhone XR.\\nCamera is superb and wide angle camera is very clear.\\n12MP selfie camera is also very good.\\nA13 Chip gives a very good and smooth performance.', \"Iphone is just awesome.. battery backup is very very nice.. continuously for 10 hours we can use it.camera is just awesome.. display is just fab.i love it alot..i had to wait 15 days for it as i pre ordered it..overalll it's worth the price..these all images are clicked by my iPhone..and i love it.\", 'Amazing phone with great cameras and better battery which gives you the best performance. I just love the camera .', 'Amazing Powerful and Durable Gadget.\\n\\nI’m am very happy with the camera picture quality, Amazing face id unlocked in dark room, Strong battery with perfect screen size as you can carry easily in pocket. This is my third iPhone.\\n\\nI shifted from android Samsung Note series to iPhone because of the strong build quality and peace of mind for next 3-4 years.\\n\\nDon’t think to much just go for it and I suggest you to go for minimum 128gb variant or more 256gb.\\n\\nI’ve attached my puppy pics and no fi...\\nREAD MORE', 'iphone 11 is a very good phone to buy only if you can compromise for the display. The display on this is device is pretty good but you can get other options with better displays in this price segment.\\nIf you can survive with an HD+ LCD panel with thicker bezels and a notch up top then this is a very good phone for you.\\nCameras are awesome, battery backup excellent, great performance and a decent premium look. Good job Apple !', 'It’s a must buy who is looking for an upgrade from previous generation of iPhones. If you are using XR then still you can hold on for sometime and upgrade to 2020 model else this phone is a must buy . Camera quality is amazing and wide angle is something to count upon. Performance wise it’s amazing and feels premium while holding in hand. So a big YES for this device. Go for 128 GB variant as the 4K videos will occupy lots of space and the storage can get over very quickly. Try to buy it with...\\nREAD MORE', 'Value for money❤️❤️\\nIts awesome mobile phone in the world ...\\nDisplay was very good and bright ..\\nTrust me freinds you r never regret after Buying..\\nJust go for it....\\nI love this phone and i switch to iphone x to 11', 'Best budget Iphone till date ❤️ go for it guys without second thought. Let me explain you guys about Camera, Display, battery, and performance.\\n\\nCamera: at this price range there is no comparison of camera, you’ll love the picture quality as well as video quality. I am a Vlogger I wanted an iPhone with 4k video by front camera and I got this phone and I am more than happy 😃\\n\\nBattery: I use this phone roughly as I am active social media person and I have a youtube channel. so the battery ba...\\nREAD MORE', 'It’s been almost a month since I have been using this phone. I upgraded from an iPhone 8. The main issue with my 8 was battery and this phone is just awesome when it comes to battery. It lasts a day and a half for me with my regular use , internet connected always with 4g\\nCan’t move forward without saying this. Battery of this phone is a life saver when I am traveling or at work when I don’t get the option to charge\\nCamera is superb. Front cam selfies and back cam photos are just awesome.\\n...\\nREAD MORE', '*Review after 10 months of usage*\\nDoesn\\'t seem bulky with decent touch and camera. The \"standard maintained\" quality of IPhone. Go for it, if your budget is not more enough for pro models. It\\'s a value for money among the 11 series Stereo speakers are so good, you will love the stereo sound. Battery backup is not decent but still better than Iphone 7 and 8.Processor is fast, the phone doesn\\'t lag at all even with heavy games, waterproof, faster face id and with no fingerprint scanners. The ca...\\nREAD MORE', 'Awesome Phone. Slightly high price but worth. Better than iPhone XR.\\nCamera is superb and wide angle camera is very clear.\\n12MP selfie camera is also very good.\\nA13 Chip gives a very good and smooth performance.', \"Iphone is just awesome.. battery backup is very very nice.. continuously for 10 hours we can use it.camera is just awesome.. display is just fab.i love it alot..i had to wait 15 days for it as i pre ordered it..overalll it's worth the price..these all images are clicked by my iPhone..and i love it.\", 'Amazing phone with great cameras and better battery which gives you the best performance. I just love the camera .', 'Amazing Powerful and Durable Gadget.\\n\\nI’m am very happy with the camera picture quality, Amazing face id unlocked in dark room, Strong battery with perfect screen size as you can carry easily in pocket. This is my third iPhone.\\n\\nI shifted from android Samsung Note series to iPhone because of the strong build quality and peace of mind for next 3-4 years.\\n\\nDon’t think to much just go for it and I suggest you to go for minimum 128gb variant or more 256gb.\\n\\nI’ve attached my puppy pics and no fi...\\nREAD MORE', 'iphone 11 is a very good phone to buy only if you can compromise for the display. The display on this is device is pretty good but you can get other options with better displays in this price segment.\\nIf you can survive with an HD+ LCD panel with thicker bezels and a notch up top then this is a very good phone for you.\\nCameras are awesome, battery backup excellent, great performance and a decent premium look. Good job Apple !', 'It’s a must buy who is looking for an upgrade from previous generation of iPhones. If you are using XR then still you can hold on for sometime and upgrade to 2020 model else this phone is a must buy . Camera quality is amazing and wide angle is something to count upon. Performance wise it’s amazing and feels premium while holding in hand. So a big YES for this device. Go for 128 GB variant as the 4K videos will occupy lots of space and the storage can get over very quickly. Try to buy it with...\\nREAD MORE', 'Value for money❤️❤️\\nIts awesome mobile phone in the world ...\\nDisplay was very good and bright ..\\nTrust me freinds you r never regret after Buying..\\nJust go for it....\\nI love this phone and i switch to iphone x to 11', 'Best budget Iphone till date ❤️ go for it guys without second thought. Let me explain you guys about Camera, Display, battery, and performance.\\n\\nCamera: at this price range there is no comparison of camera, you’ll love the picture quality as well as video quality. I am a Vlogger I wanted an iPhone with 4k video by front camera and I got this phone and I am more than happy 😃\\n\\nBattery: I use this phone roughly as I am active social media person and I have a youtube channel. so the battery ba...\\nREAD MORE', 'It’s been almost a month since I have been using this phone. I upgraded from an iPhone 8. The main issue with my 8 was battery and this phone is just awesome when it comes to battery. It lasts a day and a half for me with my regular use , internet connected always with 4g\\nCan’t move forward without saying this. Battery of this phone is a life saver when I am traveling or at work when I don’t get the option to charge\\nCamera is superb. Front cam selfies and back cam photos are just awesome.\\n...\\nREAD MORE', '*Review after 10 months of usage*\\nDoesn\\'t seem bulky with decent touch and camera. The \"standard maintained\" quality of IPhone. Go for it, if your budget is not more enough for pro models. It\\'s a value for money among the 11 series Stereo speakers are so good, you will love the stereo sound. Battery backup is not decent but still better than Iphone 7 and 8.Processor is fast, the phone doesn\\'t lag at all even with heavy games, waterproof, faster face id and with no fingerprint scanners. The ca...\\nREAD MORE', 'Awesome Phone. Slightly high price but worth. Better than iPhone XR.\\nCamera is superb and wide angle camera is very clear.\\n12MP selfie camera is also very good.\\nA13 Chip gives a very good and smooth performance.', \"Iphone is just awesome.. battery backup is very very nice.. continuously for 10 hours we can use it.camera is just awesome.. display is just fab.i love it alot..i had to wait 15 days for it as i pre ordered it..overalll it's worth the price..these all images are clicked by my iPhone..and i love it.\", 'Amazing phone with great cameras and better battery which gives you the best performance. I just love the camera .', 'Amazing Powerful and Durable Gadget.\\n\\nI’m am very happy with the camera picture quality, Amazing face id unlocked in dark room, Strong battery with perfect screen size as you can carry easily in pocket. This is my third iPhone.\\n\\nI shifted from android Samsung Note series to iPhone because of the strong build quality and peace of mind for next 3-4 years.\\n\\nDon’t think to much just go for it and I suggest you to go for minimum 128gb variant or more 256gb.\\n\\nI’ve attached my puppy pics and no fi...\\nREAD MORE', 'iphone 11 is a very good phone to buy only if you can compromise for the display. The display on this is device is pretty good but you can get other options with better displays in this price segment.\\nIf you can survive with an HD+ LCD panel with thicker bezels and a notch up top then this is a very good phone for you.\\nCameras are awesome, battery backup excellent, great performance and a decent premium look. Good job Apple !', 'It’s a must buy who is looking for an upgrade from previous generation of iPhones. If you are using XR then still you can hold on for sometime and upgrade to 2020 model else this phone is a must buy . Camera quality is amazing and wide angle is something to count upon. Performance wise it’s amazing and feels premium while holding in hand. So a big YES for this device. Go for 128 GB variant as the 4K videos will occupy lots of space and the storage can get over very quickly. Try to buy it with...\\nREAD MORE', 'Value for money❤️❤️\\nIts awesome mobile phone in the world ...\\nDisplay was very good and bright ..\\nTrust me freinds you r never regret after Buying..\\nJust go for it....\\nI love this phone and i switch to iphone x to 11', 'Best budget Iphone till date ❤️ go for it guys without second thought. Let me explain you guys about Camera, Display, battery, and performance.\\n\\nCamera: at this price range there is no comparison of camera, you’ll love the picture quality as well as video quality. I am a Vlogger I wanted an iPhone with 4k video by front camera and I got this phone and I am more than happy 😃\\n\\nBattery: I use this phone roughly as I am active social media person and I have a youtube channel. so the battery ba...\\nREAD MORE', 'It’s been almost a month since I have been using this phone. I upgraded from an iPhone 8. The main issue with my 8 was battery and this phone is just awesome when it comes to battery. It lasts a day and a half for me with my regular use , internet connected always with 4g\\nCan’t move forward without saying this. Battery of this phone is a life saver when I am traveling or at work when I don’t get the option to charge\\nCamera is superb. Front cam selfies and back cam photos are just awesome.\\n...\\nREAD MORE', '*Review after 10 months of usage*\\nDoesn\\'t seem bulky with decent touch and camera. The \"standard maintained\" quality of IPhone. Go for it, if your budget is not more enough for pro models. It\\'s a value for money among the 11 series Stereo speakers are so good, you will love the stereo sound. Battery backup is not decent but still better than Iphone 7 and 8.Processor is fast, the phone doesn\\'t lag at all even with heavy games, waterproof, faster face id and with no fingerprint scanners. The ca...\\nREAD MORE', 'Awesome Phone. Slightly high price but worth. Better than iPhone XR.\\nCamera is superb and wide angle camera is very clear.\\n12MP selfie camera is also very good.\\nA13 Chip gives a very good and smooth performance.', \"Iphone is just awesome.. battery backup is very very nice.. continuously for 10 hours we can use it.camera is just awesome.. display is just fab.i love it alot..i had to wait 15 days for it as i pre ordered it..overalll it's worth the price..these all images are clicked by my iPhone..and i love it.\", 'Amazing phone with great cameras and better battery which gives you the best performance. I just love the camera .', 'Amazing Powerful and Durable Gadget.\\n\\nI’m am very happy with the camera picture quality, Amazing face id unlocked in dark room, Strong battery with perfect screen size as you can carry easily in pocket. This is my third iPhone.\\n\\nI shifted from android Samsung Note series to iPhone because of the strong build quality and peace of mind for next 3-4 years.\\n\\nDon’t think to much just go for it and I suggest you to go for minimum 128gb variant or more 256gb.\\n\\nI’ve attached my puppy pics and no fi...\\nREAD MORE', 'iphone 11 is a very good phone to buy only if you can compromise for the display. The display on this is device is pretty good but you can get other options with better displays in this price segment.\\nIf you can survive with an HD+ LCD panel with thicker bezels and a notch up top then this is a very good phone for you.\\nCameras are awesome, battery backup excellent, great performance and a decent premium look. Good job Apple !', 'It’s a must buy who is looking for an upgrade from previous generation of iPhones. If you are using XR then still you can hold on for sometime and upgrade to 2020 model else this phone is a must buy . Camera quality is amazing and wide angle is something to count upon. Performance wise it’s amazing and feels premium while holding in hand. So a big YES for this device. Go for 128 GB variant as the 4K videos will occupy lots of space and the storage can get over very quickly. Try to buy it with...\\nREAD MORE', 'Value for money❤️❤️\\nIts awesome mobile phone in the world ...\\nDisplay was very good and bright ..\\nTrust me freinds you r never regret after Buying..\\nJust go for it....\\nI love this phone and i switch to iphone x to 11', 'Best budget Iphone till date ❤️ go for it guys without second thought. Let me explain you guys about Camera, Display, battery, and performance.\\n\\nCamera: at this price range there is no comparison of camera, you’ll love the picture quality as well as video quality. I am a Vlogger I wanted an iPhone with 4k video by front camera and I got this phone and I am more than happy 😃\\n\\nBattery: I use this phone roughly as I am active social media person and I have a youtube channel. so the battery ba...\\nREAD MORE', 'It’s been almost a month since I have been using this phone. I upgraded from an iPhone 8. The main issue with my 8 was battery and this phone is just awesome when it comes to battery. It lasts a day and a half for me with my regular use , internet connected always with 4g\\nCan’t move forward without saying this. Battery of this phone is a life saver when I am traveling or at work when I don’t get the option to charge\\nCamera is superb. Front cam selfies and back cam photos are just awesome.\\n...\\nREAD MORE', '*Review after 10 months of usage*\\nDoesn\\'t seem bulky with decent touch and camera. The \"standard maintained\" quality of IPhone. Go for it, if your budget is not more enough for pro models. It\\'s a value for money among the 11 series Stereo speakers are so good, you will love the stereo sound. Battery backup is not decent but still better than Iphone 7 and 8.Processor is fast, the phone doesn\\'t lag at all even with heavy games, waterproof, faster face id and with no fingerprint scanners. The ca...\\nREAD MORE', 'Awesome Phone. Slightly high price but worth. Better than iPhone XR.\\nCamera is superb and wide angle camera is very clear.\\n12MP selfie camera is also very good.\\nA13 Chip gives a very good and smooth performance.', \"Iphone is just awesome.. battery backup is very very nice.. continuously for 10 hours we can use it.camera is just awesome.. display is just fab.i love it alot..i had to wait 15 days for it as i pre ordered it..overalll it's worth the price..these all images are clicked by my iPhone..and i love it.\", 'Amazing phone with great cameras and better battery which gives you the best performance. I just love the camera .', 'Amazing Powerful and Durable Gadget.\\n\\nI’m am very happy with the camera picture quality, Amazing face id unlocked in dark room, Strong battery with perfect screen size as you can carry easily in pocket. This is my third iPhone.\\n\\nI shifted from android Samsung Note series to iPhone because of the strong build quality and peace of mind for next 3-4 years.\\n\\nDon’t think to much just go for it and I suggest you to go for minimum 128gb variant or more 256gb.\\n\\nI’ve attached my puppy pics and no fi...\\nREAD MORE', 'iphone 11 is a very good phone to buy only if you can compromise for the display. The display on this is device is pretty good but you can get other options with better displays in this price segment.\\nIf you can survive with an HD+ LCD panel with thicker bezels and a notch up top then this is a very good phone for you.\\nCameras are awesome, battery backup excellent, great performance and a decent premium look. Good job Apple !', 'It’s a must buy who is looking for an upgrade from previous generation of iPhones. If you are using XR then still you can hold on for sometime and upgrade to 2020 model else this phone is a must buy . Camera quality is amazing and wide angle is something to count upon. Performance wise it’s amazing and feels premium while holding in hand. So a big YES for this device. Go for 128 GB variant as the 4K videos will occupy lots of space and the storage can get over very quickly. Try to buy it with...\\nREAD MORE', 'Value for money❤️❤️\\nIts awesome mobile phone in the world ...\\nDisplay was very good and bright ..\\nTrust me freinds you r never regret after Buying..\\nJust go for it....\\nI love this phone and i switch to iphone x to 11', 'Best budget Iphone till date ❤️ go for it guys without second thought. Let me explain you guys about Camera, Display, battery, and performance.\\n\\nCamera: at this price range there is no comparison of camera, you’ll love the picture quality as well as video quality. I am a Vlogger I wanted an iPhone with 4k video by front camera and I got this phone and I am more than happy 😃\\n\\nBattery: I use this phone roughly as I am active social media person and I have a youtube channel. so the battery ba...\\nREAD MORE', 'It’s been almost a month since I have been using this phone. I upgraded from an iPhone 8. The main issue with my 8 was battery and this phone is just awesome when it comes to battery. It lasts a day and a half for me with my regular use , internet connected always with 4g\\nCan’t move forward without saying this. Battery of this phone is a life saver when I am traveling or at work when I don’t get the option to charge\\nCamera is superb. Front cam selfies and back cam photos are just awesome.\\n...\\nREAD MORE', '*Review after 10 months of usage*\\nDoesn\\'t seem bulky with decent touch and camera. The \"standard maintained\" quality of IPhone. Go for it, if your budget is not more enough for pro models. It\\'s a value for money among the 11 series Stereo speakers are so good, you will love the stereo sound. Battery backup is not decent but still better than Iphone 7 and 8.Processor is fast, the phone doesn\\'t lag at all even with heavy games, waterproof, faster face id and with no fingerprint scanners. The ca...\\nREAD MORE', 'Awesome Phone. Slightly high price but worth. Better than iPhone XR.\\nCamera is superb and wide angle camera is very clear.\\n12MP selfie camera is also very good.\\nA13 Chip gives a very good and smooth performance.', \"Iphone is just awesome.. battery backup is very very nice.. continuously for 10 hours we can use it.camera is just awesome.. display is just fab.i love it alot..i had to wait 15 days for it as i pre ordered it..overalll it's worth the price..these all images are clicked by my iPhone..and i love it.\", 'Amazing phone with great cameras and better battery which gives you the best performance. I just love the camera .', 'Amazing Powerful and Durable Gadget.\\n\\nI’m am very happy with the camera picture quality, Amazing face id unlocked in dark room, Strong battery with perfect screen size as you can carry easily in pocket. This is my third iPhone.\\n\\nI shifted from android Samsung Note series to iPhone because of the strong build quality and peace of mind for next 3-4 years.\\n\\nDon’t think to much just go for it and I suggest you to go for minimum 128gb variant or more 256gb.\\n\\nI’ve attached my puppy pics and no fi...\\nREAD MORE', 'iphone 11 is a very good phone to buy only if you can compromise for the display. The display on this is device is pretty good but you can get other options with better displays in this price segment.\\nIf you can survive with an HD+ LCD panel with thicker bezels and a notch up top then this is a very good phone for you.\\nCameras are awesome, battery backup excellent, great performance and a decent premium look. Good job Apple !', 'It’s a must buy who is looking for an upgrade from previous generation of iPhones. If you are using XR then still you can hold on for sometime and upgrade to 2020 model else this phone is a must buy . Camera quality is amazing and wide angle is something to count upon. Performance wise it’s amazing and feels premium while holding in hand. So a big YES for this device. Go for 128 GB variant as the 4K videos will occupy lots of space and the storage can get over very quickly. Try to buy it with...\\nREAD MORE', 'Value for money❤️❤️\\nIts awesome mobile phone in the world ...\\nDisplay was very good and bright ..\\nTrust me freinds you r never regret after Buying..\\nJust go for it....\\nI love this phone and i switch to iphone x to 11', 'Best budget Iphone till date ❤️ go for it guys without second thought. Let me explain you guys about Camera, Display, battery, and performance.\\n\\nCamera: at this price range there is no comparison of camera, you’ll love the picture quality as well as video quality. I am a Vlogger I wanted an iPhone with 4k video by front camera and I got this phone and I am more than happy 😃\\n\\nBattery: I use this phone roughly as I am active social media person and I have a youtube channel. so the battery ba...\\nREAD MORE', 'It’s been almost a month since I have been using this phone. I upgraded from an iPhone 8. The main issue with my 8 was battery and this phone is just awesome when it comes to battery. It lasts a day and a half for me with my regular use , internet connected always with 4g\\nCan’t move forward without saying this. Battery of this phone is a life saver when I am traveling or at work when I don’t get the option to charge\\nCamera is superb. Front cam selfies and back cam photos are just awesome.\\n...\\nREAD MORE', '*Review after 10 months of usage*\\nDoesn\\'t seem bulky with decent touch and camera. The \"standard maintained\" quality of IPhone. Go for it, if your budget is not more enough for pro models. It\\'s a value for money among the 11 series Stereo speakers are so good, you will love the stereo sound. Battery backup is not decent but still better than Iphone 7 and 8.Processor is fast, the phone doesn\\'t lag at all even with heavy games, waterproof, faster face id and with no fingerprint scanners. The ca...\\nREAD MORE', 'Awesome Phone. Slightly high price but worth. Better than iPhone XR.\\nCamera is superb and wide angle camera is very clear.\\n12MP selfie camera is also very good.\\nA13 Chip gives a very good and smooth performance.', \"Iphone is just awesome.. battery backup is very very nice.. continuously for 10 hours we can use it.camera is just awesome.. display is just fab.i love it alot..i had to wait 15 days for it as i pre ordered it..overalll it's worth the price..these all images are clicked by my iPhone..and i love it.\"] ['Perfect product!', 'Great product', 'Highly recommended', 'Perfect product!', 'Perfect product!', 'Worth every penny', 'Worth every penny', 'Wonderful', 'Nice product', 'Perfect product!', 'Perfect product!', 'Great product', 'Highly recommended', 'Perfect product!', 'Perfect product!', 'Worth every penny', 'Worth every penny', 'Wonderful', 'Nice product', 'Perfect product!', 'Perfect product!', 'Great product', 'Highly recommended', 'Perfect product!', 'Perfect product!', 'Worth every penny', 'Worth every penny', 'Wonderful', 'Nice product', 'Perfect product!', 'Perfect product!', 'Great product', 'Highly recommended', 'Perfect product!', 'Perfect product!', 'Worth every penny', 'Worth every penny', 'Wonderful', 'Nice product', 'Perfect product!', 'Perfect product!', 'Great product', 'Highly recommended', 'Perfect product!', 'Perfect product!', 'Worth every penny', 'Worth every penny', 'Wonderful', 'Nice product', 'Perfect product!', 'Perfect product!', 'Great product', 'Highly recommended', 'Perfect product!', 'Perfect product!', 'Worth every penny', 'Worth every penny', 'Wonderful', 'Nice product', 'Perfect product!', 'Perfect product!', 'Great product', 'Highly recommended', 'Perfect product!', 'Perfect product!', 'Worth every penny', 'Worth every penny', 'Wonderful', 'Nice product', 'Perfect product!', 'Perfect product!', 'Great product', 'Highly recommended', 'Perfect product!', 'Perfect product!', 'Worth every penny', 'Worth every penny', 'Wonderful', 'Nice product', 'Perfect product!', 'Perfect product!', 'Great product', 'Highly recommended', 'Perfect product!', 'Perfect product!', 'Worth every penny', 'Worth every penny', 'Wonderful', 'Nice product', 'Perfect product!', 'Perfect product!', 'Great product', 'Highly recommended', 'Perfect product!', 'Perfect product!', 'Worth every penny', 'Worth every penny', 'Wonderful', 'Nice product', 'Perfect product!']\n"
     ]
    }
   ],
   "source": [
    "# Appending lists of all the pages and scrutinizing it appropriately.\n",
    "RATINGS=rating\n",
    "FULL_REVIEW=full_review\n",
    "REVIEW_SUMMARY=review_summary\n",
    "print(RATINGS,FULL_REVIEW,REVIEW_SUMMARY)"
   ]
  },
  {
   "cell_type": "code",
   "execution_count": 70,
   "metadata": {},
   "outputs": [
    {
     "data": {
      "text/html": [
       "<div>\n",
       "<style scoped>\n",
       "    .dataframe tbody tr th:only-of-type {\n",
       "        vertical-align: middle;\n",
       "    }\n",
       "\n",
       "    .dataframe tbody tr th {\n",
       "        vertical-align: top;\n",
       "    }\n",
       "\n",
       "    .dataframe thead th {\n",
       "        text-align: right;\n",
       "    }\n",
       "</style>\n",
       "<table border=\"1\" class=\"dataframe\">\n",
       "  <thead>\n",
       "    <tr style=\"text-align: right;\">\n",
       "      <th></th>\n",
       "      <th>star</th>\n",
       "      <th>review</th>\n",
       "      <th>summ</th>\n",
       "    </tr>\n",
       "  </thead>\n",
       "  <tbody>\n",
       "    <tr>\n",
       "      <th>0</th>\n",
       "      <td>5</td>\n",
       "      <td>Amazing phone with great cameras and better ba...</td>\n",
       "      <td>Perfect product!</td>\n",
       "    </tr>\n",
       "    <tr>\n",
       "      <th>1</th>\n",
       "      <td>5</td>\n",
       "      <td>Amazing Powerful and Durable Gadget.\\n\\nI’m am...</td>\n",
       "      <td>Great product</td>\n",
       "    </tr>\n",
       "    <tr>\n",
       "      <th>2</th>\n",
       "      <td>5</td>\n",
       "      <td>iphone 11 is a very good phone to buy only if ...</td>\n",
       "      <td>Highly recommended</td>\n",
       "    </tr>\n",
       "    <tr>\n",
       "      <th>3</th>\n",
       "      <td>5</td>\n",
       "      <td>It’s a must buy who is looking for an upgrade ...</td>\n",
       "      <td>Perfect product!</td>\n",
       "    </tr>\n",
       "    <tr>\n",
       "      <th>4</th>\n",
       "      <td>5</td>\n",
       "      <td>Value for money❤️❤️\\nIts awesome mobile phone ...</td>\n",
       "      <td>Perfect product!</td>\n",
       "    </tr>\n",
       "    <tr>\n",
       "      <th>...</th>\n",
       "      <td>...</td>\n",
       "      <td>...</td>\n",
       "      <td>...</td>\n",
       "    </tr>\n",
       "    <tr>\n",
       "      <th>95</th>\n",
       "      <td>5</td>\n",
       "      <td>Best budget Iphone till date ❤️ go for it guys...</td>\n",
       "      <td>Worth every penny</td>\n",
       "    </tr>\n",
       "    <tr>\n",
       "      <th>96</th>\n",
       "      <td>5</td>\n",
       "      <td>It’s been almost a month since I have been usi...</td>\n",
       "      <td>Worth every penny</td>\n",
       "    </tr>\n",
       "    <tr>\n",
       "      <th>97</th>\n",
       "      <td>5</td>\n",
       "      <td>*Review after 10 months of usage*\\nDoesn't see...</td>\n",
       "      <td>Wonderful</td>\n",
       "    </tr>\n",
       "    <tr>\n",
       "      <th>98</th>\n",
       "      <td>4</td>\n",
       "      <td>Awesome Phone. Slightly high price but worth. ...</td>\n",
       "      <td>Nice product</td>\n",
       "    </tr>\n",
       "    <tr>\n",
       "      <th>99</th>\n",
       "      <td>5</td>\n",
       "      <td>Iphone is just awesome.. battery backup is ver...</td>\n",
       "      <td>Perfect product!</td>\n",
       "    </tr>\n",
       "  </tbody>\n",
       "</table>\n",
       "<p>100 rows × 3 columns</p>\n",
       "</div>"
      ],
      "text/plain": [
       "   star                                             review                summ\n",
       "0     5  Amazing phone with great cameras and better ba...    Perfect product!\n",
       "1     5  Amazing Powerful and Durable Gadget.\\n\\nI’m am...       Great product\n",
       "2     5  iphone 11 is a very good phone to buy only if ...  Highly recommended\n",
       "3     5  It’s a must buy who is looking for an upgrade ...    Perfect product!\n",
       "4     5  Value for money❤️❤️\\nIts awesome mobile phone ...    Perfect product!\n",
       "..  ...                                                ...                 ...\n",
       "95    5  Best budget Iphone till date ❤️ go for it guys...   Worth every penny\n",
       "96    5  It’s been almost a month since I have been usi...   Worth every penny\n",
       "97    5  *Review after 10 months of usage*\\nDoesn't see...           Wonderful\n",
       "98    4  Awesome Phone. Slightly high price but worth. ...        Nice product\n",
       "99    5  Iphone is just awesome.. battery backup is ver...    Perfect product!\n",
       "\n",
       "[100 rows x 3 columns]"
      ]
     },
     "execution_count": 70,
     "metadata": {},
     "output_type": "execute_result"
    }
   ],
   "source": [
    "# Creating a dataframe to store the scrapped information.\n",
    "import pandas as pd\n",
    "Apple=pd.DataFrame({})\n",
    "Apple['star']=RATINGS\n",
    "Apple['review']=FULL_REVIEW\n",
    "Apple['summ']=REVIEW_SUMMARY\n",
    "Apple"
   ]
  },
  {
   "cell_type": "markdown",
   "metadata": {},
   "source": [
    "# Question No:8"
   ]
  },
  {
   "cell_type": "code",
   "execution_count": 308,
   "metadata": {},
   "outputs": [],
   "source": [
    "# Importing essential libraries.\n",
    "import selenium\n",
    "from selenium import webdriver\n",
    "# Configure the webdriver.\n",
    "driver = webdriver.Chrome('/Users/nlohith/Desktop/chromedriver')"
   ]
  },
  {
   "cell_type": "code",
   "execution_count": 309,
   "metadata": {},
   "outputs": [],
   "source": [
    "# Get the URL link.\n",
    "url = 'https://www.flipkart.com/search?q=sneakers&sid=osp%2Ccil%2Ce1f&as=on&as-show=on&otracker=AS_QueryStore_OrganicAutoSuggest_1_2_na_na_na&otracker1=AS_QueryStore_OrganicAutoSuggest_1_2_na_na_na&as-pos=1&as-type=RECENT&suggestionId=sneakers%7CMen%27s+Casual+Shoes&requestId=80cd9bce-32f0-4470-87de-84a0607d60f1&as-searchtext=sn'"
   ]
  },
  {
   "cell_type": "code",
   "execution_count": 310,
   "metadata": {},
   "outputs": [],
   "source": [
    "driver.get(url)"
   ]
  },
  {
   "cell_type": "code",
   "execution_count": 343,
   "metadata": {},
   "outputs": [],
   "source": [
    "# Creating empty lists for scraping data.\n",
    "brand = []\n",
    "product_description = []\n",
    "price = []\n",
    "discount = []"
   ]
  },
  {
   "cell_type": "code",
   "execution_count": 344,
   "metadata": {},
   "outputs": [],
   "source": [
    "# Scraping the brand\n",
    "Brand=driver.find_elements_by_xpath(\"//div[@class='_2WkVRV']\")"
   ]
  },
  {
   "cell_type": "code",
   "execution_count": 345,
   "metadata": {},
   "outputs": [
    {
     "data": {
      "text/plain": [
       "[<selenium.webdriver.remote.webelement.WebElement (session=\"88a8c17377c525ecfd0e70fb40dcbd61\", element=\"d188ecb1-05bc-4505-862d-dac162cab3b7\")>,\n",
       " <selenium.webdriver.remote.webelement.WebElement (session=\"88a8c17377c525ecfd0e70fb40dcbd61\", element=\"2d5904bc-6ed1-4525-b616-c8b2e336e4cb\")>,\n",
       " <selenium.webdriver.remote.webelement.WebElement (session=\"88a8c17377c525ecfd0e70fb40dcbd61\", element=\"e023cdef-57ca-4e87-ba2c-28af822e7b92\")>,\n",
       " <selenium.webdriver.remote.webelement.WebElement (session=\"88a8c17377c525ecfd0e70fb40dcbd61\", element=\"e624c4e1-a443-48cf-970c-cfb77c660385\")>,\n",
       " <selenium.webdriver.remote.webelement.WebElement (session=\"88a8c17377c525ecfd0e70fb40dcbd61\", element=\"55671608-6f08-4895-ab36-f847a04e01b9\")>]"
      ]
     },
     "execution_count": 345,
     "metadata": {},
     "output_type": "execute_result"
    }
   ],
   "source": [
    "Brand[:5]"
   ]
  },
  {
   "cell_type": "code",
   "execution_count": 346,
   "metadata": {},
   "outputs": [],
   "source": [
    "for i in Brand:\n",
    "    com=i.text\n",
    "    brand.append(com)"
   ]
  },
  {
   "cell_type": "code",
   "execution_count": 347,
   "metadata": {},
   "outputs": [
    {
     "data": {
      "text/plain": [
       "['BRUTON',\n",
       " 'Essence',\n",
       " 'Chevit',\n",
       " 'Robbie jones',\n",
       " 'Chevit',\n",
       " 'Oricum',\n",
       " 'Stefano Rads',\n",
       " 'Chevit',\n",
       " 'Restinfoot',\n",
       " 'Shoes Bank']"
      ]
     },
     "execution_count": 347,
     "metadata": {},
     "output_type": "execute_result"
    }
   ],
   "source": [
    "brand[:10]"
   ]
  },
  {
   "cell_type": "code",
   "execution_count": 348,
   "metadata": {},
   "outputs": [],
   "source": [
    "# Scraping the Product_description.\n",
    "Product_description = driver.find_elements_by_xpath(\"//a[@class='IRpwTa']\")"
   ]
  },
  {
   "cell_type": "code",
   "execution_count": 349,
   "metadata": {},
   "outputs": [
    {
     "data": {
      "text/plain": [
       "[<selenium.webdriver.remote.webelement.WebElement (session=\"88a8c17377c525ecfd0e70fb40dcbd61\", element=\"6061c502-347e-408e-9365-9691af6a3a1a\")>,\n",
       " <selenium.webdriver.remote.webelement.WebElement (session=\"88a8c17377c525ecfd0e70fb40dcbd61\", element=\"cef35060-4a30-43ce-a013-40d379da628d\")>,\n",
       " <selenium.webdriver.remote.webelement.WebElement (session=\"88a8c17377c525ecfd0e70fb40dcbd61\", element=\"984ec501-e55a-46c9-949d-78f3decac3ae\")>,\n",
       " <selenium.webdriver.remote.webelement.WebElement (session=\"88a8c17377c525ecfd0e70fb40dcbd61\", element=\"2c2f96f6-59b0-403e-888d-e4ec1c5298d2\")>,\n",
       " <selenium.webdriver.remote.webelement.WebElement (session=\"88a8c17377c525ecfd0e70fb40dcbd61\", element=\"0ce63a09-fe5e-441c-a98e-4c7def95ba52\")>]"
      ]
     },
     "execution_count": 349,
     "metadata": {},
     "output_type": "execute_result"
    }
   ],
   "source": [
    "Product_description[:5]"
   ]
  },
  {
   "cell_type": "code",
   "execution_count": 350,
   "metadata": {},
   "outputs": [],
   "source": [
    "for i in Product_description:\n",
    "    desc=i.text\n",
    "    product_description.append(desc)"
   ]
  },
  {
   "cell_type": "code",
   "execution_count": 351,
   "metadata": {},
   "outputs": [
    {
     "data": {
      "text/plain": [
       "['Men Combo Pack of 2 Casual & Sneaker Shoes (Loafer Shoe...',\n",
       " 'Stylesh Sneakers For Men',\n",
       " 'Combo Pack of 4 Casual Sneakers With Sneakers For Men',\n",
       " 'Casual Sneakers Shoes For Men Sneakers For Men',\n",
       " '171 Smart Tan Lace-Ups Casuals for Men Sneakers For Men',\n",
       " 'Combo pack of 2 casual sneaker shoes for men Sneakers F...',\n",
       " 'Lightweight Combo Pack of 02 Trendy Sneakers Casuals Fo...',\n",
       " \"Casual shoes,Sneakers for men's,shoes for men's Sneaker...\",\n",
       " \"White Sneaker For Men's/Boy's Sneakers For Men\",\n",
       " 'Combo Pack of 4 Latest Collection Stylish Casual Loafer...']"
      ]
     },
     "execution_count": 351,
     "metadata": {},
     "output_type": "execute_result"
    }
   ],
   "source": [
    "product_description[:10]"
   ]
  },
  {
   "cell_type": "code",
   "execution_count": 352,
   "metadata": {},
   "outputs": [],
   "source": [
    "# Scraping the Price.\n",
    "Price = driver.find_elements_by_xpath(\"//div[@class='_30jeq3']\")"
   ]
  },
  {
   "cell_type": "code",
   "execution_count": 354,
   "metadata": {},
   "outputs": [
    {
     "data": {
      "text/plain": [
       "[<selenium.webdriver.remote.webelement.WebElement (session=\"88a8c17377c525ecfd0e70fb40dcbd61\", element=\"51ddbce6-8cda-4a14-876a-95279fc7ad69\")>,\n",
       " <selenium.webdriver.remote.webelement.WebElement (session=\"88a8c17377c525ecfd0e70fb40dcbd61\", element=\"0edd76a4-3485-4448-8b69-ca666c3ecf24\")>,\n",
       " <selenium.webdriver.remote.webelement.WebElement (session=\"88a8c17377c525ecfd0e70fb40dcbd61\", element=\"c1d0acf5-0d06-4252-80bd-693c218b507d\")>,\n",
       " <selenium.webdriver.remote.webelement.WebElement (session=\"88a8c17377c525ecfd0e70fb40dcbd61\", element=\"b67846f7-b299-42c3-82bd-6f320ecdcfd0\")>,\n",
       " <selenium.webdriver.remote.webelement.WebElement (session=\"88a8c17377c525ecfd0e70fb40dcbd61\", element=\"8ee3af56-66ed-43b7-946e-179f05c193d3\")>]"
      ]
     },
     "execution_count": 354,
     "metadata": {},
     "output_type": "execute_result"
    }
   ],
   "source": [
    "Price[:5]"
   ]
  },
  {
   "cell_type": "code",
   "execution_count": 355,
   "metadata": {},
   "outputs": [],
   "source": [
    "for i in Price:\n",
    "    cost=i.text\n",
    "    price.append(cost)"
   ]
  },
  {
   "cell_type": "code",
   "execution_count": 356,
   "metadata": {},
   "outputs": [
    {
     "data": {
      "text/plain": [
       "['₹299',\n",
       " '₹424',\n",
       " '₹499',\n",
       " '₹378',\n",
       " '₹224',\n",
       " '₹398',\n",
       " '₹260',\n",
       " '₹499',\n",
       " '₹350',\n",
       " '₹349']"
      ]
     },
     "execution_count": 356,
     "metadata": {},
     "output_type": "execute_result"
    }
   ],
   "source": [
    "price[:10]"
   ]
  },
  {
   "cell_type": "code",
   "execution_count": 357,
   "metadata": {},
   "outputs": [],
   "source": [
    "# Scraping the Discount.\n",
    "Discount= driver.find_elements_by_xpath('//div[@class=\"_3Ay6Sb\"]')"
   ]
  },
  {
   "cell_type": "code",
   "execution_count": 358,
   "metadata": {},
   "outputs": [
    {
     "data": {
      "text/plain": [
       "[<selenium.webdriver.remote.webelement.WebElement (session=\"88a8c17377c525ecfd0e70fb40dcbd61\", element=\"06a5c493-68ec-4174-b1e2-5319ae9ac335\")>,\n",
       " <selenium.webdriver.remote.webelement.WebElement (session=\"88a8c17377c525ecfd0e70fb40dcbd61\", element=\"1f94e7f0-e534-4874-8ea8-06bd68abf81a\")>,\n",
       " <selenium.webdriver.remote.webelement.WebElement (session=\"88a8c17377c525ecfd0e70fb40dcbd61\", element=\"db47a767-4d89-4ba6-9ddb-409134047c4a\")>,\n",
       " <selenium.webdriver.remote.webelement.WebElement (session=\"88a8c17377c525ecfd0e70fb40dcbd61\", element=\"7bd634b0-d62f-488c-856d-9e956a49a4e1\")>,\n",
       " <selenium.webdriver.remote.webelement.WebElement (session=\"88a8c17377c525ecfd0e70fb40dcbd61\", element=\"f7c47ed3-5b97-4aaf-a101-620f61192e2e\")>]"
      ]
     },
     "execution_count": 358,
     "metadata": {},
     "output_type": "execute_result"
    }
   ],
   "source": [
    "Discount[:5]"
   ]
  },
  {
   "cell_type": "code",
   "execution_count": 359,
   "metadata": {},
   "outputs": [],
   "source": [
    "for i in Discount:\n",
    "    offer=i.text\n",
    "    discount.append(offer)"
   ]
  },
  {
   "cell_type": "code",
   "execution_count": 360,
   "metadata": {},
   "outputs": [
    {
     "data": {
      "text/plain": [
       "['87% off',\n",
       " '57% off',\n",
       " '75% off',\n",
       " '62% off',\n",
       " '55% off',\n",
       " '60% off',\n",
       " '62% off',\n",
       " '50% off',\n",
       " '64% off',\n",
       " '65% off']"
      ]
     },
     "execution_count": 360,
     "metadata": {},
     "output_type": "execute_result"
    }
   ],
   "source": [
    "discount[:10]"
   ]
  },
  {
   "cell_type": "code",
   "execution_count": 361,
   "metadata": {},
   "outputs": [],
   "source": [
    "# Scrap the next_page.\n",
    "next_page1=driver.find_elements_by_xpath(\"//a[@class='_1LKTO3']\")"
   ]
  },
  {
   "cell_type": "code",
   "execution_count": 362,
   "metadata": {},
   "outputs": [
    {
     "data": {
      "text/plain": [
       "[<selenium.webdriver.remote.webelement.WebElement (session=\"88a8c17377c525ecfd0e70fb40dcbd61\", element=\"7657af22-281e-40d8-93f2-95a2ab0a93dc\")>]"
      ]
     },
     "execution_count": 362,
     "metadata": {},
     "output_type": "execute_result"
    }
   ],
   "source": [
    "next_page1[:2]"
   ]
  },
  {
   "cell_type": "code",
   "execution_count": 363,
   "metadata": {},
   "outputs": [],
   "source": [
    "# Creating empty lists for scraping data.\n",
    "brand1 = []\n",
    "product_description1 = []\n",
    "price1 = []\n",
    "discount1 = []"
   ]
  },
  {
   "cell_type": "code",
   "execution_count": 364,
   "metadata": {},
   "outputs": [],
   "source": [
    "# Scraping the Brand.\n",
    "Brand1=driver.find_elements_by_xpath(\"//div[@class='_2WkVRV']\")"
   ]
  },
  {
   "cell_type": "code",
   "execution_count": 365,
   "metadata": {},
   "outputs": [
    {
     "data": {
      "text/plain": [
       "[<selenium.webdriver.remote.webelement.WebElement (session=\"88a8c17377c525ecfd0e70fb40dcbd61\", element=\"e1e8fb71-dd7b-4f04-97b6-017cbd56477e\")>,\n",
       " <selenium.webdriver.remote.webelement.WebElement (session=\"88a8c17377c525ecfd0e70fb40dcbd61\", element=\"c4f84c97-6af2-463f-b8eb-158a7d0a3024\")>,\n",
       " <selenium.webdriver.remote.webelement.WebElement (session=\"88a8c17377c525ecfd0e70fb40dcbd61\", element=\"7611de46-dbfd-4e05-be02-6032eed539c0\")>,\n",
       " <selenium.webdriver.remote.webelement.WebElement (session=\"88a8c17377c525ecfd0e70fb40dcbd61\", element=\"93963140-620f-4c02-ba75-6fd1a1785c6b\")>,\n",
       " <selenium.webdriver.remote.webelement.WebElement (session=\"88a8c17377c525ecfd0e70fb40dcbd61\", element=\"180b5a48-c98b-45e4-8c5e-b644728af62e\")>]"
      ]
     },
     "execution_count": 365,
     "metadata": {},
     "output_type": "execute_result"
    }
   ],
   "source": [
    "Brand1[:5]"
   ]
  },
  {
   "cell_type": "code",
   "execution_count": 366,
   "metadata": {},
   "outputs": [],
   "source": [
    "for i in Brand1:\n",
    "    com=i.text\n",
    "    brand1.append(com)"
   ]
  },
  {
   "cell_type": "code",
   "execution_count": 367,
   "metadata": {},
   "outputs": [
    {
     "data": {
      "text/plain": [
       "['Red Rose',\n",
       " 'Essence',\n",
       " 'Kraasa',\n",
       " 'BRUTON',\n",
       " 'D-SNEAKERZ',\n",
       " 'Chevit',\n",
       " 'Robbie Jones',\n",
       " 'Shoefly',\n",
       " 'Believe',\n",
       " 'Essence']"
      ]
     },
     "execution_count": 367,
     "metadata": {},
     "output_type": "execute_result"
    }
   ],
   "source": [
    "brand1[:10]"
   ]
  },
  {
   "cell_type": "code",
   "execution_count": 371,
   "metadata": {},
   "outputs": [],
   "source": [
    "# Scraping the Product_description.\n",
    "Product_description1 = driver.find_elements_by_xpath(\"//a[@class='IRpwTa']\")"
   ]
  },
  {
   "cell_type": "code",
   "execution_count": 372,
   "metadata": {},
   "outputs": [
    {
     "data": {
      "text/plain": [
       "[<selenium.webdriver.remote.webelement.WebElement (session=\"88a8c17377c525ecfd0e70fb40dcbd61\", element=\"ccf09b96-ae4d-4a90-bbc8-4e7049e8048e\")>,\n",
       " <selenium.webdriver.remote.webelement.WebElement (session=\"88a8c17377c525ecfd0e70fb40dcbd61\", element=\"cddccde6-4b61-49d2-adc6-0783996fba50\")>,\n",
       " <selenium.webdriver.remote.webelement.WebElement (session=\"88a8c17377c525ecfd0e70fb40dcbd61\", element=\"2dd2a099-79ac-4c59-97eb-563b52e1c231\")>,\n",
       " <selenium.webdriver.remote.webelement.WebElement (session=\"88a8c17377c525ecfd0e70fb40dcbd61\", element=\"4310ec20-f865-4b79-bcc2-a01f997a708a\")>,\n",
       " <selenium.webdriver.remote.webelement.WebElement (session=\"88a8c17377c525ecfd0e70fb40dcbd61\", element=\"90f78a46-0c67-46a5-b94a-641d2528a00d\")>]"
      ]
     },
     "execution_count": 372,
     "metadata": {},
     "output_type": "execute_result"
    }
   ],
   "source": [
    "Product_description1[:5]"
   ]
  },
  {
   "cell_type": "code",
   "execution_count": 374,
   "metadata": {},
   "outputs": [],
   "source": [
    "for i in Product_description1:\n",
    "    com=i.text\n",
    "    product_description1.append(com)"
   ]
  },
  {
   "cell_type": "code",
   "execution_count": 375,
   "metadata": {},
   "outputs": [
    {
     "data": {
      "text/plain": [
       "['Sneakers For Men',\n",
       " 'Sneakers For Men',\n",
       " 'Casuals, Canvas, Partywear Sneakers For Men',\n",
       " 'Men Combo Pack of 2 Casual & Sneaker Shoes (Loafer Shoe...',\n",
       " \"Casual , Partywear Sneakers Shoes For Men's And Boys Wh...\",\n",
       " 'Smart Casuals Canvas Shoes Combo pack of 2 Sneakers For...',\n",
       " 'Combo Men Pack of 2 Loafers Shoes Sneakers For Men',\n",
       " 'Sneakers for men(black_10) Sneakers For Men',\n",
       " 'Stylesh Sneakers For Men',\n",
       " '5011-Latest Collection Stylish Casual Loafer Sneakers S...']"
      ]
     },
     "execution_count": 375,
     "metadata": {},
     "output_type": "execute_result"
    }
   ],
   "source": [
    "product_description1[:10]"
   ]
  },
  {
   "cell_type": "code",
   "execution_count": 376,
   "metadata": {},
   "outputs": [],
   "source": [
    "# Scraping the Price\n",
    "Price1 = driver.find_elements_by_xpath(\"//div[@class='_30jeq3']\")"
   ]
  },
  {
   "cell_type": "code",
   "execution_count": 377,
   "metadata": {},
   "outputs": [
    {
     "data": {
      "text/plain": [
       "[<selenium.webdriver.remote.webelement.WebElement (session=\"88a8c17377c525ecfd0e70fb40dcbd61\", element=\"87f8c496-08ec-48c1-bcee-cd899f5409d0\")>,\n",
       " <selenium.webdriver.remote.webelement.WebElement (session=\"88a8c17377c525ecfd0e70fb40dcbd61\", element=\"d799e3c7-8516-49e2-8336-de0b87c36ffe\")>,\n",
       " <selenium.webdriver.remote.webelement.WebElement (session=\"88a8c17377c525ecfd0e70fb40dcbd61\", element=\"81ec2e7d-decc-48b5-9f27-f9f3a49421f9\")>,\n",
       " <selenium.webdriver.remote.webelement.WebElement (session=\"88a8c17377c525ecfd0e70fb40dcbd61\", element=\"d9a975b6-cc5c-418b-857f-36cf0eafa7f5\")>,\n",
       " <selenium.webdriver.remote.webelement.WebElement (session=\"88a8c17377c525ecfd0e70fb40dcbd61\", element=\"3cd6be95-8e6b-4acd-82c9-d738d1cc4592\")>]"
      ]
     },
     "execution_count": 377,
     "metadata": {},
     "output_type": "execute_result"
    }
   ],
   "source": [
    "Price1[:5]"
   ]
  },
  {
   "cell_type": "code",
   "execution_count": 378,
   "metadata": {},
   "outputs": [],
   "source": [
    "for i in Price1:\n",
    "    cost=i.text\n",
    "    price1.append(cost)"
   ]
  },
  {
   "cell_type": "code",
   "execution_count": 379,
   "metadata": {},
   "outputs": [
    {
     "data": {
      "text/plain": [
       "['₹359',\n",
       " '₹424',\n",
       " '₹424',\n",
       " '₹299',\n",
       " '₹368',\n",
       " '₹299',\n",
       " '₹449',\n",
       " '₹299',\n",
       " '₹399',\n",
       " '₹424']"
      ]
     },
     "execution_count": 379,
     "metadata": {},
     "output_type": "execute_result"
    }
   ],
   "source": [
    "price1[:10]"
   ]
  },
  {
   "cell_type": "code",
   "execution_count": 381,
   "metadata": {},
   "outputs": [],
   "source": [
    "# Scraping the Discount\n",
    "Discount1= driver.find_elements_by_xpath('//div[@class=\"_3Ay6Sb\"]')"
   ]
  },
  {
   "cell_type": "code",
   "execution_count": 382,
   "metadata": {},
   "outputs": [
    {
     "data": {
      "text/plain": [
       "[<selenium.webdriver.remote.webelement.WebElement (session=\"88a8c17377c525ecfd0e70fb40dcbd61\", element=\"88170137-39e9-4a6e-8e85-766a6fce3094\")>,\n",
       " <selenium.webdriver.remote.webelement.WebElement (session=\"88a8c17377c525ecfd0e70fb40dcbd61\", element=\"45d1b1be-d833-469d-b5ab-24df311cd52c\")>,\n",
       " <selenium.webdriver.remote.webelement.WebElement (session=\"88a8c17377c525ecfd0e70fb40dcbd61\", element=\"5b1ebda4-9bf9-46b0-a675-a2855d0881ce\")>,\n",
       " <selenium.webdriver.remote.webelement.WebElement (session=\"88a8c17377c525ecfd0e70fb40dcbd61\", element=\"89ef9d17-dc61-4fd9-92ca-3bcaea69b5ac\")>,\n",
       " <selenium.webdriver.remote.webelement.WebElement (session=\"88a8c17377c525ecfd0e70fb40dcbd61\", element=\"98bf1dd2-6095-4b68-8d02-c5098bcc04a8\")>]"
      ]
     },
     "execution_count": 382,
     "metadata": {},
     "output_type": "execute_result"
    }
   ],
   "source": [
    "Discount1[:5]"
   ]
  },
  {
   "cell_type": "code",
   "execution_count": 383,
   "metadata": {},
   "outputs": [],
   "source": [
    "for i in Discount1:\n",
    "    offer=i.text\n",
    "    discount1.append(offer)"
   ]
  },
  {
   "cell_type": "code",
   "execution_count": 384,
   "metadata": {},
   "outputs": [
    {
     "data": {
      "text/plain": [
       "['28% off',\n",
       " '57% off',\n",
       " '57% off',\n",
       " '87% off',\n",
       " '44% off',\n",
       " '70% off',\n",
       " '55% off',\n",
       " '70% off',\n",
       " '60% off',\n",
       " '57% off']"
      ]
     },
     "execution_count": 384,
     "metadata": {},
     "output_type": "execute_result"
    }
   ],
   "source": [
    "discount1[:10]"
   ]
  },
  {
   "cell_type": "code",
   "execution_count": 385,
   "metadata": {},
   "outputs": [],
   "source": [
    "# Scraping the next_page.\n",
    "next_page2=driver.find_elements_by_xpath(\"//a[@class='_1LKTO3']\")"
   ]
  },
  {
   "cell_type": "code",
   "execution_count": 387,
   "metadata": {},
   "outputs": [
    {
     "data": {
      "text/plain": [
       "[<selenium.webdriver.remote.webelement.WebElement (session=\"88a8c17377c525ecfd0e70fb40dcbd61\", element=\"46683485-22e7-4a0d-aa02-b92aa66c7546\")>,\n",
       " <selenium.webdriver.remote.webelement.WebElement (session=\"88a8c17377c525ecfd0e70fb40dcbd61\", element=\"7657af22-281e-40d8-93f2-95a2ab0a93dc\")>]"
      ]
     },
     "execution_count": 387,
     "metadata": {},
     "output_type": "execute_result"
    }
   ],
   "source": [
    "next_page2[:3]"
   ]
  },
  {
   "cell_type": "code",
   "execution_count": 388,
   "metadata": {},
   "outputs": [],
   "source": [
    "# Creating empty lists for scraping data.\n",
    "brand2= []\n",
    "product_description2 = []\n",
    "price2 = []\n",
    "discount2= []"
   ]
  },
  {
   "cell_type": "code",
   "execution_count": 389,
   "metadata": {},
   "outputs": [],
   "source": [
    "# Scraping the brand.\n",
    "Brand2=driver.find_elements_by_xpath(\"//div[@class='_2WkVRV']\")"
   ]
  },
  {
   "cell_type": "code",
   "execution_count": 390,
   "metadata": {},
   "outputs": [
    {
     "data": {
      "text/plain": [
       "[<selenium.webdriver.remote.webelement.WebElement (session=\"88a8c17377c525ecfd0e70fb40dcbd61\", element=\"af09a500-6543-4c98-8f6e-2f0b1be4aaa8\")>,\n",
       " <selenium.webdriver.remote.webelement.WebElement (session=\"88a8c17377c525ecfd0e70fb40dcbd61\", element=\"87cdc152-455f-4881-8152-163569814fc9\")>,\n",
       " <selenium.webdriver.remote.webelement.WebElement (session=\"88a8c17377c525ecfd0e70fb40dcbd61\", element=\"6e5f3d25-ce63-4250-92a3-7b62b8fb9d85\")>,\n",
       " <selenium.webdriver.remote.webelement.WebElement (session=\"88a8c17377c525ecfd0e70fb40dcbd61\", element=\"eaa86775-8174-428e-9e93-4b289464fd66\")>,\n",
       " <selenium.webdriver.remote.webelement.WebElement (session=\"88a8c17377c525ecfd0e70fb40dcbd61\", element=\"cf5a3338-1022-4f88-a11b-a70a6f1cf869\")>]"
      ]
     },
     "execution_count": 390,
     "metadata": {},
     "output_type": "execute_result"
    }
   ],
   "source": [
    "Brand2[:5]"
   ]
  },
  {
   "cell_type": "code",
   "execution_count": 391,
   "metadata": {},
   "outputs": [],
   "source": [
    "for i in Brand2:\n",
    "    com=i.text\n",
    "    brand2.append(com)"
   ]
  },
  {
   "cell_type": "code",
   "execution_count": 392,
   "metadata": {},
   "outputs": [
    {
     "data": {
      "text/plain": [
       "['Chevit',\n",
       " 'Edoeviv',\n",
       " 'Ktiz',\n",
       " 'Echor',\n",
       " 'BRUTON',\n",
       " 'STRANGER BROTHERS',\n",
       " 'Asian',\n",
       " 'Englewood',\n",
       " 'SCATCHITE',\n",
       " 'BRUTON']"
      ]
     },
     "execution_count": 392,
     "metadata": {},
     "output_type": "execute_result"
    }
   ],
   "source": [
    "brand2[:10]"
   ]
  },
  {
   "cell_type": "code",
   "execution_count": 393,
   "metadata": {},
   "outputs": [],
   "source": [
    "# Scraping the Product_description.\n",
    "Product_description2 = driver.find_elements_by_xpath(\"//a[@class='IRpwTa']\")"
   ]
  },
  {
   "cell_type": "code",
   "execution_count": 394,
   "metadata": {},
   "outputs": [
    {
     "data": {
      "text/plain": [
       "[<selenium.webdriver.remote.webelement.WebElement (session=\"88a8c17377c525ecfd0e70fb40dcbd61\", element=\"38411b86-bed8-43c5-976b-94657377d7ea\")>,\n",
       " <selenium.webdriver.remote.webelement.WebElement (session=\"88a8c17377c525ecfd0e70fb40dcbd61\", element=\"f0270e90-7a81-4c47-8741-f077f43ea8c2\")>,\n",
       " <selenium.webdriver.remote.webelement.WebElement (session=\"88a8c17377c525ecfd0e70fb40dcbd61\", element=\"0f95ec95-4a99-4ac3-8110-a762071e7a11\")>,\n",
       " <selenium.webdriver.remote.webelement.WebElement (session=\"88a8c17377c525ecfd0e70fb40dcbd61\", element=\"17953a2c-f9c8-4f98-98ab-049e34af0df1\")>,\n",
       " <selenium.webdriver.remote.webelement.WebElement (session=\"88a8c17377c525ecfd0e70fb40dcbd61\", element=\"e2e174f5-4a9d-4ad1-9486-b0ea1c3e7a05\")>]"
      ]
     },
     "execution_count": 394,
     "metadata": {},
     "output_type": "execute_result"
    }
   ],
   "source": [
    "Product_description2[:5]"
   ]
  },
  {
   "cell_type": "code",
   "execution_count": 395,
   "metadata": {},
   "outputs": [],
   "source": [
    "for i in Product_description2:\n",
    "    com=i.text\n",
    "    product_description2.append(com)"
   ]
  },
  {
   "cell_type": "code",
   "execution_count": 396,
   "metadata": {},
   "outputs": [
    {
     "data": {
      "text/plain": [
       "['Lightweight Combo Pack of 02 Trendy Casuals Sneakers Fo...',\n",
       " 'Sneakers For Men  (White) Sneakers For Men',\n",
       " 'Sneakers For Men',\n",
       " 'Combo Pack of 5 Casual Sneakers With Sneakers For Men',\n",
       " 'Worldcup-03 Running shoes for boys | sports shoes for m...',\n",
       " 'Sneakers For Men',\n",
       " 'Men Combo Pack of 2 Casual & Sneaker Shoes (Loafer Shoe...',\n",
       " 'SUMMITS - BRISBANE Sneakers For Men',\n",
       " 'EASY VULC 2.0 Sneakers For Men',\n",
       " 'Stylesh Sneakers For Men']"
      ]
     },
     "execution_count": 396,
     "metadata": {},
     "output_type": "execute_result"
    }
   ],
   "source": [
    "product_description2[:10]"
   ]
  },
  {
   "cell_type": "code",
   "execution_count": 397,
   "metadata": {},
   "outputs": [],
   "source": [
    "# Scraping the price.\n",
    "Price2 = driver.find_elements_by_xpath(\"//div[@class='_30jeq3']\")"
   ]
  },
  {
   "cell_type": "code",
   "execution_count": 398,
   "metadata": {},
   "outputs": [
    {
     "data": {
      "text/plain": [
       "[<selenium.webdriver.remote.webelement.WebElement (session=\"88a8c17377c525ecfd0e70fb40dcbd61\", element=\"f769326a-3d12-45ca-a2f2-6cc53e46c79c\")>,\n",
       " <selenium.webdriver.remote.webelement.WebElement (session=\"88a8c17377c525ecfd0e70fb40dcbd61\", element=\"a863072b-e139-485b-9ae1-978d1fcb2a52\")>,\n",
       " <selenium.webdriver.remote.webelement.WebElement (session=\"88a8c17377c525ecfd0e70fb40dcbd61\", element=\"60fa6561-9ace-42ba-b21a-721de0219990\")>,\n",
       " <selenium.webdriver.remote.webelement.WebElement (session=\"88a8c17377c525ecfd0e70fb40dcbd61\", element=\"a1d17fe5-dc58-4f93-862b-8269de480516\")>,\n",
       " <selenium.webdriver.remote.webelement.WebElement (session=\"88a8c17377c525ecfd0e70fb40dcbd61\", element=\"bc8ccc57-d40c-4110-9818-90c0a0576c37\")>]"
      ]
     },
     "execution_count": 398,
     "metadata": {},
     "output_type": "execute_result"
    }
   ],
   "source": [
    "Price2[:5]"
   ]
  },
  {
   "cell_type": "code",
   "execution_count": 399,
   "metadata": {},
   "outputs": [],
   "source": [
    "for i in Price2:\n",
    "    cost=i.text\n",
    "    price2.append(cost)"
   ]
  },
  {
   "cell_type": "code",
   "execution_count": 400,
   "metadata": {},
   "outputs": [
    {
     "data": {
      "text/plain": [
       "['₹499',\n",
       " '₹378',\n",
       " '₹503',\n",
       " '₹601',\n",
       " '₹759',\n",
       " '₹503',\n",
       " '₹1,499',\n",
       " '₹521',\n",
       " '₹398',\n",
       " '₹299']"
      ]
     },
     "execution_count": 400,
     "metadata": {},
     "output_type": "execute_result"
    }
   ],
   "source": [
    "price2[:10]"
   ]
  },
  {
   "cell_type": "code",
   "execution_count": 401,
   "metadata": {},
   "outputs": [],
   "source": [
    "# scraping the Discount.\n",
    "Discount2= driver.find_elements_by_xpath('//div[@class=\"_3Ay6Sb\"]')"
   ]
  },
  {
   "cell_type": "code",
   "execution_count": 402,
   "metadata": {},
   "outputs": [
    {
     "data": {
      "text/plain": [
       "[<selenium.webdriver.remote.webelement.WebElement (session=\"88a8c17377c525ecfd0e70fb40dcbd61\", element=\"e804110f-042e-4466-943a-69ddd4f8efc9\")>,\n",
       " <selenium.webdriver.remote.webelement.WebElement (session=\"88a8c17377c525ecfd0e70fb40dcbd61\", element=\"6db5951e-63c4-4413-a55f-a103c66b0d89\")>,\n",
       " <selenium.webdriver.remote.webelement.WebElement (session=\"88a8c17377c525ecfd0e70fb40dcbd61\", element=\"1a786575-28c0-450e-875e-a6c1e649bdfb\")>,\n",
       " <selenium.webdriver.remote.webelement.WebElement (session=\"88a8c17377c525ecfd0e70fb40dcbd61\", element=\"5e9be46e-0a3b-45c9-99d0-034e2e3c66bf\")>,\n",
       " <selenium.webdriver.remote.webelement.WebElement (session=\"88a8c17377c525ecfd0e70fb40dcbd61\", element=\"f62028eb-4c60-4a72-a76e-982e655281fb\")>]"
      ]
     },
     "execution_count": 402,
     "metadata": {},
     "output_type": "execute_result"
    }
   ],
   "source": [
    "Discount2[:5]"
   ]
  },
  {
   "cell_type": "code",
   "execution_count": 403,
   "metadata": {},
   "outputs": [],
   "source": [
    "for i in Discount2:\n",
    "    offer=i.text\n",
    "    discount2.append(offer)"
   ]
  },
  {
   "cell_type": "code",
   "execution_count": 404,
   "metadata": {},
   "outputs": [
    {
     "data": {
      "text/plain": [
       "['68% off',\n",
       " '45% off',\n",
       " '49% off',\n",
       " '39% off',\n",
       " '81% off',\n",
       " '49% off',\n",
       " '25% off',\n",
       " '65% off',\n",
       " '60% off',\n",
       " '87% off']"
      ]
     },
     "execution_count": 404,
     "metadata": {},
     "output_type": "execute_result"
    }
   ],
   "source": [
    "discount2[:10]"
   ]
  },
  {
   "cell_type": "code",
   "execution_count": 405,
   "metadata": {},
   "outputs": [
    {
     "name": "stdout",
     "output_type": "stream",
     "text": [
      "['BRUTON', 'Essence', 'Chevit', 'Robbie jones', 'Chevit', 'Oricum', 'Stefano Rads', 'Chevit', 'Restinfoot', 'Shoes Bank', 'World Wear Footwear', 'Sparx', 'Chevit', 'FAUSTO', 'Aura', 'Chevit', 'Chevit', 'Hotstyle', 'BRUTON', 'BRUTON', 'Red Rose', 'TR', 'T-Rock', 'Longwalk', 'Magnolia', 'SCATCHITE', 'bluemaker', 'Rockfield', 'Clymb', 'BRUTON', 'Rockfield', 'ADIDAS', 'Axter', 'Puma', 'Chevit', 'Armado', 'Airland', 'Red Rose', 'Absolute comfort', 'Chevit', 'Red Rose', 'Essence', 'Kraasa', 'BRUTON', 'D-SNEAKERZ', 'Chevit', 'Robbie Jones', 'Shoefly', 'Believe', 'Essence', 'Fzzirok', 'World Wear Footwear', 'World Wear Footwear', 'BRUTON', 'ALFIYA', 'Armado', 'Kaneggye', 'Echor', 'Chevit', 'FAUSTO', 'Echor', 'Wika', 'URBANBOX', 'Longwalk', 'Shoefly', 'Nike', 'Axter', 'Swiggy', 'Sparx', 'BRUTON', 'Essence', 'Stinson', 'Fila', 'Echor', 'GANPATI TRADERS', 'ARDEO', 'Provogue', 'Sparx', 'Numenzo', 'Black Bottom', 'Chevit', 'Edoeviv', 'Ktiz', 'Echor', 'BRUTON', 'STRANGER BROTHERS', 'Asian', 'Englewood', 'SCATCHITE', 'BRUTON', 'Skechers', 'Zsyto', 'ADIDAS', 'Essence', 'ShoeLife', 'Krafter', 'Shoefly', 'MOU', 'Rockfield', 'BRUTON', 'DIGITRENDZZ', 'Nike', 'Rockfield', 'FAUSTO', 'Birde', 'Chevit', 'HOCKWOOD', 'Adiso', 'Kzaara', 'BRUTON', 'Jabra', 'SKOVDE', 'Chevit', 'Chevit', 'Fabbmate', 'GANPATI TRADERS', 'RICHERSON', 'D-SNEAKERZ', 'Jack Diamond', 'LeatherKraft'] ['₹299', '₹424', '₹499', '₹378', '₹224', '₹398', '₹260', '₹499', '₹350', '₹349', '₹499', '₹769', '₹299', '₹664', '₹269', '₹224', '₹224', '₹204', '₹499', '₹799', '₹359', '₹329', '₹381', '₹248', '₹311', '₹398', '₹424', '₹359', '₹299', '₹474', '₹359', '₹1,319', '₹297', '₹4,639', '₹369', '₹498', '₹258', '₹359', '₹330', '₹499', '₹359', '₹424', '₹424', '₹299', '₹368', '₹299', '₹449', '₹299', '₹399', '₹424', '₹420', '₹240', '₹499', '₹799', '₹449', '₹498', '₹356', '₹570', '₹224', '₹664', '₹601', '₹398', '₹199', '₹248', '₹362', '₹2,397', '₹299', '₹759', '₹699', '₹474', '₹424', '₹599', '₹1,359', '₹601', '₹199', '₹349', '₹613', '₹769', '₹398', '₹399', '₹499', '₹378', '₹503', '₹601', '₹759', '₹503', '₹1,499', '₹521', '₹398', '₹299', '₹2,999', '₹352', '₹1,329', '₹424', '₹420', '₹379', '₹399', '₹523', '₹449', '₹799', '₹379', '₹2,747', '₹395', '₹664', '₹499', '₹299', '₹692', '₹399', '₹284', '₹474', '₹479', '₹309', '₹472', '₹499', '₹1,099', '₹199', '₹479', '₹385', '₹630', '₹350'] ['Men Combo Pack of 2 Casual & Sneaker Shoes (Loafer Shoe...', 'Stylesh Sneakers For Men', 'Combo Pack of 4 Casual Sneakers With Sneakers For Men', 'Casual Sneakers Shoes For Men Sneakers For Men', '171 Smart Tan Lace-Ups Casuals for Men Sneakers For Men', 'Combo pack of 2 casual sneaker shoes for men Sneakers F...', 'Lightweight Combo Pack of 02 Trendy Sneakers Casuals Fo...', \"Casual shoes,Sneakers for men's,shoes for men's Sneaker...\", \"White Sneaker For Men's/Boy's Sneakers For Men\", 'Combo Pack of 4 Latest Collection Stylish Casual Loafer...', 'SM-322 Sneakers For Men', 'Smart Casuals Canvas Shoes Combo pack of 2 Sneakers For...', 'Trendy Sneakers For Men', 'Stylish and Comfortable Sneakers For Men', '170 Smart Grey Lace-Ups Casuals for Men Sneakers For Me...', '168 Smart Red Lace-Ups Casuals for Men Sneakers For Men', 'Combo Pack Of 4 Canvas Sneakers For Men', 'Combo Pack Of 5 Casual Sneakers For Men', 'Sneakers For Men', 'Synthetic Leather Casual Partywear Wedding Sneakers Sho...', 'Men Boxer Sneakers For Men', 'White Sneakers Sneakers For Men', 'Sneakers Sneakers For Men', 'casual for men (blue 06) Sneakers For Men', 'Sneakers For Men', 'Sneakers For Men', 'Lightweight Combo Pack Of 2 Trendy Sneakers Sneakers Fo...', 'Sneakers For Men', 'EASY VULC 2.0 Sneakers For Men', 'Combo Pack of 2 Latest Collection Stylish Casual Loafer...', 'RS 2.0 Winterized Sneakers For Men', 'Super 445 Fashion Sneakers For Men', 'shoes For Mens Combo(AR)-1645-1621 ( Multicolor-Pack of...', 'shoe Sneakers For Men', 'Sneakers For Men', 'Latest Fashion Combo Pack of 2 Pairs Sneakers For Men', 'Sneakers For Men', 'Sneakers For Men', 'Casuals, Canvas, Partywear Sneakers For Men', 'Men Combo Pack of 2 Casual & Sneaker Shoes (Loafer Shoe...', \"Casual , Partywear Sneakers Shoes For Men's And Boys Wh...\", 'Smart Casuals Canvas Shoes Combo pack of 2 Sneakers For...', 'Combo Men Pack of 2 Loafers Shoes Sneakers For Men', 'Sneakers for men(black_10) Sneakers For Men', 'Stylesh Sneakers For Men', '5011-Latest Collection Stylish Casual Loafer Sneakers S...', 'Combo Pack of 2 Latest Collection Stylish casual Sports...', 'Combo Pack Of 5 Casual Sneakers For Men', 'Shoes in Black Color Party wear/OutShoes in Black Color...', 'shoes For Mens Combo(AR)-1660-1566 ( Multicolor-Pack of...', 'Sneakers For Men', '169 Smart Sky Blue Lace-Ups Casuals for Men Sneakers Fo...', 'Trendy Sneakers For Men', 'Sneakers For Men', 'Men Boxer Sneakers For Men', 'Combo Men Pack of 2 Loafers Shoes Sneakers For Men', \"Nike Court Royale 2 Low Men's Shoe Sneakers For Men\", 'Combo Pack of 2 Casual Loafer Sneakers Shoes Sneakers F...', 'Casual Loafers, Sneakers Shoes for Men Pack of 5 Combo(...', 'Lightweight Combo Pack Of 2 Trendy Sneakers Sneakers Fo...', 'Sneakers For Men', 'Combo of 5 Multicolor Casual Sneakers Shoes For Men Sne...', 'JESS Sneakers For Men', 'Sneakers For Men', 'Sneakers For Men', 'Fashion Outdoor Canvas Casual Light Weight Partywear Sn...', <selenium.webdriver.remote.webelement.WebElement (session=\"88a8c17377c525ecfd0e70fb40dcbd61\", element=\"ccf09b96-ae4d-4a90-bbc8-4e7049e8048e\")>, <selenium.webdriver.remote.webelement.WebElement (session=\"88a8c17377c525ecfd0e70fb40dcbd61\", element=\"cddccde6-4b61-49d2-adc6-0783996fba50\")>, <selenium.webdriver.remote.webelement.WebElement (session=\"88a8c17377c525ecfd0e70fb40dcbd61\", element=\"2dd2a099-79ac-4c59-97eb-563b52e1c231\")>, <selenium.webdriver.remote.webelement.WebElement (session=\"88a8c17377c525ecfd0e70fb40dcbd61\", element=\"4310ec20-f865-4b79-bcc2-a01f997a708a\")>, <selenium.webdriver.remote.webelement.WebElement (session=\"88a8c17377c525ecfd0e70fb40dcbd61\", element=\"90f78a46-0c67-46a5-b94a-641d2528a00d\")>, <selenium.webdriver.remote.webelement.WebElement (session=\"88a8c17377c525ecfd0e70fb40dcbd61\", element=\"b3ed7fbd-7f93-4c9b-ae3e-4812688a9484\")>, <selenium.webdriver.remote.webelement.WebElement (session=\"88a8c17377c525ecfd0e70fb40dcbd61\", element=\"8cf11bf9-3742-436f-8116-96d689ae95ec\")>, <selenium.webdriver.remote.webelement.WebElement (session=\"88a8c17377c525ecfd0e70fb40dcbd61\", element=\"5f7febf0-b3c3-4b9f-b32b-b24761b2ac89\")>, <selenium.webdriver.remote.webelement.WebElement (session=\"88a8c17377c525ecfd0e70fb40dcbd61\", element=\"077f9489-32ed-4829-a403-7e79fbcd8138\")>, <selenium.webdriver.remote.webelement.WebElement (session=\"88a8c17377c525ecfd0e70fb40dcbd61\", element=\"3960e997-271a-4675-8932-860292dbe172\")>, <selenium.webdriver.remote.webelement.WebElement (session=\"88a8c17377c525ecfd0e70fb40dcbd61\", element=\"9fcae1f9-cc02-4225-8532-0d55e71f6165\")>, <selenium.webdriver.remote.webelement.WebElement (session=\"88a8c17377c525ecfd0e70fb40dcbd61\", element=\"5a9657f1-1c36-43fd-bc27-f2b5a6e13764\")>, <selenium.webdriver.remote.webelement.WebElement (session=\"88a8c17377c525ecfd0e70fb40dcbd61\", element=\"023a4924-5030-401d-9593-d98712e7b728\")>, <selenium.webdriver.remote.webelement.WebElement (session=\"88a8c17377c525ecfd0e70fb40dcbd61\", element=\"d1436144-7047-4c0b-9fd7-21369560bb8a\")>, <selenium.webdriver.remote.webelement.WebElement (session=\"88a8c17377c525ecfd0e70fb40dcbd61\", element=\"a38cd1d9-6d7d-4383-8b36-42e11bf910e8\")>, <selenium.webdriver.remote.webelement.WebElement (session=\"88a8c17377c525ecfd0e70fb40dcbd61\", element=\"91aa283c-f872-437d-8fcf-ad3091cde6aa\")>, <selenium.webdriver.remote.webelement.WebElement (session=\"88a8c17377c525ecfd0e70fb40dcbd61\", element=\"bc6bfe57-4af0-4e44-977b-5df9a0d1df78\")>, <selenium.webdriver.remote.webelement.WebElement (session=\"88a8c17377c525ecfd0e70fb40dcbd61\", element=\"93786478-380e-476b-b398-b423f919f8d7\")>, <selenium.webdriver.remote.webelement.WebElement (session=\"88a8c17377c525ecfd0e70fb40dcbd61\", element=\"8390a866-090c-4e24-9756-4ef5465c0f08\")>, <selenium.webdriver.remote.webelement.WebElement (session=\"88a8c17377c525ecfd0e70fb40dcbd61\", element=\"dc3d9d3c-c1b6-4fe0-b8a5-a96b3c71f455\")>, <selenium.webdriver.remote.webelement.WebElement (session=\"88a8c17377c525ecfd0e70fb40dcbd61\", element=\"10d9d450-4fd2-48d3-ad3b-d61b0f3794ee\")>, <selenium.webdriver.remote.webelement.WebElement (session=\"88a8c17377c525ecfd0e70fb40dcbd61\", element=\"249757be-e20e-421d-afb3-6b4d8b202d4b\")>, <selenium.webdriver.remote.webelement.WebElement (session=\"88a8c17377c525ecfd0e70fb40dcbd61\", element=\"8d97ddea-8650-4284-8e74-abf32630823f\")>, <selenium.webdriver.remote.webelement.WebElement (session=\"88a8c17377c525ecfd0e70fb40dcbd61\", element=\"abfcc5cf-94c2-421c-8540-3595341f25a6\")>, <selenium.webdriver.remote.webelement.WebElement (session=\"88a8c17377c525ecfd0e70fb40dcbd61\", element=\"55906543-e5c6-491a-8916-ad5a028e5257\")>, <selenium.webdriver.remote.webelement.WebElement (session=\"88a8c17377c525ecfd0e70fb40dcbd61\", element=\"30e0c6b7-2a86-4339-995f-ae24415bb18e\")>, <selenium.webdriver.remote.webelement.WebElement (session=\"88a8c17377c525ecfd0e70fb40dcbd61\", element=\"74967293-92a9-420a-9fb4-6beb22c12e0e\")>, <selenium.webdriver.remote.webelement.WebElement (session=\"88a8c17377c525ecfd0e70fb40dcbd61\", element=\"f169f7ab-41da-4bb3-951d-27e29a70a5d8\")>, <selenium.webdriver.remote.webelement.WebElement (session=\"88a8c17377c525ecfd0e70fb40dcbd61\", element=\"42fac07e-afb9-4de5-bc3d-903e8d027f85\")>, <selenium.webdriver.remote.webelement.WebElement (session=\"88a8c17377c525ecfd0e70fb40dcbd61\", element=\"df7dbede-7625-4b78-bd49-875dc804aa98\")>, <selenium.webdriver.remote.webelement.WebElement (session=\"88a8c17377c525ecfd0e70fb40dcbd61\", element=\"38411b86-bed8-43c5-976b-94657377d7ea\")>, <selenium.webdriver.remote.webelement.WebElement (session=\"88a8c17377c525ecfd0e70fb40dcbd61\", element=\"f0270e90-7a81-4c47-8741-f077f43ea8c2\")>, <selenium.webdriver.remote.webelement.WebElement (session=\"88a8c17377c525ecfd0e70fb40dcbd61\", element=\"0f95ec95-4a99-4ac3-8110-a762071e7a11\")>, <selenium.webdriver.remote.webelement.WebElement (session=\"88a8c17377c525ecfd0e70fb40dcbd61\", element=\"17953a2c-f9c8-4f98-98ab-049e34af0df1\")>, <selenium.webdriver.remote.webelement.WebElement (session=\"88a8c17377c525ecfd0e70fb40dcbd61\", element=\"e2e174f5-4a9d-4ad1-9486-b0ea1c3e7a05\")>, <selenium.webdriver.remote.webelement.WebElement (session=\"88a8c17377c525ecfd0e70fb40dcbd61\", element=\"639bd5ac-7557-4da1-a964-8ad81b1ffc42\")>, <selenium.webdriver.remote.webelement.WebElement (session=\"88a8c17377c525ecfd0e70fb40dcbd61\", element=\"efa94c9d-9339-478a-a57f-d6cc22359a84\")>, <selenium.webdriver.remote.webelement.WebElement (session=\"88a8c17377c525ecfd0e70fb40dcbd61\", element=\"ce2ae3d8-8bfe-4e77-89a5-b69f50c3bfa7\")>, <selenium.webdriver.remote.webelement.WebElement (session=\"88a8c17377c525ecfd0e70fb40dcbd61\", element=\"96a2e1d8-0bc9-45a8-8ce1-f6c1cbfc784a\")>, <selenium.webdriver.remote.webelement.WebElement (session=\"88a8c17377c525ecfd0e70fb40dcbd61\", element=\"96013e88-bc4f-46aa-892b-7b79de8f68ad\")>, <selenium.webdriver.remote.webelement.WebElement (session=\"88a8c17377c525ecfd0e70fb40dcbd61\", element=\"3a8b9808-6628-47e5-a739-500c8173403a\")>, <selenium.webdriver.remote.webelement.WebElement (session=\"88a8c17377c525ecfd0e70fb40dcbd61\", element=\"be6f43e9-0339-4fe4-a305-cc7a5e9ed157\")>, <selenium.webdriver.remote.webelement.WebElement (session=\"88a8c17377c525ecfd0e70fb40dcbd61\", element=\"f88a430f-0bc9-4eed-8429-6c1260e24f62\")>, <selenium.webdriver.remote.webelement.WebElement (session=\"88a8c17377c525ecfd0e70fb40dcbd61\", element=\"8cdac102-7a7e-45d1-96a8-2ad326287733\")>, <selenium.webdriver.remote.webelement.WebElement (session=\"88a8c17377c525ecfd0e70fb40dcbd61\", element=\"fcfb2169-8cf2-46ed-bb75-aefc45d02c06\")>, <selenium.webdriver.remote.webelement.WebElement (session=\"88a8c17377c525ecfd0e70fb40dcbd61\", element=\"74272d86-027d-4472-97ba-394d9ed25aa6\")>, <selenium.webdriver.remote.webelement.WebElement (session=\"88a8c17377c525ecfd0e70fb40dcbd61\", element=\"801809a2-e4ca-4b36-9b45-77fc8c7aa797\")>, <selenium.webdriver.remote.webelement.WebElement (session=\"88a8c17377c525ecfd0e70fb40dcbd61\", element=\"f6258049-13df-47f0-b788-55c699b5b95a\")>, <selenium.webdriver.remote.webelement.WebElement (session=\"88a8c17377c525ecfd0e70fb40dcbd61\", element=\"c4740756-29be-4d6e-babb-0362e74371d5\")>, <selenium.webdriver.remote.webelement.WebElement (session=\"88a8c17377c525ecfd0e70fb40dcbd61\", element=\"50bce907-8f75-4ae0-8162-2befaaf9eb1c\")>, <selenium.webdriver.remote.webelement.WebElement (session=\"88a8c17377c525ecfd0e70fb40dcbd61\", element=\"069db489-4317-411f-9fc0-8ef6cfd1655e\")>, <selenium.webdriver.remote.webelement.WebElement (session=\"88a8c17377c525ecfd0e70fb40dcbd61\", element=\"d7a4f0fd-fffb-4583-b601-ae76bd8c582d\")>, <selenium.webdriver.remote.webelement.WebElement (session=\"88a8c17377c525ecfd0e70fb40dcbd61\", element=\"cd0ae4df-4ee4-44bc-a6bd-9a683f52c761\")>, <selenium.webdriver.remote.webelement.WebElement (session=\"88a8c17377c525ecfd0e70fb40dcbd61\", element=\"39db67f3-dfe3-429b-855e-12aed95edae8\")>, <selenium.webdriver.remote.webelement.WebElement (session=\"88a8c17377c525ecfd0e70fb40dcbd61\", element=\"abfc0145-c714-473c-8129-43a9447aa004\")>, <selenium.webdriver.remote.webelement.WebElement (session=\"88a8c17377c525ecfd0e70fb40dcbd61\", element=\"bfb6d6a2-780d-4370-8250-b1610c7d1079\")>, <selenium.webdriver.remote.webelement.WebElement (session=\"88a8c17377c525ecfd0e70fb40dcbd61\", element=\"2ef7ceb3-4326-4e6e-bb5e-d0cc27d02f46\")>, <selenium.webdriver.remote.webelement.WebElement (session=\"88a8c17377c525ecfd0e70fb40dcbd61\", element=\"8e541ec2-6d40-41fc-9218-3be93bca2ad9\")>] ['87% off', '57% off', '75% off', '62% off', '55% off', '60% off', '62% off', '50% off', '64% off', '65% off', '75% off', '23% off', '70% off', '5% off', '46% off', '55% off', '55% off', '59% off', '85% off', '80% off', '64% off', '67% off', '61% off', '50% off', '68% off', '60% off', '57% off', '64% off', '70% off', '81% off', '64% off', '67% off', '70% off', '42% off', '26% off', '50% off', '48% off', '28% off', '66% off', '66% off', '28% off', '57% off', '57% off', '87% off', '44% off', '70% off', '55% off', '70% off', '60% off', '57% off', '57% off', '51% off', '50% off', '80% off', '55% off', '50% off', '28% off', '42% off', '55% off', '5% off', '39% off', '60% off', '60% off', '50% off', '63% off', '40% off', '70% off', '69% off', '81% off', '57% off', '75% off', '58% off', '39% off', '60% off', '65% off', '70% off', '23% off', '60% off', '60% off', '68% off', '45% off', '49% off', '39% off', '81% off', '49% off', '25% off', '65% off', '60% off', '87% off', '30% off', '72% off', '65% off', '57% off', '57% off', '24% off', '60% off', '47% off', '55% off', '80% off', '62% off', '45% off', '60% off', '5% off', '50% off', '70% off', '30% off', '60% off', '43% off', '81% off', '52% off', '69% off', '52% off', '66% off', '63% off', '60% off', '52% off', '61% off', '36% off', '64% off']\n"
     ]
    }
   ],
   "source": [
    "# Appending lists of all the pages and scrutinizing it appropriately.\n",
    "BRANDS=brand+brand1+brand2\n",
    "PRICES=price+price1+price2\n",
    "PRODUCT_DESCRIPTION=product_description+Product_description1+Product_description2\n",
    "DISCOUNTS=discount + discount1+discount2\n",
    "print(BRANDS,PRICES,PRODUCT_DESCRIPTION,DISCOUNTS)"
   ]
  },
  {
   "cell_type": "code",
   "execution_count": null,
   "metadata": {},
   "outputs": [],
   "source": [
    "# finding the len of variable.\n",
    "print(len(BRANDS),len(PRICES),len(DISCOUNTS),len(PRODUCT_DESCRIPTION))"
   ]
  },
  {
   "cell_type": "code",
   "execution_count": 406,
   "metadata": {},
   "outputs": [
    {
     "data": {
      "text/html": [
       "<div>\n",
       "<style scoped>\n",
       "    .dataframe tbody tr th:only-of-type {\n",
       "        vertical-align: middle;\n",
       "    }\n",
       "\n",
       "    .dataframe tbody tr th {\n",
       "        vertical-align: top;\n",
       "    }\n",
       "\n",
       "    .dataframe thead th {\n",
       "        text-align: right;\n",
       "    }\n",
       "</style>\n",
       "<table border=\"1\" class=\"dataframe\">\n",
       "  <thead>\n",
       "    <tr style=\"text-align: right;\">\n",
       "      <th></th>\n",
       "      <th>company</th>\n",
       "      <th>rates</th>\n",
       "      <th>description</th>\n",
       "      <th>offer</th>\n",
       "    </tr>\n",
       "  </thead>\n",
       "  <tbody>\n",
       "    <tr>\n",
       "      <th>0</th>\n",
       "      <td>BRUTON</td>\n",
       "      <td>₹299</td>\n",
       "      <td>Men Combo Pack of 2 Casual &amp; Sneaker Shoes (Lo...</td>\n",
       "      <td>87% off</td>\n",
       "    </tr>\n",
       "    <tr>\n",
       "      <th>1</th>\n",
       "      <td>Essence</td>\n",
       "      <td>₹424</td>\n",
       "      <td>Stylesh Sneakers For Men</td>\n",
       "      <td>57% off</td>\n",
       "    </tr>\n",
       "    <tr>\n",
       "      <th>2</th>\n",
       "      <td>Chevit</td>\n",
       "      <td>₹499</td>\n",
       "      <td>Combo Pack of 4 Casual Sneakers With Sneakers ...</td>\n",
       "      <td>75% off</td>\n",
       "    </tr>\n",
       "    <tr>\n",
       "      <th>3</th>\n",
       "      <td>Robbie jones</td>\n",
       "      <td>₹378</td>\n",
       "      <td>Casual Sneakers Shoes For Men Sneakers For Men</td>\n",
       "      <td>62% off</td>\n",
       "    </tr>\n",
       "    <tr>\n",
       "      <th>4</th>\n",
       "      <td>Chevit</td>\n",
       "      <td>₹224</td>\n",
       "      <td>171 Smart Tan Lace-Ups Casuals for Men Sneaker...</td>\n",
       "      <td>55% off</td>\n",
       "    </tr>\n",
       "    <tr>\n",
       "      <th>...</th>\n",
       "      <td>...</td>\n",
       "      <td>...</td>\n",
       "      <td>...</td>\n",
       "      <td>...</td>\n",
       "    </tr>\n",
       "    <tr>\n",
       "      <th>95</th>\n",
       "      <td>Krafter</td>\n",
       "      <td>₹379</td>\n",
       "      <td>&lt;selenium.webdriver.remote.webelement.WebEleme...</td>\n",
       "      <td>60% off</td>\n",
       "    </tr>\n",
       "    <tr>\n",
       "      <th>96</th>\n",
       "      <td>Shoefly</td>\n",
       "      <td>₹399</td>\n",
       "      <td>&lt;selenium.webdriver.remote.webelement.WebEleme...</td>\n",
       "      <td>47% off</td>\n",
       "    </tr>\n",
       "    <tr>\n",
       "      <th>97</th>\n",
       "      <td>MOU</td>\n",
       "      <td>₹523</td>\n",
       "      <td>&lt;selenium.webdriver.remote.webelement.WebEleme...</td>\n",
       "      <td>55% off</td>\n",
       "    </tr>\n",
       "    <tr>\n",
       "      <th>98</th>\n",
       "      <td>Rockfield</td>\n",
       "      <td>₹449</td>\n",
       "      <td>&lt;selenium.webdriver.remote.webelement.WebEleme...</td>\n",
       "      <td>80% off</td>\n",
       "    </tr>\n",
       "    <tr>\n",
       "      <th>99</th>\n",
       "      <td>BRUTON</td>\n",
       "      <td>₹799</td>\n",
       "      <td>&lt;selenium.webdriver.remote.webelement.WebEleme...</td>\n",
       "      <td>62% off</td>\n",
       "    </tr>\n",
       "  </tbody>\n",
       "</table>\n",
       "<p>100 rows × 4 columns</p>\n",
       "</div>"
      ],
      "text/plain": [
       "         company rates                                        description  \\\n",
       "0         BRUTON  ₹299  Men Combo Pack of 2 Casual & Sneaker Shoes (Lo...   \n",
       "1        Essence  ₹424                           Stylesh Sneakers For Men   \n",
       "2         Chevit  ₹499  Combo Pack of 4 Casual Sneakers With Sneakers ...   \n",
       "3   Robbie jones  ₹378     Casual Sneakers Shoes For Men Sneakers For Men   \n",
       "4         Chevit  ₹224  171 Smart Tan Lace-Ups Casuals for Men Sneaker...   \n",
       "..           ...   ...                                                ...   \n",
       "95       Krafter  ₹379  <selenium.webdriver.remote.webelement.WebEleme...   \n",
       "96       Shoefly  ₹399  <selenium.webdriver.remote.webelement.WebEleme...   \n",
       "97           MOU  ₹523  <selenium.webdriver.remote.webelement.WebEleme...   \n",
       "98     Rockfield  ₹449  <selenium.webdriver.remote.webelement.WebEleme...   \n",
       "99        BRUTON  ₹799  <selenium.webdriver.remote.webelement.WebEleme...   \n",
       "\n",
       "      offer  \n",
       "0   87% off  \n",
       "1   57% off  \n",
       "2   75% off  \n",
       "3   62% off  \n",
       "4   55% off  \n",
       "..      ...  \n",
       "95  60% off  \n",
       "96  47% off  \n",
       "97  55% off  \n",
       "98  80% off  \n",
       "99  62% off  \n",
       "\n",
       "[100 rows x 4 columns]"
      ]
     },
     "execution_count": 406,
     "metadata": {},
     "output_type": "execute_result"
    }
   ],
   "source": [
    "# Creating a dataframe to store the scrapped information.\n",
    "import pandas as pd\n",
    "sneakers=pd.DataFrame({})\n",
    "sneakers['company']=BRANDS[:100]\n",
    "sneakers['rates']=PRICES[:100]\n",
    "sneakers['description']=PRODUCT_DESCRIPTION[:100]\n",
    "sneakers['offer']=DISCOUNTS[:100]\n",
    "sneakers"
   ]
  },
  {
   "cell_type": "markdown",
   "metadata": {},
   "source": [
    "# Question N0:9"
   ]
  },
  {
   "cell_type": "code",
   "execution_count": 407,
   "metadata": {},
   "outputs": [],
   "source": [
    "# Importing the essential libraries.\n",
    "import selenium\n",
    "from selenium import webdriver\n",
    "# Configure the webdriver.\n",
    "driver = webdriver.Chrome('/Users/nlohith/Desktop/chromedriver')"
   ]
  },
  {
   "cell_type": "code",
   "execution_count": 408,
   "metadata": {},
   "outputs": [],
   "source": [
    "# Get the URL link.\n",
    "url = 'https://www.myntra.com/shoes?f=Color%3ABlack_36454f&plaEnabled=false&rf=Price%3A5907.0_11605.0_5907.0%20TO%2011605.0'"
   ]
  },
  {
   "cell_type": "code",
   "execution_count": 409,
   "metadata": {},
   "outputs": [],
   "source": [
    "driver.get(url)"
   ]
  },
  {
   "cell_type": "code",
   "execution_count": 414,
   "metadata": {},
   "outputs": [],
   "source": [
    "# Creating empty lists for scraping data.\n",
    "brand_of_the_shoes = []\n",
    "short_shoe_description = []\n",
    "price_of_the_shoe = []"
   ]
  },
  {
   "cell_type": "code",
   "execution_count": 415,
   "metadata": {},
   "outputs": [],
   "source": [
    "# Scraping the Brand_of_shoes.\n",
    "Brand_of_the_shoes= driver.find_elements_by_xpath(\"//h3[@class='product-brand']\")"
   ]
  },
  {
   "cell_type": "code",
   "execution_count": 416,
   "metadata": {},
   "outputs": [
    {
     "data": {
      "text/plain": [
       "[<selenium.webdriver.remote.webelement.WebElement (session=\"5da000e87d1be11d5563f0f55377fbe1\", element=\"2a143859-dcaf-4816-8b14-0c1f1f73a734\")>,\n",
       " <selenium.webdriver.remote.webelement.WebElement (session=\"5da000e87d1be11d5563f0f55377fbe1\", element=\"793575b9-cc47-4d97-aa15-dd9c217574b0\")>,\n",
       " <selenium.webdriver.remote.webelement.WebElement (session=\"5da000e87d1be11d5563f0f55377fbe1\", element=\"c85f8b67-a750-4e1f-a166-b1591b37e2be\")>,\n",
       " <selenium.webdriver.remote.webelement.WebElement (session=\"5da000e87d1be11d5563f0f55377fbe1\", element=\"1247d3a8-0f91-46d3-ac8f-e2fb03b5b313\")>,\n",
       " <selenium.webdriver.remote.webelement.WebElement (session=\"5da000e87d1be11d5563f0f55377fbe1\", element=\"4ccac164-39f5-4aca-9fa3-4da5dbc0df40\")>]"
      ]
     },
     "execution_count": 416,
     "metadata": {},
     "output_type": "execute_result"
    }
   ],
   "source": [
    "Brand_of_the_shoes[:5]"
   ]
  },
  {
   "cell_type": "code",
   "execution_count": 417,
   "metadata": {},
   "outputs": [],
   "source": [
    "for i in Brand_of_the_shoes:\n",
    "    shoe=i.text\n",
    "    brand_of_the_shoes.append(shoe)"
   ]
  },
  {
   "cell_type": "code",
   "execution_count": 418,
   "metadata": {},
   "outputs": [
    {
     "data": {
      "text/plain": [
       "['Nike',\n",
       " 'Nike',\n",
       " 'Nike',\n",
       " 'Nike',\n",
       " 'Nike',\n",
       " 'Puma',\n",
       " 'Nike',\n",
       " 'Nike',\n",
       " 'Nike',\n",
       " 'Nike']"
      ]
     },
     "execution_count": 418,
     "metadata": {},
     "output_type": "execute_result"
    }
   ],
   "source": [
    "brand_of_the_shoes[:10]"
   ]
  },
  {
   "cell_type": "code",
   "execution_count": 473,
   "metadata": {},
   "outputs": [],
   "source": [
    "# Scraping the Short_shoe_description.\n",
    "Short_shoe_description=driver.find_elements_by_xpath(\"//h4[@class='product-product']\")"
   ]
  },
  {
   "cell_type": "code",
   "execution_count": 474,
   "metadata": {},
   "outputs": [
    {
     "data": {
      "text/plain": [
       "[<selenium.webdriver.remote.webelement.WebElement (session=\"5da000e87d1be11d5563f0f55377fbe1\", element=\"70c1f272-326a-45a0-b6c6-66a5a23e95a6\")>,\n",
       " <selenium.webdriver.remote.webelement.WebElement (session=\"5da000e87d1be11d5563f0f55377fbe1\", element=\"c5baacd2-bd1a-4014-9822-1da023be2e7d\")>,\n",
       " <selenium.webdriver.remote.webelement.WebElement (session=\"5da000e87d1be11d5563f0f55377fbe1\", element=\"a49c58bf-136c-4084-97b8-907701771142\")>,\n",
       " <selenium.webdriver.remote.webelement.WebElement (session=\"5da000e87d1be11d5563f0f55377fbe1\", element=\"0ae3e2ff-ffe0-40f2-891b-8f60ec25954a\")>,\n",
       " <selenium.webdriver.remote.webelement.WebElement (session=\"5da000e87d1be11d5563f0f55377fbe1\", element=\"5df666e0-fbfe-418c-ba17-35cbfa74eb9f\")>]"
      ]
     },
     "execution_count": 474,
     "metadata": {},
     "output_type": "execute_result"
    }
   ],
   "source": [
    "Short_shoe_description[:5]"
   ]
  },
  {
   "cell_type": "code",
   "execution_count": 483,
   "metadata": {},
   "outputs": [],
   "source": [
    "for i in Short_shoe_description:\n",
    "    desc=i.text\n",
    "    short_shoe_description.append(desc)"
   ]
  },
  {
   "cell_type": "code",
   "execution_count": 484,
   "metadata": {},
   "outputs": [
    {
     "data": {
      "text/plain": [
       "['Unisex KYRIE FLYTRAP IV Shoes',\n",
       " 'Men Zoom Running Shoes',\n",
       " 'Men ZOOM FLY 3 Running Shoes',\n",
       " 'Men JORDAN DELTA Sneakers',\n",
       " 'Men Solid SKYVE MAX Sneakers',\n",
       " 'Men HYBRID NETFIT Running Shoe',\n",
       " 'Men JOYRIDE Running Shoes',\n",
       " 'PEGASUS FLYEASE Running Shoes',\n",
       " 'Men CHALLENGER OG Sneakers',\n",
       " 'Women REACT PHANTOM Running']"
      ]
     },
     "execution_count": 484,
     "metadata": {},
     "output_type": "execute_result"
    }
   ],
   "source": [
    "short_shoe_description[:10]"
   ]
  },
  {
   "cell_type": "code",
   "execution_count": 485,
   "metadata": {},
   "outputs": [],
   "source": [
    "# Scraping the Price_of_the_shoe.\n",
    "Price_of_the_shoe=driver.find_elements_by_xpath(\"//div[@class='product-price']\")"
   ]
  },
  {
   "cell_type": "code",
   "execution_count": 486,
   "metadata": {},
   "outputs": [
    {
     "data": {
      "text/plain": [
       "[<selenium.webdriver.remote.webelement.WebElement (session=\"5da000e87d1be11d5563f0f55377fbe1\", element=\"32aa89ce-d7cf-4efb-a8db-60f2dbf1f825\")>,\n",
       " <selenium.webdriver.remote.webelement.WebElement (session=\"5da000e87d1be11d5563f0f55377fbe1\", element=\"5f050b18-79dd-47b1-ae74-374f89f0e65c\")>,\n",
       " <selenium.webdriver.remote.webelement.WebElement (session=\"5da000e87d1be11d5563f0f55377fbe1\", element=\"fdd43f21-3f2a-4408-b6f3-87f711a0bbdd\")>,\n",
       " <selenium.webdriver.remote.webelement.WebElement (session=\"5da000e87d1be11d5563f0f55377fbe1\", element=\"e6433bdb-37a0-4f19-b12f-b473ae412e8e\")>,\n",
       " <selenium.webdriver.remote.webelement.WebElement (session=\"5da000e87d1be11d5563f0f55377fbe1\", element=\"902cc09f-7621-4a25-b73c-eac26f17dd63\")>]"
      ]
     },
     "execution_count": 486,
     "metadata": {},
     "output_type": "execute_result"
    }
   ],
   "source": [
    "Price_of_the_shoe[:5]"
   ]
  },
  {
   "cell_type": "code",
   "execution_count": 487,
   "metadata": {},
   "outputs": [],
   "source": [
    "for i in Price_of_the_shoe:\n",
    "    rate=i.text\n",
    "    price_of_the_shoe.append(rate)"
   ]
  },
  {
   "cell_type": "code",
   "execution_count": 488,
   "metadata": {},
   "outputs": [
    {
     "data": {
      "text/plain": [
       "['Rs. 6599Rs. 8195(Rs. 1596 OFF)',\n",
       " 'Rs. 6399Rs. 7995(Rs. 1596 OFF)',\n",
       " 'Rs. 11199Rs. 13995(Rs. 2796 OFF)',\n",
       " 'Rs. 8199Rs. 10995(Rs. 2796 OFF)',\n",
       " 'Rs. 6999Rs. 9295(Rs. 2296 OFF)',\n",
       " 'Rs. 6599Rs. 10999(40% OFF)',\n",
       " 'Rs. 11199Rs. 14995(Rs. 3796 OFF)',\n",
       " 'Rs. 7999Rs. 9995(Rs. 1996 OFF)',\n",
       " 'Rs. 6099Rs. 8195(Rs. 2096 OFF)',\n",
       " 'Rs. 10099Rs. 13495(Rs. 3396 OFF)']"
      ]
     },
     "execution_count": 488,
     "metadata": {},
     "output_type": "execute_result"
    }
   ],
   "source": [
    "price_of_the_shoe[:10]"
   ]
  },
  {
   "cell_type": "code",
   "execution_count": 489,
   "metadata": {},
   "outputs": [],
   "source": [
    "# Scrap the next page.\n",
    "next_page2=driver.find_elements_by_xpath(\"//a[@rel='next']\")"
   ]
  },
  {
   "cell_type": "code",
   "execution_count": 490,
   "metadata": {},
   "outputs": [
    {
     "data": {
      "text/plain": [
       "[<selenium.webdriver.remote.webelement.WebElement (session=\"5da000e87d1be11d5563f0f55377fbe1\", element=\"1fd59d8b-0dcf-4c25-be4d-8484a1c4e516\")>]"
      ]
     },
     "execution_count": 490,
     "metadata": {},
     "output_type": "execute_result"
    }
   ],
   "source": [
    "next_page2[:10]"
   ]
  },
  {
   "cell_type": "code",
   "execution_count": 491,
   "metadata": {},
   "outputs": [],
   "source": [
    "# Creating empty lists for scraping data.\n",
    "brand_of_the_shoes2 = []\n",
    "short_shoe_description2 = []\n",
    "price_of_the_shoe2 = []"
   ]
  },
  {
   "cell_type": "code",
   "execution_count": 492,
   "metadata": {},
   "outputs": [],
   "source": [
    "# Scraping the Brand_of_the_shoes.\n",
    "Brand_of_the_shoes2= driver.find_elements_by_xpath(\"//h3[@class='product-brand']\")"
   ]
  },
  {
   "cell_type": "code",
   "execution_count": 493,
   "metadata": {},
   "outputs": [
    {
     "data": {
      "text/plain": [
       "[<selenium.webdriver.remote.webelement.WebElement (session=\"5da000e87d1be11d5563f0f55377fbe1\", element=\"0e4969ee-5a2a-4507-a5a2-325fbfbffc70\")>,\n",
       " <selenium.webdriver.remote.webelement.WebElement (session=\"5da000e87d1be11d5563f0f55377fbe1\", element=\"c82a46c7-fc70-46fb-a5de-811bc0635112\")>]"
      ]
     },
     "execution_count": 493,
     "metadata": {},
     "output_type": "execute_result"
    }
   ],
   "source": [
    "Brand_of_the_shoes2[:2]"
   ]
  },
  {
   "cell_type": "code",
   "execution_count": 494,
   "metadata": {},
   "outputs": [],
   "source": [
    "for i in Brand_of_the_shoes2:\n",
    "    shoe=i.text\n",
    "    brand_of_the_shoes2.append(shoe)"
   ]
  },
  {
   "cell_type": "code",
   "execution_count": 495,
   "metadata": {},
   "outputs": [
    {
     "data": {
      "text/plain": [
       "['Geox',\n",
       " 'Nike',\n",
       " 'Nike',\n",
       " 'Nike',\n",
       " 'Cole Haan',\n",
       " 'Puma',\n",
       " 'ADIDAS Originals',\n",
       " 'Nike',\n",
       " 'Nike',\n",
       " 'Nike']"
      ]
     },
     "execution_count": 495,
     "metadata": {},
     "output_type": "execute_result"
    }
   ],
   "source": [
    "brand_of_the_shoes2[:10]"
   ]
  },
  {
   "cell_type": "code",
   "execution_count": 496,
   "metadata": {},
   "outputs": [],
   "source": [
    "# Scraping the Short_shoe_description.\n",
    "Short_shoe_description2=driver.find_elements_by_xpath(\"//h4[@class='product-product']\")"
   ]
  },
  {
   "cell_type": "code",
   "execution_count": 497,
   "metadata": {},
   "outputs": [
    {
     "data": {
      "text/plain": [
       "[<selenium.webdriver.remote.webelement.WebElement (session=\"5da000e87d1be11d5563f0f55377fbe1\", element=\"70c1f272-326a-45a0-b6c6-66a5a23e95a6\")>,\n",
       " <selenium.webdriver.remote.webelement.WebElement (session=\"5da000e87d1be11d5563f0f55377fbe1\", element=\"c5baacd2-bd1a-4014-9822-1da023be2e7d\")>]"
      ]
     },
     "execution_count": 497,
     "metadata": {},
     "output_type": "execute_result"
    }
   ],
   "source": [
    "Short_shoe_description2[:2]"
   ]
  },
  {
   "cell_type": "code",
   "execution_count": 498,
   "metadata": {},
   "outputs": [],
   "source": [
    "for i in Short_shoe_description2:\n",
    "    desc=i.text\n",
    "    short_shoe_description2.append(desc)"
   ]
  },
  {
   "cell_type": "code",
   "execution_count": 499,
   "metadata": {},
   "outputs": [
    {
     "data": {
      "text/plain": [
       "['Men Solid Leather Sneakers',\n",
       " 'Men LEGEND REACT 3 Shoes',\n",
       " 'Men Zoom Running Shoes',\n",
       " 'Men ZOOM FLY 3 Running Shoes',\n",
       " 'Men Traveller Leather Penny Loafers',\n",
       " 'Men HYBRID NETFIT Running Shoe',\n",
       " 'Men Superstar Sneakers',\n",
       " \"Men JORDAN ZOOM '92 Shoes\",\n",
       " 'Men JORDAN DELTA Basketball',\n",
       " 'PEGASUS FLYEASE Running Shoes']"
      ]
     },
     "execution_count": 499,
     "metadata": {},
     "output_type": "execute_result"
    }
   ],
   "source": [
    "short_shoe_description2[:10]"
   ]
  },
  {
   "cell_type": "code",
   "execution_count": 500,
   "metadata": {},
   "outputs": [],
   "source": [
    "# Scraping the Price_of_the_shoe.\n",
    "Price_of_the_shoe2=driver.find_elements_by_xpath(\"//div[@class='product-price']\")"
   ]
  },
  {
   "cell_type": "code",
   "execution_count": 501,
   "metadata": {},
   "outputs": [
    {
     "data": {
      "text/plain": [
       "[<selenium.webdriver.remote.webelement.WebElement (session=\"5da000e87d1be11d5563f0f55377fbe1\", element=\"32aa89ce-d7cf-4efb-a8db-60f2dbf1f825\")>,\n",
       " <selenium.webdriver.remote.webelement.WebElement (session=\"5da000e87d1be11d5563f0f55377fbe1\", element=\"5f050b18-79dd-47b1-ae74-374f89f0e65c\")>]"
      ]
     },
     "execution_count": 501,
     "metadata": {},
     "output_type": "execute_result"
    }
   ],
   "source": [
    "Price_of_the_shoe2[:2]"
   ]
  },
  {
   "cell_type": "code",
   "execution_count": 502,
   "metadata": {},
   "outputs": [],
   "source": [
    "for i in Price_of_the_shoe2:\n",
    "    rate=i.text\n",
    "    price_of_the_shoe2.append(rate)"
   ]
  },
  {
   "cell_type": "code",
   "execution_count": 503,
   "metadata": {},
   "outputs": [
    {
     "data": {
      "text/plain": [
       "['Rs. 6599Rs. 10999(40% OFF)',\n",
       " 'Rs. 6199Rs. 8295(Rs. 2096 OFF)',\n",
       " 'Rs. 6399Rs. 7995(Rs. 1596 OFF)',\n",
       " 'Rs. 11199Rs. 13995(Rs. 2796 OFF)',\n",
       " 'Rs. 9999Rs. 19999(50% OFF)',\n",
       " 'Rs. 6599Rs. 10999(40% OFF)',\n",
       " 'Rs. 8799Rs. 10999(Rs. 2200 OFF)',\n",
       " 'Rs. 10799Rs. 13495(Rs. 2696 OFF)',\n",
       " 'Rs. 9999Rs. 12495(Rs. 2496 OFF)',\n",
       " 'Rs. 7999Rs. 9995(Rs. 1996 OFF)']"
      ]
     },
     "execution_count": 503,
     "metadata": {},
     "output_type": "execute_result"
    }
   ],
   "source": [
    "price_of_the_shoe2[:10]"
   ]
  },
  {
   "cell_type": "code",
   "execution_count": 504,
   "metadata": {},
   "outputs": [
    {
     "name": "stdout",
     "output_type": "stream",
     "text": [
      "['Nike', 'Nike', 'Nike', 'Nike', 'Nike', 'Puma', 'Nike', 'Nike', 'Nike', 'Nike', 'Nike', 'Nike', 'Nike', 'Geox', 'Nike', 'ADIDAS Originals', 'ADIDAS Originals', 'Nike', 'Nike', 'Nike', 'Nike', 'Nike', 'Nike', 'Cole Haan', 'ADIDAS Originals', 'Nike', 'Geox', 'Nike', 'Nike', 'Cole Haan', 'Cole Haan', 'ADIDAS Originals', 'Tommy Hilfiger', 'ADIDAS', 'ALDO', 'Nike', 'Tommy Hilfiger', 'Geox', 'Cole Haan', 'ADIDAS Originals', 'Nike', 'Tommy Hilfiger', 'Puma', 'ADIDAS Originals', 'Geox', 'ADIDAS Originals', 'Cole Haan', 'UNDER ARMOUR', 'Nike', 'UNDER ARMOUR', 'Geox', 'Nike', 'Nike', 'Nike', 'Cole Haan', 'Puma', 'ADIDAS Originals', 'Nike', 'Nike', 'Nike', 'Nike', 'Nike', 'Nike', 'ADIDAS Originals', 'Tommy Hilfiger', 'Nike', 'Nike', 'Nike', 'Geox', 'Nike', 'Geox', 'Nike', 'Tommy Hilfiger', 'Nike', 'Nike', 'Nike', 'Nike', 'Nike', 'Nike', 'Tommy Hilfiger', 'Nike', 'Geox', 'Cole Haan', 'ADIDAS', 'Cole Haan', 'Nike', 'Geox', 'Kenneth Cole', 'ALDO', 'Nike', 'Puma', 'ADIDAS Originals', 'Cole Haan', 'Cole Haan', 'ADIDAS Originals', 'Geox', 'Nike', 'Kenneth Cole', 'UNDER ARMOUR', 'Kenneth Cole'] ['Unisex KYRIE FLYTRAP IV Shoes', 'Men Zoom Running Shoes', 'Men ZOOM FLY 3 Running Shoes', 'Men JORDAN DELTA Sneakers', 'Men Solid SKYVE MAX Sneakers', 'Men HYBRID NETFIT Running Shoe', 'Men JOYRIDE Running Shoes', 'PEGASUS FLYEASE Running Shoes', 'Men CHALLENGER OG Sneakers', 'Women REACT PHANTOM Running', \"Men JORDAN ZOOM '92 Shoes\", 'Men JORDAN DELTA Basketball', 'Men LEGEND REACT 3 Running', 'Women Slip-On Sneakers', 'Men ZOOM Basketball Shoes', 'Men Superstar Sneakers', 'Men Nite Jogger Fluid Sneakers', 'Men REACT PHANTOM Running', 'Men React Infinity Running', 'AIR ZOOM PEGASUS Running Shoes', 'Women Air Max Siren Sneakers', 'Women REACT Running Shoes', 'Men LEGEND REACT 3 Shoes', 'Women Solid Leather Ballerinas', 'Men Ozweego Sneakers', 'Women AIR ZOOM Running Shoes', 'Men Leather Driving Shoes', 'Men KD13 EP Basketball Shoes', 'Women AIR MAX VG-R Sneakers', 'Women Leather Sneakers', 'Women ZeroGrand All Day Stitchlite Runner Sneakers', 'Men NMD R1 Sneakers', 'Women Solid Leather Sneakers', 'Solar Drive 19 Running Shoes', 'Men Leather Loafers', 'Women AIR MAX VERONA Sneakers', 'Women Solid Sneakers', 'Men Solid Leather Sneakers', 'Men Traveller Leather Penny Loafers', 'Men Superstar Sneakers', 'Women Air Max Sneakers', 'Women Solid Sneakers', 'Men Hydra Running Shoes', 'Men Nite Jogger Shoes', 'Leather Mid-Top Chelsea Boots', 'Men Deerupt Running Shoes', 'Women Leather Loafers', 'HOVR Sonic 3 Running Shoes', 'Women FREE RN 5.0 Shoes', 'Charged Bandit 5 Running Shoes', 'Men Solid Leather Sneakers', 'Men LEGEND REACT 3 Shoes', 'Men Zoom Running Shoes', 'Men ZOOM FLY 3 Running Shoes', 'Men Traveller Leather Penny Loafers', 'Men HYBRID NETFIT Running Shoe', 'Men Superstar Sneakers', \"Men JORDAN ZOOM '92 Shoes\", 'Men JORDAN DELTA Basketball', 'PEGASUS FLYEASE Running Shoes', 'Unisex KYRIE FLYTRAP IV Shoes', 'Men LEGEND REACT 3 Running', 'Men JOYRIDE Running Shoes', 'Men Superstar Sneakers', 'Women Solid Leather Sneakers', 'AIR ZOOM PEGASUS Running Shoes', 'Men ZOOM Basketball Shoes', 'Women AIR ZOOM Running Shoes', 'Men Leather Formal Slip-Ons', 'Men REACT PHANTOM Running', 'Leather Mid-Top Chelsea Boots', 'Men React Infinity Running', 'Women Solid Sneakers', 'Women REACT PHANTOM Running', 'Men JORDAN DELTA Sneakers', 'Men Solid SKYVE MAX Sneakers', 'Men KD13 EP Basketball Shoes', 'Men CHALLENGER OG Sneakers', 'Women REACT Running Shoes', 'Women Solid Sneakers', 'Women Air Max Sneakers', 'Men Leather Formal Oxfords', 'Women Woven Design Sneakers', 'Solar Drive 19 Running Shoes', 'Women Leather Open Toe Flats', 'Women AIR MAX VERONA Sneakers', 'Men Leather Formal Derbyacs', 'Men Solid Leather Formal Brogues', 'Women Solid Sneakers', 'Women Air Max Siren Sneakers', 'Men Hydra Running Shoes', 'Men Nite Jogger Shoes', 'Women Woven Design Slip-On Sneakers', 'Leather Sneakers', 'Men Deerupt Running Shoes', 'Men Leather Driving Shoes', 'Women AIR MAX VG-R Sneakers', 'Men Leather Formal Derbys', 'HOVR Sonic 3 Running Shoes', 'Men Solid Leather Formal Derbys', 'Men Solid Leather Sneakers', 'Men LEGEND REACT 3 Shoes', 'Men Zoom Running Shoes', 'Men ZOOM FLY 3 Running Shoes', 'Men Traveller Leather Penny Loafers', 'Men HYBRID NETFIT Running Shoe', 'Men Superstar Sneakers', \"Men JORDAN ZOOM '92 Shoes\", 'Men JORDAN DELTA Basketball', 'PEGASUS FLYEASE Running Shoes', 'Unisex KYRIE FLYTRAP IV Shoes', 'Men LEGEND REACT 3 Running', 'Men JOYRIDE Running Shoes', 'Men Superstar Sneakers', 'Women Solid Leather Sneakers', 'AIR ZOOM PEGASUS Running Shoes', 'Men ZOOM Basketball Shoes', 'Women AIR ZOOM Running Shoes', 'Men Leather Formal Slip-Ons', 'Men REACT PHANTOM Running', 'Leather Mid-Top Chelsea Boots', 'Men React Infinity Running', 'Women Solid Sneakers', 'Women REACT PHANTOM Running', 'Men JORDAN DELTA Sneakers', 'Men Solid SKYVE MAX Sneakers', 'Men KD13 EP Basketball Shoes', 'Men CHALLENGER OG Sneakers', 'Women REACT Running Shoes', 'Women Solid Sneakers', 'Women Air Max Sneakers', 'Men Leather Formal Oxfords', 'Women Woven Design Sneakers', 'Solar Drive 19 Running Shoes', 'Women Leather Open Toe Flats', 'Women AIR MAX VERONA Sneakers', 'Men Leather Formal Derbyacs', 'Men Solid Leather Formal Brogues', 'Women Solid Sneakers', 'Women Air Max Siren Sneakers', 'Men Hydra Running Shoes', 'Men Nite Jogger Shoes', 'Women Woven Design Slip-On Sneakers', 'Leather Sneakers', 'Men Deerupt Running Shoes', 'Men Leather Driving Shoes', 'Women AIR MAX VG-R Sneakers', 'Men Leather Formal Derbys', 'HOVR Sonic 3 Running Shoes', 'Men Solid Leather Formal Derbys', 'Men Solid Leather Sneakers', 'Men LEGEND REACT 3 Shoes', 'Men Zoom Running Shoes', 'Men ZOOM FLY 3 Running Shoes', 'Men Traveller Leather Penny Loafers', 'Men HYBRID NETFIT Running Shoe', 'Men Superstar Sneakers', \"Men JORDAN ZOOM '92 Shoes\", 'Men JORDAN DELTA Basketball', 'PEGASUS FLYEASE Running Shoes', 'Unisex KYRIE FLYTRAP IV Shoes', 'Men LEGEND REACT 3 Running', 'Men JOYRIDE Running Shoes', 'Men Superstar Sneakers', 'Women Solid Leather Sneakers', 'AIR ZOOM PEGASUS Running Shoes', 'Men ZOOM Basketball Shoes', 'Women AIR ZOOM Running Shoes', 'Men Leather Formal Slip-Ons', 'Men REACT PHANTOM Running', 'Leather Mid-Top Chelsea Boots', 'Men React Infinity Running', 'Women Solid Sneakers', 'Women REACT PHANTOM Running', 'Men JORDAN DELTA Sneakers', 'Men Solid SKYVE MAX Sneakers', 'Men KD13 EP Basketball Shoes', 'Men CHALLENGER OG Sneakers', 'Women REACT Running Shoes', 'Women Solid Sneakers', 'Women Air Max Sneakers', 'Men Leather Formal Oxfords', 'Women Woven Design Sneakers', 'Solar Drive 19 Running Shoes', 'Women Leather Open Toe Flats', 'Women AIR MAX VERONA Sneakers', 'Men Leather Formal Derbyacs', 'Men Solid Leather Formal Brogues', 'Women Solid Sneakers', 'Women Air Max Siren Sneakers', 'Men Hydra Running Shoes', 'Men Nite Jogger Shoes', 'Women Woven Design Slip-On Sneakers', 'Leather Sneakers', 'Men Deerupt Running Shoes', 'Men Leather Driving Shoes', 'Women AIR MAX VG-R Sneakers', 'Men Leather Formal Derbys', 'HOVR Sonic 3 Running Shoes', 'Men Solid Leather Formal Derbys'] ['Rs. 6599Rs. 8195(Rs. 1596 OFF)', 'Rs. 6399Rs. 7995(Rs. 1596 OFF)', 'Rs. 11199Rs. 13995(Rs. 2796 OFF)', 'Rs. 8199Rs. 10995(Rs. 2796 OFF)', 'Rs. 6999Rs. 9295(Rs. 2296 OFF)', 'Rs. 6599Rs. 10999(40% OFF)', 'Rs. 11199Rs. 14995(Rs. 3796 OFF)', 'Rs. 7999Rs. 9995(Rs. 1996 OFF)', 'Rs. 6099Rs. 8195(Rs. 2096 OFF)', 'Rs. 10099Rs. 13495(Rs. 3396 OFF)', 'Rs. 10799Rs. 13495(Rs. 2696 OFF)', 'Rs. 9999Rs. 12495(Rs. 2496 OFF)', 'Rs. 6599Rs. 8295(Rs. 1696 OFF)', 'Rs. 8499', 'Rs. 8199Rs. 10295(Rs. 2096 OFF)', 'Rs. 6399Rs. 7999(Rs. 1600 OFF)', 'Rs. 8999Rs. 12999(Rs. 4000 OFF)', 'Rs. 9599Rs. 11995(Rs. 2396 OFF)', 'Rs. 11599Rs. 15495(Rs. 3896 OFF)', 'Rs. 9199Rs. 11495(Rs. 2296 OFF)', 'Rs. 6599Rs. 8195(Rs. 1596 OFF)', 'Rs. 8999Rs. 11995(Rs. 2996 OFF)', 'Rs. 6199Rs. 8295(Rs. 2096 OFF)', 'Rs. 10499Rs. 13999(25% OFF)', 'Rs. 8799Rs. 10999(Rs. 2200 OFF)', 'Rs. 7999Rs. 9995(Rs. 1996 OFF)', 'Rs. 7999', 'Rs. 10399Rs. 12995(Rs. 2596 OFF)', 'Rs. 6599Rs. 8195(Rs. 1596 OFF)', 'Rs. 8249Rs. 10999(25% OFF)', 'Rs. 7999Rs. 15999(50% OFF)', 'Rs. 10399Rs. 12999(Rs. 2600 OFF)', 'Rs. 6999', 'Rs. 8999Rs. 11999(Rs. 3000 OFF)', 'Rs. 6499Rs. 12999(50% OFF)', 'Rs. 7999Rs. 9995(Rs. 1996 OFF)', 'Rs. 7599', 'Rs. 6599Rs. 10999(40% OFF)', 'Rs. 9999Rs. 19999(50% OFF)', 'Rs. 8799Rs. 10999(Rs. 2200 OFF)', 'Rs. 6599Rs. 8195(Rs. 1596 OFF)', 'Rs. 6999', 'Rs. 6299Rs. 8999(Rs. 2700 OFF)', 'Rs. 11199Rs. 13999(Rs. 2800 OFF)', 'Rs. 8999Rs. 11999(25% OFF)', 'Rs. 7199Rs. 8999(Rs. 1800 OFF)', 'Rs. 6499Rs. 12999(50% OFF)', 'Rs. 10999', 'Rs. 6399Rs. 7995(Rs. 1596 OFF)', 'Rs. 7999', 'Rs. 6599Rs. 10999(40% OFF)', 'Rs. 6199Rs. 8295(Rs. 2096 OFF)', 'Rs. 6399Rs. 7995(Rs. 1596 OFF)', 'Rs. 11199Rs. 13995(Rs. 2796 OFF)', 'Rs. 9999Rs. 19999(50% OFF)', 'Rs. 6599Rs. 10999(40% OFF)', 'Rs. 8799Rs. 10999(Rs. 2200 OFF)', 'Rs. 10799Rs. 13495(Rs. 2696 OFF)', 'Rs. 9999Rs. 12495(Rs. 2496 OFF)', 'Rs. 7999Rs. 9995(Rs. 1996 OFF)', 'Rs. 6599Rs. 8195(Rs. 1596 OFF)', 'Rs. 6599Rs. 8295(Rs. 1696 OFF)', 'Rs. 11199Rs. 14995(Rs. 3796 OFF)', 'Rs. 6399Rs. 7999(Rs. 1600 OFF)', 'Rs. 6999', 'Rs. 9199Rs. 11495(Rs. 2296 OFF)', 'Rs. 8199Rs. 10295(Rs. 2096 OFF)', 'Rs. 7999Rs. 9995(Rs. 1996 OFF)', 'Rs. 7494Rs. 12490(40% OFF)', 'Rs. 9599Rs. 11995(Rs. 2396 OFF)', 'Rs. 8999Rs. 11999(25% OFF)', 'Rs. 11599Rs. 15495(Rs. 3896 OFF)', 'Rs. 7599', 'Rs. 10099Rs. 13495(Rs. 3396 OFF)', 'Rs. 8199Rs. 10995(Rs. 2796 OFF)', 'Rs. 6999Rs. 9295(Rs. 2296 OFF)', 'Rs. 10399Rs. 12995(Rs. 2596 OFF)', 'Rs. 6099Rs. 8195(Rs. 2096 OFF)', 'Rs. 8999Rs. 11995(Rs. 2996 OFF)', 'Rs. 6999', 'Rs. 6599Rs. 8195(Rs. 1596 OFF)', 'Rs. 10490', 'Rs. 7499Rs. 14999(50% OFF)', 'Rs. 8999Rs. 11999(Rs. 3000 OFF)', 'Rs. 6499Rs. 12999(50% OFF)', 'Rs. 7999Rs. 9995(Rs. 1996 OFF)', 'Rs. 8994Rs. 14990(40% OFF)', 'Rs. 6293Rs. 8990(30% OFF)', 'Rs. 7999', 'Rs. 6599Rs. 8195(Rs. 1596 OFF)', 'Rs. 6299Rs. 8999(Rs. 2700 OFF)', 'Rs. 11199Rs. 13999(Rs. 2800 OFF)', 'Rs. 7499Rs. 14999(50% OFF)', 'Rs. 8249Rs. 10999(25% OFF)', 'Rs. 7199Rs. 8999(Rs. 1800 OFF)', 'Rs. 9999', 'Rs. 6599Rs. 8195(Rs. 1596 OFF)', 'Rs. 6293Rs. 8990(30% OFF)', 'Rs. 10999', 'Rs. 6293Rs. 8990(30% OFF)', 'Rs. 6599Rs. 10999(40% OFF)', 'Rs. 6199Rs. 8295(Rs. 2096 OFF)', 'Rs. 6399Rs. 7995(Rs. 1596 OFF)', 'Rs. 11199Rs. 13995(Rs. 2796 OFF)', 'Rs. 9999Rs. 19999(50% OFF)', 'Rs. 6599Rs. 10999(40% OFF)', 'Rs. 8799Rs. 10999(Rs. 2200 OFF)', 'Rs. 10799Rs. 13495(Rs. 2696 OFF)', 'Rs. 9999Rs. 12495(Rs. 2496 OFF)', 'Rs. 7999Rs. 9995(Rs. 1996 OFF)', 'Rs. 6599Rs. 8195(Rs. 1596 OFF)', 'Rs. 6599Rs. 8295(Rs. 1696 OFF)', 'Rs. 11199Rs. 14995(Rs. 3796 OFF)', 'Rs. 6399Rs. 7999(Rs. 1600 OFF)', 'Rs. 6999', 'Rs. 9199Rs. 11495(Rs. 2296 OFF)', 'Rs. 8199Rs. 10295(Rs. 2096 OFF)', 'Rs. 7999Rs. 9995(Rs. 1996 OFF)', 'Rs. 7494Rs. 12490(40% OFF)', 'Rs. 9599Rs. 11995(Rs. 2396 OFF)', 'Rs. 8999Rs. 11999(25% OFF)', 'Rs. 11599Rs. 15495(Rs. 3896 OFF)', 'Rs. 7599', 'Rs. 10099Rs. 13495(Rs. 3396 OFF)', 'Rs. 8199Rs. 10995(Rs. 2796 OFF)', 'Rs. 6999Rs. 9295(Rs. 2296 OFF)', 'Rs. 10399Rs. 12995(Rs. 2596 OFF)', 'Rs. 6099Rs. 8195(Rs. 2096 OFF)', 'Rs. 8999Rs. 11995(Rs. 2996 OFF)', 'Rs. 6999', 'Rs. 6599Rs. 8195(Rs. 1596 OFF)', 'Rs. 10490', 'Rs. 7499Rs. 14999(50% OFF)', 'Rs. 8999Rs. 11999(Rs. 3000 OFF)', 'Rs. 6499Rs. 12999(50% OFF)', 'Rs. 7999Rs. 9995(Rs. 1996 OFF)', 'Rs. 8994Rs. 14990(40% OFF)', 'Rs. 6293Rs. 8990(30% OFF)', 'Rs. 7999', 'Rs. 6599Rs. 8195(Rs. 1596 OFF)', 'Rs. 6299Rs. 8999(Rs. 2700 OFF)', 'Rs. 11199Rs. 13999(Rs. 2800 OFF)', 'Rs. 7499Rs. 14999(50% OFF)', 'Rs. 8249Rs. 10999(25% OFF)', 'Rs. 7199Rs. 8999(Rs. 1800 OFF)', 'Rs. 9999', 'Rs. 6599Rs. 8195(Rs. 1596 OFF)', 'Rs. 6293Rs. 8990(30% OFF)', 'Rs. 10999', 'Rs. 6293Rs. 8990(30% OFF)', 'Rs. 6599Rs. 10999(40% OFF)', 'Rs. 6199Rs. 8295(Rs. 2096 OFF)', 'Rs. 6399Rs. 7995(Rs. 1596 OFF)', 'Rs. 11199Rs. 13995(Rs. 2796 OFF)', 'Rs. 9999Rs. 19999(50% OFF)', 'Rs. 6599Rs. 10999(40% OFF)', 'Rs. 8799Rs. 10999(Rs. 2200 OFF)', 'Rs. 10799Rs. 13495(Rs. 2696 OFF)', 'Rs. 9999Rs. 12495(Rs. 2496 OFF)', 'Rs. 7999Rs. 9995(Rs. 1996 OFF)', 'Rs. 6599Rs. 8195(Rs. 1596 OFF)', 'Rs. 6599Rs. 8295(Rs. 1696 OFF)', 'Rs. 11199Rs. 14995(Rs. 3796 OFF)', 'Rs. 6399Rs. 7999(Rs. 1600 OFF)', 'Rs. 6999', 'Rs. 9199Rs. 11495(Rs. 2296 OFF)', 'Rs. 8199Rs. 10295(Rs. 2096 OFF)', 'Rs. 7999Rs. 9995(Rs. 1996 OFF)', 'Rs. 7494Rs. 12490(40% OFF)', 'Rs. 9599Rs. 11995(Rs. 2396 OFF)', 'Rs. 8999Rs. 11999(25% OFF)', 'Rs. 11599Rs. 15495(Rs. 3896 OFF)', 'Rs. 7599', 'Rs. 10099Rs. 13495(Rs. 3396 OFF)', 'Rs. 8199Rs. 10995(Rs. 2796 OFF)', 'Rs. 6999Rs. 9295(Rs. 2296 OFF)', 'Rs. 10399Rs. 12995(Rs. 2596 OFF)', 'Rs. 6099Rs. 8195(Rs. 2096 OFF)', 'Rs. 8999Rs. 11995(Rs. 2996 OFF)', 'Rs. 6999', 'Rs. 6599Rs. 8195(Rs. 1596 OFF)', 'Rs. 10490', 'Rs. 7499Rs. 14999(50% OFF)', 'Rs. 8999Rs. 11999(Rs. 3000 OFF)', 'Rs. 6499Rs. 12999(50% OFF)', 'Rs. 7999Rs. 9995(Rs. 1996 OFF)', 'Rs. 8994Rs. 14990(40% OFF)', 'Rs. 6293Rs. 8990(30% OFF)', 'Rs. 7999', 'Rs. 6599Rs. 8195(Rs. 1596 OFF)', 'Rs. 6299Rs. 8999(Rs. 2700 OFF)', 'Rs. 11199Rs. 13999(Rs. 2800 OFF)', 'Rs. 7499Rs. 14999(50% OFF)', 'Rs. 8249Rs. 10999(25% OFF)', 'Rs. 7199Rs. 8999(Rs. 1800 OFF)', 'Rs. 9999', 'Rs. 6599Rs. 8195(Rs. 1596 OFF)', 'Rs. 6293Rs. 8990(30% OFF)', 'Rs. 10999', 'Rs. 6293Rs. 8990(30% OFF)']\n"
     ]
    }
   ],
   "source": [
    "# Appending lists of all the pages and scrutinizing it appropriately.\n",
    "BRANDS=brand_of_the_shoes+brand_of_the_shoes2\n",
    "DESCRIPTION=short_shoe_description+short_shoe_description2\n",
    "RATE=price_of_the_shoe+price_of_the_shoe2\n",
    "print(BRANDS,DESCRIPTION,RATE)"
   ]
  },
  {
   "cell_type": "code",
   "execution_count": 506,
   "metadata": {},
   "outputs": [
    {
     "name": "stdout",
     "output_type": "stream",
     "text": [
      "100 200 200\n"
     ]
    }
   ],
   "source": [
    "# finding the len of variable.\n",
    "print(len(BRANDS),len(RATE),len(DESCRIPTION))"
   ]
  },
  {
   "cell_type": "code",
   "execution_count": 507,
   "metadata": {},
   "outputs": [
    {
     "data": {
      "text/html": [
       "<div>\n",
       "<style scoped>\n",
       "    .dataframe tbody tr th:only-of-type {\n",
       "        vertical-align: middle;\n",
       "    }\n",
       "\n",
       "    .dataframe tbody tr th {\n",
       "        vertical-align: top;\n",
       "    }\n",
       "\n",
       "    .dataframe thead th {\n",
       "        text-align: right;\n",
       "    }\n",
       "</style>\n",
       "<table border=\"1\" class=\"dataframe\">\n",
       "  <thead>\n",
       "    <tr style=\"text-align: right;\">\n",
       "      <th></th>\n",
       "      <th>company</th>\n",
       "      <th>rates</th>\n",
       "      <th>description</th>\n",
       "    </tr>\n",
       "  </thead>\n",
       "  <tbody>\n",
       "    <tr>\n",
       "      <th>0</th>\n",
       "      <td>Nike</td>\n",
       "      <td>Rs. 6599Rs. 8195(Rs. 1596 OFF)</td>\n",
       "      <td>Unisex KYRIE FLYTRAP IV Shoes</td>\n",
       "    </tr>\n",
       "    <tr>\n",
       "      <th>1</th>\n",
       "      <td>Nike</td>\n",
       "      <td>Rs. 6399Rs. 7995(Rs. 1596 OFF)</td>\n",
       "      <td>Men Zoom Running Shoes</td>\n",
       "    </tr>\n",
       "    <tr>\n",
       "      <th>2</th>\n",
       "      <td>Nike</td>\n",
       "      <td>Rs. 11199Rs. 13995(Rs. 2796 OFF)</td>\n",
       "      <td>Men ZOOM FLY 3 Running Shoes</td>\n",
       "    </tr>\n",
       "    <tr>\n",
       "      <th>3</th>\n",
       "      <td>Nike</td>\n",
       "      <td>Rs. 8199Rs. 10995(Rs. 2796 OFF)</td>\n",
       "      <td>Men JORDAN DELTA Sneakers</td>\n",
       "    </tr>\n",
       "    <tr>\n",
       "      <th>4</th>\n",
       "      <td>Nike</td>\n",
       "      <td>Rs. 6999Rs. 9295(Rs. 2296 OFF)</td>\n",
       "      <td>Men Solid SKYVE MAX Sneakers</td>\n",
       "    </tr>\n",
       "    <tr>\n",
       "      <th>...</th>\n",
       "      <td>...</td>\n",
       "      <td>...</td>\n",
       "      <td>...</td>\n",
       "    </tr>\n",
       "    <tr>\n",
       "      <th>95</th>\n",
       "      <td>Geox</td>\n",
       "      <td>Rs. 9999</td>\n",
       "      <td>Men Leather Driving Shoes</td>\n",
       "    </tr>\n",
       "    <tr>\n",
       "      <th>96</th>\n",
       "      <td>Nike</td>\n",
       "      <td>Rs. 6599Rs. 8195(Rs. 1596 OFF)</td>\n",
       "      <td>Women AIR MAX VG-R Sneakers</td>\n",
       "    </tr>\n",
       "    <tr>\n",
       "      <th>97</th>\n",
       "      <td>Kenneth Cole</td>\n",
       "      <td>Rs. 6293Rs. 8990(30% OFF)</td>\n",
       "      <td>Men Leather Formal Derbys</td>\n",
       "    </tr>\n",
       "    <tr>\n",
       "      <th>98</th>\n",
       "      <td>UNDER ARMOUR</td>\n",
       "      <td>Rs. 10999</td>\n",
       "      <td>HOVR Sonic 3 Running Shoes</td>\n",
       "    </tr>\n",
       "    <tr>\n",
       "      <th>99</th>\n",
       "      <td>Kenneth Cole</td>\n",
       "      <td>Rs. 6293Rs. 8990(30% OFF)</td>\n",
       "      <td>Men Solid Leather Formal Derbys</td>\n",
       "    </tr>\n",
       "  </tbody>\n",
       "</table>\n",
       "<p>100 rows × 3 columns</p>\n",
       "</div>"
      ],
      "text/plain": [
       "         company                             rates  \\\n",
       "0           Nike    Rs. 6599Rs. 8195(Rs. 1596 OFF)   \n",
       "1           Nike    Rs. 6399Rs. 7995(Rs. 1596 OFF)   \n",
       "2           Nike  Rs. 11199Rs. 13995(Rs. 2796 OFF)   \n",
       "3           Nike   Rs. 8199Rs. 10995(Rs. 2796 OFF)   \n",
       "4           Nike    Rs. 6999Rs. 9295(Rs. 2296 OFF)   \n",
       "..           ...                               ...   \n",
       "95          Geox                          Rs. 9999   \n",
       "96          Nike    Rs. 6599Rs. 8195(Rs. 1596 OFF)   \n",
       "97  Kenneth Cole         Rs. 6293Rs. 8990(30% OFF)   \n",
       "98  UNDER ARMOUR                         Rs. 10999   \n",
       "99  Kenneth Cole         Rs. 6293Rs. 8990(30% OFF)   \n",
       "\n",
       "                        description  \n",
       "0     Unisex KYRIE FLYTRAP IV Shoes  \n",
       "1            Men Zoom Running Shoes  \n",
       "2      Men ZOOM FLY 3 Running Shoes  \n",
       "3         Men JORDAN DELTA Sneakers  \n",
       "4      Men Solid SKYVE MAX Sneakers  \n",
       "..                              ...  \n",
       "95        Men Leather Driving Shoes  \n",
       "96      Women AIR MAX VG-R Sneakers  \n",
       "97        Men Leather Formal Derbys  \n",
       "98       HOVR Sonic 3 Running Shoes  \n",
       "99  Men Solid Leather Formal Derbys  \n",
       "\n",
       "[100 rows x 3 columns]"
      ]
     },
     "execution_count": 507,
     "metadata": {},
     "output_type": "execute_result"
    }
   ],
   "source": [
    "# Creating a dataframe to store the scrapped information.\n",
    "import pandas as pd\n",
    "shoes=pd.DataFrame({})\n",
    "shoes['company']=BRANDS[:100]\n",
    "shoes['rates']=RATE[:100]\n",
    "shoes['description']=DESCRIPTION[:100]\n",
    "shoes"
   ]
  },
  {
   "cell_type": "markdown",
   "metadata": {},
   "source": [
    "# QUESTION NO:10"
   ]
  },
  {
   "cell_type": "code",
   "execution_count": 1,
   "metadata": {},
   "outputs": [],
   "source": [
    "# Importing the essential libraries.\n",
    "import selenium\n",
    "from selenium import webdriver\n",
    "# Configure the webdriver.\n",
    "driver = webdriver.Chrome('/Users/nlohith/Desktop/chromedriver')"
   ]
  },
  {
   "cell_type": "code",
   "execution_count": 2,
   "metadata": {},
   "outputs": [],
   "source": [
    "# Get the URL link.\n",
    "url = 'https://www.amazon.in/'"
   ]
  },
  {
   "cell_type": "code",
   "execution_count": 3,
   "metadata": {},
   "outputs": [],
   "source": [
    "driver.get(url)"
   ]
  },
  {
   "cell_type": "code",
   "execution_count": 4,
   "metadata": {},
   "outputs": [],
   "source": [
    "# Creating empty lists for scraping data.\n",
    "title=[]\n",
    "rating=[]\n",
    "price=[]"
   ]
  },
  {
   "cell_type": "code",
   "execution_count": 5,
   "metadata": {},
   "outputs": [],
   "source": [
    "# scraping the title.\n",
    "Title=driver.find_elements_by_xpath(\"//h2[@class='a-size-mini a-spacing-none a-color-base s-line-clamp-2']\")"
   ]
  },
  {
   "cell_type": "code",
   "execution_count": 6,
   "metadata": {},
   "outputs": [
    {
     "data": {
      "text/plain": [
       "[<selenium.webdriver.remote.webelement.WebElement (session=\"ccec3d00a21eae377370f1941f9de18c\", element=\"be1ccc71-40bd-47a2-944b-27fc23551f20\")>,\n",
       " <selenium.webdriver.remote.webelement.WebElement (session=\"ccec3d00a21eae377370f1941f9de18c\", element=\"3517791d-ac50-4aad-a4d5-1dcfa059b3b9\")>]"
      ]
     },
     "execution_count": 6,
     "metadata": {},
     "output_type": "execute_result"
    }
   ],
   "source": [
    "Title[:2]"
   ]
  },
  {
   "cell_type": "code",
   "execution_count": 7,
   "metadata": {},
   "outputs": [],
   "source": [
    "for i in Title:\n",
    "    name=i.text\n",
    "    title.append(name)"
   ]
  },
  {
   "cell_type": "code",
   "execution_count": 8,
   "metadata": {},
   "outputs": [
    {
     "data": {
      "text/plain": [
       "['(Renewed) Dell Latitude E6420 14 Inch Laptop (Core I7 2460M/8GB/1TB/Nvidia Dedicated Graphics/Windows Professional/MS Office), Dark Grey',\n",
       " '(Renewed) Dell Latitude E7470 14-inch Laptop (Core i7 6th Gen/8GB(Up to 16)/1 TB HDD/Windows 10/MS Office Pro 2019/Intel Graphics), Black',\n",
       " 'Lenovo IdeaPad Gaming 3i 10th Gen Intel Core i7 15.6-inch FHD IPS Gaming Laptop (8GB/1TB HDD + 256 GB SSD/Windows 10/NVIDIA GTX 1650 4GB GDDR6/with M100 RGB Gaming Mouse/Onyx Black/2.2Kg), 81Y400VAIN',\n",
       " '(Renewed) Dell Latitude E7470 14-inch Laptop (Core i7 6th Gen/16GB/500 GB HDD/Windows 10/MS Office Pro 2019/Intel Graphics), Black',\n",
       " '(Renewed) Dell Latitude E7470 14-inch Laptop (Core i7 6th Gen/16GB/1 TB HDD/Windows 10/MS Office Pro 2019/Intel Graphics), Black',\n",
       " '(Renewed) Lenovo ThinkPad High Performance 12.5 inch IPS Panel 1.53 kg Laptop (Core I7 5600U/8 GB(Upto 16GB)/500 GB/Win 10 Pro/Webcam/USB 3.0/SIM/BT/M.2/Cardreader/TPM 2.0 VPro/Integrated Graphics)',\n",
       " '(Renewed) Dell Latitude E7470 14-inch Laptop (Core i7 6th Gen/8GB(Up to 16)/500 GB HDD/Windows 10/MS Office Pro 2019/Intel Graphics), Black',\n",
       " '(Renewed) ASUS ROG Strix G G531GT-AL018T 15.6\" FHD 120Hz Gaming Laptop GTX 1650 4GB Graphics (Core™ i7-9750H 9th Gen/16GB RAM/512GB NVMe SSD/Windows 10/2.40 Kg), Black',\n",
       " 'ASUS ROG G703GI-E5148T 17.3-inch FHD 144Hz/3ms Gaming Laptop (8th Gen Intel Core i9-8950HK/64GB/2TB SSHD + 1.5TB NVMe SSD/Windows 10/GTX 1080 8GB Graphics/4.70 Kg), Aluminum',\n",
       " 'Acer Nitro 5 Intel Core i7 10750H 15.6\" FHD IPS 144Hz Display Thin and Light Gaming Laptop (8GB Ram/1TB HDD + 256 GB SSD/Windows 10 Home /GTX 1650Ti Graphics/Obisidian Black/2.3 kgs),AN515-55']"
      ]
     },
     "execution_count": 8,
     "metadata": {},
     "output_type": "execute_result"
    }
   ],
   "source": [
    "title[:10]"
   ]
  },
  {
   "cell_type": "code",
   "execution_count": 14,
   "metadata": {},
   "outputs": [],
   "source": [
    "# Scraping the rating.\n",
    "Rating=driver.find_elements_by_xpath(\"//a[@class='a-popover-trigger a-declarative']\")"
   ]
  },
  {
   "cell_type": "code",
   "execution_count": 15,
   "metadata": {},
   "outputs": [
    {
     "data": {
      "text/plain": [
       "[<selenium.webdriver.remote.webelement.WebElement (session=\"ccec3d00a21eae377370f1941f9de18c\", element=\"ba7c941f-6bf6-4bf8-bb4d-3382e74ac76e\")>,\n",
       " <selenium.webdriver.remote.webelement.WebElement (session=\"ccec3d00a21eae377370f1941f9de18c\", element=\"8b6ee7a6-2e8b-4cf4-94f9-6432a977a738\")>]"
      ]
     },
     "execution_count": 15,
     "metadata": {},
     "output_type": "execute_result"
    }
   ],
   "source": [
    "Rating[:2]"
   ]
  },
  {
   "cell_type": "code",
   "execution_count": 16,
   "metadata": {},
   "outputs": [],
   "source": [
    "for i in Rating:\n",
    "    star=i.text\n",
    "    rating.append(star)"
   ]
  },
  {
   "cell_type": "code",
   "execution_count": 17,
   "metadata": {},
   "outputs": [
    {
     "data": {
      "text/plain": [
       "['', '', '', '', '', '', '', '', '', '']"
      ]
     },
     "execution_count": 17,
     "metadata": {},
     "output_type": "execute_result"
    }
   ],
   "source": [
    "rating[:10]"
   ]
  },
  {
   "cell_type": "code",
   "execution_count": 22,
   "metadata": {},
   "outputs": [],
   "source": [
    "# Scrapijng the Price.\n",
    "Price=driver.find_elements_by_xpath(\"//span[@class='a-price']\")"
   ]
  },
  {
   "cell_type": "code",
   "execution_count": 23,
   "metadata": {},
   "outputs": [
    {
     "data": {
      "text/plain": [
       "[<selenium.webdriver.remote.webelement.WebElement (session=\"ccec3d00a21eae377370f1941f9de18c\", element=\"e8bbfc3c-4c8d-4df0-a4e7-3a1af5efbf63\")>,\n",
       " <selenium.webdriver.remote.webelement.WebElement (session=\"ccec3d00a21eae377370f1941f9de18c\", element=\"3686c691-2e2a-4b9a-8ca5-dc15f1cb76c5\")>]"
      ]
     },
     "execution_count": 23,
     "metadata": {},
     "output_type": "execute_result"
    }
   ],
   "source": [
    "Price[:2]"
   ]
  },
  {
   "cell_type": "code",
   "execution_count": 24,
   "metadata": {},
   "outputs": [],
   "source": [
    "for i in Price:\n",
    "    rate=i.text\n",
    "    price.append(rate)"
   ]
  },
  {
   "cell_type": "code",
   "execution_count": 25,
   "metadata": {},
   "outputs": [
    {
     "data": {
      "text/plain": [
       "['₹35,000',\n",
       " '₹53,599',\n",
       " '₹74,990',\n",
       " '₹54,399',\n",
       " '₹55,299',\n",
       " '₹35,999',\n",
       " '₹52,699',\n",
       " '₹69,990',\n",
       " '₹5,22,077',\n",
       " '₹79,990']"
      ]
     },
     "execution_count": 25,
     "metadata": {},
     "output_type": "execute_result"
    }
   ],
   "source": [
    "price[:10]"
   ]
  },
  {
   "cell_type": "code",
   "execution_count": 26,
   "metadata": {},
   "outputs": [
    {
     "name": "stdout",
     "output_type": "stream",
     "text": [
      "24 24 36\n"
     ]
    }
   ],
   "source": [
    "# Finding the length of variable.\n",
    "print(len(title),len(price),len(rating))"
   ]
  },
  {
   "cell_type": "code",
   "execution_count": 27,
   "metadata": {},
   "outputs": [
    {
     "data": {
      "text/html": [
       "<div>\n",
       "<style scoped>\n",
       "    .dataframe tbody tr th:only-of-type {\n",
       "        vertical-align: middle;\n",
       "    }\n",
       "\n",
       "    .dataframe tbody tr th {\n",
       "        vertical-align: top;\n",
       "    }\n",
       "\n",
       "    .dataframe thead th {\n",
       "        text-align: right;\n",
       "    }\n",
       "</style>\n",
       "<table border=\"1\" class=\"dataframe\">\n",
       "  <thead>\n",
       "    <tr style=\"text-align: right;\">\n",
       "      <th></th>\n",
       "      <th>title</th>\n",
       "      <th>rating</th>\n",
       "      <th>price</th>\n",
       "    </tr>\n",
       "  </thead>\n",
       "  <tbody>\n",
       "    <tr>\n",
       "      <th>0</th>\n",
       "      <td>(Renewed) Dell Latitude E6420 14 Inch Laptop (...</td>\n",
       "      <td></td>\n",
       "      <td>₹35,000</td>\n",
       "    </tr>\n",
       "    <tr>\n",
       "      <th>1</th>\n",
       "      <td>(Renewed) Dell Latitude E7470 14-inch Laptop (...</td>\n",
       "      <td></td>\n",
       "      <td>₹53,599</td>\n",
       "    </tr>\n",
       "    <tr>\n",
       "      <th>2</th>\n",
       "      <td>Lenovo IdeaPad Gaming 3i 10th Gen Intel Core i...</td>\n",
       "      <td></td>\n",
       "      <td>₹74,990</td>\n",
       "    </tr>\n",
       "    <tr>\n",
       "      <th>3</th>\n",
       "      <td>(Renewed) Dell Latitude E7470 14-inch Laptop (...</td>\n",
       "      <td></td>\n",
       "      <td>₹54,399</td>\n",
       "    </tr>\n",
       "    <tr>\n",
       "      <th>4</th>\n",
       "      <td>(Renewed) Dell Latitude E7470 14-inch Laptop (...</td>\n",
       "      <td></td>\n",
       "      <td>₹55,299</td>\n",
       "    </tr>\n",
       "    <tr>\n",
       "      <th>5</th>\n",
       "      <td>(Renewed) Lenovo ThinkPad High Performance 12....</td>\n",
       "      <td></td>\n",
       "      <td>₹35,999</td>\n",
       "    </tr>\n",
       "    <tr>\n",
       "      <th>6</th>\n",
       "      <td>(Renewed) Dell Latitude E7470 14-inch Laptop (...</td>\n",
       "      <td></td>\n",
       "      <td>₹52,699</td>\n",
       "    </tr>\n",
       "    <tr>\n",
       "      <th>7</th>\n",
       "      <td>(Renewed) ASUS ROG Strix G G531GT-AL018T 15.6\"...</td>\n",
       "      <td></td>\n",
       "      <td>₹69,990</td>\n",
       "    </tr>\n",
       "    <tr>\n",
       "      <th>8</th>\n",
       "      <td>ASUS ROG G703GI-E5148T 17.3-inch FHD 144Hz/3ms...</td>\n",
       "      <td></td>\n",
       "      <td>₹5,22,077</td>\n",
       "    </tr>\n",
       "    <tr>\n",
       "      <th>9</th>\n",
       "      <td>Acer Nitro 5 Intel Core i7 10750H 15.6\" FHD IP...</td>\n",
       "      <td></td>\n",
       "      <td>₹79,990</td>\n",
       "    </tr>\n",
       "  </tbody>\n",
       "</table>\n",
       "</div>"
      ],
      "text/plain": [
       "                                               title rating      price\n",
       "0  (Renewed) Dell Latitude E6420 14 Inch Laptop (...           ₹35,000\n",
       "1  (Renewed) Dell Latitude E7470 14-inch Laptop (...           ₹53,599\n",
       "2  Lenovo IdeaPad Gaming 3i 10th Gen Intel Core i...           ₹74,990\n",
       "3  (Renewed) Dell Latitude E7470 14-inch Laptop (...           ₹54,399\n",
       "4  (Renewed) Dell Latitude E7470 14-inch Laptop (...           ₹55,299\n",
       "5  (Renewed) Lenovo ThinkPad High Performance 12....           ₹35,999\n",
       "6  (Renewed) Dell Latitude E7470 14-inch Laptop (...           ₹52,699\n",
       "7  (Renewed) ASUS ROG Strix G G531GT-AL018T 15.6\"...           ₹69,990\n",
       "8  ASUS ROG G703GI-E5148T 17.3-inch FHD 144Hz/3ms...         ₹5,22,077\n",
       "9  Acer Nitro 5 Intel Core i7 10750H 15.6\" FHD IP...           ₹79,990"
      ]
     },
     "execution_count": 27,
     "metadata": {},
     "output_type": "execute_result"
    }
   ],
   "source": [
    "#  Creating a dataframe to store the scrapped information.\n",
    "import pandas as pd\n",
    "df=pd.DataFrame({'title':title[0:10],'rating':rating[0:10],'price':price[0:10]})\n",
    "df"
   ]
  },
  {
   "cell_type": "code",
   "execution_count": null,
   "metadata": {},
   "outputs": [],
   "source": []
  },
  {
   "cell_type": "code",
   "execution_count": null,
   "metadata": {},
   "outputs": [],
   "source": []
  }
 ],
 "metadata": {
  "kernelspec": {
   "display_name": "Python 3",
   "language": "python",
   "name": "python3"
  },
  "language_info": {
   "codemirror_mode": {
    "name": "ipython",
    "version": 3
   },
   "file_extension": ".py",
   "mimetype": "text/x-python",
   "name": "python",
   "nbconvert_exporter": "python",
   "pygments_lexer": "ipython3",
   "version": "3.7.6"
  }
 },
 "nbformat": 4,
 "nbformat_minor": 4
}
