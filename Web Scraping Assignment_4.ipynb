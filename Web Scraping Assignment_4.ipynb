{
 "cells": [
  {
   "cell_type": "markdown",
   "metadata": {},
   "source": [
    "# QUESTION NO-1"
   ]
  },
  {
   "cell_type": "code",
   "execution_count": 276,
   "metadata": {},
   "outputs": [],
   "source": [
    "#importing all the required libraries\n",
    "import selenium\n",
    "import pandas as pd\n",
    "from selenium import webdriver\n",
    "\n",
    "# Importing required Exceptions which needs to handled\n",
    "from selenium.common.exceptions import StaleElementReferenceException, NoSuchElementException"
   ]
  },
  {
   "cell_type": "code",
   "execution_count": 30,
   "metadata": {},
   "outputs": [],
   "source": [
    "# Configure the webdriver.\n",
    "driver = webdriver.Chrome('/Users/nlohith/Desktop/chromedriver')"
   ]
  },
  {
   "cell_type": "code",
   "execution_count": 31,
   "metadata": {},
   "outputs": [],
   "source": [
    "# Opening the url\n",
    "url= 'https://en.wikipedia.org/wiki/List_of_most-viewed_YouTube_videos/'"
   ]
  },
  {
   "cell_type": "code",
   "execution_count": 32,
   "metadata": {},
   "outputs": [],
   "source": [
    "#opening the webpage through our driver\n",
    "driver.get(url)"
   ]
  },
  {
   "cell_type": "code",
   "execution_count": 33,
   "metadata": {},
   "outputs": [],
   "source": [
    "#creating empty lists\n",
    "Rank = []\n",
    "Name = []\n",
    "Artist = []\n",
    "Upload_date = []\n",
    "Views = []"
   ]
  },
  {
   "cell_type": "code",
   "execution_count": 42,
   "metadata": {},
   "outputs": [],
   "source": [
    "rank = driver.find_elements_by_xpath('//table[@class=\"wikitable sortable jquery-tablesorter\"]/tbody/tr/td[1]')"
   ]
  },
  {
   "cell_type": "code",
   "execution_count": 43,
   "metadata": {},
   "outputs": [],
   "source": [
    "for i in rank:\n",
    "    Rank.append(i.text)"
   ]
  },
  {
   "cell_type": "code",
   "execution_count": 44,
   "metadata": {},
   "outputs": [
    {
     "data": {
      "text/plain": [
       "['1.', '2.', '3.']"
      ]
     },
     "execution_count": 44,
     "metadata": {},
     "output_type": "execute_result"
    }
   ],
   "source": [
    "Rank[0:3]"
   ]
  },
  {
   "cell_type": "code",
   "execution_count": 45,
   "metadata": {},
   "outputs": [],
   "source": [
    "name = driver.find_elements_by_xpath('//table[@class=\"wikitable sortable jquery-tablesorter\"]/tbody/tr/td[2]')"
   ]
  },
  {
   "cell_type": "code",
   "execution_count": 46,
   "metadata": {},
   "outputs": [],
   "source": [
    "for i in name:\n",
    "    Name.append(i.text)"
   ]
  },
  {
   "cell_type": "code",
   "execution_count": 47,
   "metadata": {},
   "outputs": [
    {
     "data": {
      "text/plain": [
       "['\"Baby Shark Dance\"[28]', '\"Despacito\"[30]', '\"Shape of You\"[31]']"
      ]
     },
     "execution_count": 47,
     "metadata": {},
     "output_type": "execute_result"
    }
   ],
   "source": [
    "Name[0:3]"
   ]
  },
  {
   "cell_type": "code",
   "execution_count": 48,
   "metadata": {},
   "outputs": [],
   "source": [
    "art = driver.find_elements_by_xpath('//table[@class=\"wikitable sortable jquery-tablesorter\"]/tbody/tr/td[3]')"
   ]
  },
  {
   "cell_type": "code",
   "execution_count": 49,
   "metadata": {},
   "outputs": [],
   "source": [
    "for i in art:\n",
    "    Artist.append(i.text)"
   ]
  },
  {
   "cell_type": "code",
   "execution_count": 50,
   "metadata": {},
   "outputs": [
    {
     "data": {
      "text/plain": [
       "[\"Pinkfong Kids' Songs & Stories\",\n",
       " 'Luis Fonsi featuring Daddy Yankee',\n",
       " 'Ed Sheeran']"
      ]
     },
     "execution_count": 50,
     "metadata": {},
     "output_type": "execute_result"
    }
   ],
   "source": [
    "Artist[0:3]"
   ]
  },
  {
   "cell_type": "code",
   "execution_count": 52,
   "metadata": {},
   "outputs": [],
   "source": [
    "date =  driver.find_elements_by_xpath('//table[@class=\"wikitable sortable jquery-tablesorter\"]/tbody/tr/td[5]')"
   ]
  },
  {
   "cell_type": "code",
   "execution_count": 55,
   "metadata": {},
   "outputs": [],
   "source": [
    "for i in date:\n",
    "    Upload_date.append(i.text)"
   ]
  },
  {
   "cell_type": "code",
   "execution_count": 56,
   "metadata": {},
   "outputs": [
    {
     "data": {
      "text/plain": [
       "['June 17, 2016', 'January 12, 2017', 'January 30, 2017']"
      ]
     },
     "execution_count": 56,
     "metadata": {},
     "output_type": "execute_result"
    }
   ],
   "source": [
    "Upload_date[0:3]"
   ]
  },
  {
   "cell_type": "code",
   "execution_count": 57,
   "metadata": {},
   "outputs": [],
   "source": [
    "view = driver.find_elements_by_xpath('//table[@class=\"wikitable sortable jquery-tablesorter\"]/tbody/tr/td[4]')"
   ]
  },
  {
   "cell_type": "code",
   "execution_count": 58,
   "metadata": {},
   "outputs": [],
   "source": [
    "for i in view:\n",
    "    Views.append(i.text)"
   ]
  },
  {
   "cell_type": "code",
   "execution_count": 59,
   "metadata": {},
   "outputs": [
    {
     "data": {
      "text/plain": [
       "['7.91', '7.20', '5.18']"
      ]
     },
     "execution_count": 59,
     "metadata": {},
     "output_type": "execute_result"
    }
   ],
   "source": [
    "Views[0:3]"
   ]
  },
  {
   "cell_type": "code",
   "execution_count": 60,
   "metadata": {},
   "outputs": [
    {
     "data": {
      "text/html": [
       "<div>\n",
       "<style scoped>\n",
       "    .dataframe tbody tr th:only-of-type {\n",
       "        vertical-align: middle;\n",
       "    }\n",
       "\n",
       "    .dataframe tbody tr th {\n",
       "        vertical-align: top;\n",
       "    }\n",
       "\n",
       "    .dataframe thead th {\n",
       "        text-align: right;\n",
       "    }\n",
       "</style>\n",
       "<table border=\"1\" class=\"dataframe\">\n",
       "  <thead>\n",
       "    <tr style=\"text-align: right;\">\n",
       "      <th></th>\n",
       "      <th>Rank</th>\n",
       "      <th>Name</th>\n",
       "      <th>Artist</th>\n",
       "      <th>Upload_date</th>\n",
       "      <th>Views</th>\n",
       "    </tr>\n",
       "  </thead>\n",
       "  <tbody>\n",
       "    <tr>\n",
       "      <th>0</th>\n",
       "      <td>1.</td>\n",
       "      <td>\"Baby Shark Dance\"[28]</td>\n",
       "      <td>Pinkfong Kids' Songs &amp; Stories</td>\n",
       "      <td>June 17, 2016</td>\n",
       "      <td>7.91</td>\n",
       "    </tr>\n",
       "    <tr>\n",
       "      <th>1</th>\n",
       "      <td>2.</td>\n",
       "      <td>\"Despacito\"[30]</td>\n",
       "      <td>Luis Fonsi featuring Daddy Yankee</td>\n",
       "      <td>January 12, 2017</td>\n",
       "      <td>7.20</td>\n",
       "    </tr>\n",
       "    <tr>\n",
       "      <th>2</th>\n",
       "      <td>3.</td>\n",
       "      <td>\"Shape of You\"[31]</td>\n",
       "      <td>Ed Sheeran</td>\n",
       "      <td>January 30, 2017</td>\n",
       "      <td>5.18</td>\n",
       "    </tr>\n",
       "    <tr>\n",
       "      <th>3</th>\n",
       "      <td>4.</td>\n",
       "      <td>\"See You Again\"[32]</td>\n",
       "      <td>Wiz Khalifa featuring Charlie Puth</td>\n",
       "      <td>April 6, 2015</td>\n",
       "      <td>4.96</td>\n",
       "    </tr>\n",
       "    <tr>\n",
       "      <th>4</th>\n",
       "      <td>5.</td>\n",
       "      <td>\"Johny Johny Yes Papa\"[35]</td>\n",
       "      <td>LooLoo Kids</td>\n",
       "      <td>October 8, 2016</td>\n",
       "      <td>4.77</td>\n",
       "    </tr>\n",
       "    <tr>\n",
       "      <th>5</th>\n",
       "      <td>6.</td>\n",
       "      <td>\"Masha and the Bear – Recipe for Disaster\"[36]</td>\n",
       "      <td>Get Movies</td>\n",
       "      <td>January 31, 2012</td>\n",
       "      <td>4.41</td>\n",
       "    </tr>\n",
       "    <tr>\n",
       "      <th>6</th>\n",
       "      <td>7.</td>\n",
       "      <td>\"Uptown Funk\"[37]</td>\n",
       "      <td>Mark Ronson featuring Bruno Mars</td>\n",
       "      <td>November 19, 2014</td>\n",
       "      <td>4.09</td>\n",
       "    </tr>\n",
       "    <tr>\n",
       "      <th>7</th>\n",
       "      <td>8.</td>\n",
       "      <td>\"Gangnam Style\"[38]</td>\n",
       "      <td>Psy</td>\n",
       "      <td>July 15, 2012</td>\n",
       "      <td>3.97</td>\n",
       "    </tr>\n",
       "    <tr>\n",
       "      <th>8</th>\n",
       "      <td>9.</td>\n",
       "      <td>\"Learning Colors – Colorful Eggs on a Farm\"[40]</td>\n",
       "      <td>Miroshka TV</td>\n",
       "      <td>February 27, 2018</td>\n",
       "      <td>3.69</td>\n",
       "    </tr>\n",
       "    <tr>\n",
       "      <th>9</th>\n",
       "      <td>10.</td>\n",
       "      <td>\"Bath Song\"[41]</td>\n",
       "      <td>Cocomelon – Nursery Rhymes</td>\n",
       "      <td>May 2, 2018</td>\n",
       "      <td>3.64</td>\n",
       "    </tr>\n",
       "    <tr>\n",
       "      <th>10</th>\n",
       "      <td>11.</td>\n",
       "      <td>\"Phonics Song with Two Words\"[42]</td>\n",
       "      <td>ChuChu TV</td>\n",
       "      <td>March 6, 2014</td>\n",
       "      <td>3.53</td>\n",
       "    </tr>\n",
       "    <tr>\n",
       "      <th>11</th>\n",
       "      <td>12.</td>\n",
       "      <td>\"Sorry\"[43]</td>\n",
       "      <td>Justin Bieber</td>\n",
       "      <td>October 22, 2015</td>\n",
       "      <td>3.40</td>\n",
       "    </tr>\n",
       "    <tr>\n",
       "      <th>12</th>\n",
       "      <td>13.</td>\n",
       "      <td>\"Sugar\"[44]</td>\n",
       "      <td>Maroon 5</td>\n",
       "      <td>January 14, 2015</td>\n",
       "      <td>3.39</td>\n",
       "    </tr>\n",
       "    <tr>\n",
       "      <th>13</th>\n",
       "      <td>14.</td>\n",
       "      <td>\"Roar\"[45]</td>\n",
       "      <td>Katy Perry</td>\n",
       "      <td>September 5, 2013</td>\n",
       "      <td>3.27</td>\n",
       "    </tr>\n",
       "    <tr>\n",
       "      <th>14</th>\n",
       "      <td>15.</td>\n",
       "      <td>\"Counting Stars\"[46]</td>\n",
       "      <td>OneRepublic</td>\n",
       "      <td>May 31, 2013</td>\n",
       "      <td>3.19</td>\n",
       "    </tr>\n",
       "    <tr>\n",
       "      <th>15</th>\n",
       "      <td>16.</td>\n",
       "      <td>\"Thinking Out Loud\"[47]</td>\n",
       "      <td>Ed Sheeran</td>\n",
       "      <td>October 7, 2014</td>\n",
       "      <td>3.18</td>\n",
       "    </tr>\n",
       "    <tr>\n",
       "      <th>16</th>\n",
       "      <td>17.</td>\n",
       "      <td>\"Dame Tu Cosita\"[48]</td>\n",
       "      <td>El Chombo featuring Cutty Ranks</td>\n",
       "      <td>April 5, 2018</td>\n",
       "      <td>3.11</td>\n",
       "    </tr>\n",
       "    <tr>\n",
       "      <th>17</th>\n",
       "      <td>18.</td>\n",
       "      <td>\"Shake It Off\"[49]</td>\n",
       "      <td>Taylor Swift</td>\n",
       "      <td>August 18, 2014</td>\n",
       "      <td>3.02</td>\n",
       "    </tr>\n",
       "    <tr>\n",
       "      <th>18</th>\n",
       "      <td>19.</td>\n",
       "      <td>\"Faded\"[50]</td>\n",
       "      <td>Alan Walker</td>\n",
       "      <td>December 3, 2015</td>\n",
       "      <td>2.98</td>\n",
       "    </tr>\n",
       "    <tr>\n",
       "      <th>19</th>\n",
       "      <td>20.</td>\n",
       "      <td>\"Lean On\"[51]</td>\n",
       "      <td>Major Lazer and DJ Snake featuring MØ</td>\n",
       "      <td>March 22, 2015</td>\n",
       "      <td>2.97</td>\n",
       "    </tr>\n",
       "    <tr>\n",
       "      <th>20</th>\n",
       "      <td>21.</td>\n",
       "      <td>\"Bailando\"[52]</td>\n",
       "      <td>Enrique Iglesias featuring Descemer Bueno and ...</td>\n",
       "      <td>April 11, 2014</td>\n",
       "      <td>2.97</td>\n",
       "    </tr>\n",
       "    <tr>\n",
       "      <th>21</th>\n",
       "      <td>22.</td>\n",
       "      <td>\"Dark Horse\"[53]</td>\n",
       "      <td>Katy Perry featuring Juicy J</td>\n",
       "      <td>February 20, 2014</td>\n",
       "      <td>2.97</td>\n",
       "    </tr>\n",
       "    <tr>\n",
       "      <th>22</th>\n",
       "      <td>23.</td>\n",
       "      <td>\"Girls Like You\"[54]</td>\n",
       "      <td>Maroon 5 featuring Cardi B</td>\n",
       "      <td>May 31, 2018</td>\n",
       "      <td>2.96</td>\n",
       "    </tr>\n",
       "    <tr>\n",
       "      <th>23</th>\n",
       "      <td>24.</td>\n",
       "      <td>\"Let Her Go\"[55]</td>\n",
       "      <td>Passenger</td>\n",
       "      <td>July 25, 2012</td>\n",
       "      <td>2.91</td>\n",
       "    </tr>\n",
       "    <tr>\n",
       "      <th>24</th>\n",
       "      <td>25.</td>\n",
       "      <td>\"Mi Gente\"[56]</td>\n",
       "      <td>J Balvin and Willy William</td>\n",
       "      <td>June 29, 2017</td>\n",
       "      <td>2.86</td>\n",
       "    </tr>\n",
       "    <tr>\n",
       "      <th>25</th>\n",
       "      <td>26.</td>\n",
       "      <td>\"Hello\"[57]</td>\n",
       "      <td>Adele</td>\n",
       "      <td>October 22, 2015</td>\n",
       "      <td>2.79</td>\n",
       "    </tr>\n",
       "    <tr>\n",
       "      <th>26</th>\n",
       "      <td>27.</td>\n",
       "      <td>\"Perfect\"[58]</td>\n",
       "      <td>Ed Sheeran</td>\n",
       "      <td>November 9, 2017</td>\n",
       "      <td>2.74</td>\n",
       "    </tr>\n",
       "    <tr>\n",
       "      <th>27</th>\n",
       "      <td>28.</td>\n",
       "      <td>\"Waka Waka (This Time for Africa)\"[59]</td>\n",
       "      <td>Shakira featuring Freshlyground</td>\n",
       "      <td>June 4, 2010</td>\n",
       "      <td>2.74</td>\n",
       "    </tr>\n",
       "    <tr>\n",
       "      <th>28</th>\n",
       "      <td>29.</td>\n",
       "      <td>\"Blank Space\"[60]</td>\n",
       "      <td>Taylor Swift</td>\n",
       "      <td>November 10, 2014</td>\n",
       "      <td>2.72</td>\n",
       "    </tr>\n",
       "    <tr>\n",
       "      <th>29</th>\n",
       "      <td>30.</td>\n",
       "      <td>\"Chantaje\"[61]</td>\n",
       "      <td>Shakira featuring Maluma</td>\n",
       "      <td>November 18, 2016</td>\n",
       "      <td>2.62</td>\n",
       "    </tr>\n",
       "  </tbody>\n",
       "</table>\n",
       "</div>"
      ],
      "text/plain": [
       "   Rank                                             Name  \\\n",
       "0    1.                           \"Baby Shark Dance\"[28]   \n",
       "1    2.                                  \"Despacito\"[30]   \n",
       "2    3.                               \"Shape of You\"[31]   \n",
       "3    4.                              \"See You Again\"[32]   \n",
       "4    5.                       \"Johny Johny Yes Papa\"[35]   \n",
       "5    6.   \"Masha and the Bear – Recipe for Disaster\"[36]   \n",
       "6    7.                                \"Uptown Funk\"[37]   \n",
       "7    8.                              \"Gangnam Style\"[38]   \n",
       "8    9.  \"Learning Colors – Colorful Eggs on a Farm\"[40]   \n",
       "9   10.                                  \"Bath Song\"[41]   \n",
       "10  11.                \"Phonics Song with Two Words\"[42]   \n",
       "11  12.                                      \"Sorry\"[43]   \n",
       "12  13.                                      \"Sugar\"[44]   \n",
       "13  14.                                       \"Roar\"[45]   \n",
       "14  15.                             \"Counting Stars\"[46]   \n",
       "15  16.                          \"Thinking Out Loud\"[47]   \n",
       "16  17.                             \"Dame Tu Cosita\"[48]   \n",
       "17  18.                               \"Shake It Off\"[49]   \n",
       "18  19.                                      \"Faded\"[50]   \n",
       "19  20.                                    \"Lean On\"[51]   \n",
       "20  21.                                   \"Bailando\"[52]   \n",
       "21  22.                                 \"Dark Horse\"[53]   \n",
       "22  23.                             \"Girls Like You\"[54]   \n",
       "23  24.                                 \"Let Her Go\"[55]   \n",
       "24  25.                                   \"Mi Gente\"[56]   \n",
       "25  26.                                      \"Hello\"[57]   \n",
       "26  27.                                    \"Perfect\"[58]   \n",
       "27  28.           \"Waka Waka (This Time for Africa)\"[59]   \n",
       "28  29.                                \"Blank Space\"[60]   \n",
       "29  30.                                   \"Chantaje\"[61]   \n",
       "\n",
       "                                               Artist        Upload_date Views  \n",
       "0                      Pinkfong Kids' Songs & Stories      June 17, 2016  7.91  \n",
       "1                   Luis Fonsi featuring Daddy Yankee   January 12, 2017  7.20  \n",
       "2                                          Ed Sheeran   January 30, 2017  5.18  \n",
       "3                  Wiz Khalifa featuring Charlie Puth      April 6, 2015  4.96  \n",
       "4                                         LooLoo Kids    October 8, 2016  4.77  \n",
       "5                                          Get Movies   January 31, 2012  4.41  \n",
       "6                    Mark Ronson featuring Bruno Mars  November 19, 2014  4.09  \n",
       "7                                                 Psy      July 15, 2012  3.97  \n",
       "8                                         Miroshka TV  February 27, 2018  3.69  \n",
       "9                          Cocomelon – Nursery Rhymes        May 2, 2018  3.64  \n",
       "10                                          ChuChu TV      March 6, 2014  3.53  \n",
       "11                                      Justin Bieber   October 22, 2015  3.40  \n",
       "12                                           Maroon 5   January 14, 2015  3.39  \n",
       "13                                         Katy Perry  September 5, 2013  3.27  \n",
       "14                                        OneRepublic       May 31, 2013  3.19  \n",
       "15                                         Ed Sheeran    October 7, 2014  3.18  \n",
       "16                    El Chombo featuring Cutty Ranks      April 5, 2018  3.11  \n",
       "17                                       Taylor Swift    August 18, 2014  3.02  \n",
       "18                                        Alan Walker   December 3, 2015  2.98  \n",
       "19              Major Lazer and DJ Snake featuring MØ     March 22, 2015  2.97  \n",
       "20  Enrique Iglesias featuring Descemer Bueno and ...     April 11, 2014  2.97  \n",
       "21                       Katy Perry featuring Juicy J  February 20, 2014  2.97  \n",
       "22                         Maroon 5 featuring Cardi B       May 31, 2018  2.96  \n",
       "23                                          Passenger      July 25, 2012  2.91  \n",
       "24                         J Balvin and Willy William      June 29, 2017  2.86  \n",
       "25                                              Adele   October 22, 2015  2.79  \n",
       "26                                         Ed Sheeran   November 9, 2017  2.74  \n",
       "27                    Shakira featuring Freshlyground       June 4, 2010  2.74  \n",
       "28                                       Taylor Swift  November 10, 2014  2.72  \n",
       "29                           Shakira featuring Maluma  November 18, 2016  2.62  "
      ]
     },
     "execution_count": 60,
     "metadata": {},
     "output_type": "execute_result"
    }
   ],
   "source": [
    "# creating the dataframe from the scraped data\n",
    "import pandas as pd\n",
    "Videos=pd.DataFrame({})\n",
    "Videos['Rank']=Rank[0:30]\n",
    "Videos['Name']=Name[0:30]\n",
    "Videos['Artist']=Artist[0:30]\n",
    "Videos['Upload_date']=Upload_date[0:30]\n",
    "Videos['Views']=Views[0:30]\n",
    "Videos"
   ]
  },
  {
   "cell_type": "markdown",
   "metadata": {},
   "source": [
    "# QUESTION NO-2"
   ]
  },
  {
   "cell_type": "code",
   "execution_count": 320,
   "metadata": {},
   "outputs": [],
   "source": [
    "# Configure the webdriver.\n",
    "driver = webdriver.Chrome('/Users/nlohith/Desktop/chromedriver')"
   ]
  },
  {
   "cell_type": "code",
   "execution_count": 321,
   "metadata": {},
   "outputs": [],
   "source": [
    "# Opening the url\n",
    "url='https://www.bcci.tv/'"
   ]
  },
  {
   "cell_type": "code",
   "execution_count": 322,
   "metadata": {},
   "outputs": [],
   "source": [
    "driver.get(url)"
   ]
  },
  {
   "cell_type": "code",
   "execution_count": 323,
   "metadata": {},
   "outputs": [],
   "source": [
    "international_fixture=driver.find_element_by_xpath(\"//ul[@class='navigation__list showMoreEnabled']/li[1]/div[2]/div/ul/li[1]/a\")\n",
    "driver.get(international_fixture.get_attribute('href'))"
   ]
  },
  {
   "cell_type": "code",
   "execution_count": 324,
   "metadata": {},
   "outputs": [],
   "source": [
    "Match_title=[] \n",
    "Series=[]\n",
    "Place=[] \n",
    "Date=[] \n",
    "Time=[]"
   ]
  },
  {
   "cell_type": "code",
   "execution_count": 325,
   "metadata": {},
   "outputs": [],
   "source": [
    "title = driver.find_elements_by_xpath('//strong[@class=\"fixture__name fixture__name--with-margin\"]')"
   ]
  },
  {
   "cell_type": "code",
   "execution_count": 326,
   "metadata": {},
   "outputs": [],
   "source": [
    "for i in title:\n",
    "    Match_title.append(i.text)"
   ]
  },
  {
   "cell_type": "code",
   "execution_count": 327,
   "metadata": {},
   "outputs": [
    {
     "data": {
      "text/plain": [
       "['2nd Test', '3rd Test', '4th Test']"
      ]
     },
     "execution_count": 327,
     "metadata": {},
     "output_type": "execute_result"
    }
   ],
   "source": [
    "Match_title[0:3]"
   ]
  },
  {
   "cell_type": "code",
   "execution_count": 328,
   "metadata": {},
   "outputs": [],
   "source": [
    "series = driver.find_elements_by_xpath('//div[@class=\"fixture__format-strip\"]/span[2]')"
   ]
  },
  {
   "cell_type": "code",
   "execution_count": 329,
   "metadata": {},
   "outputs": [],
   "source": [
    "for i in series:\n",
    "    Series.append(i.text)"
   ]
  },
  {
   "cell_type": "code",
   "execution_count": 330,
   "metadata": {},
   "outputs": [
    {
     "data": {
      "text/plain": [
       "['INDIA V ENGLAND 2021', 'INDIA V ENGLAND 2021', 'INDIA V ENGLAND 2021']"
      ]
     },
     "execution_count": 330,
     "metadata": {},
     "output_type": "execute_result"
    }
   ],
   "source": [
    "Series[0:3]"
   ]
  },
  {
   "cell_type": "code",
   "execution_count": 331,
   "metadata": {},
   "outputs": [],
   "source": [
    "place = driver.find_elements_by_xpath('//p[@class=\"fixture__additional-info\"]/span')"
   ]
  },
  {
   "cell_type": "code",
   "execution_count": 332,
   "metadata": {},
   "outputs": [],
   "source": [
    "for i in place:\n",
    "    Place.append(i.text)"
   ]
  },
  {
   "cell_type": "code",
   "execution_count": 333,
   "metadata": {},
   "outputs": [
    {
     "data": {
      "text/plain": [
       "['M. A. Chidambaram Stadium, Chennai',\n",
       " 'Sardar Patel Stadium, Ahmedabad',\n",
       " 'Sardar Patel Stadium, Ahmedabad']"
      ]
     },
     "execution_count": 333,
     "metadata": {},
     "output_type": "execute_result"
    }
   ],
   "source": [
    "Place[0:3]"
   ]
  },
  {
   "cell_type": "code",
   "execution_count": 334,
   "metadata": {},
   "outputs": [],
   "source": [
    "date = driver.find_elements_by_xpath('//div[@class=\"fixture__datetime desktop-only\"]/div/span')\n",
    "month = driver.find_elements_by_xpath('//div[@class=\"fixture__datetime desktop-only\"]/div/div/span[1]')"
   ]
  },
  {
   "cell_type": "code",
   "execution_count": 335,
   "metadata": {},
   "outputs": [],
   "source": [
    "for i in range(len(date)):\n",
    "    Date.append(date[i].text+month[i].text)"
   ]
  },
  {
   "cell_type": "code",
   "execution_count": 336,
   "metadata": {},
   "outputs": [],
   "source": [
    "time = driver.find_elements_by_xpath('//div[@class=\"fixture__full-date\"]/div/span[2]')"
   ]
  },
  {
   "cell_type": "code",
   "execution_count": 337,
   "metadata": {},
   "outputs": [],
   "source": [
    "for i in time:\n",
    "    Time.append(i.text)"
   ]
  },
  {
   "cell_type": "code",
   "execution_count": 338,
   "metadata": {},
   "outputs": [
    {
     "data": {
      "text/plain": [
       "['09:30 IST', '14:30 IST', '09:30 IST']"
      ]
     },
     "execution_count": 338,
     "metadata": {},
     "output_type": "execute_result"
    }
   ],
   "source": [
    "Time[0:3]"
   ]
  },
  {
   "cell_type": "code",
   "execution_count": 339,
   "metadata": {},
   "outputs": [
    {
     "data": {
      "text/plain": [
       "(16, 16, 16, 16, 16)"
      ]
     },
     "execution_count": 339,
     "metadata": {},
     "output_type": "execute_result"
    }
   ],
   "source": [
    "len(Match_title),len(Series),len(Place),len(Date),len(Time)"
   ]
  },
  {
   "cell_type": "code",
   "execution_count": 340,
   "metadata": {},
   "outputs": [
    {
     "data": {
      "text/html": [
       "<div>\n",
       "<style scoped>\n",
       "    .dataframe tbody tr th:only-of-type {\n",
       "        vertical-align: middle;\n",
       "    }\n",
       "\n",
       "    .dataframe tbody tr th {\n",
       "        vertical-align: top;\n",
       "    }\n",
       "\n",
       "    .dataframe thead th {\n",
       "        text-align: right;\n",
       "    }\n",
       "</style>\n",
       "<table border=\"1\" class=\"dataframe\">\n",
       "  <thead>\n",
       "    <tr style=\"text-align: right;\">\n",
       "      <th></th>\n",
       "      <th>Match_title</th>\n",
       "      <th>Series</th>\n",
       "      <th>Place</th>\n",
       "      <th>Date</th>\n",
       "      <th>Time</th>\n",
       "    </tr>\n",
       "  </thead>\n",
       "  <tbody>\n",
       "    <tr>\n",
       "      <th>0</th>\n",
       "      <td>2nd Test</td>\n",
       "      <td>INDIA V ENGLAND 2021</td>\n",
       "      <td>M. A. Chidambaram Stadium, Chennai</td>\n",
       "      <td>13FEBRUARY</td>\n",
       "      <td>09:30 IST</td>\n",
       "    </tr>\n",
       "    <tr>\n",
       "      <th>1</th>\n",
       "      <td>3rd Test</td>\n",
       "      <td>INDIA V ENGLAND 2021</td>\n",
       "      <td>Sardar Patel Stadium, Ahmedabad</td>\n",
       "      <td>24FEBRUARY</td>\n",
       "      <td>14:30 IST</td>\n",
       "    </tr>\n",
       "    <tr>\n",
       "      <th>2</th>\n",
       "      <td>4th Test</td>\n",
       "      <td>INDIA V ENGLAND 2021</td>\n",
       "      <td>Sardar Patel Stadium, Ahmedabad</td>\n",
       "      <td>04MARCH</td>\n",
       "      <td>09:30 IST</td>\n",
       "    </tr>\n",
       "    <tr>\n",
       "      <th>3</th>\n",
       "      <td>1st T20I</td>\n",
       "      <td>INDIA V ENGLAND 2021</td>\n",
       "      <td>Sardar Patel Stadium, Ahmedabad</td>\n",
       "      <td>12MARCH</td>\n",
       "      <td>19:00 IST</td>\n",
       "    </tr>\n",
       "    <tr>\n",
       "      <th>4</th>\n",
       "      <td>2nd T20I</td>\n",
       "      <td>INDIA V ENGLAND 2021</td>\n",
       "      <td>Sardar Patel Stadium, Ahmedabad</td>\n",
       "      <td>14MARCH</td>\n",
       "      <td>19:00 IST</td>\n",
       "    </tr>\n",
       "    <tr>\n",
       "      <th>5</th>\n",
       "      <td>3rd T20I</td>\n",
       "      <td>INDIA V ENGLAND 2021</td>\n",
       "      <td>Sardar Patel Stadium, Ahmedabad</td>\n",
       "      <td>16MARCH</td>\n",
       "      <td>19:00 IST</td>\n",
       "    </tr>\n",
       "    <tr>\n",
       "      <th>6</th>\n",
       "      <td>4th T20I</td>\n",
       "      <td>INDIA V ENGLAND 2021</td>\n",
       "      <td>Sardar Patel Stadium, Ahmedabad</td>\n",
       "      <td>18MARCH</td>\n",
       "      <td>19:00 IST</td>\n",
       "    </tr>\n",
       "    <tr>\n",
       "      <th>7</th>\n",
       "      <td>5th T20I</td>\n",
       "      <td>INDIA V ENGLAND 2021</td>\n",
       "      <td>Sardar Patel Stadium, Ahmedabad</td>\n",
       "      <td>20MARCH</td>\n",
       "      <td>19:00 IST</td>\n",
       "    </tr>\n",
       "    <tr>\n",
       "      <th>8</th>\n",
       "      <td>1st ODI</td>\n",
       "      <td>INDIA V ENGLAND 2021</td>\n",
       "      <td>Maharashtra Cricket Association Stadium, Pune</td>\n",
       "      <td>23MARCH</td>\n",
       "      <td>13:30 IST</td>\n",
       "    </tr>\n",
       "    <tr>\n",
       "      <th>9</th>\n",
       "      <td>2nd ODI</td>\n",
       "      <td>INDIA V ENGLAND 2021</td>\n",
       "      <td>Maharashtra Cricket Association Stadium, Pune</td>\n",
       "      <td>26MARCH</td>\n",
       "      <td>13:30 IST</td>\n",
       "    </tr>\n",
       "  </tbody>\n",
       "</table>\n",
       "</div>"
      ],
      "text/plain": [
       "  Match_title                Series  \\\n",
       "0    2nd Test  INDIA V ENGLAND 2021   \n",
       "1    3rd Test  INDIA V ENGLAND 2021   \n",
       "2    4th Test  INDIA V ENGLAND 2021   \n",
       "3    1st T20I  INDIA V ENGLAND 2021   \n",
       "4    2nd T20I  INDIA V ENGLAND 2021   \n",
       "5    3rd T20I  INDIA V ENGLAND 2021   \n",
       "6    4th T20I  INDIA V ENGLAND 2021   \n",
       "7    5th T20I  INDIA V ENGLAND 2021   \n",
       "8     1st ODI  INDIA V ENGLAND 2021   \n",
       "9     2nd ODI  INDIA V ENGLAND 2021   \n",
       "\n",
       "                                           Place        Date       Time  \n",
       "0             M. A. Chidambaram Stadium, Chennai  13FEBRUARY  09:30 IST  \n",
       "1                Sardar Patel Stadium, Ahmedabad  24FEBRUARY  14:30 IST  \n",
       "2                Sardar Patel Stadium, Ahmedabad     04MARCH  09:30 IST  \n",
       "3                Sardar Patel Stadium, Ahmedabad     12MARCH  19:00 IST  \n",
       "4                Sardar Patel Stadium, Ahmedabad     14MARCH  19:00 IST  \n",
       "5                Sardar Patel Stadium, Ahmedabad     16MARCH  19:00 IST  \n",
       "6                Sardar Patel Stadium, Ahmedabad     18MARCH  19:00 IST  \n",
       "7                Sardar Patel Stadium, Ahmedabad     20MARCH  19:00 IST  \n",
       "8  Maharashtra Cricket Association Stadium, Pune     23MARCH  13:30 IST  \n",
       "9  Maharashtra Cricket Association Stadium, Pune     26MARCH  13:30 IST  "
      ]
     },
     "execution_count": 340,
     "metadata": {},
     "output_type": "execute_result"
    }
   ],
   "source": [
    "# creating the dataframe from the scraped data\n",
    "import pandas as pd\n",
    "ICC=pd.DataFrame({})\n",
    "ICC['Match_title']=Match_title[:10]\n",
    "ICC['Series']=Series[:10]\n",
    "ICC['Place']=Place[:10]\n",
    "ICC['Date']=Date[:10]\n",
    "ICC['Time']=Time[:10]\n",
    "ICC"
   ]
  },
  {
   "cell_type": "markdown",
   "metadata": {},
   "source": [
    "# QUESTION NO-3"
   ]
  },
  {
   "cell_type": "code",
   "execution_count": 3,
   "metadata": {},
   "outputs": [],
   "source": [
    "# Configure the webdriver.\n",
    "driver = webdriver.Chrome('/Users/nlohith/Desktop/chromedriver')"
   ]
  },
  {
   "cell_type": "code",
   "execution_count": 4,
   "metadata": {},
   "outputs": [],
   "source": [
    "# Opening the url\n",
    "url='https://www.guru99.com/'"
   ]
  },
  {
   "cell_type": "code",
   "execution_count": 5,
   "metadata": {},
   "outputs": [],
   "source": [
    "driver.get(url)"
   ]
  },
  {
   "cell_type": "code",
   "execution_count": 6,
   "metadata": {},
   "outputs": [],
   "source": [
    "# creating empty lists for scraping data\n",
    "Exception_Name=[]\n",
    "Description=[]"
   ]
  },
  {
   "cell_type": "code",
   "execution_count": 7,
   "metadata": {},
   "outputs": [],
   "source": [
    "#clicking on the selenium page \n",
    "sel=driver.find_element_by_xpath(\"//div[@class='srch']/span[8]/a\")\n",
    "sel.click()"
   ]
  },
  {
   "cell_type": "code",
   "execution_count": 8,
   "metadata": {},
   "outputs": [],
   "source": [
    "tutorial=driver.find_element_by_xpath(\"//table[@class='table']/tbody/tr[34]/td/a\")\n",
    "tutorial.click()"
   ]
  },
  {
   "cell_type": "code",
   "execution_count": 10,
   "metadata": {},
   "outputs": [],
   "source": [
    "name = driver.find_elements_by_xpath('//table[@class=\"table table-striped\"]/tbody/tr/td[1]')\n",
    "for i in name:\n",
    "    Exception_Name.append(i.text)"
   ]
  },
  {
   "cell_type": "code",
   "execution_count": 36,
   "metadata": {},
   "outputs": [],
   "source": [
    "des = driver.find_elements_by_xpath('//table[@class=\"table table-striped\"]/tbody/tr/td[2]')\n",
    "for i in des:\n",
    "    Description.append(i.text)"
   ]
  },
  {
   "cell_type": "code",
   "execution_count": 11,
   "metadata": {},
   "outputs": [
    {
     "data": {
      "text/html": [
       "<div>\n",
       "<style scoped>\n",
       "    .dataframe tbody tr th:only-of-type {\n",
       "        vertical-align: middle;\n",
       "    }\n",
       "\n",
       "    .dataframe tbody tr th {\n",
       "        vertical-align: top;\n",
       "    }\n",
       "\n",
       "    .dataframe thead th {\n",
       "        text-align: right;\n",
       "    }\n",
       "</style>\n",
       "<table border=\"1\" class=\"dataframe\">\n",
       "  <thead>\n",
       "    <tr style=\"text-align: right;\">\n",
       "      <th></th>\n",
       "      <th>Exception_Name</th>\n",
       "      <th>Description</th>\n",
       "    </tr>\n",
       "  </thead>\n",
       "  <tbody>\n",
       "    <tr>\n",
       "      <th>0</th>\n",
       "      <td>ElementNotVisibleException</td>\n",
       "      <td>This type of Selenium exception occurs when an...</td>\n",
       "    </tr>\n",
       "    <tr>\n",
       "      <th>1</th>\n",
       "      <td>ElementNotSelectableException</td>\n",
       "      <td>This Selenium exception occurs when an element...</td>\n",
       "    </tr>\n",
       "    <tr>\n",
       "      <th>2</th>\n",
       "      <td>NoSuchElementException</td>\n",
       "      <td>This Exception occurs if an element could not ...</td>\n",
       "    </tr>\n",
       "    <tr>\n",
       "      <th>3</th>\n",
       "      <td>NoSuchFrameException</td>\n",
       "      <td>This Exception occurs if the frame target to b...</td>\n",
       "    </tr>\n",
       "    <tr>\n",
       "      <th>4</th>\n",
       "      <td>NoAlertPresentException</td>\n",
       "      <td>This Exception occurs when you switch to no pr...</td>\n",
       "    </tr>\n",
       "    <tr>\n",
       "      <th>...</th>\n",
       "      <td>...</td>\n",
       "      <td>...</td>\n",
       "    </tr>\n",
       "    <tr>\n",
       "      <th>78</th>\n",
       "      <td>UnhandledAlertException</td>\n",
       "      <td>This expectation occurs when there is an alert...</td>\n",
       "    </tr>\n",
       "    <tr>\n",
       "      <th>79</th>\n",
       "      <td>UnexpectedAlertPresentException</td>\n",
       "      <td>It occurs when there is the appearance of an u...</td>\n",
       "    </tr>\n",
       "    <tr>\n",
       "      <th>80</th>\n",
       "      <td>UnknownMethodException</td>\n",
       "      <td>This Exception happens when the requested comm...</td>\n",
       "    </tr>\n",
       "    <tr>\n",
       "      <th>81</th>\n",
       "      <td>UnreachableBrowserException</td>\n",
       "      <td>This Exception occurs only when the browser is...</td>\n",
       "    </tr>\n",
       "    <tr>\n",
       "      <th>82</th>\n",
       "      <td>UnsupportedCommandException</td>\n",
       "      <td>This occurs when remote WebDriver does n't sen...</td>\n",
       "    </tr>\n",
       "  </tbody>\n",
       "</table>\n",
       "<p>83 rows × 2 columns</p>\n",
       "</div>"
      ],
      "text/plain": [
       "                     Exception_Name  \\\n",
       "0        ElementNotVisibleException   \n",
       "1     ElementNotSelectableException   \n",
       "2            NoSuchElementException   \n",
       "3              NoSuchFrameException   \n",
       "4           NoAlertPresentException   \n",
       "..                              ...   \n",
       "78          UnhandledAlertException   \n",
       "79  UnexpectedAlertPresentException   \n",
       "80           UnknownMethodException   \n",
       "81      UnreachableBrowserException   \n",
       "82      UnsupportedCommandException   \n",
       "\n",
       "                                          Description  \n",
       "0   This type of Selenium exception occurs when an...  \n",
       "1   This Selenium exception occurs when an element...  \n",
       "2   This Exception occurs if an element could not ...  \n",
       "3   This Exception occurs if the frame target to b...  \n",
       "4   This Exception occurs when you switch to no pr...  \n",
       "..                                                ...  \n",
       "78  This expectation occurs when there is an alert...  \n",
       "79  It occurs when there is the appearance of an u...  \n",
       "80  This Exception happens when the requested comm...  \n",
       "81  This Exception occurs only when the browser is...  \n",
       "82  This occurs when remote WebDriver does n't sen...  \n",
       "\n",
       "[83 rows x 2 columns]"
      ]
     },
     "execution_count": 11,
     "metadata": {},
     "output_type": "execute_result"
    }
   ],
   "source": [
    "import pandas as pd\n",
    "Exceptions=pd.DataFrame({})\n",
    "Exceptions['Exception_Name'] = Exception_Name[1:]\n",
    "Exceptions['Description'] =Description[1:]\n",
    "Exceptions"
   ]
  },
  {
   "cell_type": "markdown",
   "metadata": {},
   "source": [
    "# QUESTION NO-4"
   ]
  },
  {
   "cell_type": "code",
   "execution_count": 82,
   "metadata": {},
   "outputs": [],
   "source": [
    "# Opening the url\n",
    "url=' http://statisticstimes.com/ '"
   ]
  },
  {
   "cell_type": "code",
   "execution_count": 83,
   "metadata": {},
   "outputs": [],
   "source": [
    "driver.get(url)"
   ]
  },
  {
   "cell_type": "code",
   "execution_count": 84,
   "metadata": {},
   "outputs": [],
   "source": [
    "# clicking on economy and then on India from there\n",
    "economy=driver.find_element_by_xpath(\"//div[@class='navbar']/div[2]/div/a[3]\")\n",
    "driver.get(economy.get_attribute('href'))"
   ]
  },
  {
   "cell_type": "code",
   "execution_count": 85,
   "metadata": {},
   "outputs": [],
   "source": [
    "#clicking on GDP of Indian states \n",
    "Indian_states=driver.find_element_by_xpath(\"//div[@style='float:left;background-color:seashell;width:400px;height:800px;']/ul/li[1]/a\")\n",
    "driver.get(Indian_states.get_attribute('href'))"
   ]
  },
  {
   "cell_type": "code",
   "execution_count": 86,
   "metadata": {},
   "outputs": [],
   "source": [
    "#creating empty lists\n",
    "Rank=[]\n",
    "State=[]\n",
    "GSDP_19_20=[]\n",
    "GSDP_18_19=[]\n",
    "Share=[]\n",
    "GDP=[]"
   ]
  },
  {
   "cell_type": "code",
   "execution_count": 87,
   "metadata": {},
   "outputs": [],
   "source": [
    "rank = driver.find_elements_by_xpath('//table[@id=\"table_id\"]/tbody/tr/td[1]')"
   ]
  },
  {
   "cell_type": "code",
   "execution_count": 88,
   "metadata": {},
   "outputs": [],
   "source": [
    "for i in rank:\n",
    "    Rank.append(i.text)"
   ]
  },
  {
   "cell_type": "code",
   "execution_count": 89,
   "metadata": {},
   "outputs": [
    {
     "data": {
      "text/plain": [
       "['1', '2', '3']"
      ]
     },
     "execution_count": 89,
     "metadata": {},
     "output_type": "execute_result"
    }
   ],
   "source": [
    "Rank[0:3]"
   ]
  },
  {
   "cell_type": "code",
   "execution_count": 90,
   "metadata": {},
   "outputs": [],
   "source": [
    "state = driver.find_elements_by_xpath('//table[@id=\"table_id\"]/tbody/tr/td[2]')"
   ]
  },
  {
   "cell_type": "code",
   "execution_count": 91,
   "metadata": {},
   "outputs": [],
   "source": [
    "for i in state:\n",
    "    State.append(i.text)"
   ]
  },
  {
   "cell_type": "code",
   "execution_count": 92,
   "metadata": {},
   "outputs": [
    {
     "data": {
      "text/plain": [
       "['Maharashtra', 'Uttar Pradesh', 'Tamil Nadu']"
      ]
     },
     "execution_count": 92,
     "metadata": {},
     "output_type": "execute_result"
    }
   ],
   "source": [
    "State[0:3]"
   ]
  },
  {
   "cell_type": "code",
   "execution_count": 93,
   "metadata": {},
   "outputs": [],
   "source": [
    "gdsp_19_20 = driver.find_elements_by_xpath('//table[@id=\"table_id\"]/tbody/tr/td[3]')"
   ]
  },
  {
   "cell_type": "code",
   "execution_count": 94,
   "metadata": {},
   "outputs": [],
   "source": [
    "for i in gdsp_19_20:\n",
    "    GSDP_19_20.append(i.text)"
   ]
  },
  {
   "cell_type": "code",
   "execution_count": 95,
   "metadata": {},
   "outputs": [
    {
     "data": {
      "text/plain": [
       "['-', '1,794,508', '1,845,853']"
      ]
     },
     "execution_count": 95,
     "metadata": {},
     "output_type": "execute_result"
    }
   ],
   "source": [
    " GSDP_19_20[0:3]"
   ]
  },
  {
   "cell_type": "code",
   "execution_count": 96,
   "metadata": {},
   "outputs": [],
   "source": [
    "gdsp_18_19 = driver.find_elements_by_xpath('//table[@id=\"table_id\"]/tbody/tr/td[4]')"
   ]
  },
  {
   "cell_type": "code",
   "execution_count": 97,
   "metadata": {},
   "outputs": [],
   "source": [
    "for i in gdsp_18_19:\n",
    "    GSDP_18_19.append(i.text)"
   ]
  },
  {
   "cell_type": "code",
   "execution_count": 98,
   "metadata": {},
   "outputs": [
    {
     "data": {
      "text/plain": [
       "['2,632,792', '1,668,229', '1,630,208']"
      ]
     },
     "execution_count": 98,
     "metadata": {},
     "output_type": "execute_result"
    }
   ],
   "source": [
    "GSDP_18_19[0:3]"
   ]
  },
  {
   "cell_type": "code",
   "execution_count": 99,
   "metadata": {},
   "outputs": [],
   "source": [
    "share = driver.find_elements_by_xpath('//table[@id=\"table_id\"]/tbody/tr/td[5]')"
   ]
  },
  {
   "cell_type": "code",
   "execution_count": 100,
   "metadata": {},
   "outputs": [],
   "source": [
    "for i in share:\n",
    "    Share.append(i.text)"
   ]
  },
  {
   "cell_type": "code",
   "execution_count": 101,
   "metadata": {},
   "outputs": [
    {
     "data": {
      "text/plain": [
       "['13.88%', '8.79%', '8.59%']"
      ]
     },
     "execution_count": 101,
     "metadata": {},
     "output_type": "execute_result"
    }
   ],
   "source": [
    "Share[0:3]"
   ]
  },
  {
   "cell_type": "code",
   "execution_count": 102,
   "metadata": {},
   "outputs": [],
   "source": [
    "gdp = driver.find_elements_by_xpath('//table[@id=\"table_id\"]/tbody/tr/td[6]')"
   ]
  },
  {
   "cell_type": "code",
   "execution_count": 103,
   "metadata": {},
   "outputs": [],
   "source": [
    "for i in gdp:\n",
    "    GDP.append(i.text)"
   ]
  },
  {
   "cell_type": "code",
   "execution_count": 104,
   "metadata": {},
   "outputs": [
    {
     "data": {
      "text/plain": [
       "['398.145', '252.278', '246.529']"
      ]
     },
     "execution_count": 104,
     "metadata": {},
     "output_type": "execute_result"
    }
   ],
   "source": [
    "GDP[0:3]"
   ]
  },
  {
   "cell_type": "code",
   "execution_count": 105,
   "metadata": {},
   "outputs": [
    {
     "data": {
      "text/plain": [
       "(33, 33, 33, 33, 33, 33)"
      ]
     },
     "execution_count": 105,
     "metadata": {},
     "output_type": "execute_result"
    }
   ],
   "source": [
    "len(GDP),len(Share),len(GSDP_18_19),len(GSDP_19_20),len(State),len(Rank)"
   ]
  },
  {
   "cell_type": "code",
   "execution_count": 106,
   "metadata": {},
   "outputs": [
    {
     "data": {
      "text/html": [
       "<div>\n",
       "<style scoped>\n",
       "    .dataframe tbody tr th:only-of-type {\n",
       "        vertical-align: middle;\n",
       "    }\n",
       "\n",
       "    .dataframe tbody tr th {\n",
       "        vertical-align: top;\n",
       "    }\n",
       "\n",
       "    .dataframe thead th {\n",
       "        text-align: right;\n",
       "    }\n",
       "</style>\n",
       "<table border=\"1\" class=\"dataframe\">\n",
       "  <thead>\n",
       "    <tr style=\"text-align: right;\">\n",
       "      <th></th>\n",
       "      <th>Rank</th>\n",
       "      <th>State</th>\n",
       "      <th>GSDP_19_20</th>\n",
       "      <th>GSDP_18_19</th>\n",
       "      <th>Share</th>\n",
       "      <th>GDP</th>\n",
       "    </tr>\n",
       "  </thead>\n",
       "  <tbody>\n",
       "    <tr>\n",
       "      <th>0</th>\n",
       "      <td>1</td>\n",
       "      <td>Maharashtra</td>\n",
       "      <td>-</td>\n",
       "      <td>2,632,792</td>\n",
       "      <td>13.88%</td>\n",
       "      <td>398.145</td>\n",
       "    </tr>\n",
       "    <tr>\n",
       "      <th>1</th>\n",
       "      <td>2</td>\n",
       "      <td>Uttar Pradesh</td>\n",
       "      <td>1,794,508</td>\n",
       "      <td>1,668,229</td>\n",
       "      <td>8.79%</td>\n",
       "      <td>252.278</td>\n",
       "    </tr>\n",
       "    <tr>\n",
       "      <th>2</th>\n",
       "      <td>3</td>\n",
       "      <td>Tamil Nadu</td>\n",
       "      <td>1,845,853</td>\n",
       "      <td>1,630,208</td>\n",
       "      <td>8.59%</td>\n",
       "      <td>246.529</td>\n",
       "    </tr>\n",
       "    <tr>\n",
       "      <th>3</th>\n",
       "      <td>4</td>\n",
       "      <td>Karnataka</td>\n",
       "      <td>1,699,115</td>\n",
       "      <td>1,544,399</td>\n",
       "      <td>8.14%</td>\n",
       "      <td>233.552</td>\n",
       "    </tr>\n",
       "    <tr>\n",
       "      <th>4</th>\n",
       "      <td>5</td>\n",
       "      <td>Gujarat</td>\n",
       "      <td>-</td>\n",
       "      <td>1,502,899</td>\n",
       "      <td>7.92%</td>\n",
       "      <td>227.276</td>\n",
       "    </tr>\n",
       "    <tr>\n",
       "      <th>5</th>\n",
       "      <td>6</td>\n",
       "      <td>West Bengal</td>\n",
       "      <td>1,253,832</td>\n",
       "      <td>1,089,898</td>\n",
       "      <td>5.75%</td>\n",
       "      <td>164.820</td>\n",
       "    </tr>\n",
       "    <tr>\n",
       "      <th>6</th>\n",
       "      <td>7</td>\n",
       "      <td>Rajasthan</td>\n",
       "      <td>1,020,989</td>\n",
       "      <td>942,586</td>\n",
       "      <td>4.97%</td>\n",
       "      <td>142.543</td>\n",
       "    </tr>\n",
       "    <tr>\n",
       "      <th>7</th>\n",
       "      <td>8</td>\n",
       "      <td>Andhra Pradesh</td>\n",
       "      <td>972,782</td>\n",
       "      <td>862,957</td>\n",
       "      <td>4.55%</td>\n",
       "      <td>130.501</td>\n",
       "    </tr>\n",
       "    <tr>\n",
       "      <th>8</th>\n",
       "      <td>9</td>\n",
       "      <td>Telangana</td>\n",
       "      <td>969,604</td>\n",
       "      <td>861,031</td>\n",
       "      <td>4.54%</td>\n",
       "      <td>130.210</td>\n",
       "    </tr>\n",
       "    <tr>\n",
       "      <th>9</th>\n",
       "      <td>10</td>\n",
       "      <td>Madhya Pradesh</td>\n",
       "      <td>906,672</td>\n",
       "      <td>809,592</td>\n",
       "      <td>4.27%</td>\n",
       "      <td>122.431</td>\n",
       "    </tr>\n",
       "    <tr>\n",
       "      <th>10</th>\n",
       "      <td>11</td>\n",
       "      <td>Kerala</td>\n",
       "      <td>-</td>\n",
       "      <td>781,653</td>\n",
       "      <td>4.12%</td>\n",
       "      <td>118.206</td>\n",
       "    </tr>\n",
       "    <tr>\n",
       "      <th>11</th>\n",
       "      <td>12</td>\n",
       "      <td>Delhi</td>\n",
       "      <td>856,112</td>\n",
       "      <td>774,870</td>\n",
       "      <td>4.08%</td>\n",
       "      <td>117.180</td>\n",
       "    </tr>\n",
       "    <tr>\n",
       "      <th>12</th>\n",
       "      <td>13</td>\n",
       "      <td>Haryana</td>\n",
       "      <td>831,610</td>\n",
       "      <td>734,163</td>\n",
       "      <td>3.87%</td>\n",
       "      <td>111.024</td>\n",
       "    </tr>\n",
       "    <tr>\n",
       "      <th>13</th>\n",
       "      <td>14</td>\n",
       "      <td>Bihar</td>\n",
       "      <td>611,804</td>\n",
       "      <td>530,363</td>\n",
       "      <td>2.80%</td>\n",
       "      <td>80.204</td>\n",
       "    </tr>\n",
       "    <tr>\n",
       "      <th>14</th>\n",
       "      <td>15</td>\n",
       "      <td>Punjab</td>\n",
       "      <td>574,760</td>\n",
       "      <td>526,376</td>\n",
       "      <td>2.77%</td>\n",
       "      <td>79.601</td>\n",
       "    </tr>\n",
       "    <tr>\n",
       "      <th>15</th>\n",
       "      <td>16</td>\n",
       "      <td>Odisha</td>\n",
       "      <td>531,374</td>\n",
       "      <td>492,229</td>\n",
       "      <td>2.59%</td>\n",
       "      <td>74.437</td>\n",
       "    </tr>\n",
       "    <tr>\n",
       "      <th>16</th>\n",
       "      <td>17</td>\n",
       "      <td>Assam</td>\n",
       "      <td>-</td>\n",
       "      <td>315,881</td>\n",
       "      <td>1.67%</td>\n",
       "      <td>47.769</td>\n",
       "    </tr>\n",
       "    <tr>\n",
       "      <th>17</th>\n",
       "      <td>18</td>\n",
       "      <td>Chhattisgarh</td>\n",
       "      <td>329,180</td>\n",
       "      <td>304,063</td>\n",
       "      <td>1.60%</td>\n",
       "      <td>45.982</td>\n",
       "    </tr>\n",
       "    <tr>\n",
       "      <th>18</th>\n",
       "      <td>19</td>\n",
       "      <td>Jharkhand</td>\n",
       "      <td>328,598</td>\n",
       "      <td>297,204</td>\n",
       "      <td>1.57%</td>\n",
       "      <td>44.945</td>\n",
       "    </tr>\n",
       "    <tr>\n",
       "      <th>19</th>\n",
       "      <td>20</td>\n",
       "      <td>Uttarakhand</td>\n",
       "      <td>-</td>\n",
       "      <td>245,895</td>\n",
       "      <td>1.30%</td>\n",
       "      <td>37.186</td>\n",
       "    </tr>\n",
       "    <tr>\n",
       "      <th>20</th>\n",
       "      <td>21</td>\n",
       "      <td>Jammu &amp; Kashmir</td>\n",
       "      <td>-</td>\n",
       "      <td>155,956</td>\n",
       "      <td>0.82%</td>\n",
       "      <td>23.584</td>\n",
       "    </tr>\n",
       "    <tr>\n",
       "      <th>21</th>\n",
       "      <td>22</td>\n",
       "      <td>Himachal Pradesh</td>\n",
       "      <td>165,472</td>\n",
       "      <td>153,845</td>\n",
       "      <td>0.81%</td>\n",
       "      <td>23.265</td>\n",
       "    </tr>\n",
       "    <tr>\n",
       "      <th>22</th>\n",
       "      <td>23</td>\n",
       "      <td>Goa</td>\n",
       "      <td>-</td>\n",
       "      <td>73,170</td>\n",
       "      <td>0.39%</td>\n",
       "      <td>11.065</td>\n",
       "    </tr>\n",
       "    <tr>\n",
       "      <th>23</th>\n",
       "      <td>24</td>\n",
       "      <td>Tripura</td>\n",
       "      <td>55,358</td>\n",
       "      <td>49,845</td>\n",
       "      <td>0.26%</td>\n",
       "      <td>7.538</td>\n",
       "    </tr>\n",
       "    <tr>\n",
       "      <th>24</th>\n",
       "      <td>25</td>\n",
       "      <td>Chandigarh</td>\n",
       "      <td>-</td>\n",
       "      <td>42,114</td>\n",
       "      <td>0.22%</td>\n",
       "      <td>6.369</td>\n",
       "    </tr>\n",
       "    <tr>\n",
       "      <th>25</th>\n",
       "      <td>26</td>\n",
       "      <td>Puducherry</td>\n",
       "      <td>40,802</td>\n",
       "      <td>36,656</td>\n",
       "      <td>0.19%</td>\n",
       "      <td>5.543</td>\n",
       "    </tr>\n",
       "    <tr>\n",
       "      <th>26</th>\n",
       "      <td>27</td>\n",
       "      <td>Meghalaya</td>\n",
       "      <td>36,572</td>\n",
       "      <td>33,481</td>\n",
       "      <td>0.18%</td>\n",
       "      <td>5.063</td>\n",
       "    </tr>\n",
       "    <tr>\n",
       "      <th>27</th>\n",
       "      <td>28</td>\n",
       "      <td>Sikkim</td>\n",
       "      <td>32,496</td>\n",
       "      <td>28,723</td>\n",
       "      <td>0.15%</td>\n",
       "      <td>4.344</td>\n",
       "    </tr>\n",
       "    <tr>\n",
       "      <th>28</th>\n",
       "      <td>29</td>\n",
       "      <td>Manipur</td>\n",
       "      <td>-</td>\n",
       "      <td>27,869</td>\n",
       "      <td>0.15%</td>\n",
       "      <td>4.214</td>\n",
       "    </tr>\n",
       "    <tr>\n",
       "      <th>29</th>\n",
       "      <td>30</td>\n",
       "      <td>Nagaland</td>\n",
       "      <td>-</td>\n",
       "      <td>27,283</td>\n",
       "      <td>0.14%</td>\n",
       "      <td>4.126</td>\n",
       "    </tr>\n",
       "    <tr>\n",
       "      <th>30</th>\n",
       "      <td>31</td>\n",
       "      <td>Arunachal Pradesh</td>\n",
       "      <td>-</td>\n",
       "      <td>24,603</td>\n",
       "      <td>0.13%</td>\n",
       "      <td>3.721</td>\n",
       "    </tr>\n",
       "    <tr>\n",
       "      <th>31</th>\n",
       "      <td>32</td>\n",
       "      <td>Mizoram</td>\n",
       "      <td>-</td>\n",
       "      <td>19,520</td>\n",
       "      <td>0.10%</td>\n",
       "      <td>2.952</td>\n",
       "    </tr>\n",
       "    <tr>\n",
       "      <th>32</th>\n",
       "      <td>33</td>\n",
       "      <td>Andaman &amp; Nicobar Islands</td>\n",
       "      <td>-</td>\n",
       "      <td>-</td>\n",
       "      <td>-</td>\n",
       "      <td>-</td>\n",
       "    </tr>\n",
       "  </tbody>\n",
       "</table>\n",
       "</div>"
      ],
      "text/plain": [
       "   Rank                      State GSDP_19_20 GSDP_18_19   Share      GDP\n",
       "0     1                Maharashtra          -  2,632,792  13.88%  398.145\n",
       "1     2              Uttar Pradesh  1,794,508  1,668,229   8.79%  252.278\n",
       "2     3                 Tamil Nadu  1,845,853  1,630,208   8.59%  246.529\n",
       "3     4                  Karnataka  1,699,115  1,544,399   8.14%  233.552\n",
       "4     5                    Gujarat          -  1,502,899   7.92%  227.276\n",
       "5     6                West Bengal  1,253,832  1,089,898   5.75%  164.820\n",
       "6     7                  Rajasthan  1,020,989    942,586   4.97%  142.543\n",
       "7     8             Andhra Pradesh    972,782    862,957   4.55%  130.501\n",
       "8     9                  Telangana    969,604    861,031   4.54%  130.210\n",
       "9    10             Madhya Pradesh    906,672    809,592   4.27%  122.431\n",
       "10   11                     Kerala          -    781,653   4.12%  118.206\n",
       "11   12                      Delhi    856,112    774,870   4.08%  117.180\n",
       "12   13                    Haryana    831,610    734,163   3.87%  111.024\n",
       "13   14                      Bihar    611,804    530,363   2.80%   80.204\n",
       "14   15                     Punjab    574,760    526,376   2.77%   79.601\n",
       "15   16                     Odisha    531,374    492,229   2.59%   74.437\n",
       "16   17                      Assam          -    315,881   1.67%   47.769\n",
       "17   18               Chhattisgarh    329,180    304,063   1.60%   45.982\n",
       "18   19                  Jharkhand    328,598    297,204   1.57%   44.945\n",
       "19   20                Uttarakhand          -    245,895   1.30%   37.186\n",
       "20   21            Jammu & Kashmir          -    155,956   0.82%   23.584\n",
       "21   22           Himachal Pradesh    165,472    153,845   0.81%   23.265\n",
       "22   23                        Goa          -     73,170   0.39%   11.065\n",
       "23   24                    Tripura     55,358     49,845   0.26%    7.538\n",
       "24   25                 Chandigarh          -     42,114   0.22%    6.369\n",
       "25   26                 Puducherry     40,802     36,656   0.19%    5.543\n",
       "26   27                  Meghalaya     36,572     33,481   0.18%    5.063\n",
       "27   28                     Sikkim     32,496     28,723   0.15%    4.344\n",
       "28   29                    Manipur          -     27,869   0.15%    4.214\n",
       "29   30                   Nagaland          -     27,283   0.14%    4.126\n",
       "30   31          Arunachal Pradesh          -     24,603   0.13%    3.721\n",
       "31   32                    Mizoram          -     19,520   0.10%    2.952\n",
       "32   33  Andaman & Nicobar Islands          -          -       -        -"
      ]
     },
     "execution_count": 106,
     "metadata": {},
     "output_type": "execute_result"
    }
   ],
   "source": [
    "# Creating DataFrame.\n",
    "Economy=pd.DataFrame({})\n",
    "Economy['Rank'] = Rank[:33]\n",
    "Economy['State'] = State[:33]\n",
    "Economy['GSDP_19_20'] = GSDP_19_20[:33]\n",
    "Economy['GSDP_18_19'] = GSDP_18_19[:33]\n",
    "Economy['Share'] = Share[:33]\n",
    "Economy['GDP'] = GDP[:33]\n",
    "Economy"
   ]
  },
  {
   "cell_type": "markdown",
   "metadata": {},
   "source": [
    "# QUESTION NO-5"
   ]
  },
  {
   "cell_type": "code",
   "execution_count": 108,
   "metadata": {},
   "outputs": [],
   "source": [
    "# Opening the url\n",
    "url='https://github.com/'"
   ]
  },
  {
   "cell_type": "code",
   "execution_count": 109,
   "metadata": {},
   "outputs": [],
   "source": [
    "driver.get(url)"
   ]
  },
  {
   "cell_type": "code",
   "execution_count": 110,
   "metadata": {},
   "outputs": [],
   "source": [
    "#clicking on the trending option through explore option\n",
    "trending=driver.find_element_by_xpath(\"//ul[@class='list-style-none mb-3']/li[3]/a\")\n",
    "driver.get(trending.get_attribute('href'))"
   ]
  },
  {
   "cell_type": "code",
   "execution_count": 111,
   "metadata": {},
   "outputs": [],
   "source": [
    "# creating empty lists for scraping data\n",
    "Repository_title=[]\n",
    "Repository_description=[] \n",
    "Contributors_count=[] \n",
    "Language_used=[]"
   ]
  },
  {
   "cell_type": "code",
   "execution_count": 112,
   "metadata": {},
   "outputs": [],
   "source": [
    "title = driver.find_elements_by_xpath('//h1[@class=\"h3 lh-condensed\"]')\n",
    "for i in title:\n",
    "    Repository_title.append(i.text)"
   ]
  },
  {
   "cell_type": "code",
   "execution_count": 113,
   "metadata": {},
   "outputs": [
    {
     "data": {
      "text/plain": [
       "['Melvin-Abraham / Google-Assistant-Unofficial-Desktop-Client',\n",
       " 'benawad / dogehouse',\n",
       " 'flameshot-org / flameshot',\n",
       " 'ratfactor / ziglings',\n",
       " 'adityatelange / hugo-PaperMod']"
      ]
     },
     "execution_count": 113,
     "metadata": {},
     "output_type": "execute_result"
    }
   ],
   "source": [
    "Repository_title[0:5]"
   ]
  },
  {
   "cell_type": "code",
   "execution_count": 120,
   "metadata": {},
   "outputs": [],
   "source": [
    "des = driver.find_elements_by_xpath('//p[@class=\"col-9 text-gray my-1 pr-4\"]')\n",
    "for i in des:\n",
    "    Repository_description.append(i.text)"
   ]
  },
  {
   "cell_type": "code",
   "execution_count": 115,
   "metadata": {},
   "outputs": [
    {
     "data": {
      "text/plain": [
       "['A cross-platform unofficial Google Assistant Client for Desktop (powered by Google Assistant SDK)',\n",
       " 'The home for voice conversations.',\n",
       " 'Powerful yet simple to use screenshot software 🖥️ 📸',\n",
       " 'Learn the Zig programming language by fixing tiny broken programs.',\n",
       " 'A fast, clean, responsive Hugo theme']"
      ]
     },
     "execution_count": 115,
     "metadata": {},
     "output_type": "execute_result"
    }
   ],
   "source": [
    "Repository_description[0:5]"
   ]
  },
  {
   "cell_type": "code",
   "execution_count": 116,
   "metadata": {},
   "outputs": [],
   "source": [
    "lan = driver.find_elements_by_xpath('//span[@class=\"d-inline-block ml-0 mr-3\"]/span[2]')\n",
    "for i in lan:\n",
    "    \n",
    "    try:\n",
    "        Language_used.append(i.text)\n",
    "        \n",
    "    except NoSuchElementException :\n",
    "        \n",
    "        Language_used.append(\"---\")"
   ]
  },
  {
   "cell_type": "code",
   "execution_count": 117,
   "metadata": {},
   "outputs": [
    {
     "data": {
      "text/plain": [
       "['JavaScript', 'TypeScript', 'C++', 'Zig', 'HTML']"
      ]
     },
     "execution_count": 117,
     "metadata": {},
     "output_type": "execute_result"
    }
   ],
   "source": [
    "Language_used[0:5]"
   ]
  },
  {
   "cell_type": "code",
   "execution_count": 121,
   "metadata": {},
   "outputs": [],
   "source": [
    "contributor = driver.find_elements_by_xpath('/html/body/div[4]/main/div[3]/div/div[2]/article/div[2]/a[2]')"
   ]
  },
  {
   "cell_type": "code",
   "execution_count": 122,
   "metadata": {},
   "outputs": [],
   "source": [
    "for i in contributor:\n",
    "    Contributors_count.append(i.text)"
   ]
  },
  {
   "cell_type": "code",
   "execution_count": 123,
   "metadata": {},
   "outputs": [
    {
     "data": {
      "text/plain": [
       "['53', '119', '599', '20', '245']"
      ]
     },
     "execution_count": 123,
     "metadata": {},
     "output_type": "execute_result"
    }
   ],
   "source": [
    "Contributors_count[0:5]"
   ]
  },
  {
   "cell_type": "code",
   "execution_count": 124,
   "metadata": {},
   "outputs": [
    {
     "data": {
      "text/plain": [
       "(25, 50, 25, 23)"
      ]
     },
     "execution_count": 124,
     "metadata": {},
     "output_type": "execute_result"
    }
   ],
   "source": [
    "len(Repository_title),len(Repository_description),len(Contributors_count),len(Language_used)"
   ]
  },
  {
   "cell_type": "code",
   "execution_count": 125,
   "metadata": {},
   "outputs": [
    {
     "data": {
      "text/html": [
       "<div>\n",
       "<style scoped>\n",
       "    .dataframe tbody tr th:only-of-type {\n",
       "        vertical-align: middle;\n",
       "    }\n",
       "\n",
       "    .dataframe tbody tr th {\n",
       "        vertical-align: top;\n",
       "    }\n",
       "\n",
       "    .dataframe thead th {\n",
       "        text-align: right;\n",
       "    }\n",
       "</style>\n",
       "<table border=\"1\" class=\"dataframe\">\n",
       "  <thead>\n",
       "    <tr style=\"text-align: right;\">\n",
       "      <th></th>\n",
       "      <th>Repository_title</th>\n",
       "      <th>Repository_description</th>\n",
       "      <th>Contributors_count</th>\n",
       "      <th>Language_used</th>\n",
       "    </tr>\n",
       "  </thead>\n",
       "  <tbody>\n",
       "    <tr>\n",
       "      <th>0</th>\n",
       "      <td>Melvin-Abraham / Google-Assistant-Unofficial-D...</td>\n",
       "      <td>A cross-platform unofficial Google Assistant C...</td>\n",
       "      <td>53</td>\n",
       "      <td>JavaScript</td>\n",
       "    </tr>\n",
       "    <tr>\n",
       "      <th>1</th>\n",
       "      <td>benawad / dogehouse</td>\n",
       "      <td>The home for voice conversations.</td>\n",
       "      <td>119</td>\n",
       "      <td>TypeScript</td>\n",
       "    </tr>\n",
       "    <tr>\n",
       "      <th>2</th>\n",
       "      <td>flameshot-org / flameshot</td>\n",
       "      <td>Powerful yet simple to use screenshot software...</td>\n",
       "      <td>599</td>\n",
       "      <td>C++</td>\n",
       "    </tr>\n",
       "    <tr>\n",
       "      <th>3</th>\n",
       "      <td>ratfactor / ziglings</td>\n",
       "      <td>Learn the Zig programming language by fixing t...</td>\n",
       "      <td>20</td>\n",
       "      <td>Zig</td>\n",
       "    </tr>\n",
       "    <tr>\n",
       "      <th>4</th>\n",
       "      <td>adityatelange / hugo-PaperMod</td>\n",
       "      <td>A fast, clean, responsive Hugo theme</td>\n",
       "      <td>245</td>\n",
       "      <td>HTML</td>\n",
       "    </tr>\n",
       "    <tr>\n",
       "      <th>5</th>\n",
       "      <td>libsdl-org / SDL</td>\n",
       "      <td>Simple Directmedia Layer</td>\n",
       "      <td>31</td>\n",
       "      <td>C</td>\n",
       "    </tr>\n",
       "    <tr>\n",
       "      <th>6</th>\n",
       "      <td>satwikkansal / wtfpython</td>\n",
       "      <td>What the f*ck Python? 😱</td>\n",
       "      <td>2,133</td>\n",
       "      <td>Python</td>\n",
       "    </tr>\n",
       "    <tr>\n",
       "      <th>7</th>\n",
       "      <td>mbround18 / valheim-docker</td>\n",
       "      <td>Valheim Docker server with Odin the CLI tool.</td>\n",
       "      <td>19</td>\n",
       "      <td>Rust</td>\n",
       "    </tr>\n",
       "    <tr>\n",
       "      <th>8</th>\n",
       "      <td>deepmind / deepmind-research</td>\n",
       "      <td>This repository contains implementations and i...</td>\n",
       "      <td>1,001</td>\n",
       "      <td>Jupyter Notebook</td>\n",
       "    </tr>\n",
       "    <tr>\n",
       "      <th>9</th>\n",
       "      <td>TheAlgorithms / Java</td>\n",
       "      <td>All Algorithms implemented in Java</td>\n",
       "      <td>11,910</td>\n",
       "      <td>Java</td>\n",
       "    </tr>\n",
       "    <tr>\n",
       "      <th>10</th>\n",
       "      <td>trekhleb / javascript-algorithms</td>\n",
       "      <td>📝 Algorithms and data structures implemented i...</td>\n",
       "      <td>16,106</td>\n",
       "      <td>JavaScript</td>\n",
       "    </tr>\n",
       "    <tr>\n",
       "      <th>11</th>\n",
       "      <td>skerkour / bloom</td>\n",
       "      <td>The simplest way to de-Google your life and bu...</td>\n",
       "      <td>11</td>\n",
       "      <td>Rust</td>\n",
       "    </tr>\n",
       "    <tr>\n",
       "      <th>12</th>\n",
       "      <td>serhii-londar / open-source-mac-os-apps</td>\n",
       "      <td>🚀 Awesome list of open source applications for...</td>\n",
       "      <td>1,657</td>\n",
       "      <td>Swift</td>\n",
       "    </tr>\n",
       "    <tr>\n",
       "      <th>13</th>\n",
       "      <td>PojavLauncherTeam / PojavLauncher_iOS</td>\n",
       "      <td>Minecraft: Java Edition launcher for iOS</td>\n",
       "      <td>13</td>\n",
       "      <td>Java</td>\n",
       "    </tr>\n",
       "    <tr>\n",
       "      <th>14</th>\n",
       "      <td>yugedata / Options_Data_Science</td>\n",
       "      <td>Collecting, analyzing, visualizing &amp; paper tra...</td>\n",
       "      <td>35</td>\n",
       "      <td>Python</td>\n",
       "    </tr>\n",
       "    <tr>\n",
       "      <th>15</th>\n",
       "      <td>florisboard / florisboard</td>\n",
       "      <td>An open-source keyboard for Android. Currently...</td>\n",
       "      <td>50</td>\n",
       "      <td>Kotlin</td>\n",
       "    </tr>\n",
       "    <tr>\n",
       "      <th>16</th>\n",
       "      <td>vlang / v</td>\n",
       "      <td>Simple, fast, safe, compiled language for deve...</td>\n",
       "      <td>1,332</td>\n",
       "      <td>V</td>\n",
       "    </tr>\n",
       "    <tr>\n",
       "      <th>17</th>\n",
       "      <td>engindemirog / KampFinalProject</td>\n",
       "      <td>Yazılım Geliştirici Yetiştirme Kampı Büyük Proje</td>\n",
       "      <td>31</td>\n",
       "      <td>C#</td>\n",
       "    </tr>\n",
       "    <tr>\n",
       "      <th>18</th>\n",
       "      <td>yamashi / CyberEngineTweaks</td>\n",
       "      <td>Performance boost, bug fixes and hacks for fun...</td>\n",
       "      <td>162</td>\n",
       "      <td>C</td>\n",
       "    </tr>\n",
       "    <tr>\n",
       "      <th>19</th>\n",
       "      <td>sorrycc / awesome-javascript</td>\n",
       "      <td>🐢 A collection of awesome browser-side JavaScr...</td>\n",
       "      <td>3,304</td>\n",
       "      <td>JavaScript</td>\n",
       "    </tr>\n",
       "    <tr>\n",
       "      <th>20</th>\n",
       "      <td>arslanbilal / git-cheat-sheet</td>\n",
       "      <td>git and git flow cheat sheet</td>\n",
       "      <td>970</td>\n",
       "      <td>JavaScript</td>\n",
       "    </tr>\n",
       "    <tr>\n",
       "      <th>21</th>\n",
       "      <td>freeCodeCamp / freeCodeCamp</td>\n",
       "      <td>freeCodeCamp.org's open source codebase and cu...</td>\n",
       "      <td>25,392</td>\n",
       "      <td>Python</td>\n",
       "    </tr>\n",
       "  </tbody>\n",
       "</table>\n",
       "</div>"
      ],
      "text/plain": [
       "                                     Repository_title  \\\n",
       "0   Melvin-Abraham / Google-Assistant-Unofficial-D...   \n",
       "1                                 benawad / dogehouse   \n",
       "2                           flameshot-org / flameshot   \n",
       "3                                ratfactor / ziglings   \n",
       "4                       adityatelange / hugo-PaperMod   \n",
       "5                                    libsdl-org / SDL   \n",
       "6                            satwikkansal / wtfpython   \n",
       "7                          mbround18 / valheim-docker   \n",
       "8                        deepmind / deepmind-research   \n",
       "9                                TheAlgorithms / Java   \n",
       "10                   trekhleb / javascript-algorithms   \n",
       "11                                   skerkour / bloom   \n",
       "12            serhii-londar / open-source-mac-os-apps   \n",
       "13              PojavLauncherTeam / PojavLauncher_iOS   \n",
       "14                    yugedata / Options_Data_Science   \n",
       "15                          florisboard / florisboard   \n",
       "16                                          vlang / v   \n",
       "17                    engindemirog / KampFinalProject   \n",
       "18                        yamashi / CyberEngineTweaks   \n",
       "19                       sorrycc / awesome-javascript   \n",
       "20                      arslanbilal / git-cheat-sheet   \n",
       "21                        freeCodeCamp / freeCodeCamp   \n",
       "\n",
       "                               Repository_description Contributors_count  \\\n",
       "0   A cross-platform unofficial Google Assistant C...                 53   \n",
       "1                   The home for voice conversations.                119   \n",
       "2   Powerful yet simple to use screenshot software...                599   \n",
       "3   Learn the Zig programming language by fixing t...                 20   \n",
       "4                A fast, clean, responsive Hugo theme                245   \n",
       "5                            Simple Directmedia Layer                 31   \n",
       "6                             What the f*ck Python? 😱              2,133   \n",
       "7       Valheim Docker server with Odin the CLI tool.                 19   \n",
       "8   This repository contains implementations and i...              1,001   \n",
       "9                  All Algorithms implemented in Java             11,910   \n",
       "10  📝 Algorithms and data structures implemented i...             16,106   \n",
       "11  The simplest way to de-Google your life and bu...                 11   \n",
       "12  🚀 Awesome list of open source applications for...              1,657   \n",
       "13           Minecraft: Java Edition launcher for iOS                 13   \n",
       "14  Collecting, analyzing, visualizing & paper tra...                 35   \n",
       "15  An open-source keyboard for Android. Currently...                 50   \n",
       "16  Simple, fast, safe, compiled language for deve...              1,332   \n",
       "17   Yazılım Geliştirici Yetiştirme Kampı Büyük Proje                 31   \n",
       "18  Performance boost, bug fixes and hacks for fun...                162   \n",
       "19  🐢 A collection of awesome browser-side JavaScr...              3,304   \n",
       "20                       git and git flow cheat sheet                970   \n",
       "21  freeCodeCamp.org's open source codebase and cu...             25,392   \n",
       "\n",
       "       Language_used  \n",
       "0         JavaScript  \n",
       "1         TypeScript  \n",
       "2                C++  \n",
       "3                Zig  \n",
       "4               HTML  \n",
       "5                  C  \n",
       "6             Python  \n",
       "7               Rust  \n",
       "8   Jupyter Notebook  \n",
       "9               Java  \n",
       "10        JavaScript  \n",
       "11              Rust  \n",
       "12             Swift  \n",
       "13              Java  \n",
       "14            Python  \n",
       "15            Kotlin  \n",
       "16                 V  \n",
       "17                C#  \n",
       "18                 C  \n",
       "19        JavaScript  \n",
       "20        JavaScript  \n",
       "21            Python  "
      ]
     },
     "execution_count": 125,
     "metadata": {},
     "output_type": "execute_result"
    }
   ],
   "source": [
    "# creating the dataframe from the scraped data\n",
    "import pandas as pd\n",
    "Repositories=pd.DataFrame({})\n",
    "Repositories['Repository_title']=Repository_title[0:22]\n",
    "Repositories['Repository_description']=Repository_description[0:22] \n",
    "Repositories['Contributors_count']=Contributors_count[0:22] \n",
    "Repositories['Language_used']=Language_used[0:22] \n",
    "Repositories"
   ]
  },
  {
   "cell_type": "markdown",
   "metadata": {},
   "source": [
    "# QUESTION NO-6"
   ]
  },
  {
   "cell_type": "code",
   "execution_count": 385,
   "metadata": {},
   "outputs": [],
   "source": [
    "# Configure the webdriver.\n",
    "driver = webdriver.Chrome('/Users/nlohith/Desktop/chromedriver')"
   ]
  },
  {
   "cell_type": "code",
   "execution_count": 409,
   "metadata": {},
   "outputs": [],
   "source": [
    "# Opening the url\n",
    "URL='https://www.billboard.com/'"
   ]
  },
  {
   "cell_type": "code",
   "execution_count": 410,
   "metadata": {},
   "outputs": [],
   "source": [
    "driver.get(URL)"
   ]
  },
  {
   "cell_type": "code",
   "execution_count": 411,
   "metadata": {},
   "outputs": [],
   "source": [
    "#clicking on the hot100 option on homepage\n",
    "top100=driver.find_element_by_xpath(\"//nav[@class='header__subnav bg--light']/ul/li[3]/a\")\n",
    "top100.click()"
   ]
  },
  {
   "cell_type": "code",
   "execution_count": 412,
   "metadata": {},
   "outputs": [],
   "source": [
    "# creating empty lists for scraping data\n",
    "Song_name=[]\n",
    "Artist_name=[] \n",
    "Last_week_rank=[] \n",
    "Peak_rank=[]\n",
    "Weeks_on_board=[]"
   ]
  },
  {
   "cell_type": "code",
   "execution_count": 413,
   "metadata": {},
   "outputs": [],
   "source": [
    "name = driver.find_elements_by_xpath('//span[@class=\"chart-element__information__song text--truncate color--primary\"]')"
   ]
  },
  {
   "cell_type": "code",
   "execution_count": 415,
   "metadata": {},
   "outputs": [],
   "source": [
    "for i in name:\n",
    "    Song_name.append(i.text)"
   ]
  },
  {
   "cell_type": "code",
   "execution_count": 416,
   "metadata": {},
   "outputs": [
    {
     "data": {
      "text/plain": [
       "['Drivers License', 'Mood', 'Blinding Lights', '34+35', 'Levitating']"
      ]
     },
     "execution_count": 416,
     "metadata": {},
     "output_type": "execute_result"
    }
   ],
   "source": [
    "Song_name[0:5]"
   ]
  },
  {
   "cell_type": "code",
   "execution_count": 417,
   "metadata": {},
   "outputs": [],
   "source": [
    "artist = driver.find_elements_by_xpath('//span[@class=\"chart-element__information__artist text--truncate color--secondary\"]')"
   ]
  },
  {
   "cell_type": "code",
   "execution_count": 418,
   "metadata": {},
   "outputs": [],
   "source": [
    "for i in artist:\n",
    "    Artist_name.append(i.text)"
   ]
  },
  {
   "cell_type": "code",
   "execution_count": 419,
   "metadata": {},
   "outputs": [
    {
     "data": {
      "text/plain": [
       "['Olivia Rodrigo',\n",
       " '24kGoldn Featuring iann dior',\n",
       " 'The Weeknd',\n",
       " 'Ariana Grande',\n",
       " 'Dua Lipa Featuring DaBaby']"
      ]
     },
     "execution_count": 419,
     "metadata": {},
     "output_type": "execute_result"
    }
   ],
   "source": [
    "Artist_name[0:5]"
   ]
  },
  {
   "cell_type": "code",
   "execution_count": 420,
   "metadata": {},
   "outputs": [],
   "source": [
    "lastweek = driver.find_elements_by_xpath('//div[@class=\"chart-element__meta text--center color--secondary text--last\"]')"
   ]
  },
  {
   "cell_type": "code",
   "execution_count": 421,
   "metadata": {},
   "outputs": [],
   "source": [
    "for i in lastweek:\n",
    "    Last_week_rank.append(i.text)"
   ]
  },
  {
   "cell_type": "code",
   "execution_count": 422,
   "metadata": {},
   "outputs": [
    {
     "data": {
      "text/plain": [
       "['1', '2', '3', '4', '5']"
      ]
     },
     "execution_count": 422,
     "metadata": {},
     "output_type": "execute_result"
    }
   ],
   "source": [
    "Last_week_rank[0:5]"
   ]
  },
  {
   "cell_type": "code",
   "execution_count": 423,
   "metadata": {},
   "outputs": [],
   "source": [
    "peak = driver.find_elements_by_xpath('//div[@class=\"chart-element__meta text--center color--secondary text--peak\"]')"
   ]
  },
  {
   "cell_type": "code",
   "execution_count": 424,
   "metadata": {},
   "outputs": [],
   "source": [
    "for i in peak:\n",
    "    Peak_rank.append(i.text)"
   ]
  },
  {
   "cell_type": "code",
   "execution_count": 425,
   "metadata": {},
   "outputs": [
    {
     "data": {
      "text/plain": [
       "['1', '1', '1', '2', '5']"
      ]
     },
     "execution_count": 425,
     "metadata": {},
     "output_type": "execute_result"
    }
   ],
   "source": [
    "Peak_rank[0:5]"
   ]
  },
  {
   "cell_type": "code",
   "execution_count": 426,
   "metadata": {},
   "outputs": [],
   "source": [
    "weeks = driver.find_elements_by_xpath('//div[@class=\"chart-element__meta text--center color--secondary text--week\"]')"
   ]
  },
  {
   "cell_type": "code",
   "execution_count": 427,
   "metadata": {},
   "outputs": [],
   "source": [
    "for i in weeks:\n",
    "    Weeks_on_board.append(i.text)"
   ]
  },
  {
   "cell_type": "code",
   "execution_count": 428,
   "metadata": {},
   "outputs": [
    {
     "data": {
      "text/plain": [
       "['4', '26', '61', '14', '18']"
      ]
     },
     "execution_count": 428,
     "metadata": {},
     "output_type": "execute_result"
    }
   ],
   "source": [
    "Weeks_on_board[0:5]"
   ]
  },
  {
   "cell_type": "code",
   "execution_count": 431,
   "metadata": {},
   "outputs": [
    {
     "data": {
      "text/plain": [
       "(100, 100, 100, 100, 100)"
      ]
     },
     "execution_count": 431,
     "metadata": {},
     "output_type": "execute_result"
    }
   ],
   "source": [
    "len(Song_name),len(Artist_name),len(Last_week_rank),len(Peak_rank),len(Weeks_on_board)"
   ]
  },
  {
   "cell_type": "code",
   "execution_count": 432,
   "metadata": {},
   "outputs": [
    {
     "data": {
      "text/html": [
       "<div>\n",
       "<style scoped>\n",
       "    .dataframe tbody tr th:only-of-type {\n",
       "        vertical-align: middle;\n",
       "    }\n",
       "\n",
       "    .dataframe tbody tr th {\n",
       "        vertical-align: top;\n",
       "    }\n",
       "\n",
       "    .dataframe thead th {\n",
       "        text-align: right;\n",
       "    }\n",
       "</style>\n",
       "<table border=\"1\" class=\"dataframe\">\n",
       "  <thead>\n",
       "    <tr style=\"text-align: right;\">\n",
       "      <th></th>\n",
       "      <th>Song_name</th>\n",
       "      <th>Artist_name</th>\n",
       "      <th>Last_week_rank</th>\n",
       "      <th>Peak_rank</th>\n",
       "      <th>Weeks_on_board</th>\n",
       "    </tr>\n",
       "  </thead>\n",
       "  <tbody>\n",
       "    <tr>\n",
       "      <th>0</th>\n",
       "      <td>Drivers License</td>\n",
       "      <td>Olivia Rodrigo</td>\n",
       "      <td>1</td>\n",
       "      <td>1</td>\n",
       "      <td>4</td>\n",
       "    </tr>\n",
       "    <tr>\n",
       "      <th>1</th>\n",
       "      <td>Mood</td>\n",
       "      <td>24kGoldn Featuring iann dior</td>\n",
       "      <td>2</td>\n",
       "      <td>1</td>\n",
       "      <td>26</td>\n",
       "    </tr>\n",
       "    <tr>\n",
       "      <th>2</th>\n",
       "      <td>Blinding Lights</td>\n",
       "      <td>The Weeknd</td>\n",
       "      <td>3</td>\n",
       "      <td>1</td>\n",
       "      <td>61</td>\n",
       "    </tr>\n",
       "    <tr>\n",
       "      <th>3</th>\n",
       "      <td>34+35</td>\n",
       "      <td>Ariana Grande</td>\n",
       "      <td>4</td>\n",
       "      <td>2</td>\n",
       "      <td>14</td>\n",
       "    </tr>\n",
       "    <tr>\n",
       "      <th>4</th>\n",
       "      <td>Levitating</td>\n",
       "      <td>Dua Lipa Featuring DaBaby</td>\n",
       "      <td>5</td>\n",
       "      <td>5</td>\n",
       "      <td>18</td>\n",
       "    </tr>\n",
       "    <tr>\n",
       "      <th>...</th>\n",
       "      <td>...</td>\n",
       "      <td>...</td>\n",
       "      <td>...</td>\n",
       "      <td>...</td>\n",
       "      <td>...</td>\n",
       "    </tr>\n",
       "    <tr>\n",
       "      <th>95</th>\n",
       "      <td>Fake Woke</td>\n",
       "      <td>Tom MacDonald</td>\n",
       "      <td>-</td>\n",
       "      <td>96</td>\n",
       "      <td>1</td>\n",
       "    </tr>\n",
       "    <tr>\n",
       "      <th>96</th>\n",
       "      <td>Prisoner</td>\n",
       "      <td>Miley Cyrus Featuring Dua Lipa</td>\n",
       "      <td>81</td>\n",
       "      <td>54</td>\n",
       "      <td>11</td>\n",
       "    </tr>\n",
       "    <tr>\n",
       "      <th>97</th>\n",
       "      <td>Dangerous</td>\n",
       "      <td>Morgan Wallen</td>\n",
       "      <td>-</td>\n",
       "      <td>62</td>\n",
       "      <td>3</td>\n",
       "    </tr>\n",
       "    <tr>\n",
       "      <th>98</th>\n",
       "      <td>Almost Maybes</td>\n",
       "      <td>Jordan Davis</td>\n",
       "      <td>-</td>\n",
       "      <td>95</td>\n",
       "      <td>2</td>\n",
       "    </tr>\n",
       "    <tr>\n",
       "      <th>99</th>\n",
       "      <td>Mr. Right Now</td>\n",
       "      <td>21 Savage &amp; Metro Boomin Featuring Drake</td>\n",
       "      <td>80</td>\n",
       "      <td>10</td>\n",
       "      <td>18</td>\n",
       "    </tr>\n",
       "  </tbody>\n",
       "</table>\n",
       "<p>100 rows × 5 columns</p>\n",
       "</div>"
      ],
      "text/plain": [
       "          Song_name                               Artist_name Last_week_rank  \\\n",
       "0   Drivers License                            Olivia Rodrigo              1   \n",
       "1              Mood              24kGoldn Featuring iann dior              2   \n",
       "2   Blinding Lights                                The Weeknd              3   \n",
       "3             34+35                             Ariana Grande              4   \n",
       "4        Levitating                 Dua Lipa Featuring DaBaby              5   \n",
       "..              ...                                       ...            ...   \n",
       "95        Fake Woke                             Tom MacDonald              -   \n",
       "96         Prisoner            Miley Cyrus Featuring Dua Lipa             81   \n",
       "97        Dangerous                             Morgan Wallen              -   \n",
       "98    Almost Maybes                              Jordan Davis              -   \n",
       "99    Mr. Right Now  21 Savage & Metro Boomin Featuring Drake             80   \n",
       "\n",
       "   Peak_rank Weeks_on_board  \n",
       "0          1              4  \n",
       "1          1             26  \n",
       "2          1             61  \n",
       "3          2             14  \n",
       "4          5             18  \n",
       "..       ...            ...  \n",
       "95        96              1  \n",
       "96        54             11  \n",
       "97        62              3  \n",
       "98        95              2  \n",
       "99        10             18  \n",
       "\n",
       "[100 rows x 5 columns]"
      ]
     },
     "execution_count": 432,
     "metadata": {},
     "output_type": "execute_result"
    }
   ],
   "source": [
    "# creating the dataframe from the scraped data\n",
    "import pandas as pd\n",
    "TOP100SONGS=pd.DataFrame({})\n",
    "TOP100SONGS['Song_name']=Song_name\n",
    "TOP100SONGS['Artist_name']=Artist_name\n",
    "TOP100SONGS['Last_week_rank']=Last_week_rank\n",
    "TOP100SONGS['Peak_rank']=Peak_rank\n",
    "TOP100SONGS['Weeks_on_board']= Weeks_on_board\n",
    "TOP100SONGS"
   ]
  },
  {
   "cell_type": "markdown",
   "metadata": {},
   "source": [
    "# QUESTION NO-7"
   ]
  },
  {
   "cell_type": "code",
   "execution_count": 263,
   "metadata": {},
   "outputs": [],
   "source": [
    "# Configure the webdriver.\n",
    "driver = webdriver.Chrome('/Users/nlohith/Desktop/chromedriver')"
   ]
  },
  {
   "cell_type": "code",
   "execution_count": 264,
   "metadata": {},
   "outputs": [],
   "source": [
    "URL='https://www.naukri.com/'"
   ]
  },
  {
   "cell_type": "code",
   "execution_count": 265,
   "metadata": {},
   "outputs": [],
   "source": [
    "driver.get(URL)"
   ]
  },
  {
   "cell_type": "code",
   "execution_count": 266,
   "metadata": {},
   "outputs": [],
   "source": [
    "#clciking on the recruiter option on homepage\n",
    "recruiter=driver.find_element_by_xpath(\"//ul[@class='midSec menu']/li[2]/a\")\n",
    "driver.get(recruiter.get_attribute('href'))"
   ]
  },
  {
   "cell_type": "code",
   "execution_count": 267,
   "metadata": {},
   "outputs": [],
   "source": [
    "#Giving/Typing Data Science as key/input in the search bar\n",
    "search_field_designation=driver.find_element_by_xpath(\"//input[@class='sugInp']\")\n",
    "search_field_designation.send_keys(\"Data Science\")"
   ]
  },
  {
   "cell_type": "code",
   "execution_count": 268,
   "metadata": {},
   "outputs": [],
   "source": [
    "#clicking on search button\n",
    "search_button=driver.find_element_by_xpath(\"//button[@class='fl qsbSrch blueBtn']\")\n",
    "search_button.click()"
   ]
  },
  {
   "cell_type": "code",
   "execution_count": 269,
   "metadata": {},
   "outputs": [],
   "source": [
    "# creating empty lists for scraping data\n",
    "Name=[]\n",
    "Designation=[] \n",
    "Company=[] \n",
    "Skills_Required=[] \n",
    "Location=[]"
   ]
  },
  {
   "cell_type": "code",
   "execution_count": 270,
   "metadata": {},
   "outputs": [],
   "source": [
    "name = driver.find_elements_by_xpath('//span[@class=\"fl ellipsis\"]')"
   ]
  },
  {
   "cell_type": "code",
   "execution_count": 271,
   "metadata": {},
   "outputs": [],
   "source": [
    "for i in name:\n",
    "    Name.append(i.text)"
   ]
  },
  {
   "cell_type": "code",
   "execution_count": 272,
   "metadata": {},
   "outputs": [
    {
     "data": {
      "text/plain": [
       "['Aakash Harit',\n",
       " 'shravan Kumar Gaddam',\n",
       " 'Talent Acquisition Executive',\n",
       " 'Anik Agrawal',\n",
       " 'MARSIAN Technologies LLP']"
      ]
     },
     "execution_count": 272,
     "metadata": {},
     "output_type": "execute_result"
    }
   ],
   "source": [
    "Name[0:5]"
   ]
  },
  {
   "cell_type": "code",
   "execution_count": 273,
   "metadata": {},
   "outputs": [],
   "source": [
    "des = driver.find_elements_by_xpath('//span[@class=\"ellipsis clr\"]')"
   ]
  },
  {
   "cell_type": "code",
   "execution_count": 274,
   "metadata": {},
   "outputs": [],
   "source": [
    "for i in des:\n",
    "    Designation.append(i.text)"
   ]
  },
  {
   "cell_type": "code",
   "execution_count": 275,
   "metadata": {},
   "outputs": [
    {
     "data": {
      "text/plain": [
       "['HR Manager',\n",
       " 'Company Recruiter',\n",
       " 'Recruitment Professional',\n",
       " 'Company Recruiter',\n",
       " 'Company HR']"
      ]
     },
     "execution_count": 275,
     "metadata": {},
     "output_type": "execute_result"
    }
   ],
   "source": [
    "Designation[:5]"
   ]
  },
  {
   "cell_type": "code",
   "execution_count": 217,
   "metadata": {},
   "outputs": [],
   "source": [
    "company = driver.find_elements_by_xpath('//p[@class=\"highlightable\"]/a[2]')"
   ]
  },
  {
   "cell_type": "code",
   "execution_count": 218,
   "metadata": {},
   "outputs": [],
   "source": [
    "for i in company:\n",
    "    Company.append(i.text)"
   ]
  },
  {
   "cell_type": "code",
   "execution_count": 219,
   "metadata": {},
   "outputs": [
    {
     "data": {
      "text/plain": [
       "['Data Science Network',\n",
       " 'Shore Infotech India Pvt. Ltd',\n",
       " 'Data Science Network',\n",
       " 'Shore Infotech India Pvt. Ltd',\n",
       " 'Data Science Network']"
      ]
     },
     "execution_count": 219,
     "metadata": {},
     "output_type": "execute_result"
    }
   ],
   "source": [
    "Company[0:5]"
   ]
  },
  {
   "cell_type": "code",
   "execution_count": 220,
   "metadata": {},
   "outputs": [],
   "source": [
    "skills = driver.find_elements_by_xpath('//div[@class=\"hireSec highlightable\"]')"
   ]
  },
  {
   "cell_type": "code",
   "execution_count": 221,
   "metadata": {},
   "outputs": [],
   "source": [
    "for i in skills:\n",
    "    Skills_Required.append(i.text)"
   ]
  },
  {
   "cell_type": "code",
   "execution_count": 222,
   "metadata": {},
   "outputs": [
    {
     "data": {
      "text/plain": [
       "['Classic ASP Developer, Internet Marketing Professional, Data Science SME, Content Writers, SEO Professional, Revenue Professional',\n",
       " '.Net, Java, Data Science, Linux Administration, Sql Server Development, Winforms, Wcf Services, Wpf, Telecom Engineering, Technical Management, Software',\n",
       " 'Web Designing, html5, Angular.js, seo, hadoop, Cloud Computing, python, Iphone Development, java, Machine Learning, aws, analytics, linux, puppet',\n",
       " 'Mean Stack, javascript, angularjs, mongodb, Web Services, rest, express, Node.js, Big Data, iot, Data Science, Cloud Computing, saas, Aws',\n",
       " 'Data Science, Artificial Intelligence, Machine Learning, Business Analytics']"
      ]
     },
     "execution_count": 222,
     "metadata": {},
     "output_type": "execute_result"
    }
   ],
   "source": [
    "Skills_Required[0:5]"
   ]
  },
  {
   "cell_type": "code",
   "execution_count": 223,
   "metadata": {},
   "outputs": [],
   "source": [
    "loc = driver.find_elements_by_xpath('//small[@class=\"ellipsis\"]'.format(i))"
   ]
  },
  {
   "cell_type": "code",
   "execution_count": 224,
   "metadata": {},
   "outputs": [],
   "source": [
    "for i in loc:\n",
    "    Location.append(i.text)"
   ]
  },
  {
   "cell_type": "code",
   "execution_count": 225,
   "metadata": {},
   "outputs": [
    {
     "data": {
      "text/plain": [
       "['Delhi', 'Hyderabad / Secunderabad', 'Chandigarh', 'Ahmedabad', 'Pune']"
      ]
     },
     "execution_count": 225,
     "metadata": {},
     "output_type": "execute_result"
    }
   ],
   "source": [
    "Location[0:5]"
   ]
  },
  {
   "cell_type": "code",
   "execution_count": 226,
   "metadata": {},
   "outputs": [
    {
     "data": {
      "text/plain": [
       "(50, 50, 54, 150, 144)"
      ]
     },
     "execution_count": 226,
     "metadata": {},
     "output_type": "execute_result"
    }
   ],
   "source": [
    "len(Name),len(Designation),len(Company),len(Skills_Required),len(Location)"
   ]
  },
  {
   "cell_type": "code",
   "execution_count": 227,
   "metadata": {},
   "outputs": [
    {
     "data": {
      "text/html": [
       "<div>\n",
       "<style scoped>\n",
       "    .dataframe tbody tr th:only-of-type {\n",
       "        vertical-align: middle;\n",
       "    }\n",
       "\n",
       "    .dataframe tbody tr th {\n",
       "        vertical-align: top;\n",
       "    }\n",
       "\n",
       "    .dataframe thead th {\n",
       "        text-align: right;\n",
       "    }\n",
       "</style>\n",
       "<table border=\"1\" class=\"dataframe\">\n",
       "  <thead>\n",
       "    <tr style=\"text-align: right;\">\n",
       "      <th></th>\n",
       "      <th>Name</th>\n",
       "      <th>Designation</th>\n",
       "      <th>Company</th>\n",
       "      <th>Skills_Required</th>\n",
       "      <th>Location</th>\n",
       "    </tr>\n",
       "  </thead>\n",
       "  <tbody>\n",
       "    <tr>\n",
       "      <th>0</th>\n",
       "      <td>Aakash Harit</td>\n",
       "      <td>HR Manager</td>\n",
       "      <td>Data Science Network</td>\n",
       "      <td>Classic ASP Developer, Internet Marketing Prof...</td>\n",
       "      <td>Delhi</td>\n",
       "    </tr>\n",
       "    <tr>\n",
       "      <th>1</th>\n",
       "      <td>shravan Kumar Gaddam</td>\n",
       "      <td>Company Recruiter</td>\n",
       "      <td>Shore Infotech India Pvt. Ltd</td>\n",
       "      <td>.Net, Java, Data Science, Linux Administration...</td>\n",
       "      <td>Hyderabad / Secunderabad</td>\n",
       "    </tr>\n",
       "    <tr>\n",
       "      <th>2</th>\n",
       "      <td>Talent Acquisition Executive</td>\n",
       "      <td>Recruitment Professional</td>\n",
       "      <td>Data Science Network</td>\n",
       "      <td>Web Designing, html5, Angular.js, seo, hadoop,...</td>\n",
       "      <td>Chandigarh</td>\n",
       "    </tr>\n",
       "    <tr>\n",
       "      <th>3</th>\n",
       "      <td>Anik Agrawal</td>\n",
       "      <td>Company Recruiter</td>\n",
       "      <td>Shore Infotech India Pvt. Ltd</td>\n",
       "      <td>Mean Stack, javascript, angularjs, mongodb, We...</td>\n",
       "      <td>Ahmedabad</td>\n",
       "    </tr>\n",
       "    <tr>\n",
       "      <th>4</th>\n",
       "      <td>MARSIAN Technologies LLP</td>\n",
       "      <td>Company HR</td>\n",
       "      <td>Data Science Network</td>\n",
       "      <td>Data Science, Artificial Intelligence, Machine...</td>\n",
       "      <td>Pune</td>\n",
       "    </tr>\n",
       "    <tr>\n",
       "      <th>5</th>\n",
       "      <td>subhas patel</td>\n",
       "      <td>Founder CEO</td>\n",
       "      <td>Shore Infotech India Pvt. Ltd</td>\n",
       "      <td>Hadoop, Spark, Digital Strategy, Data Architec...</td>\n",
       "      <td>UK - (london)</td>\n",
       "    </tr>\n",
       "    <tr>\n",
       "      <th>6</th>\n",
       "      <td>Jitendra Singh</td>\n",
       "      <td>Manager- Talent Acquisition</td>\n",
       "      <td>XenonStack</td>\n",
       "      <td>Python, Data Science, .Net, Java, Big Data, Da...</td>\n",
       "      <td>Delhi</td>\n",
       "    </tr>\n",
       "    <tr>\n",
       "      <th>7</th>\n",
       "      <td>Abhishek - Only Analytics Hiring - India and</td>\n",
       "      <td>Recruitment Lead Consultant</td>\n",
       "      <td>Enerlytics Software Solutions Pvt Ltd</td>\n",
       "      <td>Analytics, Business Intelligence, Business Ana...</td>\n",
       "      <td>Vadodara / Baroda</td>\n",
       "    </tr>\n",
       "    <tr>\n",
       "      <th>8</th>\n",
       "      <td>Institute for Financial Management and Resear</td>\n",
       "      <td>Programme Manager</td>\n",
       "      <td>MARSIAN Technologies LLP</td>\n",
       "      <td>Data Science</td>\n",
       "      <td>Chennai</td>\n",
       "    </tr>\n",
       "    <tr>\n",
       "      <th>9</th>\n",
       "      <td>Balu Ramesh</td>\n",
       "      <td>HR Administrator</td>\n",
       "      <td>LibraryXProject</td>\n",
       "      <td>Machine Learning, algorithms, Go Getter, Compu...</td>\n",
       "      <td>Trivandrum</td>\n",
       "    </tr>\n",
       "    <tr>\n",
       "      <th>10</th>\n",
       "      <td>Asif Lucknowi</td>\n",
       "      <td>Director</td>\n",
       "      <td>Compunnel Technology India Pvt. Ltd</td>\n",
       "      <td>Technical Training, Software Development, Pres...</td>\n",
       "      <td>Indore</td>\n",
       "    </tr>\n",
       "    <tr>\n",
       "      <th>11</th>\n",
       "      <td>InstaFinancials</td>\n",
       "      <td>Human Resource</td>\n",
       "      <td>Apidel Technologies Division of Transpower</td>\n",
       "      <td>Software Development, It Sales, Account Manage...</td>\n",
       "      <td>Bengaluru / Bangalore</td>\n",
       "    </tr>\n",
       "    <tr>\n",
       "      <th>12</th>\n",
       "      <td>Kalpana Dumpala</td>\n",
       "      <td>Executive Hiring</td>\n",
       "      <td>IFMR</td>\n",
       "      <td>Qa, Ui/ux, Java Developer, Java Architect, C++...</td>\n",
       "      <td>Hyderabad / Secunderabad</td>\n",
       "    </tr>\n",
       "    <tr>\n",
       "      <th>13</th>\n",
       "      <td>Mubarak</td>\n",
       "      <td>Company HR</td>\n",
       "      <td>Techvantage Systems Pvt Ltd</td>\n",
       "      <td>Business Intelligence, Data Warehousing, Data ...</td>\n",
       "      <td>Bengaluru / Bangalore</td>\n",
       "    </tr>\n",
       "    <tr>\n",
       "      <th>14</th>\n",
       "      <td>Kushal Rastogi</td>\n",
       "      <td>Company HR</td>\n",
       "      <td>Weupskill- Live Wire India</td>\n",
       "      <td>Office Administration, Hr Administration, tele...</td>\n",
       "      <td>Mumbai</td>\n",
       "    </tr>\n",
       "    <tr>\n",
       "      <th>15</th>\n",
       "      <td>Manisha Yadav</td>\n",
       "      <td>HR Executive</td>\n",
       "      <td>CBL Data Science Private Limited</td>\n",
       "      <td>Telecalling, Client Interaction, Marketing, Re...</td>\n",
       "      <td>Navi Mumbai</td>\n",
       "    </tr>\n",
       "    <tr>\n",
       "      <th>16</th>\n",
       "      <td>Kapil Devang</td>\n",
       "      <td>HR Manager</td>\n",
       "      <td>Innominds Software</td>\n",
       "      <td>Big Data, Hadoop, Data Analytics, Data Science</td>\n",
       "      <td>Bhopal</td>\n",
       "    </tr>\n",
       "    <tr>\n",
       "      <th>17</th>\n",
       "      <td>Riya Rajesh</td>\n",
       "      <td>Manager Talent Acquisition</td>\n",
       "      <td>MoneyTap</td>\n",
       "      <td>Data Science</td>\n",
       "      <td>Cochin</td>\n",
       "    </tr>\n",
       "    <tr>\n",
       "      <th>18</th>\n",
       "      <td>Mahesh Babu Channa</td>\n",
       "      <td>HR Team Lead</td>\n",
       "      <td>QuantMagnum Technologies Pvt. Ltd.</td>\n",
       "      <td>Social Media, digital media maketing, seo, smm...</td>\n",
       "      <td>Hyderabad / Secunderabad</td>\n",
       "    </tr>\n",
       "    <tr>\n",
       "      <th>19</th>\n",
       "      <td>Rashmi Bhattacharjee</td>\n",
       "      <td>HR Head</td>\n",
       "      <td>Easi Tax</td>\n",
       "      <td>Corporate Sales, Software Development, Softwar...</td>\n",
       "      <td>Delhi</td>\n",
       "    </tr>\n",
       "    <tr>\n",
       "      <th>20</th>\n",
       "      <td>Faizan Kareem</td>\n",
       "      <td>HR MANAGER</td>\n",
       "      <td>BISP Solutions</td>\n",
       "      <td>Data Analytics, Data Science, Machine Learning...</td>\n",
       "      <td>Hyderabad / Secunderabad</td>\n",
       "    </tr>\n",
       "    <tr>\n",
       "      <th>21</th>\n",
       "      <td>Rithika dadwal</td>\n",
       "      <td>HR Recruiter</td>\n",
       "      <td>Novelworx Digital Solutions</td>\n",
       "      <td>Data Science, Machine Learning, Python, R, Dee...</td>\n",
       "      <td>Pune</td>\n",
       "    </tr>\n",
       "    <tr>\n",
       "      <th>22</th>\n",
       "      <td>Azahar Shaikh</td>\n",
       "      <td>Company Recruiter</td>\n",
       "      <td>SocialPrachar.com</td>\n",
       "      <td>Data Science, Artificial Intelligence, Machine...</td>\n",
       "      <td>Pune</td>\n",
       "    </tr>\n",
       "    <tr>\n",
       "      <th>23</th>\n",
       "      <td>Sandhya Khandagale</td>\n",
       "      <td>HR Recruiter</td>\n",
       "      <td>AXESTRACK SOFTWARE SOLUTIONS PRIVATE...</td>\n",
       "      <td>Big Data, Data Science, Artificial Intelligenc...</td>\n",
       "      <td>Pune</td>\n",
       "    </tr>\n",
       "    <tr>\n",
       "      <th>24</th>\n",
       "      <td>Shaun Rao</td>\n",
       "      <td>Manager Human Resources</td>\n",
       "      <td>FirstTech Consaltants Pvt.Ltd</td>\n",
       "      <td>Java, Net, Angularjs, Hr, Infrastructure, Mana...</td>\n",
       "      <td>Pune</td>\n",
       "    </tr>\n",
       "    <tr>\n",
       "      <th>25</th>\n",
       "      <td>Manas</td>\n",
       "      <td>Lead Talent acquisition</td>\n",
       "      <td>Affine Analytics</td>\n",
       "      <td>Software Architecture, Vp Engineering, Product...</td>\n",
       "      <td>Bengaluru / Bangalore</td>\n",
       "    </tr>\n",
       "    <tr>\n",
       "      <th>26</th>\n",
       "      <td>kumar</td>\n",
       "      <td>Proprietor</td>\n",
       "      <td>NEAL ANALYTICS SERVICES PVT LTD</td>\n",
       "      <td>Data Science, Hadoop, Rpas, Devops, Python, Aw...</td>\n",
       "      <td>Bengaluru / Bangalore</td>\n",
       "    </tr>\n",
       "    <tr>\n",
       "      <th>27</th>\n",
       "      <td>Sunil Vedula</td>\n",
       "      <td>CEO</td>\n",
       "      <td>Compumatrice Multimedia Pvt Ltd</td>\n",
       "      <td>Signal Processing, Machine Learning, Neural Ne...</td>\n",
       "      <td>Delhi</td>\n",
       "    </tr>\n",
       "    <tr>\n",
       "      <th>28</th>\n",
       "      <td>Rajat Kumar</td>\n",
       "      <td>Founder CEO</td>\n",
       "      <td>Exela Technologies</td>\n",
       "      <td>Web Technologies, Project Management, Software...</td>\n",
       "      <td>Mysoru / Mysore</td>\n",
       "    </tr>\n",
       "    <tr>\n",
       "      <th>29</th>\n",
       "      <td>Jayanth N</td>\n",
       "      <td>Project Manager</td>\n",
       "      <td>Autumn Leaf Consulting Services Private...</td>\n",
       "      <td>Data Analytics, Managed Services, Team Leading...</td>\n",
       "      <td>Noida</td>\n",
       "    </tr>\n",
       "    <tr>\n",
       "      <th>30</th>\n",
       "      <td>Prateek Kumar</td>\n",
       "      <td>Head</td>\n",
       "      <td>trainin</td>\n",
       "      <td>Java, Python, Angularjs, Software Testing, Mac...</td>\n",
       "      <td>Hyderabad / Secunderabad</td>\n",
       "    </tr>\n",
       "    <tr>\n",
       "      <th>31</th>\n",
       "      <td>SREEDHAR</td>\n",
       "      <td>Recruitment Consultant</td>\n",
       "      <td>Nanoprecise Sci Corp</td>\n",
       "      <td>Data Science, Machine Learning, Big Data Analy...</td>\n",
       "      <td>New Delhi</td>\n",
       "    </tr>\n",
       "    <tr>\n",
       "      <th>32</th>\n",
       "      <td>Amit Sharma</td>\n",
       "      <td>Consultant</td>\n",
       "      <td>R.S Consultancy &amp;amp; Services</td>\n",
       "      <td>Machine Learning, Artificial Intelligence, Dat...</td>\n",
       "      <td>Chennai</td>\n",
       "    </tr>\n",
       "    <tr>\n",
       "      <th>33</th>\n",
       "      <td>Kanan</td>\n",
       "      <td>senior technology instructor</td>\n",
       "      <td>Dollarbird Information Services Pvt, Ltd</td>\n",
       "      <td>C, C++, Artificial Intelligence, Python, Php, ...</td>\n",
       "      <td>Aligarh</td>\n",
       "    </tr>\n",
       "    <tr>\n",
       "      <th>34</th>\n",
       "      <td>Shashikant Chaudhary</td>\n",
       "      <td>HR Recruiter/HR Excutive</td>\n",
       "      <td>Trisect</td>\n",
       "      <td>Relationship Management, Retail Sales, Private...</td>\n",
       "      <td>Salt Lake City</td>\n",
       "    </tr>\n",
       "    <tr>\n",
       "      <th>35</th>\n",
       "      <td>Brad</td>\n",
       "      <td>Manager, Technical Recruiting</td>\n",
       "      <td>JOBSMILL BUSINESS SOLUTIONS PRIVATE LIMITED</td>\n",
       "      <td>Data Science, Software Engineering</td>\n",
       "      <td>Pune</td>\n",
       "    </tr>\n",
       "    <tr>\n",
       "      <th>36</th>\n",
       "      <td>Rutuja Pawar</td>\n",
       "      <td>Technical Recruiter</td>\n",
       "      <td>ASCO consulting</td>\n",
       "      <td>Data Science, Big Data Analytics, Digital Mark...</td>\n",
       "      <td>Bengaluru / Bangalore</td>\n",
       "    </tr>\n",
       "    <tr>\n",
       "      <th>37</th>\n",
       "      <td>Madhusudhan Sridhar</td>\n",
       "      <td>Erp Implementer</td>\n",
       "      <td>NY INST</td>\n",
       "      <td>Data Science, Recruitment, Salary</td>\n",
       "      <td>Mumbai</td>\n",
       "    </tr>\n",
       "    <tr>\n",
       "      <th>38</th>\n",
       "      <td>Ankit Sinha</td>\n",
       "      <td>Head Analytics</td>\n",
       "      <td>3D India Staffing Research &amp;amp; Consulting...</td>\n",
       "      <td>B.Tech, Tableau, Statistics, R, Analytics, Tim...</td>\n",
       "      <td>Indore</td>\n",
       "    </tr>\n",
       "    <tr>\n",
       "      <th>39</th>\n",
       "      <td>Gaurav Chouhan</td>\n",
       "      <td>Chief Technical Officer</td>\n",
       "      <td>O.C. Tanner</td>\n",
       "      <td>Software Development, Business Intelligence, B...</td>\n",
       "      <td>Bengaluru / Bangalore</td>\n",
       "    </tr>\n",
       "    <tr>\n",
       "      <th>40</th>\n",
       "      <td>Rashi Kacker</td>\n",
       "      <td>Sr Product Manager</td>\n",
       "      <td>Demand Matrix</td>\n",
       "      <td>Data Science, Node.js, Angularjs</td>\n",
       "      <td>MYSORE</td>\n",
       "    </tr>\n",
       "    <tr>\n",
       "      <th>41</th>\n",
       "      <td>Ashwini</td>\n",
       "      <td>Director Global Delivery</td>\n",
       "      <td>MADHUSUDHAN SRIDHAR</td>\n",
       "      <td>Data Science, Media Marketing, Resource Planni...</td>\n",
       "      <td>Hyderabad / Secunderabad</td>\n",
       "    </tr>\n",
       "    <tr>\n",
       "      <th>42</th>\n",
       "      <td>Balaji Kolli</td>\n",
       "      <td>Co Founder</td>\n",
       "      <td>Suntech Global</td>\n",
       "      <td>Data Analysis, Learning, Data Science, Compute...</td>\n",
       "      <td>Bengaluru / Bangalore</td>\n",
       "    </tr>\n",
       "    <tr>\n",
       "      <th>43</th>\n",
       "      <td>Rajani Nagaraj</td>\n",
       "      <td>HR Manager</td>\n",
       "      <td>Strategic Consulting Lab</td>\n",
       "      <td>Java, Hadoop, R, Machine Learning, Spark, Flum...</td>\n",
       "      <td>Mumbai</td>\n",
       "    </tr>\n",
       "    <tr>\n",
       "      <th>44</th>\n",
       "      <td>ROHIT Kumar</td>\n",
       "      <td>Architect</td>\n",
       "      <td>Impel Labs Pvt. Ltd.</td>\n",
       "      <td>Software Development, Core Java, Unit Testing,...</td>\n",
       "      <td>Noida</td>\n",
       "    </tr>\n",
       "    <tr>\n",
       "      <th>45</th>\n",
       "      <td>Amir Chowdhury</td>\n",
       "      <td>Managing Partner</td>\n",
       "      <td>MRP Advisers</td>\n",
       "      <td>Machine Learning, Data Science, Product Manage...</td>\n",
       "      <td>Mumbai</td>\n",
       "    </tr>\n",
       "    <tr>\n",
       "      <th>46</th>\n",
       "      <td>Shailja Mishra</td>\n",
       "      <td>HR Manager</td>\n",
       "      <td>Saras Solutions India Pvt Ltd</td>\n",
       "      <td>consulting, Education Counseling, Educational ...</td>\n",
       "      <td>Bengaluru / Bangalore</td>\n",
       "    </tr>\n",
       "    <tr>\n",
       "      <th>47</th>\n",
       "      <td>Sunny Sharma</td>\n",
       "      <td>Managing Director - HR</td>\n",
       "      <td>WildJasmine</td>\n",
       "      <td>Software Professionals, Engineering, Technical...</td>\n",
       "      <td>Chennai</td>\n",
       "    </tr>\n",
       "  </tbody>\n",
       "</table>\n",
       "</div>"
      ],
      "text/plain": [
       "                                             Name  \\\n",
       "0                                    Aakash Harit   \n",
       "1                            shravan Kumar Gaddam   \n",
       "2                    Talent Acquisition Executive   \n",
       "3                                    Anik Agrawal   \n",
       "4                        MARSIAN Technologies LLP   \n",
       "5                                    subhas patel   \n",
       "6                                  Jitendra Singh   \n",
       "7    Abhishek - Only Analytics Hiring - India and   \n",
       "8   Institute for Financial Management and Resear   \n",
       "9                                     Balu Ramesh   \n",
       "10                                  Asif Lucknowi   \n",
       "11                                InstaFinancials   \n",
       "12                                Kalpana Dumpala   \n",
       "13                                        Mubarak   \n",
       "14                                 Kushal Rastogi   \n",
       "15                                  Manisha Yadav   \n",
       "16                                   Kapil Devang   \n",
       "17                                    Riya Rajesh   \n",
       "18                             Mahesh Babu Channa   \n",
       "19                           Rashmi Bhattacharjee   \n",
       "20                                  Faizan Kareem   \n",
       "21                                 Rithika dadwal   \n",
       "22                                  Azahar Shaikh   \n",
       "23                             Sandhya Khandagale   \n",
       "24                                      Shaun Rao   \n",
       "25                                          Manas   \n",
       "26                                          kumar   \n",
       "27                                   Sunil Vedula   \n",
       "28                                    Rajat Kumar   \n",
       "29                                      Jayanth N   \n",
       "30                                  Prateek Kumar   \n",
       "31                                       SREEDHAR   \n",
       "32                                    Amit Sharma   \n",
       "33                                          Kanan   \n",
       "34                           Shashikant Chaudhary   \n",
       "35                                           Brad   \n",
       "36                                   Rutuja Pawar   \n",
       "37                            Madhusudhan Sridhar   \n",
       "38                                    Ankit Sinha   \n",
       "39                                 Gaurav Chouhan   \n",
       "40                                   Rashi Kacker   \n",
       "41                                        Ashwini   \n",
       "42                                   Balaji Kolli   \n",
       "43                                 Rajani Nagaraj   \n",
       "44                                    ROHIT Kumar   \n",
       "45                                 Amir Chowdhury   \n",
       "46                                 Shailja Mishra   \n",
       "47                                   Sunny Sharma   \n",
       "\n",
       "                      Designation  \\\n",
       "0                      HR Manager   \n",
       "1               Company Recruiter   \n",
       "2        Recruitment Professional   \n",
       "3               Company Recruiter   \n",
       "4                      Company HR   \n",
       "5                     Founder CEO   \n",
       "6     Manager- Talent Acquisition   \n",
       "7     Recruitment Lead Consultant   \n",
       "8               Programme Manager   \n",
       "9                HR Administrator   \n",
       "10                       Director   \n",
       "11                 Human Resource   \n",
       "12               Executive Hiring   \n",
       "13                     Company HR   \n",
       "14                     Company HR   \n",
       "15                   HR Executive   \n",
       "16                     HR Manager   \n",
       "17     Manager Talent Acquisition   \n",
       "18                   HR Team Lead   \n",
       "19                        HR Head   \n",
       "20                     HR MANAGER   \n",
       "21                   HR Recruiter   \n",
       "22              Company Recruiter   \n",
       "23                   HR Recruiter   \n",
       "24        Manager Human Resources   \n",
       "25        Lead Talent acquisition   \n",
       "26                     Proprietor   \n",
       "27                            CEO   \n",
       "28                    Founder CEO   \n",
       "29                Project Manager   \n",
       "30                           Head   \n",
       "31         Recruitment Consultant   \n",
       "32                     Consultant   \n",
       "33   senior technology instructor   \n",
       "34       HR Recruiter/HR Excutive   \n",
       "35  Manager, Technical Recruiting   \n",
       "36            Technical Recruiter   \n",
       "37                Erp Implementer   \n",
       "38                 Head Analytics   \n",
       "39        Chief Technical Officer   \n",
       "40             Sr Product Manager   \n",
       "41       Director Global Delivery   \n",
       "42                     Co Founder   \n",
       "43                     HR Manager   \n",
       "44                      Architect   \n",
       "45               Managing Partner   \n",
       "46                     HR Manager   \n",
       "47         Managing Director - HR   \n",
       "\n",
       "                                           Company  \\\n",
       "0                             Data Science Network   \n",
       "1                    Shore Infotech India Pvt. Ltd   \n",
       "2                             Data Science Network   \n",
       "3                    Shore Infotech India Pvt. Ltd   \n",
       "4                             Data Science Network   \n",
       "5                    Shore Infotech India Pvt. Ltd   \n",
       "6                                       XenonStack   \n",
       "7            Enerlytics Software Solutions Pvt Ltd   \n",
       "8                         MARSIAN Technologies LLP   \n",
       "9                                  LibraryXProject   \n",
       "10             Compunnel Technology India Pvt. Ltd   \n",
       "11      Apidel Technologies Division of Transpower   \n",
       "12                                            IFMR   \n",
       "13                     Techvantage Systems Pvt Ltd   \n",
       "14                      Weupskill- Live Wire India   \n",
       "15                CBL Data Science Private Limited   \n",
       "16                              Innominds Software   \n",
       "17                                        MoneyTap   \n",
       "18              QuantMagnum Technologies Pvt. Ltd.   \n",
       "19                                        Easi Tax   \n",
       "20                                  BISP Solutions   \n",
       "21                     Novelworx Digital Solutions   \n",
       "22                               SocialPrachar.com   \n",
       "23         AXESTRACK SOFTWARE SOLUTIONS PRIVATE...   \n",
       "24                   FirstTech Consaltants Pvt.Ltd   \n",
       "25                                Affine Analytics   \n",
       "26                 NEAL ANALYTICS SERVICES PVT LTD   \n",
       "27                 Compumatrice Multimedia Pvt Ltd   \n",
       "28                              Exela Technologies   \n",
       "29      Autumn Leaf Consulting Services Private...   \n",
       "30                                         trainin   \n",
       "31                            Nanoprecise Sci Corp   \n",
       "32                  R.S Consultancy &amp; Services   \n",
       "33        Dollarbird Information Services Pvt, Ltd   \n",
       "34                                         Trisect   \n",
       "35     JOBSMILL BUSINESS SOLUTIONS PRIVATE LIMITED   \n",
       "36                                 ASCO consulting   \n",
       "37                                         NY INST   \n",
       "38  3D India Staffing Research &amp; Consulting...   \n",
       "39                                     O.C. Tanner   \n",
       "40                                   Demand Matrix   \n",
       "41                             MADHUSUDHAN SRIDHAR   \n",
       "42                                  Suntech Global   \n",
       "43                        Strategic Consulting Lab   \n",
       "44                            Impel Labs Pvt. Ltd.   \n",
       "45                                    MRP Advisers   \n",
       "46                   Saras Solutions India Pvt Ltd   \n",
       "47                                     WildJasmine   \n",
       "\n",
       "                                      Skills_Required  \\\n",
       "0   Classic ASP Developer, Internet Marketing Prof...   \n",
       "1   .Net, Java, Data Science, Linux Administration...   \n",
       "2   Web Designing, html5, Angular.js, seo, hadoop,...   \n",
       "3   Mean Stack, javascript, angularjs, mongodb, We...   \n",
       "4   Data Science, Artificial Intelligence, Machine...   \n",
       "5   Hadoop, Spark, Digital Strategy, Data Architec...   \n",
       "6   Python, Data Science, .Net, Java, Big Data, Da...   \n",
       "7   Analytics, Business Intelligence, Business Ana...   \n",
       "8                                        Data Science   \n",
       "9   Machine Learning, algorithms, Go Getter, Compu...   \n",
       "10  Technical Training, Software Development, Pres...   \n",
       "11  Software Development, It Sales, Account Manage...   \n",
       "12  Qa, Ui/ux, Java Developer, Java Architect, C++...   \n",
       "13  Business Intelligence, Data Warehousing, Data ...   \n",
       "14  Office Administration, Hr Administration, tele...   \n",
       "15  Telecalling, Client Interaction, Marketing, Re...   \n",
       "16     Big Data, Hadoop, Data Analytics, Data Science   \n",
       "17                                       Data Science   \n",
       "18  Social Media, digital media maketing, seo, smm...   \n",
       "19  Corporate Sales, Software Development, Softwar...   \n",
       "20  Data Analytics, Data Science, Machine Learning...   \n",
       "21  Data Science, Machine Learning, Python, R, Dee...   \n",
       "22  Data Science, Artificial Intelligence, Machine...   \n",
       "23  Big Data, Data Science, Artificial Intelligenc...   \n",
       "24  Java, Net, Angularjs, Hr, Infrastructure, Mana...   \n",
       "25  Software Architecture, Vp Engineering, Product...   \n",
       "26  Data Science, Hadoop, Rpas, Devops, Python, Aw...   \n",
       "27  Signal Processing, Machine Learning, Neural Ne...   \n",
       "28  Web Technologies, Project Management, Software...   \n",
       "29  Data Analytics, Managed Services, Team Leading...   \n",
       "30  Java, Python, Angularjs, Software Testing, Mac...   \n",
       "31  Data Science, Machine Learning, Big Data Analy...   \n",
       "32  Machine Learning, Artificial Intelligence, Dat...   \n",
       "33  C, C++, Artificial Intelligence, Python, Php, ...   \n",
       "34  Relationship Management, Retail Sales, Private...   \n",
       "35                 Data Science, Software Engineering   \n",
       "36  Data Science, Big Data Analytics, Digital Mark...   \n",
       "37                  Data Science, Recruitment, Salary   \n",
       "38  B.Tech, Tableau, Statistics, R, Analytics, Tim...   \n",
       "39  Software Development, Business Intelligence, B...   \n",
       "40                   Data Science, Node.js, Angularjs   \n",
       "41  Data Science, Media Marketing, Resource Planni...   \n",
       "42  Data Analysis, Learning, Data Science, Compute...   \n",
       "43  Java, Hadoop, R, Machine Learning, Spark, Flum...   \n",
       "44  Software Development, Core Java, Unit Testing,...   \n",
       "45  Machine Learning, Data Science, Product Manage...   \n",
       "46  consulting, Education Counseling, Educational ...   \n",
       "47  Software Professionals, Engineering, Technical...   \n",
       "\n",
       "                    Location  \n",
       "0                      Delhi  \n",
       "1   Hyderabad / Secunderabad  \n",
       "2                 Chandigarh  \n",
       "3                  Ahmedabad  \n",
       "4                       Pune  \n",
       "5              UK - (london)  \n",
       "6                      Delhi  \n",
       "7          Vadodara / Baroda  \n",
       "8                    Chennai  \n",
       "9                 Trivandrum  \n",
       "10                    Indore  \n",
       "11     Bengaluru / Bangalore  \n",
       "12  Hyderabad / Secunderabad  \n",
       "13     Bengaluru / Bangalore  \n",
       "14                    Mumbai  \n",
       "15               Navi Mumbai  \n",
       "16                    Bhopal  \n",
       "17                    Cochin  \n",
       "18  Hyderabad / Secunderabad  \n",
       "19                     Delhi  \n",
       "20  Hyderabad / Secunderabad  \n",
       "21                      Pune  \n",
       "22                      Pune  \n",
       "23                      Pune  \n",
       "24                      Pune  \n",
       "25     Bengaluru / Bangalore  \n",
       "26     Bengaluru / Bangalore  \n",
       "27                     Delhi  \n",
       "28           Mysoru / Mysore  \n",
       "29                     Noida  \n",
       "30  Hyderabad / Secunderabad  \n",
       "31                 New Delhi  \n",
       "32                   Chennai  \n",
       "33                   Aligarh  \n",
       "34            Salt Lake City  \n",
       "35                      Pune  \n",
       "36     Bengaluru / Bangalore  \n",
       "37                    Mumbai  \n",
       "38                    Indore  \n",
       "39     Bengaluru / Bangalore  \n",
       "40                    MYSORE  \n",
       "41  Hyderabad / Secunderabad  \n",
       "42     Bengaluru / Bangalore  \n",
       "43                    Mumbai  \n",
       "44                     Noida  \n",
       "45                    Mumbai  \n",
       "46     Bengaluru / Bangalore  \n",
       "47                   Chennai  "
      ]
     },
     "execution_count": 227,
     "metadata": {},
     "output_type": "execute_result"
    }
   ],
   "source": [
    "# creating the dataframe from the scraped data\n",
    "import pandas as pd\n",
    "Recruiter=pd.DataFrame({})\n",
    "Recruiter['Name']=Name[0:48]\n",
    "Recruiter['Designation']=Designation[0:48]\n",
    "Recruiter['Company']=Company[0:48]\n",
    "Recruiter['Skills_Required']= Skills_Required[0:48]\n",
    "Recruiter['Location']=Location[0:48]\n",
    "Recruiter"
   ]
  },
  {
   "cell_type": "markdown",
   "metadata": {},
   "source": [
    "# QUESTION NO-8"
   ]
  },
  {
   "cell_type": "code",
   "execution_count": 228,
   "metadata": {},
   "outputs": [],
   "source": [
    "# Configure the webdriver.\n",
    "driver = webdriver.Chrome('/Users/nlohith/Desktop/chromedriver')"
   ]
  },
  {
   "cell_type": "code",
   "execution_count": 229,
   "metadata": {},
   "outputs": [],
   "source": [
    "URL='https://www.theguardian.com/news/datablog/2012/aug/09/best-selling-books-all-time-fifty-shades-grey-compare'"
   ]
  },
  {
   "cell_type": "code",
   "execution_count": 230,
   "metadata": {},
   "outputs": [],
   "source": [
    "driver.get(URL)"
   ]
  },
  {
   "cell_type": "code",
   "execution_count": 231,
   "metadata": {},
   "outputs": [],
   "source": [
    "# creating empty lists for scraping data\n",
    "Book_name=[] \n",
    "Author_name=[] \n",
    "Volumes_sold=[]\n",
    "Publisher=[] \n",
    "Genre=[]"
   ]
  },
  {
   "cell_type": "code",
   "execution_count": 232,
   "metadata": {},
   "outputs": [],
   "source": [
    "book = driver.find_elements_by_xpath('//table[@class=\"in-article sortable\"]/tbody/tr/td[2]')"
   ]
  },
  {
   "cell_type": "code",
   "execution_count": 233,
   "metadata": {},
   "outputs": [],
   "source": [
    "for i in book:\n",
    "    Book_name.append(i.text)"
   ]
  },
  {
   "cell_type": "code",
   "execution_count": 234,
   "metadata": {},
   "outputs": [
    {
     "data": {
      "text/plain": [
       "['Da Vinci Code,The',\n",
       " 'Harry Potter and the Deathly Hallows',\n",
       " \"Harry Potter and the Philosopher's Stone\",\n",
       " 'Harry Potter and the Order of the Phoenix',\n",
       " 'Fifty Shades of Grey']"
      ]
     },
     "execution_count": 234,
     "metadata": {},
     "output_type": "execute_result"
    }
   ],
   "source": [
    "Book_name[0:5]"
   ]
  },
  {
   "cell_type": "code",
   "execution_count": 235,
   "metadata": {},
   "outputs": [],
   "source": [
    "author = driver.find_elements_by_xpath('//table[@class=\"in-article sortable\"]/tbody/tr/td[3]')"
   ]
  },
  {
   "cell_type": "code",
   "execution_count": 236,
   "metadata": {},
   "outputs": [],
   "source": [
    "for i in author:\n",
    "    Author_name.append(i.text)"
   ]
  },
  {
   "cell_type": "code",
   "execution_count": 237,
   "metadata": {},
   "outputs": [
    {
     "data": {
      "text/plain": [
       "['Brown, Dan',\n",
       " 'Rowling, J.K.',\n",
       " 'Rowling, J.K.',\n",
       " 'Rowling, J.K.',\n",
       " 'James, E. L.']"
      ]
     },
     "execution_count": 237,
     "metadata": {},
     "output_type": "execute_result"
    }
   ],
   "source": [
    "Author_name[0:5]"
   ]
  },
  {
   "cell_type": "code",
   "execution_count": 238,
   "metadata": {},
   "outputs": [],
   "source": [
    "vol = driver.find_elements_by_xpath('//table[@class=\"in-article sortable\"]/tbody/tr/td[4]')"
   ]
  },
  {
   "cell_type": "code",
   "execution_count": 239,
   "metadata": {},
   "outputs": [],
   "source": [
    "for i in vol:\n",
    "    Volumes_sold.append(i.text)"
   ]
  },
  {
   "cell_type": "code",
   "execution_count": 240,
   "metadata": {},
   "outputs": [
    {
     "data": {
      "text/plain": [
       "['5,094,805', '4,475,152', '4,200,654', '4,179,479', '3,758,936']"
      ]
     },
     "execution_count": 240,
     "metadata": {},
     "output_type": "execute_result"
    }
   ],
   "source": [
    "Volumes_sold[0:5]"
   ]
  },
  {
   "cell_type": "code",
   "execution_count": 241,
   "metadata": {},
   "outputs": [],
   "source": [
    "pub = driver.find_elements_by_xpath('//table[@class=\"in-article sortable\"]/tbody/tr/td[5]')"
   ]
  },
  {
   "cell_type": "code",
   "execution_count": 242,
   "metadata": {},
   "outputs": [],
   "source": [
    "for i in pub:\n",
    "    Publisher.append(i.text)"
   ]
  },
  {
   "cell_type": "code",
   "execution_count": 243,
   "metadata": {},
   "outputs": [
    {
     "data": {
      "text/plain": [
       "['Transworld', 'Bloomsbury', 'Bloomsbury', 'Bloomsbury', 'Random House']"
      ]
     },
     "execution_count": 243,
     "metadata": {},
     "output_type": "execute_result"
    }
   ],
   "source": [
    "Publisher[0:5]"
   ]
  },
  {
   "cell_type": "code",
   "execution_count": 244,
   "metadata": {},
   "outputs": [],
   "source": [
    "gen = driver.find_elements_by_xpath('//table[@class=\"in-article sortable\"]/tbody/tr/td[6]')"
   ]
  },
  {
   "cell_type": "code",
   "execution_count": 245,
   "metadata": {},
   "outputs": [],
   "source": [
    "for i in gen:\n",
    "    Genre.append(i.text)"
   ]
  },
  {
   "cell_type": "code",
   "execution_count": 246,
   "metadata": {},
   "outputs": [
    {
     "data": {
      "text/plain": [
       "['Crime, Thriller & Adventure',\n",
       " \"Children's Fiction\",\n",
       " \"Children's Fiction\",\n",
       " \"Children's Fiction\",\n",
       " 'Romance & Sagas']"
      ]
     },
     "execution_count": 246,
     "metadata": {},
     "output_type": "execute_result"
    }
   ],
   "source": [
    "Genre[0:5]"
   ]
  },
  {
   "cell_type": "code",
   "execution_count": 247,
   "metadata": {},
   "outputs": [
    {
     "data": {
      "text/html": [
       "<div>\n",
       "<style scoped>\n",
       "    .dataframe tbody tr th:only-of-type {\n",
       "        vertical-align: middle;\n",
       "    }\n",
       "\n",
       "    .dataframe tbody tr th {\n",
       "        vertical-align: top;\n",
       "    }\n",
       "\n",
       "    .dataframe thead th {\n",
       "        text-align: right;\n",
       "    }\n",
       "</style>\n",
       "<table border=\"1\" class=\"dataframe\">\n",
       "  <thead>\n",
       "    <tr style=\"text-align: right;\">\n",
       "      <th></th>\n",
       "      <th>Book_name</th>\n",
       "      <th>Author_name</th>\n",
       "      <th>Volumes_sold</th>\n",
       "      <th>Publisher</th>\n",
       "      <th>Genre</th>\n",
       "    </tr>\n",
       "  </thead>\n",
       "  <tbody>\n",
       "    <tr>\n",
       "      <th>0</th>\n",
       "      <td>Da Vinci Code,The</td>\n",
       "      <td>Brown, Dan</td>\n",
       "      <td>5,094,805</td>\n",
       "      <td>Transworld</td>\n",
       "      <td>Crime, Thriller &amp; Adventure</td>\n",
       "    </tr>\n",
       "    <tr>\n",
       "      <th>1</th>\n",
       "      <td>Harry Potter and the Deathly Hallows</td>\n",
       "      <td>Rowling, J.K.</td>\n",
       "      <td>4,475,152</td>\n",
       "      <td>Bloomsbury</td>\n",
       "      <td>Children's Fiction</td>\n",
       "    </tr>\n",
       "    <tr>\n",
       "      <th>2</th>\n",
       "      <td>Harry Potter and the Philosopher's Stone</td>\n",
       "      <td>Rowling, J.K.</td>\n",
       "      <td>4,200,654</td>\n",
       "      <td>Bloomsbury</td>\n",
       "      <td>Children's Fiction</td>\n",
       "    </tr>\n",
       "    <tr>\n",
       "      <th>3</th>\n",
       "      <td>Harry Potter and the Order of the Phoenix</td>\n",
       "      <td>Rowling, J.K.</td>\n",
       "      <td>4,179,479</td>\n",
       "      <td>Bloomsbury</td>\n",
       "      <td>Children's Fiction</td>\n",
       "    </tr>\n",
       "    <tr>\n",
       "      <th>4</th>\n",
       "      <td>Fifty Shades of Grey</td>\n",
       "      <td>James, E. L.</td>\n",
       "      <td>3,758,936</td>\n",
       "      <td>Random House</td>\n",
       "      <td>Romance &amp; Sagas</td>\n",
       "    </tr>\n",
       "    <tr>\n",
       "      <th>...</th>\n",
       "      <td>...</td>\n",
       "      <td>...</td>\n",
       "      <td>...</td>\n",
       "      <td>...</td>\n",
       "      <td>...</td>\n",
       "    </tr>\n",
       "    <tr>\n",
       "      <th>95</th>\n",
       "      <td>Ghost,The</td>\n",
       "      <td>Harris, Robert</td>\n",
       "      <td>807,311</td>\n",
       "      <td>Random House</td>\n",
       "      <td>General &amp; Literary Fiction</td>\n",
       "    </tr>\n",
       "    <tr>\n",
       "      <th>96</th>\n",
       "      <td>Happy Days with the Naked Chef</td>\n",
       "      <td>Oliver, Jamie</td>\n",
       "      <td>794,201</td>\n",
       "      <td>Penguin</td>\n",
       "      <td>Food &amp; Drink: General</td>\n",
       "    </tr>\n",
       "    <tr>\n",
       "      <th>97</th>\n",
       "      <td>Hunger Games,The:Hunger Games Trilogy</td>\n",
       "      <td>Collins, Suzanne</td>\n",
       "      <td>792,187</td>\n",
       "      <td>Scholastic Ltd.</td>\n",
       "      <td>Young Adult Fiction</td>\n",
       "    </tr>\n",
       "    <tr>\n",
       "      <th>98</th>\n",
       "      <td>Lost Boy,The:A Foster Child's Search for the L...</td>\n",
       "      <td>Pelzer, Dave</td>\n",
       "      <td>791,507</td>\n",
       "      <td>Orion</td>\n",
       "      <td>Biography: General</td>\n",
       "    </tr>\n",
       "    <tr>\n",
       "      <th>99</th>\n",
       "      <td>Jamie's Ministry of Food:Anyone Can Learn to C...</td>\n",
       "      <td>Oliver, Jamie</td>\n",
       "      <td>791,095</td>\n",
       "      <td>Penguin</td>\n",
       "      <td>Food &amp; Drink: General</td>\n",
       "    </tr>\n",
       "  </tbody>\n",
       "</table>\n",
       "<p>100 rows × 5 columns</p>\n",
       "</div>"
      ],
      "text/plain": [
       "                                            Book_name       Author_name  \\\n",
       "0                                   Da Vinci Code,The        Brown, Dan   \n",
       "1                Harry Potter and the Deathly Hallows     Rowling, J.K.   \n",
       "2            Harry Potter and the Philosopher's Stone     Rowling, J.K.   \n",
       "3           Harry Potter and the Order of the Phoenix     Rowling, J.K.   \n",
       "4                                Fifty Shades of Grey      James, E. L.   \n",
       "..                                                ...               ...   \n",
       "95                                          Ghost,The    Harris, Robert   \n",
       "96                     Happy Days with the Naked Chef     Oliver, Jamie   \n",
       "97              Hunger Games,The:Hunger Games Trilogy  Collins, Suzanne   \n",
       "98  Lost Boy,The:A Foster Child's Search for the L...      Pelzer, Dave   \n",
       "99  Jamie's Ministry of Food:Anyone Can Learn to C...     Oliver, Jamie   \n",
       "\n",
       "   Volumes_sold        Publisher                        Genre  \n",
       "0     5,094,805       Transworld  Crime, Thriller & Adventure  \n",
       "1     4,475,152       Bloomsbury           Children's Fiction  \n",
       "2     4,200,654       Bloomsbury           Children's Fiction  \n",
       "3     4,179,479       Bloomsbury           Children's Fiction  \n",
       "4     3,758,936     Random House              Romance & Sagas  \n",
       "..          ...              ...                          ...  \n",
       "95      807,311     Random House   General & Literary Fiction  \n",
       "96      794,201          Penguin        Food & Drink: General  \n",
       "97      792,187  Scholastic Ltd.          Young Adult Fiction  \n",
       "98      791,507            Orion           Biography: General  \n",
       "99      791,095          Penguin        Food & Drink: General  \n",
       "\n",
       "[100 rows x 5 columns]"
      ]
     },
     "execution_count": 247,
     "metadata": {},
     "output_type": "execute_result"
    }
   ],
   "source": [
    "# creating the dataframe from the scraped data\n",
    "import pandas as pd\n",
    "BOOKS=pd.DataFrame({})\n",
    "BOOKS['Book_name']=Book_name\n",
    "BOOKS['Author_name']= Author_name\n",
    "BOOKS['Volumes_sold']=Volumes_sold\n",
    "BOOKS['Publisher']=Publisher\n",
    "BOOKS['Genre']=Genre\n",
    "BOOKS"
   ]
  },
  {
   "cell_type": "markdown",
   "metadata": {},
   "source": [
    "# QUESTION NO-9"
   ]
  },
  {
   "cell_type": "code",
   "execution_count": 286,
   "metadata": {},
   "outputs": [],
   "source": [
    "# Configure the webdriver.\n",
    "driver = webdriver.Chrome('/Users/nlohith/Desktop/chromedriver')"
   ]
  },
  {
   "cell_type": "code",
   "execution_count": 289,
   "metadata": {},
   "outputs": [],
   "source": [
    "# Opening the url\n",
    "URL='https://www.imdb.com/list/ls095964455/'"
   ]
  },
  {
   "cell_type": "code",
   "execution_count": 290,
   "metadata": {},
   "outputs": [],
   "source": [
    "# creating empty lists for scraping data\n",
    "Name = []\n",
    "Year_span = [] \n",
    "Genre = [] \n",
    "Run_time = [] \n",
    "Ratings = [] \n",
    "Votes = []"
   ]
  },
  {
   "cell_type": "code",
   "execution_count": 291,
   "metadata": {},
   "outputs": [],
   "source": [
    "name = driver.find_elements_by_xpath('//h3[@class=\"lister-item-header\"]/a')"
   ]
  },
  {
   "cell_type": "code",
   "execution_count": 292,
   "metadata": {},
   "outputs": [],
   "source": [
    "for i in name:\n",
    "    Name.append(i.text)"
   ]
  },
  {
   "cell_type": "code",
   "execution_count": 293,
   "metadata": {},
   "outputs": [
    {
     "data": {
      "text/plain": [
       "['Game of Thrones',\n",
       " 'Stranger Things',\n",
       " 'The Walking Dead',\n",
       " '13 Reasons Why',\n",
       " 'The 100']"
      ]
     },
     "execution_count": 293,
     "metadata": {},
     "output_type": "execute_result"
    }
   ],
   "source": [
    "Name[0:5]"
   ]
  },
  {
   "cell_type": "code",
   "execution_count": 294,
   "metadata": {},
   "outputs": [],
   "source": [
    "year = driver.find_elements_by_xpath('//span[@class=\"lister-item-year text-muted unbold\"]')"
   ]
  },
  {
   "cell_type": "code",
   "execution_count": 295,
   "metadata": {},
   "outputs": [],
   "source": [
    "for i in year:\n",
    "    Year_span.append(i.text)"
   ]
  },
  {
   "cell_type": "code",
   "execution_count": 296,
   "metadata": {},
   "outputs": [
    {
     "data": {
      "text/plain": [
       "['(2011–2019)', '(2016– )', '(2010– )', '(2017–2020)', '(2014–2020)']"
      ]
     },
     "execution_count": 296,
     "metadata": {},
     "output_type": "execute_result"
    }
   ],
   "source": [
    "Year_span[0:5]"
   ]
  },
  {
   "cell_type": "code",
   "execution_count": 297,
   "metadata": {},
   "outputs": [],
   "source": [
    "genre = driver.find_elements_by_xpath('//span[@class=\"genre\"]')"
   ]
  },
  {
   "cell_type": "code",
   "execution_count": 298,
   "metadata": {},
   "outputs": [],
   "source": [
    "for i in genre:\n",
    "    Genre.append(i.text)"
   ]
  },
  {
   "cell_type": "code",
   "execution_count": 299,
   "metadata": {},
   "outputs": [
    {
     "data": {
      "text/plain": [
       "['Action, Adventure, Drama',\n",
       " 'Drama, Fantasy, Horror',\n",
       " 'Drama, Horror, Thriller',\n",
       " 'Drama, Mystery, Thriller',\n",
       " 'Drama, Mystery, Sci-Fi']"
      ]
     },
     "execution_count": 299,
     "metadata": {},
     "output_type": "execute_result"
    }
   ],
   "source": [
    "Genre[0:5]"
   ]
  },
  {
   "cell_type": "code",
   "execution_count": 300,
   "metadata": {},
   "outputs": [],
   "source": [
    "run_time = driver.find_elements_by_xpath('//span[@class=\"runtime\"]')"
   ]
  },
  {
   "cell_type": "code",
   "execution_count": 301,
   "metadata": {},
   "outputs": [],
   "source": [
    "for i in run_time:\n",
    "    Run_time.append(i.text)"
   ]
  },
  {
   "cell_type": "code",
   "execution_count": 302,
   "metadata": {},
   "outputs": [
    {
     "data": {
      "text/plain": [
       "['57 min', '51 min', '44 min', '60 min', '43 min']"
      ]
     },
     "execution_count": 302,
     "metadata": {},
     "output_type": "execute_result"
    }
   ],
   "source": [
    "Run_time[0:5]"
   ]
  },
  {
   "cell_type": "code",
   "execution_count": 303,
   "metadata": {},
   "outputs": [],
   "source": [
    "ratings = driver.find_elements_by_xpath('//div[@class=\"ipl-rating-star small\"]')"
   ]
  },
  {
   "cell_type": "code",
   "execution_count": 304,
   "metadata": {},
   "outputs": [],
   "source": [
    "for i in ratings:\n",
    "    Ratings.append(i.text)"
   ]
  },
  {
   "cell_type": "code",
   "execution_count": 305,
   "metadata": {},
   "outputs": [
    {
     "data": {
      "text/plain": [
       "['9.3', '8.7', '8.2', '7.6', '7.6']"
      ]
     },
     "execution_count": 305,
     "metadata": {},
     "output_type": "execute_result"
    }
   ],
   "source": [
    "Ratings[0:5]"
   ]
  },
  {
   "cell_type": "code",
   "execution_count": 306,
   "metadata": {},
   "outputs": [],
   "source": [
    "vote = driver.find_elements_by_xpath('//span[@name=\"nv\"]')"
   ]
  },
  {
   "cell_type": "code",
   "execution_count": 307,
   "metadata": {},
   "outputs": [],
   "source": [
    "for i in vote:\n",
    "    Votes.append(i.text)"
   ]
  },
  {
   "cell_type": "code",
   "execution_count": 308,
   "metadata": {},
   "outputs": [
    {
     "data": {
      "text/plain": [
       "['1,770,322', '822,472', '853,502', '256,223', '216,500']"
      ]
     },
     "execution_count": 308,
     "metadata": {},
     "output_type": "execute_result"
    }
   ],
   "source": [
    "Votes[0:5]"
   ]
  },
  {
   "cell_type": "code",
   "execution_count": 309,
   "metadata": {},
   "outputs": [
    {
     "data": {
      "text/html": [
       "<div>\n",
       "<style scoped>\n",
       "    .dataframe tbody tr th:only-of-type {\n",
       "        vertical-align: middle;\n",
       "    }\n",
       "\n",
       "    .dataframe tbody tr th {\n",
       "        vertical-align: top;\n",
       "    }\n",
       "\n",
       "    .dataframe thead th {\n",
       "        text-align: right;\n",
       "    }\n",
       "</style>\n",
       "<table border=\"1\" class=\"dataframe\">\n",
       "  <thead>\n",
       "    <tr style=\"text-align: right;\">\n",
       "      <th></th>\n",
       "      <th>Name</th>\n",
       "      <th>Year_Span</th>\n",
       "      <th>Genre</th>\n",
       "      <th>Run_Time</th>\n",
       "      <th>Ratings</th>\n",
       "      <th>Votes</th>\n",
       "    </tr>\n",
       "  </thead>\n",
       "  <tbody>\n",
       "    <tr>\n",
       "      <th>0</th>\n",
       "      <td>Game of Thrones</td>\n",
       "      <td>(2011–2019)</td>\n",
       "      <td>Action, Adventure, Drama</td>\n",
       "      <td>57 min</td>\n",
       "      <td>9.3</td>\n",
       "      <td>1,770,322</td>\n",
       "    </tr>\n",
       "    <tr>\n",
       "      <th>1</th>\n",
       "      <td>Stranger Things</td>\n",
       "      <td>(2016– )</td>\n",
       "      <td>Drama, Fantasy, Horror</td>\n",
       "      <td>51 min</td>\n",
       "      <td>8.7</td>\n",
       "      <td>822,472</td>\n",
       "    </tr>\n",
       "    <tr>\n",
       "      <th>2</th>\n",
       "      <td>The Walking Dead</td>\n",
       "      <td>(2010– )</td>\n",
       "      <td>Drama, Horror, Thriller</td>\n",
       "      <td>44 min</td>\n",
       "      <td>8.2</td>\n",
       "      <td>853,502</td>\n",
       "    </tr>\n",
       "    <tr>\n",
       "      <th>3</th>\n",
       "      <td>13 Reasons Why</td>\n",
       "      <td>(2017–2020)</td>\n",
       "      <td>Drama, Mystery, Thriller</td>\n",
       "      <td>60 min</td>\n",
       "      <td>7.6</td>\n",
       "      <td>256,223</td>\n",
       "    </tr>\n",
       "    <tr>\n",
       "      <th>4</th>\n",
       "      <td>The 100</td>\n",
       "      <td>(2014–2020)</td>\n",
       "      <td>Drama, Mystery, Sci-Fi</td>\n",
       "      <td>43 min</td>\n",
       "      <td>7.6</td>\n",
       "      <td>216,500</td>\n",
       "    </tr>\n",
       "    <tr>\n",
       "      <th>...</th>\n",
       "      <td>...</td>\n",
       "      <td>...</td>\n",
       "      <td>...</td>\n",
       "      <td>...</td>\n",
       "      <td>...</td>\n",
       "      <td>...</td>\n",
       "    </tr>\n",
       "    <tr>\n",
       "      <th>95</th>\n",
       "      <td>Reign</td>\n",
       "      <td>(2013–2017)</td>\n",
       "      <td>Drama, Fantasy</td>\n",
       "      <td>42 min</td>\n",
       "      <td>7.5</td>\n",
       "      <td>43,595</td>\n",
       "    </tr>\n",
       "    <tr>\n",
       "      <th>96</th>\n",
       "      <td>A Series of Unfortunate Events</td>\n",
       "      <td>(2017–2019)</td>\n",
       "      <td>Adventure, Comedy, Drama</td>\n",
       "      <td>50 min</td>\n",
       "      <td>7.8</td>\n",
       "      <td>53,876</td>\n",
       "    </tr>\n",
       "    <tr>\n",
       "      <th>97</th>\n",
       "      <td>Criminal Minds</td>\n",
       "      <td>(2005–2020)</td>\n",
       "      <td>Crime, Drama, Mystery</td>\n",
       "      <td>42 min</td>\n",
       "      <td>8.1</td>\n",
       "      <td>161,253</td>\n",
       "    </tr>\n",
       "    <tr>\n",
       "      <th>98</th>\n",
       "      <td>Scream: The TV Series</td>\n",
       "      <td>(2015–2019)</td>\n",
       "      <td>Crime, Drama, Horror</td>\n",
       "      <td>45 min</td>\n",
       "      <td>7.2</td>\n",
       "      <td>34,099</td>\n",
       "    </tr>\n",
       "    <tr>\n",
       "      <th>99</th>\n",
       "      <td>The Haunting of Hill House</td>\n",
       "      <td>(2018)</td>\n",
       "      <td>Drama, Horror, Mystery</td>\n",
       "      <td>572 min</td>\n",
       "      <td>8.6</td>\n",
       "      <td>182,430</td>\n",
       "    </tr>\n",
       "  </tbody>\n",
       "</table>\n",
       "<p>100 rows × 6 columns</p>\n",
       "</div>"
      ],
      "text/plain": [
       "                              Name    Year_Span                     Genre  \\\n",
       "0                  Game of Thrones  (2011–2019)  Action, Adventure, Drama   \n",
       "1                  Stranger Things     (2016– )    Drama, Fantasy, Horror   \n",
       "2                 The Walking Dead     (2010– )   Drama, Horror, Thriller   \n",
       "3                   13 Reasons Why  (2017–2020)  Drama, Mystery, Thriller   \n",
       "4                          The 100  (2014–2020)    Drama, Mystery, Sci-Fi   \n",
       "..                             ...          ...                       ...   \n",
       "95                           Reign  (2013–2017)            Drama, Fantasy   \n",
       "96  A Series of Unfortunate Events  (2017–2019)  Adventure, Comedy, Drama   \n",
       "97                  Criminal Minds  (2005–2020)     Crime, Drama, Mystery   \n",
       "98           Scream: The TV Series  (2015–2019)      Crime, Drama, Horror   \n",
       "99      The Haunting of Hill House       (2018)    Drama, Horror, Mystery   \n",
       "\n",
       "   Run_Time Ratings      Votes  \n",
       "0    57 min     9.3  1,770,322  \n",
       "1    51 min     8.7    822,472  \n",
       "2    44 min     8.2    853,502  \n",
       "3    60 min     7.6    256,223  \n",
       "4    43 min     7.6    216,500  \n",
       "..      ...     ...        ...  \n",
       "95   42 min     7.5     43,595  \n",
       "96   50 min     7.8     53,876  \n",
       "97   42 min     8.1    161,253  \n",
       "98   45 min     7.2     34,099  \n",
       "99  572 min     8.6    182,430  \n",
       "\n",
       "[100 rows x 6 columns]"
      ]
     },
     "execution_count": 309,
     "metadata": {},
     "output_type": "execute_result"
    }
   ],
   "source": [
    "# Creating DataFrame.\n",
    "Top_IMDB_Tv_Series = pd.DataFrame({})\n",
    "Top_IMDB_Tv_Series['Name'] =Name\n",
    "Top_IMDB_Tv_Series['Year_Span'] = Year_span\n",
    "Top_IMDB_Tv_Series['Genre'] = Genre\n",
    "Top_IMDB_Tv_Series['Run_Time'] = Run_time\n",
    "Top_IMDB_Tv_Series['Ratings'] = Ratings\n",
    "Top_IMDB_Tv_Series['Votes'] = Votes\n",
    "Top_IMDB_Tv_Series"
   ]
  },
  {
   "cell_type": "markdown",
   "metadata": {},
   "source": [
    "# QUESTION NO-10"
   ]
  },
  {
   "cell_type": "code",
   "execution_count": 401,
   "metadata": {},
   "outputs": [],
   "source": [
    "# Configure the webdriver.\n",
    "driver = webdriver.Chrome('/Users/nlohith/Desktop/chromedriver')"
   ]
  },
  {
   "cell_type": "code",
   "execution_count": 402,
   "metadata": {},
   "outputs": [],
   "source": [
    "URL = 'https://archive.ics.uci.edu/'"
   ]
  },
  {
   "cell_type": "code",
   "execution_count": 403,
   "metadata": {},
   "outputs": [],
   "source": [
    "driver.get(URL)"
   ]
  },
  {
   "cell_type": "code",
   "execution_count": 404,
   "metadata": {},
   "outputs": [],
   "source": [
    "# All pages data.\n",
    "dataset = driver.find_element_by_xpath(\"//span[@class='normal']/b/a\")\n",
    "driver.get(dataset.get_attribute('href'))"
   ]
  },
  {
   "cell_type": "code",
   "execution_count": 405,
   "metadata": {},
   "outputs": [],
   "source": [
    "Dataset_name=[] \n",
    "Data_type=[]\n",
    "Task=[] \n",
    "Attribute_type=[] \n",
    "No_of_instances=[] \n",
    "No_of_attribute=[] \n",
    "Year=[]"
   ]
  },
  {
   "cell_type": "code",
   "execution_count": 406,
   "metadata": {},
   "outputs": [],
   "source": [
    "name = driver.find_elements_by_xpath('//table[@border=\"1\"]/tbody/tr[2]/td/table/tbody/tr/td[2]/p/b/a')\n",
    "for i in name:\n",
    "    Dataset_name.append(i.text)\n",
    "name1 = driver.find_elements_by_xpath('//tr[@bgcolor=\"DDEEFF\"]/td/table/tbody/tr/td[2]/p/b/a')\n",
    "for i in name1:\n",
    "    Dataset_name.append(i.text)\n",
    "datatype = driver.find_elements_by_xpath('//table[@border=\"1\"]/tbody/tr[2]/td[2]/p')\n",
    "for i in datatype:\n",
    "    Data_type.append(i.text)\n",
    "task = driver.find_elements_by_xpath('//table[@border=\"1\"]/tbody/tr[2]/td[3]/p')\n",
    "for i in task:\n",
    "    Task.append(i.text)\n",
    "att = driver.find_elements_by_xpath('//table[@border=\"1\"]/tbody/tr[2]/td[4]/p')\n",
    "for i in att:\n",
    "    Attribute_type.append(i.text)\n",
    "ins = driver.find_elements_by_xpath('//table[@border=\"1\"]/tbody/tr[2]/td[5]/p')\n",
    "for i in ins:\n",
    "    No_of_instances.append(i.text)\n",
    "no_of_att = driver.find_elements_by_xpath('//table[@border=\"1\"]/tbody/tr[2]/td[6]/p')\n",
    "for i in no_of_att:\n",
    "    No_of_attribute.append(i.text)\n",
    "year = driver.find_elements_by_xpath('//table[@border=\"1\"]/tbody/tr[2]/td[7]/p')\n",
    "for i in year:\n",
    "    Year.append(i.text)\n",
    "datatype = driver.find_elements_by_xpath('//tr[@bgcolor=\"DDEEFF\"]/td[2]/p')\n",
    "for i in datatype:\n",
    "    Data_type.append(i.text)\n",
    "tsk = driver.find_elements_by_xpath('//tr[@bgcolor=\"DDEEFF\"]/td[3]/p')\n",
    "for i in tsk:\n",
    "    Task.append(i.text)\n",
    "attr = driver.find_elements_by_xpath('//tr[@bgcolor=\"DDEEFF\"]/td[4]/p')\n",
    "for i in attr:\n",
    "    Attribute_type.append(i.text)\n",
    "noi = driver.find_elements_by_xpath('//tr[@bgcolor=\"DDEEFF\"]/td[5]/p')\n",
    "for i in noi:\n",
    "    No_of_instances.append(i.text)\n",
    "noa = driver.find_elements_by_xpath('//tr[@bgcolor=\"DDEEFF\"]/td[6]/p')\n",
    "for i in noa:\n",
    "    No_of_attribute.append(i.text)\n",
    "yr = driver.find_elements_by_xpath('//tr[@bgcolor=\"DDEEFF\"]/td[7]/p')\n",
    "for i in yr:\n",
    "    Year.append(i.text)\n"
   ]
  },
  {
   "cell_type": "code",
   "execution_count": 407,
   "metadata": {},
   "outputs": [],
   "source": [
    "Datasets=pd.DataFrame({})\n",
    "Datasets['Dataset_name']=Dataset_name \n",
    "Datasets['Data_type']=Data_type\n",
    "Datasets['Task']=Task\n",
    "Datasets['Attribute_type']=Attribute_type\n",
    "Datasets['No_of_instances']=No_of_instances\n",
    "Datasets['No_of_attribute']= No_of_attribute\n",
    "Datasets['Year']=Year"
   ]
  },
  {
   "cell_type": "code",
   "execution_count": 408,
   "metadata": {},
   "outputs": [
    {
     "data": {
      "text/html": [
       "<div>\n",
       "<style scoped>\n",
       "    .dataframe tbody tr th:only-of-type {\n",
       "        vertical-align: middle;\n",
       "    }\n",
       "\n",
       "    .dataframe tbody tr th {\n",
       "        vertical-align: top;\n",
       "    }\n",
       "\n",
       "    .dataframe thead th {\n",
       "        text-align: right;\n",
       "    }\n",
       "</style>\n",
       "<table border=\"1\" class=\"dataframe\">\n",
       "  <thead>\n",
       "    <tr style=\"text-align: right;\">\n",
       "      <th></th>\n",
       "      <th>Dataset_name</th>\n",
       "      <th>Data_type</th>\n",
       "      <th>Task</th>\n",
       "      <th>Attribute_type</th>\n",
       "      <th>No_of_instances</th>\n",
       "      <th>No_of_attribute</th>\n",
       "      <th>Year</th>\n",
       "    </tr>\n",
       "  </thead>\n",
       "  <tbody>\n",
       "    <tr>\n",
       "      <th>0</th>\n",
       "      <td>Abalone</td>\n",
       "      <td>Multivariate</td>\n",
       "      <td>Classification</td>\n",
       "      <td>Categorical, Integer, Real</td>\n",
       "      <td>4177</td>\n",
       "      <td>8</td>\n",
       "      <td>1995</td>\n",
       "    </tr>\n",
       "    <tr>\n",
       "      <th>1</th>\n",
       "      <td>Adult</td>\n",
       "      <td>Multivariate</td>\n",
       "      <td>Classification</td>\n",
       "      <td>Categorical, Integer</td>\n",
       "      <td>48842</td>\n",
       "      <td>14</td>\n",
       "      <td>1996</td>\n",
       "    </tr>\n",
       "    <tr>\n",
       "      <th>2</th>\n",
       "      <td>Anonymous Microsoft Web Data</td>\n",
       "      <td></td>\n",
       "      <td>Recommender-Systems</td>\n",
       "      <td>Categorical</td>\n",
       "      <td>37711</td>\n",
       "      <td>294</td>\n",
       "      <td>1998</td>\n",
       "    </tr>\n",
       "    <tr>\n",
       "      <th>3</th>\n",
       "      <td>Artificial Characters</td>\n",
       "      <td>Multivariate</td>\n",
       "      <td>Classification</td>\n",
       "      <td>Categorical, Integer, Real</td>\n",
       "      <td>6000</td>\n",
       "      <td>7</td>\n",
       "      <td>1992</td>\n",
       "    </tr>\n",
       "    <tr>\n",
       "      <th>4</th>\n",
       "      <td>Audiology (Standardized)</td>\n",
       "      <td>Multivariate</td>\n",
       "      <td>Classification</td>\n",
       "      <td>Categorical</td>\n",
       "      <td>226</td>\n",
       "      <td>69</td>\n",
       "      <td>1992</td>\n",
       "    </tr>\n",
       "    <tr>\n",
       "      <th>...</th>\n",
       "      <td>...</td>\n",
       "      <td>...</td>\n",
       "      <td>...</td>\n",
       "      <td>...</td>\n",
       "      <td>...</td>\n",
       "      <td>...</td>\n",
       "      <td>...</td>\n",
       "    </tr>\n",
       "    <tr>\n",
       "      <th>275</th>\n",
       "      <td>Shoulder Implant X-Ray Manufacturer Classifica...</td>\n",
       "      <td>Multivariate</td>\n",
       "      <td>Classification</td>\n",
       "      <td>Real</td>\n",
       "      <td>597</td>\n",
       "      <td>1</td>\n",
       "      <td>2020</td>\n",
       "    </tr>\n",
       "    <tr>\n",
       "      <th>276</th>\n",
       "      <td>HCV data</td>\n",
       "      <td>Multivariate</td>\n",
       "      <td>Classification, Clustering</td>\n",
       "      <td>Integer, Real</td>\n",
       "      <td>615</td>\n",
       "      <td>14</td>\n",
       "      <td>2020</td>\n",
       "    </tr>\n",
       "    <tr>\n",
       "      <th>277</th>\n",
       "      <td>South German Credit (UPDATE)</td>\n",
       "      <td>Multivariate</td>\n",
       "      <td>Classification, Regression, Clustering</td>\n",
       "      <td>Integer, Real</td>\n",
       "      <td>1000</td>\n",
       "      <td>21</td>\n",
       "      <td>2020</td>\n",
       "    </tr>\n",
       "    <tr>\n",
       "      <th>278</th>\n",
       "      <td>Guitar Chords finger positions</td>\n",
       "      <td>Text</td>\n",
       "      <td>Classification</td>\n",
       "      <td></td>\n",
       "      <td>2633</td>\n",
       "      <td>5</td>\n",
       "      <td>2020</td>\n",
       "    </tr>\n",
       "    <tr>\n",
       "      <th>279</th>\n",
       "      <td>Codon usage</td>\n",
       "      <td>Multivariate</td>\n",
       "      <td>Classification, Clustering</td>\n",
       "      <td></td>\n",
       "      <td>13028</td>\n",
       "      <td>69</td>\n",
       "      <td>2020</td>\n",
       "    </tr>\n",
       "  </tbody>\n",
       "</table>\n",
       "<p>280 rows × 7 columns</p>\n",
       "</div>"
      ],
      "text/plain": [
       "                                          Dataset_name      Data_type  \\\n",
       "0                                              Abalone  Multivariate    \n",
       "1                                                Adult  Multivariate    \n",
       "2                         Anonymous Microsoft Web Data                  \n",
       "3                                Artificial Characters  Multivariate    \n",
       "4                             Audiology (Standardized)  Multivariate    \n",
       "..                                                 ...            ...   \n",
       "275  Shoulder Implant X-Ray Manufacturer Classifica...  Multivariate    \n",
       "276                                           HCV data  Multivariate    \n",
       "277                       South German Credit (UPDATE)  Multivariate    \n",
       "278                     Guitar Chords finger positions          Text    \n",
       "279                                        Codon usage  Multivariate    \n",
       "\n",
       "                                        Task               Attribute_type  \\\n",
       "0                            Classification   Categorical, Integer, Real    \n",
       "1                            Classification         Categorical, Integer    \n",
       "2                       Recommender-Systems                  Categorical    \n",
       "3                            Classification   Categorical, Integer, Real    \n",
       "4                            Classification                  Categorical    \n",
       "..                                       ...                          ...   \n",
       "275                          Classification                         Real    \n",
       "276              Classification, Clustering                Integer, Real    \n",
       "277  Classification, Regression, Clustering                Integer, Real    \n",
       "278                          Classification                                 \n",
       "279              Classification, Clustering                                 \n",
       "\n",
       "    No_of_instances No_of_attribute   Year  \n",
       "0             4177               8   1995   \n",
       "1            48842              14   1996   \n",
       "2            37711             294   1998   \n",
       "3             6000               7   1992   \n",
       "4              226              69   1992   \n",
       "..              ...             ...    ...  \n",
       "275            597               1   2020   \n",
       "276            615              14   2020   \n",
       "277           1000              21   2020   \n",
       "278           2633               5   2020   \n",
       "279          13028              69   2020   \n",
       "\n",
       "[280 rows x 7 columns]"
      ]
     },
     "execution_count": 408,
     "metadata": {},
     "output_type": "execute_result"
    }
   ],
   "source": [
    "Datasets"
   ]
  },
  {
   "cell_type": "code",
   "execution_count": null,
   "metadata": {},
   "outputs": [],
   "source": []
  }
 ],
 "metadata": {
  "kernelspec": {
   "display_name": "Python 3",
   "language": "python",
   "name": "python3"
  },
  "language_info": {
   "codemirror_mode": {
    "name": "ipython",
    "version": 3
   },
   "file_extension": ".py",
   "mimetype": "text/x-python",
   "name": "python",
   "nbconvert_exporter": "python",
   "pygments_lexer": "ipython3",
   "version": "3.7.6"
  }
 },
 "nbformat": 4,
 "nbformat_minor": 4
}
